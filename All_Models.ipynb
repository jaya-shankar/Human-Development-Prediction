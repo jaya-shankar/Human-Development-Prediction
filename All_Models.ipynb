{
  "nbformat": 4,
  "nbformat_minor": 0,
  "metadata": {
    "colab": {
      "name": "All Models.ipynb",
      "provenance": [],
      "collapsed_sections": [
        "Ltu52KNOHriM",
        "ePBni4nsI_PQ",
        "037u6w1kJMH_",
        "pkZk3qGMJ8PU",
        "czSh_sfSKowp",
        "B1bOn1b9KpNe"
      ],
      "authorship_tag": "ABX9TyPQzGaqvDArUhHcX+Vb05rh",
      "include_colab_link": true
    },
    "kernelspec": {
      "name": "python3",
      "display_name": "Python 3"
    },
    "language_info": {
      "name": "python"
    }
  },
  "cells": [
    {
      "cell_type": "markdown",
      "metadata": {
        "id": "view-in-github",
        "colab_type": "text"
      },
      "source": [
        "<a href=\"https://colab.research.google.com/github/jaya-shankar/education-impact/blob/master/All_Models.ipynb\" target=\"_parent\"><img src=\"https://colab.research.google.com/assets/colab-badge.svg\" alt=\"Open In Colab\"/></a>"
      ]
    },
    {
      "cell_type": "markdown",
      "source": [
        "# Cloning Repo & installing libs"
      ],
      "metadata": {
        "id": "09bR1tT3HBE8"
      }
    },
    {
      "cell_type": "code",
      "source": [
        "!rm -rf education-impact"
      ],
      "metadata": {
        "id": "HhdHWTq4HJWt"
      },
      "execution_count": 1,
      "outputs": []
    },
    {
      "cell_type": "code",
      "metadata": {
        "id": "WLCGn-YlJ5k5",
        "colab": {
          "base_uri": "https://localhost:8080/"
        },
        "outputId": "96e17b38-71c7-4d6f-8d2f-c4341b272db7"
      },
      "source": [
        "!git clone https://github.com/jaya-shankar/education-impact.git\n"
      ],
      "execution_count": 2,
      "outputs": [
        {
          "output_type": "stream",
          "name": "stdout",
          "text": [
            "Cloning into 'education-impact'...\n",
            "remote: Enumerating objects: 416, done.\u001b[K\n",
            "remote: Counting objects: 100% (416/416), done.\u001b[K\n",
            "remote: Compressing objects: 100% (356/356), done.\u001b[K\n",
            "remote: Total 416 (delta 209), reused 190 (delta 57), pack-reused 0\u001b[K\n",
            "Receiving objects: 100% (416/416), 6.27 MiB | 15.01 MiB/s, done.\n",
            "Resolving deltas: 100% (209/209), done.\n"
          ]
        }
      ]
    },
    {
      "cell_type": "code",
      "source": [
        "!pip install tensorflow_decision_forests\n",
        "!pip install wurlitzer\n",
        "!pip install seaborn"
      ],
      "metadata": {
        "colab": {
          "base_uri": "https://localhost:8080/"
        },
        "id": "zYQCVRaEHJ-v",
        "outputId": "791519b5-31c2-4e0f-dfd6-8a54517c7b65"
      },
      "execution_count": 3,
      "outputs": [
        {
          "output_type": "stream",
          "name": "stdout",
          "text": [
            "Collecting tensorflow_decision_forests\n",
            "  Downloading tensorflow_decision_forests-0.2.2-cp37-cp37m-manylinux_2_12_x86_64.manylinux2010_x86_64.whl (17.7 MB)\n",
            "\u001b[K     |████████████████████████████████| 17.7 MB 13.1 MB/s \n",
            "\u001b[?25hCollecting wurlitzer\n",
            "  Downloading wurlitzer-3.0.2-py3-none-any.whl (7.3 kB)\n",
            "Requirement already satisfied: absl-py in /usr/local/lib/python3.7/dist-packages (from tensorflow_decision_forests) (0.12.0)\n",
            "Requirement already satisfied: wheel in /usr/local/lib/python3.7/dist-packages (from tensorflow_decision_forests) (0.37.0)\n",
            "Requirement already satisfied: six in /usr/local/lib/python3.7/dist-packages (from tensorflow_decision_forests) (1.15.0)\n",
            "Requirement already satisfied: numpy in /usr/local/lib/python3.7/dist-packages (from tensorflow_decision_forests) (1.19.5)\n",
            "Requirement already satisfied: tensorflow~=2.7.0 in /usr/local/lib/python3.7/dist-packages (from tensorflow_decision_forests) (2.7.0)\n",
            "Requirement already satisfied: pandas in /usr/local/lib/python3.7/dist-packages (from tensorflow_decision_forests) (1.1.5)\n",
            "Requirement already satisfied: libclang>=9.0.1 in /usr/local/lib/python3.7/dist-packages (from tensorflow~=2.7.0->tensorflow_decision_forests) (12.0.0)\n",
            "Requirement already satisfied: typing-extensions>=3.6.6 in /usr/local/lib/python3.7/dist-packages (from tensorflow~=2.7.0->tensorflow_decision_forests) (3.10.0.2)\n",
            "Requirement already satisfied: tensorflow-io-gcs-filesystem>=0.21.0 in /usr/local/lib/python3.7/dist-packages (from tensorflow~=2.7.0->tensorflow_decision_forests) (0.22.0)\n",
            "Requirement already satisfied: keras-preprocessing>=1.1.1 in /usr/local/lib/python3.7/dist-packages (from tensorflow~=2.7.0->tensorflow_decision_forests) (1.1.2)\n",
            "Requirement already satisfied: wrapt>=1.11.0 in /usr/local/lib/python3.7/dist-packages (from tensorflow~=2.7.0->tensorflow_decision_forests) (1.13.3)\n",
            "Requirement already satisfied: opt-einsum>=2.3.2 in /usr/local/lib/python3.7/dist-packages (from tensorflow~=2.7.0->tensorflow_decision_forests) (3.3.0)\n",
            "Requirement already satisfied: google-pasta>=0.1.1 in /usr/local/lib/python3.7/dist-packages (from tensorflow~=2.7.0->tensorflow_decision_forests) (0.2.0)\n",
            "Requirement already satisfied: h5py>=2.9.0 in /usr/local/lib/python3.7/dist-packages (from tensorflow~=2.7.0->tensorflow_decision_forests) (3.1.0)\n",
            "Requirement already satisfied: tensorboard~=2.6 in /usr/local/lib/python3.7/dist-packages (from tensorflow~=2.7.0->tensorflow_decision_forests) (2.7.0)\n",
            "Requirement already satisfied: tensorflow-estimator<2.8,~=2.7.0rc0 in /usr/local/lib/python3.7/dist-packages (from tensorflow~=2.7.0->tensorflow_decision_forests) (2.7.0)\n",
            "Requirement already satisfied: termcolor>=1.1.0 in /usr/local/lib/python3.7/dist-packages (from tensorflow~=2.7.0->tensorflow_decision_forests) (1.1.0)\n",
            "Requirement already satisfied: protobuf>=3.9.2 in /usr/local/lib/python3.7/dist-packages (from tensorflow~=2.7.0->tensorflow_decision_forests) (3.17.3)\n",
            "Requirement already satisfied: grpcio<2.0,>=1.24.3 in /usr/local/lib/python3.7/dist-packages (from tensorflow~=2.7.0->tensorflow_decision_forests) (1.42.0)\n",
            "Requirement already satisfied: gast<0.5.0,>=0.2.1 in /usr/local/lib/python3.7/dist-packages (from tensorflow~=2.7.0->tensorflow_decision_forests) (0.4.0)\n",
            "Requirement already satisfied: keras<2.8,>=2.7.0rc0 in /usr/local/lib/python3.7/dist-packages (from tensorflow~=2.7.0->tensorflow_decision_forests) (2.7.0)\n",
            "Requirement already satisfied: flatbuffers<3.0,>=1.12 in /usr/local/lib/python3.7/dist-packages (from tensorflow~=2.7.0->tensorflow_decision_forests) (2.0)\n",
            "Requirement already satisfied: astunparse>=1.6.0 in /usr/local/lib/python3.7/dist-packages (from tensorflow~=2.7.0->tensorflow_decision_forests) (1.6.3)\n",
            "Requirement already satisfied: cached-property in /usr/local/lib/python3.7/dist-packages (from h5py>=2.9.0->tensorflow~=2.7.0->tensorflow_decision_forests) (1.5.2)\n",
            "Requirement already satisfied: google-auth<3,>=1.6.3 in /usr/local/lib/python3.7/dist-packages (from tensorboard~=2.6->tensorflow~=2.7.0->tensorflow_decision_forests) (1.35.0)\n",
            "Requirement already satisfied: setuptools>=41.0.0 in /usr/local/lib/python3.7/dist-packages (from tensorboard~=2.6->tensorflow~=2.7.0->tensorflow_decision_forests) (57.4.0)\n",
            "Requirement already satisfied: tensorboard-data-server<0.7.0,>=0.6.0 in /usr/local/lib/python3.7/dist-packages (from tensorboard~=2.6->tensorflow~=2.7.0->tensorflow_decision_forests) (0.6.1)\n",
            "Requirement already satisfied: google-auth-oauthlib<0.5,>=0.4.1 in /usr/local/lib/python3.7/dist-packages (from tensorboard~=2.6->tensorflow~=2.7.0->tensorflow_decision_forests) (0.4.6)\n",
            "Requirement already satisfied: requests<3,>=2.21.0 in /usr/local/lib/python3.7/dist-packages (from tensorboard~=2.6->tensorflow~=2.7.0->tensorflow_decision_forests) (2.23.0)\n",
            "Requirement already satisfied: tensorboard-plugin-wit>=1.6.0 in /usr/local/lib/python3.7/dist-packages (from tensorboard~=2.6->tensorflow~=2.7.0->tensorflow_decision_forests) (1.8.0)\n",
            "Requirement already satisfied: werkzeug>=0.11.15 in /usr/local/lib/python3.7/dist-packages (from tensorboard~=2.6->tensorflow~=2.7.0->tensorflow_decision_forests) (1.0.1)\n",
            "Requirement already satisfied: markdown>=2.6.8 in /usr/local/lib/python3.7/dist-packages (from tensorboard~=2.6->tensorflow~=2.7.0->tensorflow_decision_forests) (3.3.6)\n",
            "Requirement already satisfied: pyasn1-modules>=0.2.1 in /usr/local/lib/python3.7/dist-packages (from google-auth<3,>=1.6.3->tensorboard~=2.6->tensorflow~=2.7.0->tensorflow_decision_forests) (0.2.8)\n",
            "Requirement already satisfied: cachetools<5.0,>=2.0.0 in /usr/local/lib/python3.7/dist-packages (from google-auth<3,>=1.6.3->tensorboard~=2.6->tensorflow~=2.7.0->tensorflow_decision_forests) (4.2.4)\n",
            "Requirement already satisfied: rsa<5,>=3.1.4 in /usr/local/lib/python3.7/dist-packages (from google-auth<3,>=1.6.3->tensorboard~=2.6->tensorflow~=2.7.0->tensorflow_decision_forests) (4.8)\n",
            "Requirement already satisfied: requests-oauthlib>=0.7.0 in /usr/local/lib/python3.7/dist-packages (from google-auth-oauthlib<0.5,>=0.4.1->tensorboard~=2.6->tensorflow~=2.7.0->tensorflow_decision_forests) (1.3.0)\n",
            "Requirement already satisfied: importlib-metadata>=4.4 in /usr/local/lib/python3.7/dist-packages (from markdown>=2.6.8->tensorboard~=2.6->tensorflow~=2.7.0->tensorflow_decision_forests) (4.8.2)\n",
            "Requirement already satisfied: zipp>=0.5 in /usr/local/lib/python3.7/dist-packages (from importlib-metadata>=4.4->markdown>=2.6.8->tensorboard~=2.6->tensorflow~=2.7.0->tensorflow_decision_forests) (3.6.0)\n",
            "Requirement already satisfied: pyasn1<0.5.0,>=0.4.6 in /usr/local/lib/python3.7/dist-packages (from pyasn1-modules>=0.2.1->google-auth<3,>=1.6.3->tensorboard~=2.6->tensorflow~=2.7.0->tensorflow_decision_forests) (0.4.8)\n",
            "Requirement already satisfied: urllib3!=1.25.0,!=1.25.1,<1.26,>=1.21.1 in /usr/local/lib/python3.7/dist-packages (from requests<3,>=2.21.0->tensorboard~=2.6->tensorflow~=2.7.0->tensorflow_decision_forests) (1.24.3)\n",
            "Requirement already satisfied: chardet<4,>=3.0.2 in /usr/local/lib/python3.7/dist-packages (from requests<3,>=2.21.0->tensorboard~=2.6->tensorflow~=2.7.0->tensorflow_decision_forests) (3.0.4)\n",
            "Requirement already satisfied: certifi>=2017.4.17 in /usr/local/lib/python3.7/dist-packages (from requests<3,>=2.21.0->tensorboard~=2.6->tensorflow~=2.7.0->tensorflow_decision_forests) (2021.10.8)\n",
            "Requirement already satisfied: idna<3,>=2.5 in /usr/local/lib/python3.7/dist-packages (from requests<3,>=2.21.0->tensorboard~=2.6->tensorflow~=2.7.0->tensorflow_decision_forests) (2.10)\n",
            "Requirement already satisfied: oauthlib>=3.0.0 in /usr/local/lib/python3.7/dist-packages (from requests-oauthlib>=0.7.0->google-auth-oauthlib<0.5,>=0.4.1->tensorboard~=2.6->tensorflow~=2.7.0->tensorflow_decision_forests) (3.1.1)\n",
            "Requirement already satisfied: python-dateutil>=2.7.3 in /usr/local/lib/python3.7/dist-packages (from pandas->tensorflow_decision_forests) (2.8.2)\n",
            "Requirement already satisfied: pytz>=2017.2 in /usr/local/lib/python3.7/dist-packages (from pandas->tensorflow_decision_forests) (2018.9)\n",
            "Installing collected packages: wurlitzer, tensorflow-decision-forests\n",
            "Successfully installed tensorflow-decision-forests-0.2.2 wurlitzer-3.0.2\n",
            "Requirement already satisfied: wurlitzer in /usr/local/lib/python3.7/dist-packages (3.0.2)\n",
            "Requirement already satisfied: seaborn in /usr/local/lib/python3.7/dist-packages (0.11.2)\n",
            "Requirement already satisfied: numpy>=1.15 in /usr/local/lib/python3.7/dist-packages (from seaborn) (1.19.5)\n",
            "Requirement already satisfied: matplotlib>=2.2 in /usr/local/lib/python3.7/dist-packages (from seaborn) (3.2.2)\n",
            "Requirement already satisfied: pandas>=0.23 in /usr/local/lib/python3.7/dist-packages (from seaborn) (1.1.5)\n",
            "Requirement already satisfied: scipy>=1.0 in /usr/local/lib/python3.7/dist-packages (from seaborn) (1.4.1)\n",
            "Requirement already satisfied: pyparsing!=2.0.4,!=2.1.2,!=2.1.6,>=2.0.1 in /usr/local/lib/python3.7/dist-packages (from matplotlib>=2.2->seaborn) (3.0.6)\n",
            "Requirement already satisfied: python-dateutil>=2.1 in /usr/local/lib/python3.7/dist-packages (from matplotlib>=2.2->seaborn) (2.8.2)\n",
            "Requirement already satisfied: kiwisolver>=1.0.1 in /usr/local/lib/python3.7/dist-packages (from matplotlib>=2.2->seaborn) (1.3.2)\n",
            "Requirement already satisfied: cycler>=0.10 in /usr/local/lib/python3.7/dist-packages (from matplotlib>=2.2->seaborn) (0.11.0)\n",
            "Requirement already satisfied: pytz>=2017.2 in /usr/local/lib/python3.7/dist-packages (from pandas>=0.23->seaborn) (2018.9)\n",
            "Requirement already satisfied: six>=1.5 in /usr/local/lib/python3.7/dist-packages (from python-dateutil>=2.1->matplotlib>=2.2->seaborn) (1.15.0)\n"
          ]
        }
      ]
    },
    {
      "cell_type": "code",
      "source": [
        "import pandas as pd\n",
        "import os\n",
        "import numpy as np\n",
        "import math\n",
        "import seaborn as sns\n",
        "import tensorflow_decision_forests as tfdf\n",
        "from sklearn.model_selection import train_test_split\n",
        "from wurlitzer import sys_pipes"
      ],
      "metadata": {
        "colab": {
          "base_uri": "https://localhost:8080/"
        },
        "id": "xPL9g5bvA5rk",
        "outputId": "40f108b0-c50a-4e03-93b4-49550ea0c5b5"
      },
      "execution_count": 4,
      "outputs": [
        {
          "output_type": "stream",
          "name": "stderr",
          "text": [
            "WARNING:root:TF Parameter Server distributed training not available (this is expected for the pre-build release).\n"
          ]
        }
      ]
    },
    {
      "cell_type": "markdown",
      "source": [
        "# Setting paths"
      ],
      "metadata": {
        "id": "Lz5iPCDjHeoB"
      }
    },
    {
      "cell_type": "code",
      "source": [
        "root = \"education-impact/datasets/\" \n",
        "datasets_path = {\n",
        "                    \"infant_mortality\"                :  root+ \"Infant_Mortality_Rate.csv\",\n",
        "                    \"child_mortality\"                 :  root+ \"child_mortality_0_5_year_olds_dying_per_1000_born.csv\",\n",
        "                    \"children_per_woman\"              :  root+ \"children_per_woman_total_fertility.csv\",\n",
        "                    \"co2_emissions_percapita\"         :  root+ \"co2_emissions_tonnes_per_person.csv\",\n",
        "                    \"population\"                      :  root+ \"converted_pop.csv\",\n",
        "                    \"population_density\"              :  root+ \"population_per_area.csv\",\n",
        "                    \"gdp_growth\"                      :  root+ \"gdp_per_capita_yearly_growth.csv\",\n",
        "                    \"Avg_daily_income_ppp\"            :  root+ \"mincpcap_cppp.csv\",\n",
        "                    \"gdppercapita_us_infla_adjust\"    :  root+ \"gdppercapita_us_inflation_adjusted.csv\",\n",
        "                    \"gini_index\"                      :  root+ \"gini.csv\",\n",
        "                    \"life_expectancy\"                 :  root+ \"life_expectancy_years.csv\",\n",
        "                    \"poverty_index\"                   :  root+ \"mincpcap_cppp.csv\",\n",
        "                    \"people_in_poverty\"               :  root+ \"number_of_people_in_poverty.csv\",\n",
        "                    \"ratio_b/g_in_primary\"            :  root+ \"ratio_of_girls_to_boys_in_primary_and_secondary_education_perc.csv\",\n",
        "                    \"wcde-25--34\"                     :  root+ \"wcde-25--34.csv\",\n",
        "                    \"20-24-In_Primary_OL\"             :  root+ \"In_Primary_OL.csv\",\n",
        "                    \"20-24-Primary_OL\"                :  root+ \"Primary_OL.csv\",\n",
        "                    \"20-24-Lower_Secondary_OL\"        :  root+ \"Lower_Secondary_OL.csv\",\n",
        "                    \"20-24_female-In_Primary_OL\"      :  root+ \"female_In_Primary_OL.csv\",\n",
        "                    \"20-24_female-Primary_OL\"         :  root+ \"female_Primary_OL.csv\",\n",
        "                    \"20-24_female-Lower_Secondary_OL\" :  root+ \"female_Lower_Secondary_OL.csv\",\n",
        "                    \"20-24-In_Primary_OL_comp\"        :  root+ \"In_Primary_OL_complete.csv\",\n",
        "                    \"20-24-Primary_OL_comp\"           :  root+ \"Primary_OL_complete.csv\",\n",
        "                    \"20-24-Lower_Secondary_OL_comp\"   :  root+ \"Lower_Secondary_OL_complete.csv\",\n",
        "                }\n",
        "\n",
        "created_datasets = []"
      ],
      "metadata": {
        "id": "t8Xpfk7WHmfY"
      },
      "execution_count": 5,
      "outputs": []
    },
    {
      "cell_type": "markdown",
      "source": [
        "# Defining common functions"
      ],
      "metadata": {
        "id": "Ltu52KNOHriM"
      }
    },
    {
      "cell_type": "code",
      "source": [
        "def get_countries_count(datasets):\n",
        "  for dataset in datasets:\n",
        "    df = pd.read_csv(datasets_path[dataset])\n",
        "    count = len(set(df.Country.unique()))\n",
        "    print(f\"{'Factor: ' + dataset:<40} count: {count}\")\n"
      ],
      "metadata": {
        "id": "1SBCClj-Hm4-"
      },
      "execution_count": 6,
      "outputs": []
    },
    {
      "cell_type": "code",
      "source": [
        "def find_common_countries(datasets):\n",
        "  common_countries = set()\n",
        "  for dataset in datasets:\n",
        "    countries_list = list(pd.read_csv(datasets_path[dataset]).Country)\n",
        "    countries_list = set(map(lambda x: x.lower(), countries_list))\n",
        "    if common_countries == set():\n",
        "      common_countries = countries_list\n",
        "    else:\n",
        "      common_countries = common_countries.intersection(countries_list)\n",
        "  return list(common_countries)"
      ],
      "metadata": {
        "id": "mAZ_XnycH5wv"
      },
      "execution_count": 7,
      "outputs": []
    },
    {
      "cell_type": "code",
      "source": [
        "def generate_indices(countries,years):\n",
        "  keys=[]\n",
        "  for y in years:\n",
        "    for c in countries:\n",
        "      keys.append((c,str(y)))\n",
        "  return keys"
      ],
      "metadata": {
        "id": "3qNjNs-SH9Jg"
      },
      "execution_count": 8,
      "outputs": []
    },
    {
      "cell_type": "code",
      "metadata": {
        "id": "c83F6Wgdqr64"
      },
      "source": [
        "def load_datasets_to_pd(datasets,keys,include_output=True):\n",
        "  combined_df = pd.DataFrame(keys,columns=['country','year'])\n",
        "  for dataset in datasets:\n",
        "    combined_df = add_dataset(combined_df,dataset)\n",
        "    \n",
        "\n",
        "  if include_output:\n",
        "    combined_df = add_dataset(combined_df,dataset,output = True)\n",
        "  return combined_df\n",
        "\n",
        "  "
      ],
      "execution_count": 9,
      "outputs": []
    },
    {
      "cell_type": "code",
      "source": [
        "def add_dataset(input_df,dataset,output = False):\n",
        "  label = dataset\n",
        "  if output : \n",
        "    label = \"o_\"+OUTPUT\n",
        "  input_df[label] = [math.nan]*len(input_df)\n",
        "  df = pd.read_csv(datasets_path[dataset])\n",
        "  df[\"Country\"] = df[\"Country\"].str.lower()\n",
        "  df.set_index(\"Country\", inplace=True)\n",
        "  for e in range(len(input_df)):\n",
        "    country = input_df.iloc[e].country\n",
        "    year    = input_df.iloc[e].year\n",
        "    if output:\n",
        "      input_df.at[e,label] = df.loc[country][str( int(year) + PREDICT_FUTURE )]\n",
        "    else:\n",
        "      input_df.at[e,label] = df.loc[country][year]\n",
        "  return input_df"
      ],
      "metadata": {
        "id": "cA3HG7UMlA3W"
      },
      "execution_count": 10,
      "outputs": []
    },
    {
      "cell_type": "code",
      "source": [
        "def create_n_yrs_old_csv(dataset,n):\n",
        "    df = pd.read_csv(datasets_path[dataset])\n",
        "    years = list(range(1960, 2016))\n",
        "    countries = list(df['Country'])\n",
        "    new_df = pd.DataFrame(countries,columns=['Country'])\n",
        "    for i in range(1960,2016):\n",
        "      new_df[i] = np.nan\n",
        "    new_df.set_index('Country',inplace=True)\n",
        "    df.set_index('Country',inplace=True)\n",
        "    for c in countries:\n",
        "      for y in range(1960+n,2016):\n",
        "        new_df[y].at[c] = df.loc[c][str(y-n)]\n",
        "    \n",
        "    table_name = str(n)+\"_yrs_old_\"+dataset\n",
        "    datasets_path[table_name] = root+table_name+\".csv\"\n",
        "    new_df.to_csv(root+table_name+\".csv\",encoding='utf-8', index=True)\n",
        "\n",
        "    created_datasets.append(table_name)\n",
        "    return table_name"
      ],
      "metadata": {
        "id": "hlA5wWQkIzDr"
      },
      "execution_count": 11,
      "outputs": []
    },
    {
      "cell_type": "code",
      "source": [
        "def create_n_dropout_csv(dataset,n,s_n = 90):\n",
        "    df = pd.read_csv(datasets_path[dataset])\n",
        "    years = list(range(1875, 2016))\n",
        "    countries = list(df['Country'])\n",
        "    drop_out_years = []\n",
        "    for i in range(len(df)):\n",
        "      started = False\n",
        "      s_year  = 1875\n",
        "      for year in years:\n",
        "        if not started and df.iloc[i][str(year)] < s_n :\n",
        "          started = True\n",
        "          s_year  = year\n",
        "        elif started and df.iloc[i][str(year)] < n :\n",
        "          drop_out_years.append((df.iloc[i]['Country'],(year-s_year)))\n",
        "          break\n",
        "      else:\n",
        "        drop_out_years.append((df.iloc[i]['Country'], year-s_year))\n",
        "\n",
        "    new_df = pd.DataFrame(countries,columns=['Country'])\n",
        "    for i in years:\n",
        "      new_df[i] = np.nan\n",
        "    new_df.set_index('Country',inplace=True)\n",
        "    for c,y in drop_out_years:\n",
        "      for i in years:\n",
        "        new_df.at[c,i] = y\n",
        "    table_name = str(n)+\"%_dropout_\"+dataset\n",
        "    datasets_path[table_name] = root+table_name+\".csv\"\n",
        "    new_df = new_df[(new_df.T != 1).any()]\n",
        "    new_df.to_csv(root+table_name+\".csv\",encoding='utf-8', index=True)\n",
        "\n",
        "    created_datasets.append(table_name)\n",
        "    return table_name"
      ],
      "metadata": {
        "id": "zr0kq5dHqQNZ"
      },
      "execution_count": 17,
      "outputs": []
    },
    {
      "cell_type": "code",
      "source": [
        "def combine_dfs(X,y):\n",
        "  label = y.columns[0]\n",
        "  X[label] = y\n",
        "  X.dropna(subset=[label],inplace=True)\n",
        "  return X"
      ],
      "metadata": {
        "id": "kUZ3VvnWI5WL"
      },
      "execution_count": 13,
      "outputs": []
    },
    {
      "cell_type": "code",
      "source": [
        "def extract_variable_imp(variable):\n",
        "  v_list = inspector.variable_importances()[variable]\n",
        "  v = variable + \"\\n\"\n",
        "\n",
        "  for i in range(1,len(v_list)):\n",
        "    v += str(i)+ \"  \"\n",
        "    v += f\"{v_list[i][0][0]:<50}\" \n",
        "    v += str(v_list[i][1]) + \"\\n\"\n",
        "  return v"
      ],
      "metadata": {
        "id": "hwOr7fh3zUbO"
      },
      "execution_count": 14,
      "outputs": []
    },
    {
      "cell_type": "markdown",
      "source": [
        "# Plotting Data"
      ],
      "metadata": {
        "id": "ePBni4nsI_PQ"
      }
    },
    {
      "cell_type": "code",
      "source": [
        "datasets_to_plot = [\n",
        "            \"infant_mortality\",\n",
        "            \"child_mortality\",\n",
        "            \"children_per_woman\",\n",
        "            \"co2_emissions_percapita\",\n",
        "            \"gini_index\",\n",
        "            \"gdppercapita_us_infla_adjust\",\n",
        "            \"20-24-In_Primary_OL\",\n",
        "            \"20-24-Primary_OL\",\n",
        "            \"20-24-Lower_Secondary_OL\",\n",
        "            \"population\",\n",
        "            \"population_density\",\n",
        "            \"20-24_female-In_Primary_OL\",\n",
        "            \"20-24_female-Primary_OL\" ,\n",
        "            \"20-24_female-Lower_Secondary_OL\",\n",
        "            \"life_expectancy\"\n",
        "            ]\n",
        "\n",
        "# creating a list of all countries & years\n",
        "countries   = find_common_countries(datasets_to_plot)\n",
        "years       = [y for y in range(1960,2016)]\n",
        "keys        = generate_indices(countries, years)\n",
        "\n",
        "combined_df = load_datasets_to_pd(datasets_to_plot,keys,include_output=False)"
      ],
      "metadata": {
        "id": "9NWNx-_LKYeL"
      },
      "execution_count": null,
      "outputs": []
    },
    {
      "cell_type": "markdown",
      "source": [
        "## Life Expectancy"
      ],
      "metadata": {
        "id": "037u6w1kJMH_"
      }
    },
    {
      "cell_type": "code",
      "source": [
        "PREDICT_FUTURE  = 0\n",
        "OUTPUT          = 'life_expectancy'\n",
        "n = len(datasets_to_plot)\n",
        "r = math.ceil(math.sqrt(n))\n",
        "i=0\n",
        "for m in range(r):\n",
        "  plt = sns.pairplot(combined_df,diag_kind=\"kde\", y_vars=[OUTPUT], x_vars=[datasets_to_plot[i] for i in range(r*m,min(n,r*(m+1)))], height=4,dropna=True)\n",
        "  plt"
      ],
      "metadata": {
        "id": "kLe_9w6ZJcCN"
      },
      "execution_count": null,
      "outputs": []
    },
    {
      "cell_type": "markdown",
      "source": [
        "## Total Fertility Rate"
      ],
      "metadata": {
        "id": "pkZk3qGMJ8PU"
      }
    },
    {
      "cell_type": "code",
      "source": [
        "PREDICT_FUTURE  = 0\n",
        "OUTPUT          = 'children_per_woman\n",
        "n = len(datasets_to_plot)\n",
        "r = math.ceil(math.sqrt(n))\n",
        "i=0\n",
        "for m in range(r):\n",
        "  plt = sns.pairplot(combined_df,diag_kind=\"kde\", y_vars=[OUTPUT], x_vars=[datasets_to_plot[i] for i in range(r*m,min(n,r*(m+1)))], height=4,dropna=True)\n",
        "  plt"
      ],
      "metadata": {
        "id": "qzwxOH62KM-w"
      },
      "execution_count": null,
      "outputs": []
    },
    {
      "cell_type": "markdown",
      "source": [
        "## Primary education OL"
      ],
      "metadata": {
        "id": "czSh_sfSKowp"
      }
    },
    {
      "cell_type": "code",
      "source": [
        "PREDICT_FUTURE  = 0\n",
        "OUTPUT          = '20-24-Primary_OL'\n",
        "n = len(datasets_to_plot)\n",
        "r = math.ceil(math.sqrt(n))\n",
        "i=0\n",
        "for m in range(r):\n",
        "  plt = sns.pairplot(combined_df,diag_kind=\"kde\", y_vars=[OUTPUT], x_vars=[datasets_to_plot[i] for i in range(r*m,min(n,r*(m+1)))], height=4,dropna=True)\n",
        "  plt"
      ],
      "metadata": {
        "id": "Q7QHRxD3Kp1U"
      },
      "execution_count": null,
      "outputs": []
    },
    {
      "cell_type": "markdown",
      "source": [
        "## GDP per capita"
      ],
      "metadata": {
        "id": "B1bOn1b9KpNe"
      }
    },
    {
      "cell_type": "code",
      "source": [
        "PREDICT_FUTURE  = 0\n",
        "OUTPUT          = 'gdppercapita_us_infla_adjust'\n",
        "n = len(datasets_to_plot)\n",
        "r = math.ceil(math.sqrt(n))\n",
        "i=0\n",
        "for m in range(r):\n",
        "  plt = sns.pairplot(combined_df,diag_kind=\"kde\", y_vars=[OUTPUT], x_vars=[datasets_to_plot[i] for i in range(r*m,min(n,r*(m+1)))], height=4,dropna=True)\n",
        "  plt"
      ],
      "metadata": {
        "id": "CM9eRA5wKOIy"
      },
      "execution_count": null,
      "outputs": []
    },
    {
      "cell_type": "markdown",
      "source": [
        "# Building Model"
      ],
      "metadata": {
        "id": "kZ0ohdJRQcLt"
      }
    },
    {
      "cell_type": "markdown",
      "source": [
        "## Life Expectancy"
      ],
      "metadata": {
        "id": "n7-G1zPTQi8R"
      }
    },
    {
      "cell_type": "markdown",
      "source": [
        "### Preparing the Data"
      ],
      "metadata": {
        "id": "Sh8FcUJq2vxM"
      }
    },
    {
      "cell_type": "code",
      "metadata": {
        "id": "lEv-zMFlFgCm"
      },
      "source": [
        "PREDICT_FUTURE  = 0\n",
        "OUTPUT         = 'life_expectancy'"
      ],
      "execution_count": 15,
      "outputs": []
    },
    {
      "cell_type": "code",
      "metadata": {
        "id": "zQlw2De3EPX-",
        "colab": {
          "base_uri": "https://localhost:8080/"
        },
        "outputId": "61a9bb71-b5cf-4af0-b1d3-fea02016a2e3"
      },
      "source": [
        "datasets = [\n",
        "            # \"infant_mortality\",\n",
        "            # \"life_expectancy\",\n",
        "            # \"child_mortality\",\n",
        "            \"children_per_woman\",\n",
        "            \"co2_emissions_percapita\",\n",
        "            \"gini_index\",\n",
        "            \"gdppercapita_us_infla_adjust\",\n",
        "            #  create_n_yrs_old_csv(\"gdppercapita_us_infla_adjust\",n = 20),\n",
        "            create_n_dropout_csv(\"20-24-Primary_OL_comp\",70),\n",
        "            create_n_dropout_csv(\"20-24-Primary_OL_comp\",50),\n",
        "            \"20-24-In_Primary_OL\",\n",
        "            \"20-24-Primary_OL\",\n",
        "            # \"20-24-Lower_Secondary_OL\",\n",
        "            \"population\",\n",
        "            \"20-24_female-In_Primary_OL\",\n",
        "            \"20-24_female-Primary_OL\",\n",
        "            # \"20-24_female-Lower_Secondary_OL\",\n",
        "            ]\n",
        "get_countries_count(datasets)"
      ],
      "execution_count": 18,
      "outputs": [
        {
          "output_type": "stream",
          "name": "stdout",
          "text": [
            "Factor: children_per_woman               count: 202\n",
            "Factor: co2_emissions_percapita          count: 194\n",
            "Factor: gini_index                       count: 195\n",
            "Factor: gdppercapita_us_infla_adjust     count: 207\n",
            "Factor: 70%_dropout_20-24-Primary_OL_comp count: 179\n",
            "Factor: 50%_dropout_20-24-Primary_OL_comp count: 180\n",
            "Factor: 20-24-In_Primary_OL              count: 202\n",
            "Factor: 20-24-Primary_OL                 count: 202\n",
            "Factor: population                       count: 197\n",
            "Factor: 20-24_female-In_Primary_OL       count: 202\n",
            "Factor: 20-24_female-Primary_OL          count: 202\n"
          ]
        }
      ]
    },
    {
      "cell_type": "code",
      "metadata": {
        "id": "6lCbc1WbKgia"
      },
      "source": [
        "# creating a list of all countries & years\n",
        "countries = find_common_countries(datasets)\n",
        "years     = [y for y in range(1960,2015-PREDICT_FUTURE+1)]\n",
        "keys      = generate_indices(countries, years)"
      ],
      "execution_count": 53,
      "outputs": []
    },
    {
      "cell_type": "code",
      "metadata": {
        "id": "E1W2z1TcszrP"
      },
      "source": [
        "input_df            = load_datasets_to_pd(datasets,keys)\n",
        "input_df.set_index([\"country\",\"year\"], inplace=True)"
      ],
      "execution_count": 54,
      "outputs": []
    },
    {
      "cell_type": "code",
      "source": [
        "output_df           = input_df[[\"o_\" + OUTPUT]]\n",
        "input_df.drop(labels=[\"o_\" + OUTPUT], axis = 1, inplace=True)"
      ],
      "metadata": {
        "id": "PXUVrn4ZWFSx"
      },
      "execution_count": 55,
      "outputs": []
    },
    {
      "cell_type": "code",
      "metadata": {
        "colab": {
          "base_uri": "https://localhost:8080/",
          "height": 582
        },
        "id": "Kgk60lsfU1AB",
        "outputId": "30a5585e-6922-40fe-ba46-00b3c9f67a34"
      },
      "source": [
        "input_df"
      ],
      "execution_count": 56,
      "outputs": [
        {
          "output_type": "execute_result",
          "data": {
            "text/html": [
              "\n",
              "  <div id=\"df-20f3e6e5-84da-4218-82fb-15626fb9add0\">\n",
              "    <div class=\"colab-df-container\">\n",
              "      <div>\n",
              "<style scoped>\n",
              "    .dataframe tbody tr th:only-of-type {\n",
              "        vertical-align: middle;\n",
              "    }\n",
              "\n",
              "    .dataframe tbody tr th {\n",
              "        vertical-align: top;\n",
              "    }\n",
              "\n",
              "    .dataframe thead th {\n",
              "        text-align: right;\n",
              "    }\n",
              "</style>\n",
              "<table border=\"1\" class=\"dataframe\">\n",
              "  <thead>\n",
              "    <tr style=\"text-align: right;\">\n",
              "      <th></th>\n",
              "      <th></th>\n",
              "      <th>children_per_woman</th>\n",
              "      <th>co2_emissions_percapita</th>\n",
              "      <th>gini_index</th>\n",
              "      <th>gdppercapita_us_infla_adjust</th>\n",
              "      <th>20_yrs_old_gdppercapita_us_infla_adjust</th>\n",
              "      <th>70%_dropout_20-24-Primary_OL_comp</th>\n",
              "      <th>20-24-In_Primary_OL</th>\n",
              "      <th>20-24-Primary_OL</th>\n",
              "      <th>population</th>\n",
              "      <th>20-24_female-In_Primary_OL</th>\n",
              "      <th>20-24_female-Primary_OL</th>\n",
              "    </tr>\n",
              "    <tr>\n",
              "      <th>country</th>\n",
              "      <th>year</th>\n",
              "      <th></th>\n",
              "      <th></th>\n",
              "      <th></th>\n",
              "      <th></th>\n",
              "      <th></th>\n",
              "      <th></th>\n",
              "      <th></th>\n",
              "      <th></th>\n",
              "      <th></th>\n",
              "      <th></th>\n",
              "      <th></th>\n",
              "    </tr>\n",
              "  </thead>\n",
              "  <tbody>\n",
              "    <tr>\n",
              "      <th>angola</th>\n",
              "      <th>1960</th>\n",
              "      <td>7.48</td>\n",
              "      <td>0.101</td>\n",
              "      <td>55.8</td>\n",
              "      <td>NaN</td>\n",
              "      <td>NaN</td>\n",
              "      <td>140.0</td>\n",
              "      <td>91.0</td>\n",
              "      <td>97.9</td>\n",
              "      <td>5450000.0</td>\n",
              "      <td>96.8</td>\n",
              "      <td>98.7</td>\n",
              "    </tr>\n",
              "    <tr>\n",
              "      <th>belgium</th>\n",
              "      <th>1960</th>\n",
              "      <td>2.60</td>\n",
              "      <td>9.920</td>\n",
              "      <td>30.5</td>\n",
              "      <td>11700.0</td>\n",
              "      <td>NaN</td>\n",
              "      <td>44.0</td>\n",
              "      <td>8.4</td>\n",
              "      <td>37.9</td>\n",
              "      <td>9170000.0</td>\n",
              "      <td>8.0</td>\n",
              "      <td>36.1</td>\n",
              "    </tr>\n",
              "    <tr>\n",
              "      <th>peru</th>\n",
              "      <th>1960</th>\n",
              "      <td>6.97</td>\n",
              "      <td>0.805</td>\n",
              "      <td>57.1</td>\n",
              "      <td>2710.0</td>\n",
              "      <td>NaN</td>\n",
              "      <td>82.0</td>\n",
              "      <td>58.4</td>\n",
              "      <td>65.9</td>\n",
              "      <td>10200000.0</td>\n",
              "      <td>65.3</td>\n",
              "      <td>71.9</td>\n",
              "    </tr>\n",
              "    <tr>\n",
              "      <th>sierra leone</th>\n",
              "      <th>1960</th>\n",
              "      <td>6.13</td>\n",
              "      <td>0.309</td>\n",
              "      <td>52.5</td>\n",
              "      <td>497.0</td>\n",
              "      <td>NaN</td>\n",
              "      <td>138.0</td>\n",
              "      <td>91.1</td>\n",
              "      <td>93.8</td>\n",
              "      <td>2320000.0</td>\n",
              "      <td>95.9</td>\n",
              "      <td>97.5</td>\n",
              "    </tr>\n",
              "    <tr>\n",
              "      <th>jordan</th>\n",
              "      <th>1960</th>\n",
              "      <td>7.69</td>\n",
              "      <td>0.797</td>\n",
              "      <td>36.9</td>\n",
              "      <td>NaN</td>\n",
              "      <td>NaN</td>\n",
              "      <td>85.0</td>\n",
              "      <td>51.1</td>\n",
              "      <td>69.7</td>\n",
              "      <td>933000.0</td>\n",
              "      <td>50.2</td>\n",
              "      <td>68.6</td>\n",
              "    </tr>\n",
              "    <tr>\n",
              "      <th>...</th>\n",
              "      <th>...</th>\n",
              "      <td>...</td>\n",
              "      <td>...</td>\n",
              "      <td>...</td>\n",
              "      <td>...</td>\n",
              "      <td>...</td>\n",
              "      <td>...</td>\n",
              "      <td>...</td>\n",
              "      <td>...</td>\n",
              "      <td>...</td>\n",
              "      <td>...</td>\n",
              "      <td>...</td>\n",
              "    </tr>\n",
              "    <tr>\n",
              "      <th>spain</th>\n",
              "      <th>2015</th>\n",
              "      <td>1.35</td>\n",
              "      <td>5.810</td>\n",
              "      <td>36.2</td>\n",
              "      <td>25700.0</td>\n",
              "      <td>20000.0</td>\n",
              "      <td>81.0</td>\n",
              "      <td>1.5</td>\n",
              "      <td>9.6</td>\n",
              "      <td>46700000.0</td>\n",
              "      <td>1.4</td>\n",
              "      <td>7.6</td>\n",
              "    </tr>\n",
              "    <tr>\n",
              "      <th>indonesia</th>\n",
              "      <th>2015</th>\n",
              "      <td>2.39</td>\n",
              "      <td>1.960</td>\n",
              "      <td>39.1</td>\n",
              "      <td>3330.0</td>\n",
              "      <td>1930.0</td>\n",
              "      <td>106.0</td>\n",
              "      <td>3.4</td>\n",
              "      <td>21.4</td>\n",
              "      <td>258000000.0</td>\n",
              "      <td>3.3</td>\n",
              "      <td>21.5</td>\n",
              "    </tr>\n",
              "    <tr>\n",
              "      <th>pakistan</th>\n",
              "      <th>2015</th>\n",
              "      <td>3.55</td>\n",
              "      <td>0.926</td>\n",
              "      <td>32.1</td>\n",
              "      <td>1360.0</td>\n",
              "      <td>1010.0</td>\n",
              "      <td>123.0</td>\n",
              "      <td>38.0</td>\n",
              "      <td>49.0</td>\n",
              "      <td>199000000.0</td>\n",
              "      <td>46.0</td>\n",
              "      <td>55.7</td>\n",
              "    </tr>\n",
              "    <tr>\n",
              "      <th>belize</th>\n",
              "      <th>2015</th>\n",
              "      <td>2.54</td>\n",
              "      <td>1.610</td>\n",
              "      <td>53.3</td>\n",
              "      <td>4770.0</td>\n",
              "      <td>3820.0</td>\n",
              "      <td>105.0</td>\n",
              "      <td>13.1</td>\n",
              "      <td>36.8</td>\n",
              "      <td>361000.0</td>\n",
              "      <td>12.3</td>\n",
              "      <td>34.7</td>\n",
              "    </tr>\n",
              "    <tr>\n",
              "      <th>saudi arabia</th>\n",
              "      <th>2015</th>\n",
              "      <td>2.58</td>\n",
              "      <td>19.600</td>\n",
              "      <td>40.0</td>\n",
              "      <td>20600.0</td>\n",
              "      <td>18100.0</td>\n",
              "      <td>102.0</td>\n",
              "      <td>3.7</td>\n",
              "      <td>12.0</td>\n",
              "      <td>31700000.0</td>\n",
              "      <td>5.7</td>\n",
              "      <td>13.4</td>\n",
              "    </tr>\n",
              "  </tbody>\n",
              "</table>\n",
              "<p>8064 rows × 11 columns</p>\n",
              "</div>\n",
              "      <button class=\"colab-df-convert\" onclick=\"convertToInteractive('df-20f3e6e5-84da-4218-82fb-15626fb9add0')\"\n",
              "              title=\"Convert this dataframe to an interactive table.\"\n",
              "              style=\"display:none;\">\n",
              "        \n",
              "  <svg xmlns=\"http://www.w3.org/2000/svg\" height=\"24px\"viewBox=\"0 0 24 24\"\n",
              "       width=\"24px\">\n",
              "    <path d=\"M0 0h24v24H0V0z\" fill=\"none\"/>\n",
              "    <path d=\"M18.56 5.44l.94 2.06.94-2.06 2.06-.94-2.06-.94-.94-2.06-.94 2.06-2.06.94zm-11 1L8.5 8.5l.94-2.06 2.06-.94-2.06-.94L8.5 2.5l-.94 2.06-2.06.94zm10 10l.94 2.06.94-2.06 2.06-.94-2.06-.94-.94-2.06-.94 2.06-2.06.94z\"/><path d=\"M17.41 7.96l-1.37-1.37c-.4-.4-.92-.59-1.43-.59-.52 0-1.04.2-1.43.59L10.3 9.45l-7.72 7.72c-.78.78-.78 2.05 0 2.83L4 21.41c.39.39.9.59 1.41.59.51 0 1.02-.2 1.41-.59l7.78-7.78 2.81-2.81c.8-.78.8-2.07 0-2.86zM5.41 20L4 18.59l7.72-7.72 1.47 1.35L5.41 20z\"/>\n",
              "  </svg>\n",
              "      </button>\n",
              "      \n",
              "  <style>\n",
              "    .colab-df-container {\n",
              "      display:flex;\n",
              "      flex-wrap:wrap;\n",
              "      gap: 12px;\n",
              "    }\n",
              "\n",
              "    .colab-df-convert {\n",
              "      background-color: #E8F0FE;\n",
              "      border: none;\n",
              "      border-radius: 50%;\n",
              "      cursor: pointer;\n",
              "      display: none;\n",
              "      fill: #1967D2;\n",
              "      height: 32px;\n",
              "      padding: 0 0 0 0;\n",
              "      width: 32px;\n",
              "    }\n",
              "\n",
              "    .colab-df-convert:hover {\n",
              "      background-color: #E2EBFA;\n",
              "      box-shadow: 0px 1px 2px rgba(60, 64, 67, 0.3), 0px 1px 3px 1px rgba(60, 64, 67, 0.15);\n",
              "      fill: #174EA6;\n",
              "    }\n",
              "\n",
              "    [theme=dark] .colab-df-convert {\n",
              "      background-color: #3B4455;\n",
              "      fill: #D2E3FC;\n",
              "    }\n",
              "\n",
              "    [theme=dark] .colab-df-convert:hover {\n",
              "      background-color: #434B5C;\n",
              "      box-shadow: 0px 1px 3px 1px rgba(0, 0, 0, 0.15);\n",
              "      filter: drop-shadow(0px 1px 2px rgba(0, 0, 0, 0.3));\n",
              "      fill: #FFFFFF;\n",
              "    }\n",
              "  </style>\n",
              "\n",
              "      <script>\n",
              "        const buttonEl =\n",
              "          document.querySelector('#df-20f3e6e5-84da-4218-82fb-15626fb9add0 button.colab-df-convert');\n",
              "        buttonEl.style.display =\n",
              "          google.colab.kernel.accessAllowed ? 'block' : 'none';\n",
              "\n",
              "        async function convertToInteractive(key) {\n",
              "          const element = document.querySelector('#df-20f3e6e5-84da-4218-82fb-15626fb9add0');\n",
              "          const dataTable =\n",
              "            await google.colab.kernel.invokeFunction('convertToInteractive',\n",
              "                                                     [key], {});\n",
              "          if (!dataTable) return;\n",
              "\n",
              "          const docLinkHtml = 'Like what you see? Visit the ' +\n",
              "            '<a target=\"_blank\" href=https://colab.research.google.com/notebooks/data_table.ipynb>data table notebook</a>'\n",
              "            + ' to learn more about interactive tables.';\n",
              "          element.innerHTML = '';\n",
              "          dataTable['output_type'] = 'display_data';\n",
              "          await google.colab.output.renderOutput(dataTable, element);\n",
              "          const docLink = document.createElement('div');\n",
              "          docLink.innerHTML = docLinkHtml;\n",
              "          element.appendChild(docLink);\n",
              "        }\n",
              "      </script>\n",
              "    </div>\n",
              "  </div>\n",
              "  "
            ],
            "text/plain": [
              "                   children_per_woman  ...  20-24_female-Primary_OL\n",
              "country      year                      ...                         \n",
              "angola       1960                7.48  ...                     98.7\n",
              "belgium      1960                2.60  ...                     36.1\n",
              "peru         1960                6.97  ...                     71.9\n",
              "sierra leone 1960                6.13  ...                     97.5\n",
              "jordan       1960                7.69  ...                     68.6\n",
              "...                               ...  ...                      ...\n",
              "spain        2015                1.35  ...                      7.6\n",
              "indonesia    2015                2.39  ...                     21.5\n",
              "pakistan     2015                3.55  ...                     55.7\n",
              "belize       2015                2.54  ...                     34.7\n",
              "saudi arabia 2015                2.58  ...                     13.4\n",
              "\n",
              "[8064 rows x 11 columns]"
            ]
          },
          "metadata": {},
          "execution_count": 56
        }
      ]
    },
    {
      "cell_type": "code",
      "source": [
        "output_df"
      ],
      "metadata": {
        "colab": {
          "base_uri": "https://localhost:8080/",
          "height": 450
        },
        "id": "AgNf2a8y7bhA",
        "outputId": "130ba069-c3b6-4d44-cebe-810788ebeb48"
      },
      "execution_count": 57,
      "outputs": [
        {
          "output_type": "execute_result",
          "data": {
            "text/html": [
              "\n",
              "  <div id=\"df-5dd5190b-d7ef-487f-819b-beb971bd4497\">\n",
              "    <div class=\"colab-df-container\">\n",
              "      <div>\n",
              "<style scoped>\n",
              "    .dataframe tbody tr th:only-of-type {\n",
              "        vertical-align: middle;\n",
              "    }\n",
              "\n",
              "    .dataframe tbody tr th {\n",
              "        vertical-align: top;\n",
              "    }\n",
              "\n",
              "    .dataframe thead th {\n",
              "        text-align: right;\n",
              "    }\n",
              "</style>\n",
              "<table border=\"1\" class=\"dataframe\">\n",
              "  <thead>\n",
              "    <tr style=\"text-align: right;\">\n",
              "      <th></th>\n",
              "      <th></th>\n",
              "      <th>o_life_expectancy</th>\n",
              "    </tr>\n",
              "    <tr>\n",
              "      <th>country</th>\n",
              "      <th>year</th>\n",
              "      <th></th>\n",
              "    </tr>\n",
              "  </thead>\n",
              "  <tbody>\n",
              "    <tr>\n",
              "      <th>angola</th>\n",
              "      <th>1960</th>\n",
              "      <td>98.7</td>\n",
              "    </tr>\n",
              "    <tr>\n",
              "      <th>belgium</th>\n",
              "      <th>1960</th>\n",
              "      <td>36.1</td>\n",
              "    </tr>\n",
              "    <tr>\n",
              "      <th>peru</th>\n",
              "      <th>1960</th>\n",
              "      <td>71.9</td>\n",
              "    </tr>\n",
              "    <tr>\n",
              "      <th>sierra leone</th>\n",
              "      <th>1960</th>\n",
              "      <td>97.5</td>\n",
              "    </tr>\n",
              "    <tr>\n",
              "      <th>jordan</th>\n",
              "      <th>1960</th>\n",
              "      <td>68.6</td>\n",
              "    </tr>\n",
              "    <tr>\n",
              "      <th>...</th>\n",
              "      <th>...</th>\n",
              "      <td>...</td>\n",
              "    </tr>\n",
              "    <tr>\n",
              "      <th>spain</th>\n",
              "      <th>2015</th>\n",
              "      <td>7.6</td>\n",
              "    </tr>\n",
              "    <tr>\n",
              "      <th>indonesia</th>\n",
              "      <th>2015</th>\n",
              "      <td>21.5</td>\n",
              "    </tr>\n",
              "    <tr>\n",
              "      <th>pakistan</th>\n",
              "      <th>2015</th>\n",
              "      <td>55.7</td>\n",
              "    </tr>\n",
              "    <tr>\n",
              "      <th>belize</th>\n",
              "      <th>2015</th>\n",
              "      <td>34.7</td>\n",
              "    </tr>\n",
              "    <tr>\n",
              "      <th>saudi arabia</th>\n",
              "      <th>2015</th>\n",
              "      <td>13.4</td>\n",
              "    </tr>\n",
              "  </tbody>\n",
              "</table>\n",
              "<p>8064 rows × 1 columns</p>\n",
              "</div>\n",
              "      <button class=\"colab-df-convert\" onclick=\"convertToInteractive('df-5dd5190b-d7ef-487f-819b-beb971bd4497')\"\n",
              "              title=\"Convert this dataframe to an interactive table.\"\n",
              "              style=\"display:none;\">\n",
              "        \n",
              "  <svg xmlns=\"http://www.w3.org/2000/svg\" height=\"24px\"viewBox=\"0 0 24 24\"\n",
              "       width=\"24px\">\n",
              "    <path d=\"M0 0h24v24H0V0z\" fill=\"none\"/>\n",
              "    <path d=\"M18.56 5.44l.94 2.06.94-2.06 2.06-.94-2.06-.94-.94-2.06-.94 2.06-2.06.94zm-11 1L8.5 8.5l.94-2.06 2.06-.94-2.06-.94L8.5 2.5l-.94 2.06-2.06.94zm10 10l.94 2.06.94-2.06 2.06-.94-2.06-.94-.94-2.06-.94 2.06-2.06.94z\"/><path d=\"M17.41 7.96l-1.37-1.37c-.4-.4-.92-.59-1.43-.59-.52 0-1.04.2-1.43.59L10.3 9.45l-7.72 7.72c-.78.78-.78 2.05 0 2.83L4 21.41c.39.39.9.59 1.41.59.51 0 1.02-.2 1.41-.59l7.78-7.78 2.81-2.81c.8-.78.8-2.07 0-2.86zM5.41 20L4 18.59l7.72-7.72 1.47 1.35L5.41 20z\"/>\n",
              "  </svg>\n",
              "      </button>\n",
              "      \n",
              "  <style>\n",
              "    .colab-df-container {\n",
              "      display:flex;\n",
              "      flex-wrap:wrap;\n",
              "      gap: 12px;\n",
              "    }\n",
              "\n",
              "    .colab-df-convert {\n",
              "      background-color: #E8F0FE;\n",
              "      border: none;\n",
              "      border-radius: 50%;\n",
              "      cursor: pointer;\n",
              "      display: none;\n",
              "      fill: #1967D2;\n",
              "      height: 32px;\n",
              "      padding: 0 0 0 0;\n",
              "      width: 32px;\n",
              "    }\n",
              "\n",
              "    .colab-df-convert:hover {\n",
              "      background-color: #E2EBFA;\n",
              "      box-shadow: 0px 1px 2px rgba(60, 64, 67, 0.3), 0px 1px 3px 1px rgba(60, 64, 67, 0.15);\n",
              "      fill: #174EA6;\n",
              "    }\n",
              "\n",
              "    [theme=dark] .colab-df-convert {\n",
              "      background-color: #3B4455;\n",
              "      fill: #D2E3FC;\n",
              "    }\n",
              "\n",
              "    [theme=dark] .colab-df-convert:hover {\n",
              "      background-color: #434B5C;\n",
              "      box-shadow: 0px 1px 3px 1px rgba(0, 0, 0, 0.15);\n",
              "      filter: drop-shadow(0px 1px 2px rgba(0, 0, 0, 0.3));\n",
              "      fill: #FFFFFF;\n",
              "    }\n",
              "  </style>\n",
              "\n",
              "      <script>\n",
              "        const buttonEl =\n",
              "          document.querySelector('#df-5dd5190b-d7ef-487f-819b-beb971bd4497 button.colab-df-convert');\n",
              "        buttonEl.style.display =\n",
              "          google.colab.kernel.accessAllowed ? 'block' : 'none';\n",
              "\n",
              "        async function convertToInteractive(key) {\n",
              "          const element = document.querySelector('#df-5dd5190b-d7ef-487f-819b-beb971bd4497');\n",
              "          const dataTable =\n",
              "            await google.colab.kernel.invokeFunction('convertToInteractive',\n",
              "                                                     [key], {});\n",
              "          if (!dataTable) return;\n",
              "\n",
              "          const docLinkHtml = 'Like what you see? Visit the ' +\n",
              "            '<a target=\"_blank\" href=https://colab.research.google.com/notebooks/data_table.ipynb>data table notebook</a>'\n",
              "            + ' to learn more about interactive tables.';\n",
              "          element.innerHTML = '';\n",
              "          dataTable['output_type'] = 'display_data';\n",
              "          await google.colab.output.renderOutput(dataTable, element);\n",
              "          const docLink = document.createElement('div');\n",
              "          docLink.innerHTML = docLinkHtml;\n",
              "          element.appendChild(docLink);\n",
              "        }\n",
              "      </script>\n",
              "    </div>\n",
              "  </div>\n",
              "  "
            ],
            "text/plain": [
              "                   o_life_expectancy\n",
              "country      year                   \n",
              "angola       1960               98.7\n",
              "belgium      1960               36.1\n",
              "peru         1960               71.9\n",
              "sierra leone 1960               97.5\n",
              "jordan       1960               68.6\n",
              "...                              ...\n",
              "spain        2015                7.6\n",
              "indonesia    2015               21.5\n",
              "pakistan     2015               55.7\n",
              "belize       2015               34.7\n",
              "saudi arabia 2015               13.4\n",
              "\n",
              "[8064 rows x 1 columns]"
            ]
          },
          "metadata": {},
          "execution_count": 57
        }
      ]
    },
    {
      "cell_type": "code",
      "metadata": {
        "colab": {
          "base_uri": "https://localhost:8080/"
        },
        "id": "X7DlA3Lnwhuf",
        "outputId": "9ecf7c23-65bb-4965-8a4e-f6f41b6f1a89"
      },
      "source": [
        "input_df.isna().sum()"
      ],
      "execution_count": 58,
      "outputs": [
        {
          "output_type": "execute_result",
          "data": {
            "text/plain": [
              "children_per_woman                            0\n",
              "co2_emissions_percapita                     143\n",
              "gini_index                                    0\n",
              "gdppercapita_us_infla_adjust               1671\n",
              "20_yrs_old_gdppercapita_us_infla_adjust    4497\n",
              "70%_dropout_20-24-Primary_OL_comp             0\n",
              "20-24-In_Primary_OL                           0\n",
              "20-24-Primary_OL                              0\n",
              "population                                    0\n",
              "20-24_female-In_Primary_OL                    0\n",
              "20-24_female-Primary_OL                       0\n",
              "dtype: int64"
            ]
          },
          "metadata": {},
          "execution_count": 58
        }
      ]
    },
    {
      "cell_type": "code",
      "metadata": {
        "colab": {
          "base_uri": "https://localhost:8080/"
        },
        "id": "gWdEi4ciwoXc",
        "outputId": "b2722110-3e74-4154-c90d-d2e26bd3882e"
      },
      "source": [
        "input_df.shape"
      ],
      "execution_count": 59,
      "outputs": [
        {
          "output_type": "execute_result",
          "data": {
            "text/plain": [
              "(8064, 11)"
            ]
          },
          "metadata": {},
          "execution_count": 59
        }
      ]
    },
    {
      "cell_type": "code",
      "metadata": {
        "id": "KRYgp4465ve1"
      },
      "source": [
        "X_train, X_test, y_train, y_test = train_test_split(input_df, output_df, test_size=0.30, random_state=43)"
      ],
      "execution_count": 60,
      "outputs": []
    },
    {
      "cell_type": "markdown",
      "source": [
        "### Random Forest Model"
      ],
      "metadata": {
        "id": "edkLA9062inb"
      }
    },
    {
      "cell_type": "code",
      "metadata": {
        "colab": {
          "base_uri": "https://localhost:8080/"
        },
        "outputId": "6427b61e-6343-4bcc-b128-f8a088a0cd08",
        "id": "CVHyyl5M6jcw"
      },
      "source": [
        "\n",
        "# converting pandas to tensorFlow dataset\n",
        "train_ds = tfdf.keras.pd_dataframe_to_tf_dataset(combine_dfs(X_train,y_train), label=\"o_\"+OUTPUT, task=tfdf.keras.Task.REGRESSION)\n",
        "model = tfdf.keras.RandomForestModel(task = tfdf.keras.Task.REGRESSION)\n",
        "\n",
        "model.fit(x=train_ds)\n",
        "# Convert it to a TensorFlow dataset\n",
        "test_ds = tfdf.keras.pd_dataframe_to_tf_dataset(combine_dfs(X_train,y_train), label=\"o_\"+OUTPUT, task=tfdf.keras.Task.REGRESSION)\n",
        "\n",
        "# Evaluate the model\n",
        "model.compile(metrics=[\"mse\"])\n",
        "# Evaluate the model on the test dataset.\n",
        "evaluation = model.evaluate(test_ds, return_dict=True)\n",
        "print(OUTPUT.upper())\n",
        "print(evaluation)\n",
        "print()\n",
        "print(f\"MSE: {evaluation['mse']}\")\n",
        "print(f\"RMSE: {math.sqrt(evaluation['mse'])}\")\n",
        "print()"
      ],
      "execution_count": 61,
      "outputs": [
        {
          "output_type": "stream",
          "name": "stdout",
          "text": [
            "Warning:  Some of the feature names have been changed automatically to be compatible with SavedModels because fix_feature_names=True.\n",
            "Use /tmp/tmpsd6q64w2 as temporary training directory\n",
            "Starting reading the dataset\n",
            "1/6 [====>.........................] - ETA: 1s\n",
            "Dataset read in 0:00:00.245027\n",
            "Training model\n",
            "Model trained in 0:00:05.464445\n",
            "Compiling model\n",
            "6/6 [==============================] - 7s 1s/step\n",
            "Warning:  Some of the feature names have been changed automatically to be compatible with SavedModels because fix_feature_names=True.\n",
            "6/6 [==============================] - 1s 64ms/step - loss: 0.0000e+00 - mse: 0.0312\n",
            "LIFE_EXPECTANCY\n",
            "{'loss': 0.0, 'mse': 0.0311956238001585}\n",
            "\n",
            "MSE: 0.0311956238001585\n",
            "RMSE: 0.1766228292157005\n",
            "\n"
          ]
        }
      ]
    },
    {
      "cell_type": "code",
      "metadata": {
        "colab": {
          "base_uri": "https://localhost:8080/",
          "height": 424
        },
        "id": "9km9jt9mBIvM",
        "outputId": "5f4f2d87-da3a-4732-8b5b-78371755481d"
      },
      "source": [
        "tfdf.model_plotter.plot_model_in_colab(model, tree_idx=0)"
      ],
      "execution_count": 62,
      "outputs": [
        {
          "output_type": "execute_result",
          "data": {
            "text/html": [
              "\n",
              "<script src=\"https://d3js.org/d3.v6.min.js\"></script>\n",
              "<div id=\"tree_plot_99a83ebd67884731807c91d88122f85f\"></div>\n",
              "<script>\n",
              "/*\n",
              " * Copyright 2021 Google LLC.\n",
              " * Licensed under the Apache License, Version 2.0 (the \"License\");\n",
              " * you may not use this file except in compliance with the License.\n",
              " * You may obtain a copy of the License at\n",
              " *\n",
              " *     https://www.apache.org/licenses/LICENSE-2.0\n",
              " *\n",
              " * Unless required by applicable law or agreed to in writing, software\n",
              " * distributed under the License is distributed on an \"AS IS\" BASIS,\n",
              " * WITHOUT WARRANTIES OR CONDITIONS OF ANY KIND, either express or implied.\n",
              " * See the License for the specific language governing permissions and\n",
              " * limitations under the License.\n",
              " */\n",
              "\n",
              "/**\n",
              " *  Plotting of decision trees generated by TF-DF.\n",
              " *\n",
              " *  A tree is a recursive structure of node objects.\n",
              " *  A node contains one or more of the following components:\n",
              " *\n",
              " *    - A value: Representing the output of the node. If the node is not a leaf,\n",
              " *      the value is only present for analysis i.e. it is not used for\n",
              " *      predictions.\n",
              " *\n",
              " *    - A condition : For non-leaf nodes, the condition (also known as split)\n",
              " *      defines a binary test to branch to the positive or negative child.\n",
              " *\n",
              " *    - An explanation: Generally a plot showing the relation between the label\n",
              " *      and the condition to give insights about the effect of the condition.\n",
              " *\n",
              " *    - Two children : For non-leaf nodes, the children nodes. The first\n",
              " *      children (i.e. \"node.children[0]\") is the negative children (drawn in\n",
              " *      red). The second children is the positive one (drawn in green).\n",
              " *\n",
              " */\n",
              "\n",
              "/**\n",
              " * Plots a single decision tree into a DOM element.\n",
              " * @param {!options} options Dictionary of configurations.\n",
              " * @param {!tree} raw_tree Recursive tree structure.\n",
              " * @param {string} canvas_id Id of the output dom element.\n",
              " */\n",
              "function display_tree(options, raw_tree, canvas_id) {\n",
              "  console.log(options);\n",
              "\n",
              "  // Determine the node placement.\n",
              "  const tree_struct = d3.tree().nodeSize(\n",
              "      [options.node_y_offset, options.node_x_offset])(d3.hierarchy(raw_tree));\n",
              "\n",
              "  // Boundaries of the node placement.\n",
              "  let x_min = Infinity;\n",
              "  let x_max = -x_min;\n",
              "  let y_min = Infinity;\n",
              "  let y_max = -x_min;\n",
              "\n",
              "  tree_struct.each(d => {\n",
              "    if (d.x > x_max) x_max = d.x;\n",
              "    if (d.x < x_min) x_min = d.x;\n",
              "    if (d.y > y_max) y_max = d.y;\n",
              "    if (d.y < y_min) y_min = d.y;\n",
              "  });\n",
              "\n",
              "  // Size of the plot.\n",
              "  const width = y_max - y_min + options.node_x_size + options.margin * 2;\n",
              "  const height = x_max - x_min + options.node_y_size + options.margin * 2 +\n",
              "      options.node_y_offset - options.node_y_size;\n",
              "\n",
              "  const plot = d3.select(canvas_id);\n",
              "\n",
              "  // Tool tip\n",
              "  options.tooltip = plot.append('div')\n",
              "                        .attr('width', 100)\n",
              "                        .attr('height', 100)\n",
              "                        .style('padding', '4px')\n",
              "                        .style('background', '#fff')\n",
              "                        .style('box-shadow', '4px 4px 0px rgba(0,0,0,0.1)')\n",
              "                        .style('border', '1px solid black')\n",
              "                        .style('font-family', 'sans-serif')\n",
              "                        .style('font-size', options.font_size)\n",
              "                        .style('position', 'absolute')\n",
              "                        .style('z-index', '10')\n",
              "                        .attr('pointer-events', 'none')\n",
              "                        .style('display', 'none');\n",
              "\n",
              "  // Create canvas\n",
              "  const svg = plot.append('svg').attr('width', width).attr('height', height);\n",
              "  const graph =\n",
              "      svg.style('overflow', 'visible')\n",
              "          .append('g')\n",
              "          .attr('font-family', 'sans-serif')\n",
              "          .attr('font-size', options.font_size)\n",
              "          .attr(\n",
              "              'transform',\n",
              "              () => `translate(${options.margin},${\n",
              "                  - x_min + options.node_y_offset / 2 + options.margin})`);\n",
              "\n",
              "  // Plot bounding box.\n",
              "  if (options.show_plot_bounding_box) {\n",
              "    svg.append('rect')\n",
              "        .attr('width', width)\n",
              "        .attr('height', height)\n",
              "        .attr('fill', 'none')\n",
              "        .attr('stroke-width', 1.0)\n",
              "        .attr('stroke', 'black');\n",
              "  }\n",
              "\n",
              "  // Draw the edges.\n",
              "  display_edges(options, graph, tree_struct);\n",
              "\n",
              "  // Draw the nodes.\n",
              "  display_nodes(options, graph, tree_struct);\n",
              "}\n",
              "\n",
              "/**\n",
              " * Draw the nodes of the tree.\n",
              " * @param {!options} options Dictionary of configurations.\n",
              " * @param {!graph} graph D3 search handle containing the graph.\n",
              " * @param {!tree_struct} tree_struct Structure of the tree (node placement,\n",
              " *     data, etc.).\n",
              " */\n",
              "function display_nodes(options, graph, tree_struct) {\n",
              "  const nodes = graph.append('g')\n",
              "                    .selectAll('g')\n",
              "                    .data(tree_struct.descendants())\n",
              "                    .join('g')\n",
              "                    .attr('transform', d => `translate(${d.y},${d.x})`);\n",
              "\n",
              "  nodes.append('rect')\n",
              "      .attr('x', 0.5)\n",
              "      .attr('y', 0.5)\n",
              "      .attr('width', options.node_x_size)\n",
              "      .attr('height', options.node_y_size)\n",
              "      .attr('stroke', 'lightgrey')\n",
              "      .attr('stroke-width', 1)\n",
              "      .attr('fill', 'white')\n",
              "      .attr('y', -options.node_y_size / 2);\n",
              "\n",
              "  // Brackets on the right of condition nodes without children.\n",
              "  non_leaf_node_without_children =\n",
              "      nodes.filter(node => node.data.condition != null && node.children == null)\n",
              "          .append('g')\n",
              "          .attr('transform', `translate(${options.node_x_size},0)`);\n",
              "\n",
              "  non_leaf_node_without_children.append('path')\n",
              "      .attr('d', 'M0,0 C 10,0 0,10 10,10')\n",
              "      .attr('fill', 'none')\n",
              "      .attr('stroke-width', 1.0)\n",
              "      .attr('stroke', '#F00');\n",
              "\n",
              "  non_leaf_node_without_children.append('path')\n",
              "      .attr('d', 'M0,0 C 10,0 0,-10 10,-10')\n",
              "      .attr('fill', 'none')\n",
              "      .attr('stroke-width', 1.0)\n",
              "      .attr('stroke', '#0F0');\n",
              "\n",
              "  const node_content = nodes.append('g').attr(\n",
              "      'transform',\n",
              "      `translate(0,${options.node_padding - options.node_y_size / 2})`);\n",
              "\n",
              "  node_content.append(node => create_node_element(options, node));\n",
              "}\n",
              "\n",
              "/**\n",
              " * Creates the D3 content for a single node.\n",
              " * @param {!options} options Dictionary of configurations.\n",
              " * @param {!node} node Node to draw.\n",
              " * @return {!d3} D3 content.\n",
              " */\n",
              "function create_node_element(options, node) {\n",
              "  // Output accumulator.\n",
              "  let output = {\n",
              "    // Content to draw.\n",
              "    content: d3.create('svg:g'),\n",
              "    // Vertical offset to the next element to draw.\n",
              "    vertical_offset: 0\n",
              "  };\n",
              "\n",
              "  // Conditions.\n",
              "  if (node.data.condition != null) {\n",
              "    display_condition(options, node.data.condition, output);\n",
              "  }\n",
              "\n",
              "  // Values.\n",
              "  if (node.data.value != null) {\n",
              "    display_value(options, node.data.value, output);\n",
              "  }\n",
              "\n",
              "  // Explanations.\n",
              "  if (node.data.explanation != null) {\n",
              "    display_explanation(options, node.data.explanation, output);\n",
              "  }\n",
              "\n",
              "  return output.content.node();\n",
              "}\n",
              "\n",
              "\n",
              "/**\n",
              " * Adds a single line of text inside of a node.\n",
              " * @param {!options} options Dictionary of configurations.\n",
              " * @param {string} text Text to display.\n",
              " * @param {!output} output Output display accumulator.\n",
              " */\n",
              "function display_node_text(options, text, output) {\n",
              "  output.content.append('text')\n",
              "      .attr('x', options.node_padding)\n",
              "      .attr('y', output.vertical_offset)\n",
              "      .attr('alignment-baseline', 'hanging')\n",
              "      .text(text);\n",
              "  output.vertical_offset += 10;\n",
              "}\n",
              "\n",
              "/**\n",
              " * Adds a single line of text inside of a node with a tooltip.\n",
              " * @param {!options} options Dictionary of configurations.\n",
              " * @param {string} text Text to display.\n",
              " * @param {string} tooltip Text in the Tooltip.\n",
              " * @param {!output} output Output display accumulator.\n",
              " */\n",
              "function display_node_text_with_tooltip(options, text, tooltip, output) {\n",
              "  const item = output.content.append('text')\n",
              "                   .attr('x', options.node_padding)\n",
              "                   .attr('alignment-baseline', 'hanging')\n",
              "                   .text(text);\n",
              "\n",
              "  add_tooltip(options, item, () => tooltip);\n",
              "  output.vertical_offset += 10;\n",
              "}\n",
              "\n",
              "/**\n",
              " * Adds a tooltip to a dom element.\n",
              " * @param {!options} options Dictionary of configurations.\n",
              " * @param {!dom} target Dom element to equip with a tooltip.\n",
              " * @param {!func} get_content Generates the html content of the tooltip.\n",
              " */\n",
              "function add_tooltip(options, target, get_content) {\n",
              "  function show(d) {\n",
              "    options.tooltip.style('display', 'block');\n",
              "    options.tooltip.html(get_content());\n",
              "  }\n",
              "\n",
              "  function hide(d) {\n",
              "    options.tooltip.style('display', 'none');\n",
              "  }\n",
              "\n",
              "  function move(d) {\n",
              "    options.tooltip.style('display', 'block');\n",
              "    options.tooltip.style('left', (d.pageX + 5) + 'px');\n",
              "    options.tooltip.style('top', d.pageY + 'px');\n",
              "  }\n",
              "\n",
              "  target.on('mouseover', show);\n",
              "  target.on('mouseout', hide);\n",
              "  target.on('mousemove', move);\n",
              "}\n",
              "\n",
              "/**\n",
              " * Adds a condition inside of a node.\n",
              " * @param {!options} options Dictionary of configurations.\n",
              " * @param {!condition} condition Condition to display.\n",
              " * @param {!output} output Output display accumulator.\n",
              " */\n",
              "function display_condition(options, condition, output) {\n",
              "  threshold_format = d3.format('r');\n",
              "\n",
              "  if (condition.type === 'IS_MISSING') {\n",
              "    display_node_text(options, `${condition.attribute} is missing`, output);\n",
              "    return;\n",
              "  }\n",
              "\n",
              "  if (condition.type === 'IS_TRUE') {\n",
              "    display_node_text(options, `${condition.attribute} is true`, output);\n",
              "    return;\n",
              "  }\n",
              "\n",
              "  if (condition.type === 'NUMERICAL_IS_HIGHER_THAN') {\n",
              "    format = d3.format('r');\n",
              "    display_node_text(\n",
              "        options,\n",
              "        `${condition.attribute} >= ${threshold_format(condition.threshold)}`,\n",
              "        output);\n",
              "    return;\n",
              "  }\n",
              "\n",
              "  if (condition.type === 'CATEGORICAL_IS_IN') {\n",
              "    display_node_text_with_tooltip(\n",
              "        options, `${condition.attribute} in [...]`,\n",
              "        `${condition.attribute} in [${condition.mask}]`, output);\n",
              "    return;\n",
              "  }\n",
              "\n",
              "  if (condition.type === 'CATEGORICAL_SET_CONTAINS') {\n",
              "    display_node_text_with_tooltip(\n",
              "        options, `${condition.attribute} intersect [...]`,\n",
              "        `${condition.attribute} intersect [${condition.mask}]`, output);\n",
              "    return;\n",
              "  }\n",
              "\n",
              "  if (condition.type === 'NUMERICAL_SPARSE_OBLIQUE') {\n",
              "    display_node_text_with_tooltip(\n",
              "        options, `Sparse oblique split...`,\n",
              "        `[${condition.attributes}]*[${condition.weights}]>=${\n",
              "            threshold_format(condition.threshold)}`,\n",
              "        output);\n",
              "    return;\n",
              "  }\n",
              "\n",
              "  display_node_text(\n",
              "      options, `Non supported condition ${condition.type}`, output);\n",
              "}\n",
              "\n",
              "/**\n",
              " * Adds a value inside of a node.\n",
              " * @param {!options} options Dictionary of configurations.\n",
              " * @param {!value} value Value to display.\n",
              " * @param {!output} output Output display accumulator.\n",
              " */\n",
              "function display_value(options, value, output) {\n",
              "  if (value.type === 'PROBABILITY') {\n",
              "    const left_margin = 0;\n",
              "    const right_margin = 50;\n",
              "    const plot_width = options.node_x_size - options.node_padding * 2 -\n",
              "        left_margin - right_margin;\n",
              "\n",
              "    let cusum = Array.from(d3.cumsum(value.distribution));\n",
              "    cusum.unshift(0);\n",
              "    const distribution_plot = output.content.append('g').attr(\n",
              "        'transform', `translate(0,${output.vertical_offset + 0.5})`);\n",
              "\n",
              "    distribution_plot.selectAll('rect')\n",
              "        .data(value.distribution)\n",
              "        .join('rect')\n",
              "        .attr('height', 10)\n",
              "        .attr(\n",
              "            'x',\n",
              "            (d, i) =>\n",
              "                (cusum[i] * plot_width + left_margin + options.node_padding))\n",
              "        .attr('width', (d, i) => d * plot_width)\n",
              "        .style('fill', (d, i) => d3.schemeSet1[i]);\n",
              "\n",
              "    const num_examples =\n",
              "        output.content.append('g')\n",
              "            .attr('transform', `translate(0,${output.vertical_offset})`)\n",
              "            .append('text')\n",
              "            .attr('x', options.node_x_size - options.node_padding)\n",
              "            .attr('alignment-baseline', 'hanging')\n",
              "            .attr('text-anchor', 'end')\n",
              "            .text(`(${value.num_examples})`);\n",
              "\n",
              "    const distribution_details = d3.create('ul');\n",
              "    distribution_details.selectAll('li')\n",
              "        .data(value.distribution)\n",
              "        .join('li')\n",
              "        .append('span')\n",
              "        .text(\n",
              "            (d, i) =>\n",
              "                'class ' + i + ': ' + d3.format('.3%')(value.distribution[i]));\n",
              "\n",
              "    add_tooltip(options, distribution_plot, () => distribution_details.html());\n",
              "    add_tooltip(options, num_examples, () => 'Number of examples');\n",
              "\n",
              "    output.vertical_offset += 10;\n",
              "    return;\n",
              "  }\n",
              "\n",
              "  if (value.type === 'REGRESSION') {\n",
              "    display_node_text(\n",
              "        options,\n",
              "        'value: ' + d3.format('r')(value.value) + ` (` +\n",
              "            d3.format('.6')(value.num_examples) + `)`,\n",
              "        output);\n",
              "    return;\n",
              "  }\n",
              "\n",
              "  display_node_text(options, `Non supported value ${value.type}`, output);\n",
              "}\n",
              "\n",
              "/**\n",
              " * Adds an explanation inside of a node.\n",
              " * @param {!options} options Dictionary of configurations.\n",
              " * @param {!explanation} explanation Explanation to display.\n",
              " * @param {!output} output Output display accumulator.\n",
              " */\n",
              "function display_explanation(options, explanation, output) {\n",
              "  // Margin before the explanation.\n",
              "  output.vertical_offset += 10;\n",
              "\n",
              "  display_node_text(\n",
              "      options, `Non supported explanation ${explanation.type}`, output);\n",
              "}\n",
              "\n",
              "\n",
              "/**\n",
              " * Draw the edges of the tree.\n",
              " * @param {!options} options Dictionary of configurations.\n",
              " * @param {!graph} graph D3 search handle containing the graph.\n",
              " * @param {!tree_struct} tree_struct Structure of the tree (node placement,\n",
              " *     data, etc.).\n",
              " */\n",
              "function display_edges(options, graph, tree_struct) {\n",
              "  // Draw an edge between a parent and a child node with a bezier.\n",
              "  function draw_single_edge(d) {\n",
              "    return 'M' + (d.source.y + options.node_x_size) + ',' + d.source.x + ' C' +\n",
              "        (d.source.y + options.node_x_size + options.edge_rounding) + ',' +\n",
              "        d.source.x + ' ' + (d.target.y - options.edge_rounding) + ',' +\n",
              "        d.target.x + ' ' + d.target.y + ',' + d.target.x;\n",
              "  }\n",
              "\n",
              "  graph.append('g')\n",
              "      .attr('fill', 'none')\n",
              "      .attr('stroke-width', 1.2)\n",
              "      .selectAll('path')\n",
              "      .data(tree_struct.links())\n",
              "      .join('path')\n",
              "      .attr('d', draw_single_edge)\n",
              "      .attr(\n",
              "          'stroke', d => (d.target === d.source.children[0]) ? '#0F0' : '#F00');\n",
              "}\n",
              "\n",
              "display_tree({\"margin\": 10, \"node_x_size\": 160, \"node_y_size\": 28, \"node_x_offset\": 180, \"node_y_offset\": 33, \"font_size\": 10, \"edge_rounding\": 20, \"node_padding\": 2, \"show_plot_bounding_box\": false}, {\"value\": {\"type\": \"REGRESSION\", \"value\": 50.194698333740234, \"num_examples\": 5644.0, \"standard_deviation\": 35.90503627040668}, \"condition\": {\"type\": \"NUMERICAL_IS_HIGHER_THAN\", \"attribute\": \"20-24-Primary_OL\", \"threshold\": 48.470001220703125}, \"children\": [{\"value\": {\"type\": \"REGRESSION\", \"value\": 81.82012176513672, \"num_examples\": 2901.0, \"standard_deviation\": 14.893738824460575}, \"condition\": {\"type\": \"NUMERICAL_IS_HIGHER_THAN\", \"attribute\": \"20-24_female-Primary_OL\", \"threshold\": 78.08000183105469}, \"children\": [{\"value\": {\"type\": \"REGRESSION\", \"value\": 91.69454956054688, \"num_examples\": 1850.0, \"standard_deviation\": 6.14372680896778}, \"condition\": {\"type\": \"NUMERICAL_IS_HIGHER_THAN\", \"attribute\": \"children_per_woman\", \"threshold\": 5.585000038146973}, \"children\": [{\"value\": {\"type\": \"REGRESSION\", \"value\": 92.80756378173828, \"num_examples\": 1581.0, \"standard_deviation\": 5.5933971089374275}, \"condition\": {\"type\": \"NUMERICAL_IS_HIGHER_THAN\", \"attribute\": \"20-24-Primary_OL\", \"threshold\": 86.16999816894531}}, {\"value\": {\"type\": \"REGRESSION\", \"value\": 85.15300750732422, \"num_examples\": 269.0, \"standard_deviation\": 5.063213456014561}, \"condition\": {\"type\": \"NUMERICAL_IS_HIGHER_THAN\", \"attribute\": \"20-24_female-In_Primary_OL\", \"threshold\": 83.45999908447266}}]}, {\"value\": {\"type\": \"REGRESSION\", \"value\": 64.43888092041016, \"num_examples\": 1051.0, \"standard_deviation\": 8.491484430449258}, \"condition\": {\"type\": \"NUMERICAL_IS_HIGHER_THAN\", \"attribute\": \"20-24_female-In_Primary_OL\", \"threshold\": 35.97999954223633}, \"children\": [{\"value\": {\"type\": \"REGRESSION\", \"value\": 68.8375473022461, \"num_examples\": 571.0, \"standard_deviation\": 6.50430172504751}, \"condition\": {\"type\": \"NUMERICAL_IS_HIGHER_THAN\", \"attribute\": \"20-24_female-In_Primary_OL\", \"threshold\": 52.68000030517578}}, {\"value\": {\"type\": \"REGRESSION\", \"value\": 59.20629119873047, \"num_examples\": 480.0, \"standard_deviation\": 7.560275199393006}, \"condition\": {\"type\": \"NUMERICAL_IS_HIGHER_THAN\", \"attribute\": \"20-24-Primary_OL\", \"threshold\": 55.86000061035156}}]}]}, {\"value\": {\"type\": \"REGRESSION\", \"value\": 16.74761199951172, \"num_examples\": 2743.0, \"standard_deviation\": 15.540731992254752}, \"condition\": {\"type\": \"NUMERICAL_IS_HIGHER_THAN\", \"attribute\": \"20-24_female-Primary_OL\", \"threshold\": 20.729999542236328}, \"children\": [{\"value\": {\"type\": \"REGRESSION\", \"value\": 35.109920501708984, \"num_examples\": 988.0, \"standard_deviation\": 9.031190608166932}, \"condition\": {\"type\": \"NUMERICAL_IS_HIGHER_THAN\", \"attribute\": \"20-24-Primary_OL\", \"threshold\": 36.08000183105469}, \"children\": [{\"value\": {\"type\": \"REGRESSION\", \"value\": 42.57613754272461, \"num_examples\": 440.0, \"standard_deviation\": 6.554152317104928}, \"condition\": {\"type\": \"NUMERICAL_IS_HIGHER_THAN\", \"attribute\": \"20-24_female-In_Primary_OL\", \"threshold\": 26.239999771118164}}, {\"value\": {\"type\": \"REGRESSION\", \"value\": 29.11514663696289, \"num_examples\": 548.0, \"standard_deviation\": 5.644814493330527}, \"condition\": {\"type\": \"NUMERICAL_IS_HIGHER_THAN\", \"attribute\": \"20-24-Primary_OL\", \"threshold\": 29.880001068115234}}]}, {\"value\": {\"type\": \"REGRESSION\", \"value\": 6.410313606262207, \"num_examples\": 1755.0, \"standard_deviation\": 5.9063503790419025}, \"condition\": {\"type\": \"NUMERICAL_IS_HIGHER_THAN\", \"attribute\": \"20-24-In_Primary_OL\", \"threshold\": 1.5299999713897705}, \"children\": [{\"value\": {\"type\": \"REGRESSION\", \"value\": 11.994024276733398, \"num_examples\": 569.0, \"standard_deviation\": 4.940217980508876}, \"condition\": {\"type\": \"NUMERICAL_IS_HIGHER_THAN\", \"attribute\": \"20-24-Primary_OL\", \"threshold\": 11.620000839233398}}, {\"value\": {\"type\": \"REGRESSION\", \"value\": 3.731450319290161, \"num_examples\": 1186.0, \"standard_deviation\": 4.2164227878936655}, \"condition\": {\"type\": \"NUMERICAL_IS_HIGHER_THAN\", \"attribute\": \"20-24-Primary_OL\", \"threshold\": 7.900000095367432}}]}]}]}, \"#tree_plot_99a83ebd67884731807c91d88122f85f\")\n",
              "</script>\n"
            ],
            "text/plain": [
              "<IPython.core.display.HTML object>"
            ]
          },
          "metadata": {},
          "execution_count": 62
        }
      ]
    },
    {
      "cell_type": "code",
      "metadata": {
        "colab": {
          "base_uri": "https://localhost:8080/"
        },
        "id": "9dd29dXaO8AB",
        "outputId": "d2e624e0-54b2-4906-e25f-b339af56a26e"
      },
      "source": [
        "# %set_cell_height 300\n",
        "model.summary()"
      ],
      "execution_count": 63,
      "outputs": [
        {
          "output_type": "stream",
          "name": "stdout",
          "text": [
            "Model: \"random_forest_model_1\"\n",
            "_________________________________________________________________\n",
            " Layer (type)                Output Shape              Param #   \n",
            "=================================================================\n",
            "=================================================================\n",
            "Total params: 1\n",
            "Trainable params: 0\n",
            "Non-trainable params: 1\n",
            "_________________________________________________________________\n",
            "Type: \"RANDOM_FOREST\"\n",
            "Task: REGRESSION\n",
            "Label: \"__LABEL\"\n",
            "\n",
            "Input Features (11):\n",
            "\t20-24-In_Primary_OL\n",
            "\t20-24-Primary_OL\n",
            "\t20-24_female-In_Primary_OL\n",
            "\t20-24_female-Primary_OL\n",
            "\t20_yrs_old_gdppercapita_us_infla_adjust\n",
            "\t70__dropout_20-24-Primary_OL_comp\n",
            "\tchildren_per_woman\n",
            "\tco2_emissions_percapita\n",
            "\tgdppercapita_us_infla_adjust\n",
            "\tgini_index\n",
            "\tpopulation\n",
            "\n",
            "No weights\n",
            "\n",
            "Variable Importance: MEAN_MIN_DEPTH:\n",
            "    1.                                 \"__LABEL\" 10.781031 ################\n",
            "    2. \"20_yrs_old_gdppercapita_us_infla_adjust\" 10.297628 ###############\n",
            "    3.                              \"population\"  9.905709 ##############\n",
            "    4.            \"gdppercapita_us_infla_adjust\"  9.842118 ##############\n",
            "    5.                              \"gini_index\"  9.808159 ##############\n",
            "    6.                 \"co2_emissions_percapita\"  9.742247 ##############\n",
            "    7.       \"70__dropout_20-24-Primary_OL_comp\"  9.686839 ##############\n",
            "    8.                      \"children_per_woman\"  9.002788 #############\n",
            "    9.                     \"20-24-In_Primary_OL\"  7.094623 #########\n",
            "   10.              \"20-24_female-In_Primary_OL\"  5.071967 ######\n",
            "   11.                        \"20-24-Primary_OL\"  2.657594 ##\n",
            "   12.                 \"20-24_female-Primary_OL\"  1.134933 \n",
            "\n",
            "Variable Importance: NUM_AS_ROOT:\n",
            "    1.           \"20-24_female-Primary_OL\" 138.000000 ################\n",
            "    2.                  \"20-24-Primary_OL\" 84.000000 #########\n",
            "    3.        \"20-24_female-In_Primary_OL\" 43.000000 ####\n",
            "    4.               \"20-24-In_Primary_OL\" 22.000000 ##\n",
            "    5.                \"children_per_woman\" 10.000000 \n",
            "    6. \"70__dropout_20-24-Primary_OL_comp\"  3.000000 \n",
            "\n",
            "Variable Importance: NUM_NODES:\n",
            "    1.                 \"20-24_female-Primary_OL\" 113925.000000 ################\n",
            "    2.                        \"20-24-Primary_OL\" 27180.000000 ###\n",
            "    3.              \"20-24_female-In_Primary_OL\" 17655.000000 #\n",
            "    4.                      \"children_per_woman\" 16365.000000 #\n",
            "    5.                              \"population\" 15673.000000 #\n",
            "    6.                 \"co2_emissions_percapita\" 15404.000000 #\n",
            "    7.                              \"gini_index\" 14665.000000 #\n",
            "    8.                     \"20-24-In_Primary_OL\" 14603.000000 #\n",
            "    9.            \"gdppercapita_us_infla_adjust\" 12887.000000 \n",
            "   10.       \"70__dropout_20-24-Primary_OL_comp\" 8509.000000 \n",
            "   11. \"20_yrs_old_gdppercapita_us_infla_adjust\" 6656.000000 \n",
            "\n",
            "Variable Importance: SUM_SCORE:\n",
            "    1.                 \"20-24_female-Primary_OL\" 1045378006.532034 ################\n",
            "    2.                        \"20-24-Primary_OL\" 615739185.631770 #########\n",
            "    3.              \"20-24_female-In_Primary_OL\" 287560124.546423 ####\n",
            "    4.                     \"20-24-In_Primary_OL\" 147036137.788401 ##\n",
            "    5.                      \"children_per_woman\" 48596947.398080 \n",
            "    6.       \"70__dropout_20-24-Primary_OL_comp\" 17148744.174327 \n",
            "    7.                 \"co2_emissions_percapita\" 1499920.250144 \n",
            "    8.            \"gdppercapita_us_infla_adjust\" 499117.150839 \n",
            "    9.                              \"gini_index\" 385846.077211 \n",
            "   10.                              \"population\" 346036.347476 \n",
            "   11. \"20_yrs_old_gdppercapita_us_infla_adjust\" 164097.095157 \n",
            "\n",
            "\n",
            "\n",
            "Out-of-bag evaluation: rmse:0.305634\n",
            "Number of trees: 300\n",
            "Total number of nodes: 527344\n",
            "\n",
            "Number of nodes by tree:\n",
            "Count: 300 Average: 1757.81 StdDev: 16.7922\n",
            "Min: 1701 Max: 1803 Ignored: 0\n",
            "----------------------------------------------\n",
            "[ 1701, 1706)  4   1.33%   1.33% #\n",
            "[ 1706, 1711)  2   0.67%   2.00%\n",
            "[ 1711, 1716)  1   0.33%   2.33%\n",
            "[ 1716, 1721)  0   0.00%   2.33%\n",
            "[ 1721, 1726)  6   2.00%   4.33% #\n",
            "[ 1726, 1731)  3   1.00%   5.33% #\n",
            "[ 1731, 1737) 12   4.00%   9.33% ###\n",
            "[ 1737, 1742) 16   5.33%  14.67% ###\n",
            "[ 1742, 1747) 26   8.67%  23.33% #####\n",
            "[ 1747, 1752) 29   9.67%  33.00% ######\n",
            "[ 1752, 1757) 26   8.67%  41.67% #####\n",
            "[ 1757, 1762) 46  15.33%  57.00% ##########\n",
            "[ 1762, 1767) 27   9.00%  66.00% ######\n",
            "[ 1767, 1773) 48  16.00%  82.00% ##########\n",
            "[ 1773, 1778) 24   8.00%  90.00% #####\n",
            "[ 1778, 1783) 15   5.00%  95.00% ###\n",
            "[ 1783, 1788) 11   3.67%  98.67% ##\n",
            "[ 1788, 1793)  1   0.33%  99.00%\n",
            "[ 1793, 1798)  1   0.33%  99.33%\n",
            "[ 1798, 1803]  2   0.67% 100.00%\n",
            "\n",
            "Depth by leafs:\n",
            "Count: 263822 Average: 10.781 StdDev: 1.73746\n",
            "Min: 4 Max: 15 Ignored: 0\n",
            "----------------------------------------------\n",
            "[  4,  5)     3   0.00%   0.00%\n",
            "[  5,  6)   109   0.04%   0.04%\n",
            "[  6,  7)  1019   0.39%   0.43%\n",
            "[  7,  8)  5367   2.03%   2.46% #\n",
            "[  8,  9) 17112   6.49%   8.95% ###\n",
            "[  9, 10) 37284  14.13%  23.08% ######\n",
            "[ 10, 11) 56277  21.33%  44.41% #########\n",
            "[ 11, 12) 59401  22.52%  66.93% ##########\n",
            "[ 12, 13) 44688  16.94%  83.87% ########\n",
            "[ 13, 14) 25807   9.78%  93.65% ####\n",
            "[ 14, 15) 11681   4.43%  98.08% ##\n",
            "[ 15, 15]  5074   1.92% 100.00% #\n",
            "\n",
            "Number of training obs by leaf:\n",
            "Count: 263822 Average: 6.41796 StdDev: 1.87808\n",
            "Min: 5 Max: 66 Ignored: 0\n",
            "----------------------------------------------\n",
            "[  5,  8) 203195  77.02%  77.02% ##########\n",
            "[  8, 11)  58239  22.08%  99.09% ###\n",
            "[ 11, 14)    905   0.34%  99.44%\n",
            "[ 14, 17)    431   0.16%  99.60%\n",
            "[ 17, 20)    299   0.11%  99.71%\n",
            "[ 20, 23)    182   0.07%  99.78%\n",
            "[ 23, 26)    220   0.08%  99.87%\n",
            "[ 26, 29)    118   0.04%  99.91%\n",
            "[ 29, 32)    106   0.04%  99.95%\n",
            "[ 32, 36)     56   0.02%  99.97%\n",
            "[ 36, 39)     35   0.01%  99.99%\n",
            "[ 39, 42)     16   0.01%  99.99%\n",
            "[ 42, 45)     11   0.00% 100.00%\n",
            "[ 45, 48)      3   0.00% 100.00%\n",
            "[ 48, 51)      3   0.00% 100.00%\n",
            "[ 51, 54)      1   0.00% 100.00%\n",
            "[ 54, 57)      0   0.00% 100.00%\n",
            "[ 57, 60)      0   0.00% 100.00%\n",
            "[ 60, 63)      1   0.00% 100.00%\n",
            "[ 63, 66]      1   0.00% 100.00%\n",
            "\n",
            "Attribute in nodes:\n",
            "\t113925 : 20-24_female-Primary_OL [NUMERICAL]\n",
            "\t27180 : 20-24-Primary_OL [NUMERICAL]\n",
            "\t17655 : 20-24_female-In_Primary_OL [NUMERICAL]\n",
            "\t16365 : children_per_woman [NUMERICAL]\n",
            "\t15673 : population [NUMERICAL]\n",
            "\t15404 : co2_emissions_percapita [NUMERICAL]\n",
            "\t14665 : gini_index [NUMERICAL]\n",
            "\t14603 : 20-24-In_Primary_OL [NUMERICAL]\n",
            "\t12887 : gdppercapita_us_infla_adjust [NUMERICAL]\n",
            "\t8509 : 70__dropout_20-24-Primary_OL_comp [NUMERICAL]\n",
            "\t6656 : 20_yrs_old_gdppercapita_us_infla_adjust [NUMERICAL]\n",
            "\n",
            "Attribute in nodes with depth <= 0:\n",
            "\t138 : 20-24_female-Primary_OL [NUMERICAL]\n",
            "\t84 : 20-24-Primary_OL [NUMERICAL]\n",
            "\t43 : 20-24_female-In_Primary_OL [NUMERICAL]\n",
            "\t22 : 20-24-In_Primary_OL [NUMERICAL]\n",
            "\t10 : children_per_woman [NUMERICAL]\n",
            "\t3 : 70__dropout_20-24-Primary_OL_comp [NUMERICAL]\n",
            "\n",
            "Attribute in nodes with depth <= 1:\n",
            "\t411 : 20-24_female-Primary_OL [NUMERICAL]\n",
            "\t249 : 20-24-Primary_OL [NUMERICAL]\n",
            "\t138 : 20-24_female-In_Primary_OL [NUMERICAL]\n",
            "\t72 : 20-24-In_Primary_OL [NUMERICAL]\n",
            "\t16 : children_per_woman [NUMERICAL]\n",
            "\t11 : 70__dropout_20-24-Primary_OL_comp [NUMERICAL]\n",
            "\t3 : co2_emissions_percapita [NUMERICAL]\n",
            "\n",
            "Attribute in nodes with depth <= 2:\n",
            "\t1010 : 20-24_female-Primary_OL [NUMERICAL]\n",
            "\t552 : 20-24-Primary_OL [NUMERICAL]\n",
            "\t284 : 20-24_female-In_Primary_OL [NUMERICAL]\n",
            "\t164 : 20-24-In_Primary_OL [NUMERICAL]\n",
            "\t45 : children_per_woman [NUMERICAL]\n",
            "\t27 : 70__dropout_20-24-Primary_OL_comp [NUMERICAL]\n",
            "\t9 : co2_emissions_percapita [NUMERICAL]\n",
            "\t5 : gdppercapita_us_infla_adjust [NUMERICAL]\n",
            "\t3 : gini_index [NUMERICAL]\n",
            "\t1 : 20_yrs_old_gdppercapita_us_infla_adjust [NUMERICAL]\n",
            "\n",
            "Attribute in nodes with depth <= 3:\n",
            "\t2105 : 20-24_female-Primary_OL [NUMERICAL]\n",
            "\t1155 : 20-24-Primary_OL [NUMERICAL]\n",
            "\t573 : 20-24_female-In_Primary_OL [NUMERICAL]\n",
            "\t366 : 20-24-In_Primary_OL [NUMERICAL]\n",
            "\t107 : children_per_woman [NUMERICAL]\n",
            "\t69 : 70__dropout_20-24-Primary_OL_comp [NUMERICAL]\n",
            "\t56 : co2_emissions_percapita [NUMERICAL]\n",
            "\t29 : gdppercapita_us_infla_adjust [NUMERICAL]\n",
            "\t16 : population [NUMERICAL]\n",
            "\t12 : gini_index [NUMERICAL]\n",
            "\t12 : 20_yrs_old_gdppercapita_us_infla_adjust [NUMERICAL]\n",
            "\n",
            "Attribute in nodes with depth <= 5:\n",
            "\t8639 : 20-24_female-Primary_OL [NUMERICAL]\n",
            "\t4207 : 20-24-Primary_OL [NUMERICAL]\n",
            "\t2007 : 20-24_female-In_Primary_OL [NUMERICAL]\n",
            "\t1008 : 20-24-In_Primary_OL [NUMERICAL]\n",
            "\t626 : children_per_woman [NUMERICAL]\n",
            "\t494 : co2_emissions_percapita [NUMERICAL]\n",
            "\t472 : gdppercapita_us_infla_adjust [NUMERICAL]\n",
            "\t458 : gini_index [NUMERICAL]\n",
            "\t361 : 70__dropout_20-24-Primary_OL_comp [NUMERICAL]\n",
            "\t326 : population [NUMERICAL]\n",
            "\t184 : 20_yrs_old_gdppercapita_us_infla_adjust [NUMERICAL]\n",
            "\n",
            "Condition type in nodes:\n",
            "\t263522 : HigherCondition\n",
            "Condition type in nodes with depth <= 0:\n",
            "\t300 : HigherCondition\n",
            "Condition type in nodes with depth <= 1:\n",
            "\t900 : HigherCondition\n",
            "Condition type in nodes with depth <= 2:\n",
            "\t2100 : HigherCondition\n",
            "Condition type in nodes with depth <= 3:\n",
            "\t4500 : HigherCondition\n",
            "Condition type in nodes with depth <= 5:\n",
            "\t18782 : HigherCondition\n",
            "Node format: NOT_SET\n",
            "\n",
            "Training OOB:\n",
            "\ttrees: 1, Out-of-bag evaluation: rmse:1.20389\n",
            "\ttrees: 11, Out-of-bag evaluation: rmse:0.654461\n",
            "\ttrees: 21, Out-of-bag evaluation: rmse:0.535208\n",
            "\ttrees: 31, Out-of-bag evaluation: rmse:0.470209\n",
            "\ttrees: 41, Out-of-bag evaluation: rmse:0.422964\n",
            "\ttrees: 51, Out-of-bag evaluation: rmse:0.391523\n",
            "\ttrees: 61, Out-of-bag evaluation: rmse:0.378445\n",
            "\ttrees: 71, Out-of-bag evaluation: rmse:0.366646\n",
            "\ttrees: 81, Out-of-bag evaluation: rmse:0.360549\n",
            "\ttrees: 91, Out-of-bag evaluation: rmse:0.350355\n",
            "\ttrees: 101, Out-of-bag evaluation: rmse:0.346403\n",
            "\ttrees: 111, Out-of-bag evaluation: rmse:0.343516\n",
            "\ttrees: 121, Out-of-bag evaluation: rmse:0.339289\n",
            "\ttrees: 131, Out-of-bag evaluation: rmse:0.336744\n",
            "\ttrees: 141, Out-of-bag evaluation: rmse:0.333933\n",
            "\ttrees: 151, Out-of-bag evaluation: rmse:0.329295\n",
            "\ttrees: 161, Out-of-bag evaluation: rmse:0.325618\n",
            "\ttrees: 171, Out-of-bag evaluation: rmse:0.325367\n",
            "\ttrees: 181, Out-of-bag evaluation: rmse:0.324029\n",
            "\ttrees: 191, Out-of-bag evaluation: rmse:0.323435\n",
            "\ttrees: 201, Out-of-bag evaluation: rmse:0.32296\n",
            "\ttrees: 211, Out-of-bag evaluation: rmse:0.319981\n",
            "\ttrees: 221, Out-of-bag evaluation: rmse:0.317056\n",
            "\ttrees: 231, Out-of-bag evaluation: rmse:0.315838\n",
            "\ttrees: 241, Out-of-bag evaluation: rmse:0.314789\n",
            "\ttrees: 251, Out-of-bag evaluation: rmse:0.312865\n",
            "\ttrees: 261, Out-of-bag evaluation: rmse:0.309635\n",
            "\ttrees: 271, Out-of-bag evaluation: rmse:0.308769\n",
            "\ttrees: 281, Out-of-bag evaluation: rmse:0.307519\n",
            "\ttrees: 291, Out-of-bag evaluation: rmse:0.305755\n",
            "\ttrees: 300, Out-of-bag evaluation: rmse:0.305634\n",
            "\n"
          ]
        }
      ]
    },
    {
      "cell_type": "markdown",
      "source": [
        "### Gradient Tree"
      ],
      "metadata": {
        "id": "XGLP2Kzc2nxe"
      }
    },
    {
      "cell_type": "code",
      "source": [
        "# converting pandas to tensorFlow dataset\n",
        "train_ds = tfdf.keras.pd_dataframe_to_tf_dataset(combine_dfs(X_train,y_train), label=\"o_\"+OUTPUT, task=tfdf.keras.Task.REGRESSION)\n",
        "model = tfdf.keras.GradientBoostedTreesModel(task = tfdf.keras.Task.REGRESSION)\n",
        "\n",
        "model.fit(x=train_ds)\n",
        "# Convert it to a TensorFlow dataset\n",
        "test_ds = tfdf.keras.pd_dataframe_to_tf_dataset(combine_dfs(X_train,y_train), label=\"o_\"+OUTPUT, task=tfdf.keras.Task.REGRESSION)\n",
        "\n",
        "# Evaluate the model\n",
        "model.compile(metrics=[\"mse\"])\n",
        "# Evaluate the model on the test dataset.\n",
        "evaluation = model.evaluate(test_ds, return_dict=True)\n",
        "print(OUTPUT.upper())\n",
        "print(evaluation)\n",
        "print()\n",
        "print(f\"MSE: {evaluation['mse']}\")\n",
        "print(f\"RMSE: {math.sqrt(evaluation['mse'])}\")\n",
        "print()"
      ],
      "metadata": {
        "colab": {
          "base_uri": "https://localhost:8080/"
        },
        "id": "BECyjU3f2tIe",
        "outputId": "d4cbf2d5-e54f-42c7-e3bf-ec4f83cbeacb"
      },
      "execution_count": 72,
      "outputs": [
        {
          "output_type": "stream",
          "name": "stdout",
          "text": [
            "Warning:  Some of the feature names have been changed automatically to be compatible with SavedModels because fix_feature_names=True.\n",
            "Use /tmp/tmp5e2l3ym6 as temporary training directory\n",
            "Starting reading the dataset\n",
            "1/6 [====>.........................] - ETA: 0s\n",
            "Dataset read in 0:00:00.248100\n",
            "Training model\n",
            "Model trained in 0:00:02.115837\n",
            "Compiling model\n",
            "6/6 [==============================] - 2s 436ms/step\n",
            "Warning:  Some of the feature names have been changed automatically to be compatible with SavedModels because fix_feature_names=True.\n",
            "6/6 [==============================] - 0s 11ms/step - loss: 0.0000e+00 - mse: 0.0018\n",
            "LIFE_EXPECTANCY\n",
            "{'loss': 0.0, 'mse': 0.0018499698489904404}\n",
            "\n",
            "MSE: 0.0018499698489904404\n",
            "RMSE: 0.043011275835418326\n",
            "\n"
          ]
        }
      ]
    },
    {
      "cell_type": "code",
      "source": [
        "tfdf.model_plotter.plot_model_in_colab(model, tree_idx=0)"
      ],
      "metadata": {
        "colab": {
          "base_uri": "https://localhost:8080/",
          "height": 0
        },
        "id": "-Qi_k2k75bN6",
        "outputId": "6b8fd6a9-5dc5-41c7-90aa-929b4c663d4d"
      },
      "execution_count": 73,
      "outputs": [
        {
          "output_type": "execute_result",
          "data": {
            "text/html": [
              "\n",
              "<script src=\"https://d3js.org/d3.v6.min.js\"></script>\n",
              "<div id=\"tree_plot_25356853ce45443596a46a0149b502f6\"></div>\n",
              "<script>\n",
              "/*\n",
              " * Copyright 2021 Google LLC.\n",
              " * Licensed under the Apache License, Version 2.0 (the \"License\");\n",
              " * you may not use this file except in compliance with the License.\n",
              " * You may obtain a copy of the License at\n",
              " *\n",
              " *     https://www.apache.org/licenses/LICENSE-2.0\n",
              " *\n",
              " * Unless required by applicable law or agreed to in writing, software\n",
              " * distributed under the License is distributed on an \"AS IS\" BASIS,\n",
              " * WITHOUT WARRANTIES OR CONDITIONS OF ANY KIND, either express or implied.\n",
              " * See the License for the specific language governing permissions and\n",
              " * limitations under the License.\n",
              " */\n",
              "\n",
              "/**\n",
              " *  Plotting of decision trees generated by TF-DF.\n",
              " *\n",
              " *  A tree is a recursive structure of node objects.\n",
              " *  A node contains one or more of the following components:\n",
              " *\n",
              " *    - A value: Representing the output of the node. If the node is not a leaf,\n",
              " *      the value is only present for analysis i.e. it is not used for\n",
              " *      predictions.\n",
              " *\n",
              " *    - A condition : For non-leaf nodes, the condition (also known as split)\n",
              " *      defines a binary test to branch to the positive or negative child.\n",
              " *\n",
              " *    - An explanation: Generally a plot showing the relation between the label\n",
              " *      and the condition to give insights about the effect of the condition.\n",
              " *\n",
              " *    - Two children : For non-leaf nodes, the children nodes. The first\n",
              " *      children (i.e. \"node.children[0]\") is the negative children (drawn in\n",
              " *      red). The second children is the positive one (drawn in green).\n",
              " *\n",
              " */\n",
              "\n",
              "/**\n",
              " * Plots a single decision tree into a DOM element.\n",
              " * @param {!options} options Dictionary of configurations.\n",
              " * @param {!tree} raw_tree Recursive tree structure.\n",
              " * @param {string} canvas_id Id of the output dom element.\n",
              " */\n",
              "function display_tree(options, raw_tree, canvas_id) {\n",
              "  console.log(options);\n",
              "\n",
              "  // Determine the node placement.\n",
              "  const tree_struct = d3.tree().nodeSize(\n",
              "      [options.node_y_offset, options.node_x_offset])(d3.hierarchy(raw_tree));\n",
              "\n",
              "  // Boundaries of the node placement.\n",
              "  let x_min = Infinity;\n",
              "  let x_max = -x_min;\n",
              "  let y_min = Infinity;\n",
              "  let y_max = -x_min;\n",
              "\n",
              "  tree_struct.each(d => {\n",
              "    if (d.x > x_max) x_max = d.x;\n",
              "    if (d.x < x_min) x_min = d.x;\n",
              "    if (d.y > y_max) y_max = d.y;\n",
              "    if (d.y < y_min) y_min = d.y;\n",
              "  });\n",
              "\n",
              "  // Size of the plot.\n",
              "  const width = y_max - y_min + options.node_x_size + options.margin * 2;\n",
              "  const height = x_max - x_min + options.node_y_size + options.margin * 2 +\n",
              "      options.node_y_offset - options.node_y_size;\n",
              "\n",
              "  const plot = d3.select(canvas_id);\n",
              "\n",
              "  // Tool tip\n",
              "  options.tooltip = plot.append('div')\n",
              "                        .attr('width', 100)\n",
              "                        .attr('height', 100)\n",
              "                        .style('padding', '4px')\n",
              "                        .style('background', '#fff')\n",
              "                        .style('box-shadow', '4px 4px 0px rgba(0,0,0,0.1)')\n",
              "                        .style('border', '1px solid black')\n",
              "                        .style('font-family', 'sans-serif')\n",
              "                        .style('font-size', options.font_size)\n",
              "                        .style('position', 'absolute')\n",
              "                        .style('z-index', '10')\n",
              "                        .attr('pointer-events', 'none')\n",
              "                        .style('display', 'none');\n",
              "\n",
              "  // Create canvas\n",
              "  const svg = plot.append('svg').attr('width', width).attr('height', height);\n",
              "  const graph =\n",
              "      svg.style('overflow', 'visible')\n",
              "          .append('g')\n",
              "          .attr('font-family', 'sans-serif')\n",
              "          .attr('font-size', options.font_size)\n",
              "          .attr(\n",
              "              'transform',\n",
              "              () => `translate(${options.margin},${\n",
              "                  - x_min + options.node_y_offset / 2 + options.margin})`);\n",
              "\n",
              "  // Plot bounding box.\n",
              "  if (options.show_plot_bounding_box) {\n",
              "    svg.append('rect')\n",
              "        .attr('width', width)\n",
              "        .attr('height', height)\n",
              "        .attr('fill', 'none')\n",
              "        .attr('stroke-width', 1.0)\n",
              "        .attr('stroke', 'black');\n",
              "  }\n",
              "\n",
              "  // Draw the edges.\n",
              "  display_edges(options, graph, tree_struct);\n",
              "\n",
              "  // Draw the nodes.\n",
              "  display_nodes(options, graph, tree_struct);\n",
              "}\n",
              "\n",
              "/**\n",
              " * Draw the nodes of the tree.\n",
              " * @param {!options} options Dictionary of configurations.\n",
              " * @param {!graph} graph D3 search handle containing the graph.\n",
              " * @param {!tree_struct} tree_struct Structure of the tree (node placement,\n",
              " *     data, etc.).\n",
              " */\n",
              "function display_nodes(options, graph, tree_struct) {\n",
              "  const nodes = graph.append('g')\n",
              "                    .selectAll('g')\n",
              "                    .data(tree_struct.descendants())\n",
              "                    .join('g')\n",
              "                    .attr('transform', d => `translate(${d.y},${d.x})`);\n",
              "\n",
              "  nodes.append('rect')\n",
              "      .attr('x', 0.5)\n",
              "      .attr('y', 0.5)\n",
              "      .attr('width', options.node_x_size)\n",
              "      .attr('height', options.node_y_size)\n",
              "      .attr('stroke', 'lightgrey')\n",
              "      .attr('stroke-width', 1)\n",
              "      .attr('fill', 'white')\n",
              "      .attr('y', -options.node_y_size / 2);\n",
              "\n",
              "  // Brackets on the right of condition nodes without children.\n",
              "  non_leaf_node_without_children =\n",
              "      nodes.filter(node => node.data.condition != null && node.children == null)\n",
              "          .append('g')\n",
              "          .attr('transform', `translate(${options.node_x_size},0)`);\n",
              "\n",
              "  non_leaf_node_without_children.append('path')\n",
              "      .attr('d', 'M0,0 C 10,0 0,10 10,10')\n",
              "      .attr('fill', 'none')\n",
              "      .attr('stroke-width', 1.0)\n",
              "      .attr('stroke', '#F00');\n",
              "\n",
              "  non_leaf_node_without_children.append('path')\n",
              "      .attr('d', 'M0,0 C 10,0 0,-10 10,-10')\n",
              "      .attr('fill', 'none')\n",
              "      .attr('stroke-width', 1.0)\n",
              "      .attr('stroke', '#0F0');\n",
              "\n",
              "  const node_content = nodes.append('g').attr(\n",
              "      'transform',\n",
              "      `translate(0,${options.node_padding - options.node_y_size / 2})`);\n",
              "\n",
              "  node_content.append(node => create_node_element(options, node));\n",
              "}\n",
              "\n",
              "/**\n",
              " * Creates the D3 content for a single node.\n",
              " * @param {!options} options Dictionary of configurations.\n",
              " * @param {!node} node Node to draw.\n",
              " * @return {!d3} D3 content.\n",
              " */\n",
              "function create_node_element(options, node) {\n",
              "  // Output accumulator.\n",
              "  let output = {\n",
              "    // Content to draw.\n",
              "    content: d3.create('svg:g'),\n",
              "    // Vertical offset to the next element to draw.\n",
              "    vertical_offset: 0\n",
              "  };\n",
              "\n",
              "  // Conditions.\n",
              "  if (node.data.condition != null) {\n",
              "    display_condition(options, node.data.condition, output);\n",
              "  }\n",
              "\n",
              "  // Values.\n",
              "  if (node.data.value != null) {\n",
              "    display_value(options, node.data.value, output);\n",
              "  }\n",
              "\n",
              "  // Explanations.\n",
              "  if (node.data.explanation != null) {\n",
              "    display_explanation(options, node.data.explanation, output);\n",
              "  }\n",
              "\n",
              "  return output.content.node();\n",
              "}\n",
              "\n",
              "\n",
              "/**\n",
              " * Adds a single line of text inside of a node.\n",
              " * @param {!options} options Dictionary of configurations.\n",
              " * @param {string} text Text to display.\n",
              " * @param {!output} output Output display accumulator.\n",
              " */\n",
              "function display_node_text(options, text, output) {\n",
              "  output.content.append('text')\n",
              "      .attr('x', options.node_padding)\n",
              "      .attr('y', output.vertical_offset)\n",
              "      .attr('alignment-baseline', 'hanging')\n",
              "      .text(text);\n",
              "  output.vertical_offset += 10;\n",
              "}\n",
              "\n",
              "/**\n",
              " * Adds a single line of text inside of a node with a tooltip.\n",
              " * @param {!options} options Dictionary of configurations.\n",
              " * @param {string} text Text to display.\n",
              " * @param {string} tooltip Text in the Tooltip.\n",
              " * @param {!output} output Output display accumulator.\n",
              " */\n",
              "function display_node_text_with_tooltip(options, text, tooltip, output) {\n",
              "  const item = output.content.append('text')\n",
              "                   .attr('x', options.node_padding)\n",
              "                   .attr('alignment-baseline', 'hanging')\n",
              "                   .text(text);\n",
              "\n",
              "  add_tooltip(options, item, () => tooltip);\n",
              "  output.vertical_offset += 10;\n",
              "}\n",
              "\n",
              "/**\n",
              " * Adds a tooltip to a dom element.\n",
              " * @param {!options} options Dictionary of configurations.\n",
              " * @param {!dom} target Dom element to equip with a tooltip.\n",
              " * @param {!func} get_content Generates the html content of the tooltip.\n",
              " */\n",
              "function add_tooltip(options, target, get_content) {\n",
              "  function show(d) {\n",
              "    options.tooltip.style('display', 'block');\n",
              "    options.tooltip.html(get_content());\n",
              "  }\n",
              "\n",
              "  function hide(d) {\n",
              "    options.tooltip.style('display', 'none');\n",
              "  }\n",
              "\n",
              "  function move(d) {\n",
              "    options.tooltip.style('display', 'block');\n",
              "    options.tooltip.style('left', (d.pageX + 5) + 'px');\n",
              "    options.tooltip.style('top', d.pageY + 'px');\n",
              "  }\n",
              "\n",
              "  target.on('mouseover', show);\n",
              "  target.on('mouseout', hide);\n",
              "  target.on('mousemove', move);\n",
              "}\n",
              "\n",
              "/**\n",
              " * Adds a condition inside of a node.\n",
              " * @param {!options} options Dictionary of configurations.\n",
              " * @param {!condition} condition Condition to display.\n",
              " * @param {!output} output Output display accumulator.\n",
              " */\n",
              "function display_condition(options, condition, output) {\n",
              "  threshold_format = d3.format('r');\n",
              "\n",
              "  if (condition.type === 'IS_MISSING') {\n",
              "    display_node_text(options, `${condition.attribute} is missing`, output);\n",
              "    return;\n",
              "  }\n",
              "\n",
              "  if (condition.type === 'IS_TRUE') {\n",
              "    display_node_text(options, `${condition.attribute} is true`, output);\n",
              "    return;\n",
              "  }\n",
              "\n",
              "  if (condition.type === 'NUMERICAL_IS_HIGHER_THAN') {\n",
              "    format = d3.format('r');\n",
              "    display_node_text(\n",
              "        options,\n",
              "        `${condition.attribute} >= ${threshold_format(condition.threshold)}`,\n",
              "        output);\n",
              "    return;\n",
              "  }\n",
              "\n",
              "  if (condition.type === 'CATEGORICAL_IS_IN') {\n",
              "    display_node_text_with_tooltip(\n",
              "        options, `${condition.attribute} in [...]`,\n",
              "        `${condition.attribute} in [${condition.mask}]`, output);\n",
              "    return;\n",
              "  }\n",
              "\n",
              "  if (condition.type === 'CATEGORICAL_SET_CONTAINS') {\n",
              "    display_node_text_with_tooltip(\n",
              "        options, `${condition.attribute} intersect [...]`,\n",
              "        `${condition.attribute} intersect [${condition.mask}]`, output);\n",
              "    return;\n",
              "  }\n",
              "\n",
              "  if (condition.type === 'NUMERICAL_SPARSE_OBLIQUE') {\n",
              "    display_node_text_with_tooltip(\n",
              "        options, `Sparse oblique split...`,\n",
              "        `[${condition.attributes}]*[${condition.weights}]>=${\n",
              "            threshold_format(condition.threshold)}`,\n",
              "        output);\n",
              "    return;\n",
              "  }\n",
              "\n",
              "  display_node_text(\n",
              "      options, `Non supported condition ${condition.type}`, output);\n",
              "}\n",
              "\n",
              "/**\n",
              " * Adds a value inside of a node.\n",
              " * @param {!options} options Dictionary of configurations.\n",
              " * @param {!value} value Value to display.\n",
              " * @param {!output} output Output display accumulator.\n",
              " */\n",
              "function display_value(options, value, output) {\n",
              "  if (value.type === 'PROBABILITY') {\n",
              "    const left_margin = 0;\n",
              "    const right_margin = 50;\n",
              "    const plot_width = options.node_x_size - options.node_padding * 2 -\n",
              "        left_margin - right_margin;\n",
              "\n",
              "    let cusum = Array.from(d3.cumsum(value.distribution));\n",
              "    cusum.unshift(0);\n",
              "    const distribution_plot = output.content.append('g').attr(\n",
              "        'transform', `translate(0,${output.vertical_offset + 0.5})`);\n",
              "\n",
              "    distribution_plot.selectAll('rect')\n",
              "        .data(value.distribution)\n",
              "        .join('rect')\n",
              "        .attr('height', 10)\n",
              "        .attr(\n",
              "            'x',\n",
              "            (d, i) =>\n",
              "                (cusum[i] * plot_width + left_margin + options.node_padding))\n",
              "        .attr('width', (d, i) => d * plot_width)\n",
              "        .style('fill', (d, i) => d3.schemeSet1[i]);\n",
              "\n",
              "    const num_examples =\n",
              "        output.content.append('g')\n",
              "            .attr('transform', `translate(0,${output.vertical_offset})`)\n",
              "            .append('text')\n",
              "            .attr('x', options.node_x_size - options.node_padding)\n",
              "            .attr('alignment-baseline', 'hanging')\n",
              "            .attr('text-anchor', 'end')\n",
              "            .text(`(${value.num_examples})`);\n",
              "\n",
              "    const distribution_details = d3.create('ul');\n",
              "    distribution_details.selectAll('li')\n",
              "        .data(value.distribution)\n",
              "        .join('li')\n",
              "        .append('span')\n",
              "        .text(\n",
              "            (d, i) =>\n",
              "                'class ' + i + ': ' + d3.format('.3%')(value.distribution[i]));\n",
              "\n",
              "    add_tooltip(options, distribution_plot, () => distribution_details.html());\n",
              "    add_tooltip(options, num_examples, () => 'Number of examples');\n",
              "\n",
              "    output.vertical_offset += 10;\n",
              "    return;\n",
              "  }\n",
              "\n",
              "  if (value.type === 'REGRESSION') {\n",
              "    display_node_text(\n",
              "        options,\n",
              "        'value: ' + d3.format('r')(value.value) + ` (` +\n",
              "            d3.format('.6')(value.num_examples) + `)`,\n",
              "        output);\n",
              "    return;\n",
              "  }\n",
              "\n",
              "  display_node_text(options, `Non supported value ${value.type}`, output);\n",
              "}\n",
              "\n",
              "/**\n",
              " * Adds an explanation inside of a node.\n",
              " * @param {!options} options Dictionary of configurations.\n",
              " * @param {!explanation} explanation Explanation to display.\n",
              " * @param {!output} output Output display accumulator.\n",
              " */\n",
              "function display_explanation(options, explanation, output) {\n",
              "  // Margin before the explanation.\n",
              "  output.vertical_offset += 10;\n",
              "\n",
              "  display_node_text(\n",
              "      options, `Non supported explanation ${explanation.type}`, output);\n",
              "}\n",
              "\n",
              "\n",
              "/**\n",
              " * Draw the edges of the tree.\n",
              " * @param {!options} options Dictionary of configurations.\n",
              " * @param {!graph} graph D3 search handle containing the graph.\n",
              " * @param {!tree_struct} tree_struct Structure of the tree (node placement,\n",
              " *     data, etc.).\n",
              " */\n",
              "function display_edges(options, graph, tree_struct) {\n",
              "  // Draw an edge between a parent and a child node with a bezier.\n",
              "  function draw_single_edge(d) {\n",
              "    return 'M' + (d.source.y + options.node_x_size) + ',' + d.source.x + ' C' +\n",
              "        (d.source.y + options.node_x_size + options.edge_rounding) + ',' +\n",
              "        d.source.x + ' ' + (d.target.y - options.edge_rounding) + ',' +\n",
              "        d.target.x + ' ' + d.target.y + ',' + d.target.x;\n",
              "  }\n",
              "\n",
              "  graph.append('g')\n",
              "      .attr('fill', 'none')\n",
              "      .attr('stroke-width', 1.2)\n",
              "      .selectAll('path')\n",
              "      .data(tree_struct.links())\n",
              "      .join('path')\n",
              "      .attr('d', draw_single_edge)\n",
              "      .attr(\n",
              "          'stroke', d => (d.target === d.source.children[0]) ? '#0F0' : '#F00');\n",
              "}\n",
              "\n",
              "display_tree({\"margin\": 10, \"node_x_size\": 160, \"node_y_size\": 28, \"node_x_offset\": 180, \"node_y_offset\": 33, \"font_size\": 10, \"edge_rounding\": 20, \"node_padding\": 2, \"show_plot_bounding_box\": false}, {\"value\": {\"type\": \"REGRESSION\", \"value\": 1.910345215350162e-09, \"num_examples\": 5092.0, \"standard_deviation\": 35.71500015643919}, \"condition\": {\"type\": \"NUMERICAL_IS_HIGHER_THAN\", \"attribute\": \"20-24_female-Primary_OL\", \"threshold\": 48.84000015258789}, \"children\": [{\"value\": {\"type\": \"REGRESSION\", \"value\": 3.1113955974578857, \"num_examples\": 2648.0, \"standard_deviation\": 14.986499558554696}, \"condition\": {\"type\": \"NUMERICAL_IS_HIGHER_THAN\", \"attribute\": \"20-24_female-Primary_OL\", \"threshold\": 77.97999572753906}, \"children\": [{\"value\": {\"type\": \"REGRESSION\", \"value\": 4.145336627960205, \"num_examples\": 1642.0, \"standard_deviation\": 6.234763969028707}, \"condition\": {\"type\": \"NUMERICAL_IS_HIGHER_THAN\", \"attribute\": \"20-24_female-Primary_OL\", \"threshold\": 89.93000030517578}, \"children\": [{\"value\": {\"type\": \"REGRESSION\", \"value\": 4.543195724487305, \"num_examples\": 1063.0, \"standard_deviation\": 2.9014513705477323}, \"condition\": {\"type\": \"NUMERICAL_IS_HIGHER_THAN\", \"attribute\": \"20-24_female-Primary_OL\", \"threshold\": 95.33999633789062}}, {\"value\": {\"type\": \"REGRESSION\", \"value\": 3.4148976802825928, \"num_examples\": 579.0, \"standard_deviation\": 3.5168172601645002}, \"condition\": {\"type\": \"NUMERICAL_IS_HIGHER_THAN\", \"attribute\": \"20-24_female-Primary_OL\", \"threshold\": 84.14999389648438}}]}, {\"value\": {\"type\": \"REGRESSION\", \"value\": 1.4237900972366333, \"num_examples\": 1006.0, \"standard_deviation\": 8.273067366789645}, \"condition\": {\"type\": \"NUMERICAL_IS_HIGHER_THAN\", \"attribute\": \"20-24_female-Primary_OL\", \"threshold\": 64.12000274658203}, \"children\": [{\"value\": {\"type\": \"REGRESSION\", \"value\": 2.1108646392822266, \"num_examples\": 523.0, \"standard_deviation\": 4.045715595328399}, \"condition\": {\"type\": \"NUMERICAL_IS_HIGHER_THAN\", \"attribute\": \"20-24_female-Primary_OL\", \"threshold\": 71.01000213623047}}, {\"value\": {\"type\": \"REGRESSION\", \"value\": 0.6798150539398193, \"num_examples\": 483.0, \"standard_deviation\": 4.285518667948664}, \"condition\": {\"type\": \"NUMERICAL_IS_HIGHER_THAN\", \"attribute\": \"20-24_female-Primary_OL\", \"threshold\": 56.77000045776367}}]}]}, {\"value\": {\"type\": \"REGRESSION\", \"value\": -3.371102809906006, \"num_examples\": 2444.0, \"standard_deviation\": 15.130573068134446}, \"condition\": {\"type\": \"NUMERICAL_IS_HIGHER_THAN\", \"attribute\": \"20-24_female-Primary_OL\", \"threshold\": 20.170000076293945}, \"children\": [{\"value\": {\"type\": \"REGRESSION\", \"value\": -1.5845298767089844, \"num_examples\": 897.0, \"standard_deviation\": 8.11009195155366}, \"condition\": {\"type\": \"NUMERICAL_IS_HIGHER_THAN\", \"attribute\": \"20-24_female-Primary_OL\", \"threshold\": 34.220001220703125}, \"children\": [{\"value\": {\"type\": \"REGRESSION\", \"value\": -0.8918386697769165, \"num_examples\": 453.0, \"standard_deviation\": 4.184051365185168}, \"condition\": {\"type\": \"NUMERICAL_IS_HIGHER_THAN\", \"attribute\": \"20-24_female-Primary_OL\", \"threshold\": 41.470001220703125}}, {\"value\": {\"type\": \"REGRESSION\", \"value\": -2.291262149810791, \"num_examples\": 444.0, \"standard_deviation\": 4.014662718458596}, \"condition\": {\"type\": \"NUMERICAL_IS_HIGHER_THAN\", \"attribute\": \"20-24_female-Primary_OL\", \"threshold\": 27.190000534057617}}]}, {\"value\": {\"type\": \"REGRESSION\", \"value\": -4.407014846801758, \"num_examples\": 1547.0, \"standard_deviation\": 5.581699284241546}, \"condition\": {\"type\": \"NUMERICAL_IS_HIGHER_THAN\", \"attribute\": \"20-24_female-Primary_OL\", \"threshold\": 8.020000457763672}, \"children\": [{\"value\": {\"type\": \"REGRESSION\", \"value\": -3.6876423358917236, \"num_examples\": 486.0, \"standard_deviation\": 3.511441511627322}, \"condition\": {\"type\": \"NUMERICAL_IS_HIGHER_THAN\", \"attribute\": \"20-24_female-Primary_OL\", \"threshold\": 13.59000015258789}}, {\"value\": {\"type\": \"REGRESSION\", \"value\": -4.73652982711792, \"num_examples\": 1061.0, \"standard_deviation\": 2.2838576985248453}, \"condition\": {\"type\": \"NUMERICAL_IS_HIGHER_THAN\", \"attribute\": \"20-24_female-Primary_OL\", \"threshold\": 3.4200000762939453}}]}]}]}, \"#tree_plot_25356853ce45443596a46a0149b502f6\")\n",
              "</script>\n"
            ],
            "text/plain": [
              "<IPython.core.display.HTML object>"
            ]
          },
          "metadata": {},
          "execution_count": 73
        }
      ]
    },
    {
      "cell_type": "code",
      "source": [
        "model.summary()"
      ],
      "metadata": {
        "colab": {
          "base_uri": "https://localhost:8080/"
        },
        "id": "POM05G7A5cse",
        "outputId": "94eb570d-e61b-4883-e086-6959ad48591c"
      },
      "execution_count": 74,
      "outputs": [
        {
          "output_type": "stream",
          "name": "stdout",
          "text": [
            "Model: \"gradient_boosted_trees_model_1\"\n",
            "_________________________________________________________________\n",
            " Layer (type)                Output Shape              Param #   \n",
            "=================================================================\n",
            "=================================================================\n",
            "Total params: 1\n",
            "Trainable params: 0\n",
            "Non-trainable params: 1\n",
            "_________________________________________________________________\n",
            "Type: \"GRADIENT_BOOSTED_TREES\"\n",
            "Task: REGRESSION\n",
            "Label: \"__LABEL\"\n",
            "\n",
            "Input Features (11):\n",
            "\t20-24-In_Primary_OL\n",
            "\t20-24-Primary_OL\n",
            "\t20-24_female-In_Primary_OL\n",
            "\t20-24_female-Primary_OL\n",
            "\t20_yrs_old_gdppercapita_us_infla_adjust\n",
            "\t70__dropout_20-24-Primary_OL_comp\n",
            "\tchildren_per_woman\n",
            "\tco2_emissions_percapita\n",
            "\tgdppercapita_us_infla_adjust\n",
            "\tgini_index\n",
            "\tpopulation\n",
            "\n",
            "No weights\n",
            "\n",
            "Variable Importance: MEAN_MIN_DEPTH:\n",
            "    1.                                 \"__LABEL\"  4.957533 ################\n",
            "    2.                              \"gini_index\"  4.886836 ###############\n",
            "    3. \"20_yrs_old_gdppercapita_us_infla_adjust\"  4.885517 ###############\n",
            "    4.                      \"children_per_woman\"  4.885280 ###############\n",
            "    5.                 \"co2_emissions_percapita\"  4.884137 ###############\n",
            "    6.       \"70__dropout_20-24-Primary_OL_comp\"  4.873818 ###############\n",
            "    7.            \"gdppercapita_us_infla_adjust\"  4.864706 ###############\n",
            "    8.                              \"population\"  4.824689 ###############\n",
            "    9.                     \"20-24-In_Primary_OL\"  4.816888 ###############\n",
            "   10.              \"20-24_female-In_Primary_OL\"  4.745864 ###############\n",
            "   11.                        \"20-24-Primary_OL\"  4.304254 #############\n",
            "   12.                 \"20-24_female-Primary_OL\"  0.258486 \n",
            "\n",
            "Variable Importance: NUM_AS_ROOT:\n",
            "    1. \"20-24_female-Primary_OL\" 78.000000 ################\n",
            "    2.        \"20-24-Primary_OL\"  6.000000 \n",
            "\n",
            "Variable Importance: NUM_NODES:\n",
            "    1.                 \"20-24_female-Primary_OL\" 1922.000000 ################\n",
            "    2.                        \"20-24-Primary_OL\" 116.000000 \n",
            "    3.                              \"population\" 71.000000 \n",
            "    4.                     \"20-24-In_Primary_OL\" 60.000000 \n",
            "    5.              \"20-24_female-In_Primary_OL\" 54.000000 \n",
            "    6.                 \"co2_emissions_percapita\" 53.000000 \n",
            "    7.                              \"gini_index\" 52.000000 \n",
            "    8.                      \"children_per_woman\" 48.000000 \n",
            "    9. \"20_yrs_old_gdppercapita_us_infla_adjust\" 45.000000 \n",
            "   10.            \"gdppercapita_us_infla_adjust\" 44.000000 \n",
            "   11.       \"70__dropout_20-24-Primary_OL_comp\" 27.000000 \n",
            "\n",
            "Variable Importance: SUM_SCORE:\n",
            "    1.                 \"20-24_female-Primary_OL\" 34184977.988992 ################\n",
            "    2.                        \"20-24-Primary_OL\"  7.337550 \n",
            "    3.                              \"population\"  1.003833 \n",
            "    4.                     \"20-24-In_Primary_OL\"  0.897909 \n",
            "    5.              \"20-24_female-In_Primary_OL\"  0.864885 \n",
            "    6.                              \"gini_index\"  0.766393 \n",
            "    7.                      \"children_per_woman\"  0.739971 \n",
            "    8. \"20_yrs_old_gdppercapita_us_infla_adjust\"  0.700438 \n",
            "    9.                 \"co2_emissions_percapita\"  0.673755 \n",
            "   10.            \"gdppercapita_us_infla_adjust\"  0.612069 \n",
            "   11.       \"70__dropout_20-24-Primary_OL_comp\"  0.436000 \n",
            "\n",
            "\n",
            "\n",
            "Loss: SQUARED_ERROR\n",
            "Validation loss value: 0.0503288\n",
            "Number of trees per iteration: 1\n",
            "Node format: NOT_SET\n",
            "Number of trees: 84\n",
            "Total number of nodes: 5068\n",
            "\n",
            "Number of nodes by tree:\n",
            "Count: 84 Average: 60.3333 StdDev: 5.2855\n",
            "Min: 41 Max: 63 Ignored: 0\n",
            "----------------------------------------------\n",
            "[ 41, 42)  1   1.19%   1.19%\n",
            "[ 42, 43)  0   0.00%   1.19%\n",
            "[ 43, 44)  0   0.00%   1.19%\n",
            "[ 44, 45)  0   0.00%   1.19%\n",
            "[ 45, 46)  2   2.38%   3.57%\n",
            "[ 46, 47)  0   0.00%   3.57%\n",
            "[ 47, 49)  4   4.76%   8.33% #\n",
            "[ 49, 50)  0   0.00%   8.33%\n",
            "[ 50, 51)  0   0.00%   8.33%\n",
            "[ 51, 52)  2   2.38%  10.71%\n",
            "[ 52, 53)  0   0.00%  10.71%\n",
            "[ 53, 54)  2   2.38%  13.10%\n",
            "[ 54, 55)  0   0.00%  13.10%\n",
            "[ 55, 57)  0   0.00%  13.10%\n",
            "[ 57, 58)  7   8.33%  21.43% #\n",
            "[ 58, 59)  0   0.00%  21.43%\n",
            "[ 59, 60)  2   2.38%  23.81%\n",
            "[ 60, 61)  0   0.00%  23.81%\n",
            "[ 61, 62)  4   4.76%  28.57% #\n",
            "[ 62, 63] 60  71.43% 100.00% ##########\n",
            "\n",
            "Depth by leafs:\n",
            "Count: 2576 Average: 4.96467 StdDev: 0.222724\n",
            "Min: 2 Max: 5 Ignored: 0\n",
            "----------------------------------------------\n",
            "[ 2, 3)    1   0.04%   0.04%\n",
            "[ 3, 4)   17   0.66%   0.70%\n",
            "[ 4, 5)   54   2.10%   2.80%\n",
            "[ 5, 5] 2504  97.20% 100.00% ##########\n",
            "\n",
            "Number of training obs by leaf:\n",
            "Count: 2576 Average: 166.043 StdDev: 169.55\n",
            "Min: 5 Max: 1840 Ignored: 0\n",
            "----------------------------------------------\n",
            "[    5,   96)  681  26.44%  26.44% ######\n",
            "[   96,  188) 1220  47.36%  73.80% ##########\n",
            "[  188,  280)  292  11.34%  85.13% ##\n",
            "[  280,  372)  154   5.98%  91.11% #\n",
            "[  372,  464)  101   3.92%  95.03% #\n",
            "[  464,  555)   40   1.55%  96.58%\n",
            "[  555,  647)   24   0.93%  97.52%\n",
            "[  647,  739)   21   0.82%  98.33%\n",
            "[  739,  831)   14   0.54%  98.87%\n",
            "[  831,  923)    9   0.35%  99.22%\n",
            "[  923, 1014)    5   0.19%  99.42%\n",
            "[ 1014, 1106)    5   0.19%  99.61%\n",
            "[ 1106, 1198)    2   0.08%  99.69%\n",
            "[ 1198, 1290)    2   0.08%  99.77%\n",
            "[ 1290, 1382)    2   0.08%  99.84%\n",
            "[ 1382, 1473)    1   0.04%  99.88%\n",
            "[ 1473, 1565)    1   0.04%  99.92%\n",
            "[ 1565, 1657)    0   0.00%  99.92%\n",
            "[ 1657, 1749)    1   0.04%  99.96%\n",
            "[ 1749, 1840]    1   0.04% 100.00%\n",
            "\n",
            "Attribute in nodes:\n",
            "\t1922 : 20-24_female-Primary_OL [NUMERICAL]\n",
            "\t116 : 20-24-Primary_OL [NUMERICAL]\n",
            "\t71 : population [NUMERICAL]\n",
            "\t60 : 20-24-In_Primary_OL [NUMERICAL]\n",
            "\t54 : 20-24_female-In_Primary_OL [NUMERICAL]\n",
            "\t53 : co2_emissions_percapita [NUMERICAL]\n",
            "\t52 : gini_index [NUMERICAL]\n",
            "\t48 : children_per_woman [NUMERICAL]\n",
            "\t45 : 20_yrs_old_gdppercapita_us_infla_adjust [NUMERICAL]\n",
            "\t44 : gdppercapita_us_infla_adjust [NUMERICAL]\n",
            "\t27 : 70__dropout_20-24-Primary_OL_comp [NUMERICAL]\n",
            "\n",
            "Attribute in nodes with depth <= 0:\n",
            "\t78 : 20-24_female-Primary_OL [NUMERICAL]\n",
            "\t6 : 20-24-Primary_OL [NUMERICAL]\n",
            "\n",
            "Attribute in nodes with depth <= 1:\n",
            "\t231 : 20-24_female-Primary_OL [NUMERICAL]\n",
            "\t16 : 20-24-Primary_OL [NUMERICAL]\n",
            "\t3 : 20-24_female-In_Primary_OL [NUMERICAL]\n",
            "\t2 : 70__dropout_20-24-Primary_OL_comp [NUMERICAL]\n",
            "\n",
            "Attribute in nodes with depth <= 2:\n",
            "\t507 : 20-24_female-Primary_OL [NUMERICAL]\n",
            "\t38 : 20-24-Primary_OL [NUMERICAL]\n",
            "\t13 : 20-24_female-In_Primary_OL [NUMERICAL]\n",
            "\t10 : 20-24-In_Primary_OL [NUMERICAL]\n",
            "\t4 : population [NUMERICAL]\n",
            "\t4 : gdppercapita_us_infla_adjust [NUMERICAL]\n",
            "\t3 : 20_yrs_old_gdppercapita_us_infla_adjust [NUMERICAL]\n",
            "\t2 : gini_index [NUMERICAL]\n",
            "\t2 : co2_emissions_percapita [NUMERICAL]\n",
            "\t2 : children_per_woman [NUMERICAL]\n",
            "\t2 : 70__dropout_20-24-Primary_OL_comp [NUMERICAL]\n",
            "\n",
            "Attribute in nodes with depth <= 3:\n",
            "\t1026 : 20-24_female-Primary_OL [NUMERICAL]\n",
            "\t69 : 20-24-Primary_OL [NUMERICAL]\n",
            "\t27 : 20-24_female-In_Primary_OL [NUMERICAL]\n",
            "\t26 : population [NUMERICAL]\n",
            "\t24 : 20-24-In_Primary_OL [NUMERICAL]\n",
            "\t13 : gdppercapita_us_infla_adjust [NUMERICAL]\n",
            "\t12 : gini_index [NUMERICAL]\n",
            "\t12 : 20_yrs_old_gdppercapita_us_infla_adjust [NUMERICAL]\n",
            "\t11 : co2_emissions_percapita [NUMERICAL]\n",
            "\t11 : children_per_woman [NUMERICAL]\n",
            "\t9 : 70__dropout_20-24-Primary_OL_comp [NUMERICAL]\n",
            "\n",
            "Attribute in nodes with depth <= 5:\n",
            "\t1922 : 20-24_female-Primary_OL [NUMERICAL]\n",
            "\t116 : 20-24-Primary_OL [NUMERICAL]\n",
            "\t71 : population [NUMERICAL]\n",
            "\t60 : 20-24-In_Primary_OL [NUMERICAL]\n",
            "\t54 : 20-24_female-In_Primary_OL [NUMERICAL]\n",
            "\t53 : co2_emissions_percapita [NUMERICAL]\n",
            "\t52 : gini_index [NUMERICAL]\n",
            "\t48 : children_per_woman [NUMERICAL]\n",
            "\t45 : 20_yrs_old_gdppercapita_us_infla_adjust [NUMERICAL]\n",
            "\t44 : gdppercapita_us_infla_adjust [NUMERICAL]\n",
            "\t27 : 70__dropout_20-24-Primary_OL_comp [NUMERICAL]\n",
            "\n",
            "Condition type in nodes:\n",
            "\t2492 : HigherCondition\n",
            "Condition type in nodes with depth <= 0:\n",
            "\t84 : HigherCondition\n",
            "Condition type in nodes with depth <= 1:\n",
            "\t252 : HigherCondition\n",
            "Condition type in nodes with depth <= 2:\n",
            "\t587 : HigherCondition\n",
            "Condition type in nodes with depth <= 3:\n",
            "\t1240 : HigherCondition\n",
            "Condition type in nodes with depth <= 5:\n",
            "\t2492 : HigherCondition\n",
            "\n"
          ]
        }
      ]
    },
    {
      "cell_type": "markdown",
      "source": [
        "## Total Fertility Rate"
      ],
      "metadata": {
        "id": "J6KhYR4mRIYf"
      }
    },
    {
      "cell_type": "code",
      "metadata": {
        "id": "M4aZfaF4RjjX"
      },
      "source": [
        "PREDICT_FUTURE  = 0\n",
        "OUTPUT         = 'children_per_woman'"
      ],
      "execution_count": null,
      "outputs": []
    },
    {
      "cell_type": "code",
      "metadata": {
        "id": "x8kvcF41RjjU"
      },
      "source": [
        "datasets = [\n",
        "            # \"infant_mortality\",\n",
        "            # \"life_expectancy\",\n",
        "            # \"child_mortality\",\n",
        "            \"children_per_woman\",\n",
        "            \"co_emissions_percapita\",\n",
        "            \"gini_index\",\n",
        "            \"gdppercapita_us_infla_adjust\",\n",
        "            \"gdppercapita_us_infla_adjust\",\n",
        "            \"20-24-In_Primary_OL\",\n",
        "            \"20-24-Primary_OL\",\n",
        "            # \"20-24-Lower_Secondary_OL\",\n",
        "            \"population\",\n",
        "            \"20-24_female-In_Primary_OL\",\n",
        "            \"20-24_female-Primary_OL\", ,\n",
        "            # \"20-24_female-Lower_Secondary_OL\",\n",
        "            ]\n",
        "get_countries_count(datasets)"
      ],
      "execution_count": null,
      "outputs": []
    },
    {
      "cell_type": "code",
      "metadata": {
        "id": "VzOULbTzRjjd"
      },
      "source": [
        "# creating a list of all countries & years\n",
        "countries = find_common_countries(datasets)\n",
        "years     = [y for y in range(1960,2015-PREDICT_FUTURE+1)]\n",
        "keys      = generate_indices(countries, years)"
      ],
      "execution_count": null,
      "outputs": []
    },
    {
      "cell_type": "code",
      "metadata": {
        "id": "A8k7GO3eRjje"
      },
      "source": [
        "input_df            = load_datasets_to_pd(datasets,keys)\n",
        "# input_df            = add_n_yrs_old_dataset(input_df,\"gdppercapita_us_infla_adjust\",20)\n",
        "input_df.set_index([\"country\",\"year\"], inplace=True)\n",
        "output_df           = input_df[[\"o_\" + OUTPUT]]\n",
        "input_df.drop(labels=[\"o_\" + OUTPUT], axis = 1, inplace=True)"
      ],
      "execution_count": null,
      "outputs": []
    },
    {
      "cell_type": "code",
      "metadata": {
        "id": "83MaE8NoRjje"
      },
      "source": [
        "input_df"
      ],
      "execution_count": null,
      "outputs": []
    },
    {
      "cell_type": "code",
      "metadata": {
        "id": "vLgXULhQWNLA"
      },
      "source": [
        "input_df.isna().sum()"
      ],
      "execution_count": null,
      "outputs": []
    },
    {
      "cell_type": "code",
      "metadata": {
        "id": "KDygxHE8WNLB"
      },
      "source": [
        "input_df.shape"
      ],
      "execution_count": null,
      "outputs": []
    },
    {
      "cell_type": "code",
      "metadata": {
        "id": "7QRuj2D0Rjjg"
      },
      "source": [
        "X_train, X_test, y_train, y_test = train_test_split(input_df, output_df, test_size=0.30, random_state=43)"
      ],
      "execution_count": null,
      "outputs": []
    },
    {
      "cell_type": "code",
      "metadata": {
        "id": "fSF6pVbIRjjj"
      },
      "source": [
        "\n",
        "# converting pandas to tensorFlow dataset\n",
        "train_ds = tfdf.keras.pd_dataframe_to_tf_dataset(combine_dfs(X_train,y_train), label=\"o_\"+OUTPUT, task=tfdf.keras.Task.REGRESSION)\n",
        "model = tfdf.keras.RandomForestModel(task = tfdf.keras.Task.REGRESSION)\n",
        "\n",
        "model.fit(x=train_ds)\n",
        "# Convert it to a TensorFlow dataset\n",
        "test_ds = tfdf.keras.pd_dataframe_to_tf_dataset(combine_dfs(X_train,y_train), label=\"o_\"+OUTPUT, task=tfdf.keras.Task.REGRESSION)\n",
        "\n",
        "# Evaluate the model\n",
        "model.compile(metrics=[\"mse\"])\n",
        "# Evaluate the model on the test dataset.\n",
        "evaluation = model.evaluate(test_ds, return_dict=True)\n",
        "print(OUTPUT.upper())\n",
        "print(evaluation)\n",
        "print()\n",
        "print(f\"MSE: {evaluation['mse']}\")\n",
        "print(f\"RMSE: {math.sqrt(evaluation['mse'])}\")\n",
        "print()"
      ],
      "execution_count": null,
      "outputs": []
    },
    {
      "cell_type": "code",
      "metadata": {
        "id": "mWXFs7RTRjjk"
      },
      "source": [
        "tfdf.model_plotter.plot_model_in_colab(model, tree_idx=0)"
      ],
      "execution_count": null,
      "outputs": []
    },
    {
      "cell_type": "code",
      "metadata": {
        "id": "VCdZ7yX2Rjjl"
      },
      "source": [
        "# %set_cell_height 300\n",
        "\n",
        "model.summary()"
      ],
      "execution_count": null,
      "outputs": []
    },
    {
      "cell_type": "markdown",
      "source": [
        "## Primary education OL"
      ],
      "metadata": {
        "id": "9sc8HWQyR4L7"
      }
    },
    {
      "cell_type": "code",
      "metadata": {
        "colab": {
          "base_uri": "https://localhost:8080/"
        },
        "outputId": "1bea554c-fa3a-4198-e2a9-b9df8696a3ae",
        "id": "KR0Dh4KLSK0O"
      },
      "source": [
        "PREDICT_FUTURE = 0\n",
        "OUTPUT         = '20-24-Primary_OL'\n"
      ],
      "execution_count": null,
      "outputs": [
        {
          "output_type": "stream",
          "name": "stdout",
          "text": [
            "Factor: infant_mortality                 count: 266\n",
            "Factor: life_expectancy                  count: 195\n",
            "Factor: child_mortality                  count: 197\n",
            "Factor: children_per_woman               count: 202\n",
            "Factor: co2_emissions_percapita          count: 194\n",
            "Factor: gdppercapita_us_infla_adjust     count: 207\n"
          ]
        }
      ]
    },
    {
      "cell_type": "code",
      "metadata": {
        "id": "JJUdD5loSK0J"
      },
      "source": [
        "datasets = [\n",
        "            # \"infant_mortality\",\n",
        "            # \"life_expectancy\",\n",
        "            # \"child_mortality\",\n",
        "            \"children_per_woman\",\n",
        "            \"co_emissions_percapita\",\n",
        "            \"gini_index\",\n",
        "            \"gdppercapita_us_infla_adjust\",\n",
        "            \"gdppercapita_us_infla_adjust\",\n",
        "            \"20-24-In_Primary_OL\",\n",
        "            \"20-24-Primary_OL\",\n",
        "            # \"20-24-Lower_Secondary_OL\",\n",
        "            \"population\",\n",
        "            \"20-24_female-In_Primary_OL\",\n",
        "            \"20-24_female-Primary_OL\", ,\n",
        "            # \"20-24_female-Lower_Secondary_OL\",\n",
        "            ]\n",
        "get_countries_count(datasets)"
      ],
      "execution_count": null,
      "outputs": []
    },
    {
      "cell_type": "code",
      "metadata": {
        "id": "O73UttmPSK0P"
      },
      "source": [
        "# creating a list of all countries & years\n",
        "countries = find_common_countries(datasets)\n",
        "years     = [y for y in range(1960,2015-PREDICT_FUTURE+1)]\n",
        "keys      = generate_indices(countries, years)"
      ],
      "execution_count": null,
      "outputs": []
    },
    {
      "cell_type": "code",
      "metadata": {
        "id": "-Gf0qtOZSK0Q"
      },
      "source": [
        "input_df            = load_datasets_to_pd(datasets,keys)\n",
        "input_df            = add_n_yrs_old_dataset(input_df,\"gdppercapita_us_infla_adjust\",20)\n",
        "input_df.dropna(subset=[\"gdppercapita_us_infla_adjust\"],inplace=True)\n",
        "input_df.set_index([\"country\",\"year\"], inplace=True)"
      ],
      "execution_count": null,
      "outputs": []
    },
    {
      "cell_type": "code",
      "source": [
        "output_df           = input_df[[\"o_\" + OUTPUT]]\n",
        "input_df.drop(labels=[\"o_\" + OUTPUT], axis = 1, inplace=True)"
      ],
      "metadata": {
        "id": "tlS62tKhCAkE"
      },
      "execution_count": null,
      "outputs": []
    },
    {
      "cell_type": "code",
      "metadata": {
        "id": "E4EvcxlBSK0X"
      },
      "source": [
        "input_df"
      ],
      "execution_count": null,
      "outputs": []
    },
    {
      "cell_type": "code",
      "source": [
        "input_df.isna().sum()"
      ],
      "metadata": {
        "id": "K5SUdXJQB6iq"
      },
      "execution_count": null,
      "outputs": []
    },
    {
      "cell_type": "code",
      "source": [
        "input_df.shape"
      ],
      "metadata": {
        "id": "q_vhABxuWTOn"
      },
      "execution_count": null,
      "outputs": []
    },
    {
      "cell_type": "code",
      "metadata": {
        "id": "NlnFvUd-SK0X"
      },
      "source": [
        "X_train, X_test, y_train, y_test = train_test_split(input_df, output_df, test_size=0.30, random_state=43)"
      ],
      "execution_count": null,
      "outputs": []
    },
    {
      "cell_type": "code",
      "metadata": {
        "id": "QYeX15ATSK0a"
      },
      "source": [
        "\n",
        "# converting pandas to tensorFlow dataset\n",
        "train_ds = tfdf.keras.pd_dataframe_to_tf_dataset(combine_dfs(X_train,y_train), label=\"o_\"+OUTPUT, task=tfdf.keras.Task.REGRESSION)\n",
        "model = tfdf.keras.RandomForestModel(task = tfdf.keras.Task.REGRESSION)\n",
        "\n",
        "model.fit(x=train_ds)\n",
        "# Convert it to a TensorFlow dataset\n",
        "test_ds = tfdf.keras.pd_dataframe_to_tf_dataset(combine_dfs(X_train,y_train), label=\"o_\"+OUTPUT, task=tfdf.keras.Task.REGRESSION)\n",
        "\n",
        "# Evaluate the model\n",
        "model.compile(metrics=[\"mse\"])\n",
        "# Evaluate the model on the test dataset.\n",
        "evaluation = model.evaluate(test_ds, return_dict=True)\n",
        "print(OUTPUT.upper())\n",
        "print(evaluation)\n",
        "print()\n",
        "print(f\"MSE: {evaluation['mse']}\")\n",
        "print(f\"RMSE: {math.sqrt(evaluation['mse'])}\")\n",
        "print()"
      ],
      "execution_count": null,
      "outputs": []
    },
    {
      "cell_type": "code",
      "metadata": {
        "id": "MJMsDaEgSK0c"
      },
      "source": [
        "tfdf.model_plotter.plot_model_in_colab(model, tree_idx=0)"
      ],
      "execution_count": null,
      "outputs": []
    },
    {
      "cell_type": "code",
      "metadata": {
        "id": "x6pS0GbjSK0d"
      },
      "source": [
        "# %set_cell_height 300\n",
        "\n",
        "model.summary()"
      ],
      "execution_count": null,
      "outputs": []
    },
    {
      "cell_type": "markdown",
      "source": [
        "## GDP per capita"
      ],
      "metadata": {
        "id": "DaMr3ulNSgTz"
      }
    },
    {
      "cell_type": "code",
      "source": [
        "created_datasets = []\n",
        "created_datasets.append(create_n_yrs_gst_old_csv(\"gdppercapita_us_infla_adjust\",20))"
      ],
      "metadata": {
        "id": "7bNxG67cAW_p"
      },
      "execution_count": null,
      "outputs": []
    },
    {
      "cell_type": "code",
      "metadata": {
        "id": "ruT8d-gvTGMw"
      },
      "source": [
        "PREDICT_FUTURE  = 0\n",
        "OUTPUT         = 'gdppercapita_us_infla_adjust'\n"
      ],
      "execution_count": null,
      "outputs": []
    },
    {
      "cell_type": "code",
      "metadata": {
        "id": "Shmi3Nu-TGMf"
      },
      "source": [
        "datasets = [\n",
        "            # \"infant_mortality\",\n",
        "            # \"life_expectancy\",\n",
        "            # \"child_mortality\",\n",
        "            \"children_per_woman\",\n",
        "            \"co_emissions_percapita\",\n",
        "            \"gini_index\",\n",
        "            \"gdppercapita_us_infla_adjust\",\n",
        "            \"gdppercapita_us_infla_adjust\",\n",
        "            \"20-24-In_Primary_OL\",\n",
        "            \"20-24-Primary_OL\",\n",
        "            # \"20-24-Lower_Secondary_OL\",\n",
        "            \"population\",\n",
        "            \"20-24_female-In_Primary_OL\",\n",
        "            \"20-24_female-Primary_OL\", ,\n",
        "            # \"20-24_female-Lower_Secondary_OL\",\n",
        "            ]\n",
        "get_countries_count(datasets)"
      ],
      "execution_count": null,
      "outputs": []
    },
    {
      "cell_type": "code",
      "metadata": {
        "id": "N3f4oUsPTGM1"
      },
      "source": [
        "# creating a list of all countries & years\n",
        "countries = find_common_countries(datasets)\n",
        "years     = [y for y in range(1960,2015-PREDICT_FUTURE+1)]\n",
        "keys      = generate_indices(countries, years)"
      ],
      "execution_count": null,
      "outputs": []
    },
    {
      "cell_type": "code",
      "metadata": {
        "id": "9HB5QShVTGM1"
      },
      "source": [
        "input_df            = load_datasets_to_pd(datasets,keys)\n",
        "input_df            = add_n_yrs_old_dataset(input_df,\"gdppercapita_us_infla_adjust\",20)\n",
        "input_df.set_index([\"country\",\"year\"], inplace=True)\n",
        "input_df['o_gdppercapita_us_infla_adjust'] = np.log(input_df['o_gdppercapita_us_infla_adjust'])\n",
        "input_df['gdppercapita_us_infla_adjust'+\"_\"+str(20)+\"years_before\"] = np.log(input_df['gdppercapita_us_infla_adjust'+\"_\"+str(20)+\"years_before\"])"
      ],
      "execution_count": null,
      "outputs": []
    },
    {
      "cell_type": "code",
      "source": [
        "output_df           = input_df[[\"o_\" + OUTPUT]]\n",
        "input_df.drop(labels=[\"o_\" + OUTPUT], axis = 1, inplace=True)"
      ],
      "metadata": {
        "id": "iJBdidLCEz6i"
      },
      "execution_count": null,
      "outputs": []
    },
    {
      "cell_type": "code",
      "metadata": {
        "colab": {
          "base_uri": "https://localhost:8080/"
        },
        "outputId": "aab951c5-ae8b-4029-d630-c55e7feb91ac",
        "id": "jrfHfBbuTGM4"
      },
      "source": [
        "print(input_df.shape)\n",
        "input_df.isna().sum()"
      ],
      "execution_count": null,
      "outputs": [
        {
          "output_type": "stream",
          "name": "stdout",
          "text": [
            "(8624, 11)\n"
          ]
        },
        {
          "output_type": "execute_result",
          "data": {
            "text/plain": [
              "infant_mortality                                782\n",
              "life_expectancy                                   0\n",
              "child_mortality                                   0\n",
              "children_per_woman                                0\n",
              "20-24-In_Primary_OL                               0\n",
              "20-24-Primary_OL                                  0\n",
              "20-24-Lower_Secondary_OL                          0\n",
              "20-24_female-In_Primary_OL                        0\n",
              "20-24_female-Primary_OL                           0\n",
              "20-24_female-Lower_Secondary_OL                   0\n",
              "gdppercapita_us_infla_adjust_20years_before    4884\n",
              "dtype: int64"
            ]
          },
          "metadata": {},
          "execution_count": 68
        }
      ]
    },
    {
      "cell_type": "code",
      "source": [
        "input_df.describe()"
      ],
      "metadata": {
        "id": "2EgkQY5O6V7d"
      },
      "execution_count": null,
      "outputs": []
    },
    {
      "cell_type": "code",
      "source": [
        "input_df"
      ],
      "metadata": {
        "id": "jhoIWh0L7y-9"
      },
      "execution_count": null,
      "outputs": []
    },
    {
      "cell_type": "code",
      "metadata": {
        "id": "L7qv4z0iTGM_"
      },
      "source": [
        "X_train, X_test, y_train, y_test = train_test_split(input_df, output_df, test_size=0.30, random_state=43)"
      ],
      "execution_count": null,
      "outputs": []
    },
    {
      "cell_type": "code",
      "metadata": {
        "id": "z_TuZBq5TGM_"
      },
      "source": [
        "X_train.isna().sum()"
      ],
      "execution_count": null,
      "outputs": []
    },
    {
      "cell_type": "code",
      "metadata": {
        "id": "HGWRfEucTGNA"
      },
      "source": [
        "y_train.isna().sum()"
      ],
      "execution_count": null,
      "outputs": []
    },
    {
      "cell_type": "code",
      "metadata": {
        "id": "dkGKrQhfTGNA"
      },
      "source": [
        "\n",
        "# converting pandas to tensorFlow dataset\n",
        "train_ds = tfdf.keras.pd_dataframe_to_tf_dataset(combine_dfs(X_train,y_train), label=\"o_\"+OUTPUT, task=tfdf.keras.Task.REGRESSION)\n",
        "model = tfdf.keras.RandomForestModel(task = tfdf.keras.Task.REGRESSION)\n",
        "\n",
        "model.fit(x=train_ds)\n",
        "# Convert it to a TensorFlow dataset\n",
        "test_ds = tfdf.keras.pd_dataframe_to_tf_dataset(combine_dfs(X_train,y_train), label=\"o_\"+OUTPUT, task=tfdf.keras.Task.REGRESSION)\n",
        "\n",
        "# Evaluate the model\n",
        "model.compile(metrics=[\"mse\"])\n",
        "# Evaluate the model on the test dataset.\n",
        "evaluation = model.evaluate(test_ds, return_dict=True)\n",
        "print(OUTPUT.upper())\n",
        "print(evaluation)\n",
        "print()\n",
        "print(f\"MSE: {evaluation['mse']}\")\n",
        "print(f\"RMSE: {math.sqrt(evaluation['mse'])}\")\n",
        "print()"
      ],
      "execution_count": null,
      "outputs": []
    },
    {
      "cell_type": "code",
      "metadata": {
        "id": "So2TRuh7TGNA"
      },
      "source": [
        "tfdf.model_plotter.plot_model_in_colab(model, tree_idx=0)"
      ],
      "execution_count": null,
      "outputs": []
    },
    {
      "cell_type": "code",
      "metadata": {
        "id": "m5cwPXhUTGNB"
      },
      "source": [
        "# %set_cell_height 300\n",
        "\n",
        "model.summary()"
      ],
      "execution_count": null,
      "outputs": []
    },
    {
      "cell_type": "code",
      "source": [
        "for f in created_datasets:\n",
        "  if os.path.isfile(datasets_path[f]): # this makes the code more robust\n",
        "        os.remove(datasets_path[f])"
      ],
      "metadata": {
        "id": "NaA1CMEiApdM"
      },
      "execution_count": null,
      "outputs": []
    },
    {
      "cell_type": "code",
      "source": [
        "#@markdown What changes you made to datasets & why ?\n",
        "\n",
        "\n",
        "approach = ''  #@param {type: \"string\"}\n"
      ],
      "metadata": {
        "id": "Q0pugir6134X"
      },
      "execution_count": null,
      "outputs": []
    },
    {
      "cell_type": "code",
      "source": [
        "inspector = model.make_inspector()"
      ],
      "metadata": {
        "id": "wf04_1te134X"
      },
      "execution_count": null,
      "outputs": []
    },
    {
      "cell_type": "code",
      "source": [
        "model_name = inspector.model_type()\n",
        "num_trees  = inspector.num_trees()\n",
        "objective  = inspector.objective()\n",
        "eval = inspector.evaluation()"
      ],
      "metadata": {
        "id": "lo83XuA9134X"
      },
      "execution_count": null,
      "outputs": []
    },
    {
      "cell_type": "code",
      "source": [
        "\n",
        "input_features_list = inspector.features()\n",
        "input_features = \"\"\n",
        "for i in range(len(input_features_list)):\n",
        "  input_features += str(i+1)+ \"  \"\n",
        "  input_features += input_features_list[i][0] + \"\\n\""
      ],
      "metadata": {
        "colab": {
          "base_uri": "https://localhost:8080/",
          "height": 69
        },
        "outputId": "77924420-00e8-4f6f-c5c8-4957d1195ecd",
        "id": "FpoWlwxb134X"
      },
      "execution_count": null,
      "outputs": [
        {
          "output_type": "execute_result",
          "data": {
            "application/vnd.google.colaboratory.intrinsic+json": {
              "type": "string"
            },
            "text/plain": [
              "'1  20-24-In_Primary_OL\\n2  20-24-Primary_OL\\n3  20-24_female-In_Primary_OL\\n4  20-24_female-Primary_OL\\n5  20_yrs_old_gdppercapita_us_infla_adjust\\n6  children_per_woman\\n7  co2_emissions_percapita\\n8  gdppercapita_us_infla_adjust\\n9  gini_index\\n10  population\\n'"
            ]
          },
          "metadata": {},
          "execution_count": 37
        }
      ]
    },
    {
      "cell_type": "code",
      "source": [
        "variable_imp = []\n",
        "variable_imp.append(extract_variable_imp(variable = 'MEAN_MIN_DEPTH'))\n",
        "variable_imp.append(extract_variable_imp(variable = 'SUM_SCORE'))\n"
      ],
      "metadata": {
        "id": "XvYlxk77134Y"
      },
      "execution_count": null,
      "outputs": []
    },
    {
      "cell_type": "code",
      "source": [
        "#@ Analysis\n",
        "#@markdown Observations made from the output ?\n",
        "\n",
        "\n",
        "anaylsis = ''  #@param {type: \"string\"}\n"
      ],
      "metadata": {
        "id": "DB_MPq4e134Y"
      },
      "execution_count": null,
      "outputs": []
    },
    {
      "cell_type": "code",
      "source": [
        "from google.colab import drive\n",
        "drive.mount('/content/drive')"
      ],
      "metadata": {
        "colab": {
          "base_uri": "https://localhost:8080/"
        },
        "outputId": "dc0424a2-840f-4da3-b60b-dd5cd76cd7f9",
        "id": "8BWRHfAl134Y"
      },
      "execution_count": null,
      "outputs": [
        {
          "output_type": "stream",
          "name": "stdout",
          "text": [
            "Mounted at /content/drive\n"
          ]
        }
      ]
    },
    {
      "cell_type": "code",
      "source": [
        "with open('/content/drive/My Drive/document.txt', 'a') as f:\n",
        "  f.write(\"Model Trained : \" + model_name+ \"\\n\")\n",
        "  f.write(\"Predicting : \" + OUTPUT + \"\\n\")\n",
        "  f.write(\"Approach : \" + approach + \"\\n\")\n",
        "  f.write(\"Num Examples: \" + str(eval.num_examples) + \"\\n\\n\")\n",
        "  f.write(\"Input Features\\n\")\n",
        "  f.write(input_features+\"\\n\\n\")\n",
        "  f.write(\"Model Performance\\n\")\n",
        "  f.write(\"RMSE Score : \"  + str(eval.rmse)+ \"\\n\\n\")\n",
        "  for v in variable_imp:\n",
        "    f.write(v + \"\\n\\n\")\n",
        "  f.write(\"Analysis : \" + approach + \"\\n\")\n",
        "  f.write(\"\\n\\n\\n\")\n",
        "\n",
        "  "
      ],
      "metadata": {
        "id": "EGmQynZ_134Y"
      },
      "execution_count": null,
      "outputs": []
    },
    {
      "cell_type": "markdown",
      "source": [
        "# Save the summary"
      ],
      "metadata": {
        "id": "4sMKy4Sq12jO"
      }
    },
    {
      "cell_type": "code",
      "source": [
        "#@markdown What changes you made to datasets & why ?\n",
        "\n",
        "\n",
        "approach = 'Added dataset containing how many yrs each country took to achieve <70% drop out for primary education '  #@param {type: \"string\"}\n"
      ],
      "metadata": {
        "id": "_wrasIfM12jQ"
      },
      "execution_count": 75,
      "outputs": []
    },
    {
      "cell_type": "code",
      "source": [
        "inspector = model.make_inspector()"
      ],
      "metadata": {
        "id": "2iOgBMlG12jR"
      },
      "execution_count": 76,
      "outputs": []
    },
    {
      "cell_type": "code",
      "source": [
        "model_name = inspector.model_type()\n",
        "num_trees  = inspector.num_trees()\n",
        "objective  = inspector.objective()\n",
        "eval = inspector.evaluation()"
      ],
      "metadata": {
        "id": "WoGgxgB312jR"
      },
      "execution_count": 77,
      "outputs": []
    },
    {
      "cell_type": "code",
      "source": [
        "\n",
        "input_features_list = inspector.features()\n",
        "input_features = \"\"\n",
        "for i in range(len(input_features_list)):\n",
        "  input_features += str(i+1)+ \"  \"\n",
        "  input_features += input_features_list[i][0] + \"\\n\""
      ],
      "metadata": {
        "id": "JEju-p3j12jR"
      },
      "execution_count": 78,
      "outputs": []
    },
    {
      "cell_type": "code",
      "source": [
        "variable_imp = []\n",
        "variable_imp.append(extract_variable_imp(variable = 'MEAN_MIN_DEPTH'))\n",
        "variable_imp.append(extract_variable_imp(variable = 'SUM_SCORE'))\n"
      ],
      "metadata": {
        "id": "9eB4rE-u12jR"
      },
      "execution_count": 79,
      "outputs": []
    },
    {
      "cell_type": "code",
      "source": [
        "#@ Analysis\n",
        "#@markdown Observations made from the output ?\n",
        "\n",
        "\n",
        "anaylsis = ''  #@param {type: \"string\"}\n"
      ],
      "metadata": {
        "id": "Pr-okgR012jR"
      },
      "execution_count": 80,
      "outputs": []
    },
    {
      "cell_type": "code",
      "source": [
        "from google.colab import drive\n",
        "drive.mount('/content/drive')"
      ],
      "metadata": {
        "colab": {
          "base_uri": "https://localhost:8080/"
        },
        "outputId": "034a753b-b1f3-4402-ac64-4ad0e981e539",
        "id": "hDbjLanG12jR"
      },
      "execution_count": 81,
      "outputs": [
        {
          "output_type": "stream",
          "name": "stdout",
          "text": [
            "Drive already mounted at /content/drive; to attempt to forcibly remount, call drive.mount(\"/content/drive\", force_remount=True).\n"
          ]
        }
      ]
    },
    {
      "cell_type": "code",
      "source": [
        "with open('/content/drive/My Drive/education-impact/document.txt', 'a') as f:\n",
        "  f.write(\"Model Trained : \" + model_name+ \"\\n\")\n",
        "  f.write(\"Predicting : \" + OUTPUT + \"\\n\")\n",
        "  f.write(\"Approach : \" + approach + \"\\n\")\n",
        "  f.write(\"Num Examples: \" + str(eval.num_examples) + \"\\n\\n\")\n",
        "  f.write(\"Input Features\\n\")\n",
        "  f.write(input_features+\"\\n\\n\")\n",
        "  f.write(\"Model Performance\\n\")\n",
        "  f.write(\"RMSE Score : \"  + str(eval.rmse)+ \"\\n\\n\")\n",
        "  for v in variable_imp:\n",
        "    f.write(v + \"\\n\\n\")\n",
        "  f.write(\"Analysis : \" + approach + \"\\n\")\n",
        "  f.write(\"\\n\\n\\n\")\n",
        "\n",
        "  "
      ],
      "metadata": {
        "id": "Kt5170Sk12jS"
      },
      "execution_count": 82,
      "outputs": []
    },
    {
      "cell_type": "markdown",
      "source": [
        "# Models to try\n",
        " - RandomForestModel\n",
        " - GradientBoostedTreesModel\n",
        " - CartModel\n",
        " - DistributedGradientBoostedTreesModel\n",
        "\n",
        " - KNN Regression\n",
        " - Support Vector Regression\n",
        " - Locally Weighted Scatterplot Smoothing\n",
        " - Multivariate Adaptive Regression Splines\n",
        "  "
      ],
      "metadata": {
        "id": "jwLsZsZs3TzM"
      }
    }
  ]
}