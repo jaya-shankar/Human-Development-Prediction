{
  "nbformat": 4,
  "nbformat_minor": 0,
  "metadata": {
    "colab": {
      "name": "All Models.ipynb",
      "provenance": [],
      "collapsed_sections": [],
      "toc_visible": true,
      "authorship_tag": "ABX9TyPWtBoisfTrBhpblSI8iTyp",
      "include_colab_link": true
    },
    "kernelspec": {
      "name": "python3",
      "display_name": "Python 3"
    },
    "language_info": {
      "name": "python"
    }
  },
  "cells": [
    {
      "cell_type": "markdown",
      "metadata": {
        "id": "view-in-github",
        "colab_type": "text"
      },
      "source": [
        "<a href=\"https://colab.research.google.com/github/jaya-shankar/education-impact/blob/master/All_Models.ipynb\" target=\"_parent\"><img src=\"https://colab.research.google.com/assets/colab-badge.svg\" alt=\"Open In Colab\"/></a>"
      ]
    },
    {
      "cell_type": "markdown",
      "source": [
        "# Cloning Repo & installing libs"
      ],
      "metadata": {
        "id": "09bR1tT3HBE8"
      }
    },
    {
      "cell_type": "code",
      "source": [
        "!rm -rf education-impact"
      ],
      "metadata": {
        "id": "HhdHWTq4HJWt"
      },
      "execution_count": null,
      "outputs": []
    },
    {
      "cell_type": "code",
      "metadata": {
        "id": "WLCGn-YlJ5k5",
        "colab": {
          "base_uri": "https://localhost:8080/"
        },
        "outputId": "8af37963-b090-4973-ce95-72b9b00336cb"
      },
      "source": [
        "!git clone https://github.com/jaya-shankar/education-impact.git\n"
      ],
      "execution_count": null,
      "outputs": [
        {
          "output_type": "stream",
          "name": "stdout",
          "text": [
            "Cloning into 'education-impact'...\n",
            "remote: Enumerating objects: 367, done.\u001b[K\n",
            "remote: Counting objects: 100% (367/367), done.\u001b[K\n",
            "remote: Compressing objects: 100% (309/309), done.\u001b[K\n",
            "remote: Total 367 (delta 184), reused 175 (delta 55), pack-reused 0\u001b[K\n",
            "Receiving objects: 100% (367/367), 3.90 MiB | 14.78 MiB/s, done.\n",
            "Resolving deltas: 100% (184/184), done.\n"
          ]
        }
      ]
    },
    {
      "cell_type": "code",
      "source": [
        "!pip install tensorflow_decision_forests\n",
        "!pip install wurlitzer\n",
        "!pip install seaborn"
      ],
      "metadata": {
        "id": "zYQCVRaEHJ-v"
      },
      "execution_count": null,
      "outputs": []
    },
    {
      "cell_type": "code",
      "source": [
        "import pandas as pd\n",
        "import os\n",
        "import numpy as np\n",
        "import math\n",
        "import seaborn as sns\n",
        "import tensorflow_decision_forests as tfdf\n",
        "from sklearn.model_selection import train_test_split\n",
        "from wurlitzer import sys_pipes"
      ],
      "metadata": {
        "id": "xPL9g5bvA5rk"
      },
      "execution_count": null,
      "outputs": []
    },
    {
      "cell_type": "markdown",
      "source": [
        "# Setting paths"
      ],
      "metadata": {
        "id": "Lz5iPCDjHeoB"
      }
    },
    {
      "cell_type": "code",
      "source": [
        "root = \"education-impact/datasets/\" \n",
        "datasets_path = {\n",
        "                    \"infant_mortality\"                :  root+ \"Infant_Mortality_Rate.csv\",\n",
        "                    \"child_mortality\"                 :  root+ \"child_mortality_0_5_year_olds_dying_per_1000_born.csv\",\n",
        "                    \"children_per_woman\"              :  root+ \"children_per_woman_total_fertility.csv\",\n",
        "                    \"co2_emissions_percapita\"         :  root+ \"co2_emissions_tonnes_per_person.csv\",\n",
        "                    \"population\"                      :  root+ \"converted_pop.csv\",\n",
        "                    \"population_density\"              :  root+ \"population_per_area.csv\",\n",
        "                    \"gdp_growth\"                      :  root+ \"gdp_per_capita_yearly_growth.csv\",\n",
        "                    \"Avg_daily_income_ppp\"            :  root+ \"mincpcap_cppp.csv\",\n",
        "                    \"gdppercapita_us_infla_adjust\"    :  root+ \"gdppercapita_us_inflation_adjusted.csv\",\n",
        "                    \"gini_index\"                      :  root+ \"gini.csv\",\n",
        "                    \"life_expectancy\"                 :  root+ \"life_expectancy_years.csv\",\n",
        "                    \"poverty_index\"                   :  root+ \"mincpcap_cppp.csv\",\n",
        "                    \"people_in_poverty\"               :  root+ \"number_of_people_in_poverty.csv\",\n",
        "                    \"ratio_b/g_in_primary\"            :  root+ \"ratio_of_girls_to_boys_in_primary_and_secondary_education_perc.csv\",\n",
        "                    \"wcde-25--34\"                     :  root+ \"wcde-25--34.csv\",\n",
        "                    \"20-24-In_Primary_OL\"             :  root+ \"In_Primary_OL.csv\",\n",
        "                    \"20-24-Primary_OL\"                :  root+ \"Primary_OL.csv\",\n",
        "                    \"20-24-Lower_Secondary_OL\"        :  root+ \"Lower_Secondary_OL.csv\",\n",
        "                    \"20-24_female-In_Primary_OL\"      :  root+ \"female_In_Primary_OL.csv\",\n",
        "                    \"20-24_female-Primary_OL\"         :  root+ \"female_Primary_OL.csv\",\n",
        "                    \"20-24_female-Lower_Secondary_OL\" :  root+ \"female_Lower_Secondary_OL.csv\"\n",
        "                }"
      ],
      "metadata": {
        "id": "t8Xpfk7WHmfY"
      },
      "execution_count": null,
      "outputs": []
    },
    {
      "cell_type": "markdown",
      "source": [
        "# Defining common functions"
      ],
      "metadata": {
        "id": "Ltu52KNOHriM"
      }
    },
    {
      "cell_type": "code",
      "source": [
        "def get_countries_count(datasets):\n",
        "  for dataset in datasets:\n",
        "    df = pd.read_csv(datasets_path[dataset])\n",
        "    count = len(set(df.Country.unique()))\n",
        "    print(f\"{'Factor: ' + dataset:<40} count: {count}\")\n"
      ],
      "metadata": {
        "id": "1SBCClj-Hm4-"
      },
      "execution_count": null,
      "outputs": []
    },
    {
      "cell_type": "code",
      "source": [
        "def find_common_countries(datasets):\n",
        "  common_countries = set()\n",
        "  for dataset,yrs in datasets:\n",
        "    countries_list = list(pd.read_csv(datasets_path[dataset]).Country)\n",
        "    countries_list = set(map(lambda x: x.lower(), countries_list))\n",
        "    if common_countries == set():\n",
        "      common_countries = countries_list\n",
        "    else:\n",
        "      common_countries = common_countries.intersection(countries_list)\n",
        "  return list(common_countries)"
      ],
      "metadata": {
        "id": "mAZ_XnycH5wv"
      },
      "execution_count": null,
      "outputs": []
    },
    {
      "cell_type": "code",
      "source": [
        "def generate_indices(countries,years):\n",
        "  keys=[]\n",
        "  for y in years:\n",
        "    for c in countries:\n",
        "      keys.append((c,str(y)))\n",
        "  return keys"
      ],
      "metadata": {
        "id": "3qNjNs-SH9Jg"
      },
      "execution_count": null,
      "outputs": []
    },
    {
      "cell_type": "code",
      "metadata": {
        "id": "c83F6Wgdqr64"
      },
      "source": [
        "def load_datasets_to_pd(datasets,keys,include_output=True):\n",
        "  combined_df = pd.DataFrame(keys,columns=['country','year'])\n",
        "  for dataset,yrs in datasets:\n",
        "    if yrs == 0:\n",
        "      combined_df = add_dataset(combined_df,dataset)\n",
        "    else:\n",
        "      combined_df = add_n_yrs_old_dataset(combined_df,dataset,yrs)\n",
        "      \n",
        "  if include_output:\n",
        "    combined_df = add_dataset(combined_df,dataset,output = True)\n",
        "  return combined_df\n",
        "\n",
        "  "
      ],
      "execution_count": null,
      "outputs": []
    },
    {
      "cell_type": "code",
      "source": [
        "def add_dataset(input_df,dataset,output = False):\n",
        "  label = dataset\n",
        "  if output : \n",
        "    label = \"o_\"+OUTPUT\n",
        "  input_df[label] = [math.nan]*len(input_df)\n",
        "  df = pd.read_csv(datasets_path[dataset])\n",
        "  df[\"Country\"] = df[\"Country\"].str.lower()\n",
        "  df.set_index(\"Country\", inplace=True)\n",
        "  for e in range(len(input_df)):\n",
        "    country = input_df.iloc[e].country\n",
        "    year    = input_df.iloc[e].year\n",
        "    if output:\n",
        "      combined_df.at[e,label] = df.loc[country][str( year + PREDICT_FUTURE )]\n",
        "    else:\n",
        "      input_df.at[e,label] = df.loc[country][year]\n",
        "  return input_df"
      ],
      "metadata": {
        "id": "cA3HG7UMlA3W"
      },
      "execution_count": null,
      "outputs": []
    },
    {
      "cell_type": "code",
      "source": [
        "def create_n_yrs_gst_old_csv(dataset,n):\n",
        "    df = pd.read_csv(datasets_path[dataset])\n",
        "    years = list(range(1960, 2016))\n",
        "    countries = list(df['Country'])\n",
        "    new_df = pd.DataFrame(countries,columns=['Country'])\n",
        "    for i in range(1960,2016):\n",
        "      new_df[i] = np.nan\n",
        "    new_df.set_index('Country',inplace=True)\n",
        "    df.set_index('Country',inplace=True)\n",
        "    for c in countries:\n",
        "      for y in range(1960+n_years,2016):\n",
        "        new_df[y].at[c] = df.loc[c][str(y-n)]\n",
        "    \n",
        "    table_name = str(n)+\"_yrs_old_\"+dataset\n",
        "    datasets_path[table_name] = root+table_name+\".csv\"\n",
        "    new_df.to_csv(root+str(n+\"_yrs_old_\"+dataset+\".csv\",encoding='utf-8', index=True))\n",
        "\n",
        "    return table_name"
      ],
      "metadata": {
        "id": "hlA5wWQkIzDr"
      },
      "execution_count": 4,
      "outputs": []
    },
    {
      "cell_type": "code",
      "source": [
        "def create_n_dropout_csv(dataset,n):\n",
        "    df = pd.read_csv(datasets_path[dataset])\n",
        "    years = list(range(1960, 2016))\n",
        "    countries = list(df['Country'])\n",
        "    drop_out_years = []\n",
        "    for i in range(len(df)):\n",
        "      for year in years:\n",
        "        if df.iloc[i][str(year)] < n:\n",
        "          drop_out_years.append((df.iloc[i]['Country'],(year-1960)))\n",
        "            break\n",
        "      else:\n",
        "        drop_out_years.append((df.iloc[i]['Country'], year-1960))\n",
        "\n",
        "    new_df = pd.DataFrame(countries,columns=['country'])\n",
        "    for i in range(1960,2016):\n",
        "      new_df[i] = np.nan\n",
        "    new_df.set_index('country',inplace=True)\n",
        "    for c,y in drop_out_years:\n",
        "      for i in range(1960,2016):\n",
        "        new_df.at[c,i] = y\n",
        "    table_name = str(n)+\"_dropout_\"+dataset\n",
        "    datasets_path[table_name] = root+table_name+\".csv\"\n",
        "    new_df.to_csv(root+table_name+\".csv\",encoding='utf-8', index=True)\n",
        "\n",
        "    return table_name"
      ],
      "metadata": {
        "id": "zr0kq5dHqQNZ"
      },
      "execution_count": 2,
      "outputs": []
    },
    {
      "cell_type": "code",
      "source": [
        "def combine_dfs(X,y):\n",
        "  label = y.columns[0]\n",
        "  X[label] = y\n",
        "  X.dropna(subset=[label],inplace=True)\n",
        "  return X"
      ],
      "metadata": {
        "id": "kUZ3VvnWI5WL"
      },
      "execution_count": null,
      "outputs": []
    },
    {
      "cell_type": "markdown",
      "source": [
        "# Plotting Data"
      ],
      "metadata": {
        "id": "ePBni4nsI_PQ"
      }
    },
    {
      "cell_type": "code",
      "source": [
        "datasets_to_plot = [\n",
        "            \"infant_mortality\",\n",
        "            \"child_mortality\",\n",
        "            \"children_per_woman\",\n",
        "            \"co2_emissions_percapita\",\n",
        "            \"gini_index\",\n",
        "            \"gdppercapita_us_infla_adjust\",\n",
        "            \"20-24-In_Primary_OL\",\n",
        "            \"20-24-Primary_OL\",\n",
        "            \"20-24-Lower_Secondary_OL\",\n",
        "            \"population\",\n",
        "            \"population_density\",\n",
        "            \"20-24_female-In_Primary_OL\",\n",
        "            \"20-24_female-Primary_OL\" ,\n",
        "            \"20-24_female-Lower_Secondary_OL\",\n",
        "            \"life_expectancy\"\n",
        "            ]\n",
        "\n",
        "# creating a list of all countries & years\n",
        "countries   = find_common_countries(datasets_to_plot)\n",
        "years       = [y for y in range(1960,2015-PREDICT_FUTURE+1)]\n",
        "keys        = generate_indices(countries, years)\n",
        "\n",
        "combined_df = load_datasets_to_pd(datasets_to_plot,keys,include_output=False)"
      ],
      "metadata": {
        "id": "9NWNx-_LKYeL"
      },
      "execution_count": null,
      "outputs": []
    },
    {
      "cell_type": "markdown",
      "source": [
        "## Life Expectancy"
      ],
      "metadata": {
        "id": "037u6w1kJMH_"
      }
    },
    {
      "cell_type": "code",
      "source": [
        "PREDICT_FUTURE  = 0\n",
        "OUTPUT          = 'life_expectancy'\n",
        "n = len(datasets_to_plot)\n",
        "r = math.ceil(math.sqrt(n))\n",
        "i=0\n",
        "for m in range(r):\n",
        "  plt = sns.pairplot(combined_df,diag_kind=\"kde\", y_vars=[OUTPUT], x_vars=[datasets_to_plot[i] for i in range(r*m,min(n,r*(m+1)))], height=4,dropna=True)\n",
        "  plt"
      ],
      "metadata": {
        "id": "kLe_9w6ZJcCN"
      },
      "execution_count": null,
      "outputs": []
    },
    {
      "cell_type": "markdown",
      "source": [
        "## Total Fertility Rate"
      ],
      "metadata": {
        "id": "pkZk3qGMJ8PU"
      }
    },
    {
      "cell_type": "code",
      "source": [
        "PREDICT_FUTURE  = 0\n",
        "OUTPUT          = 'children_per_woman\n",
        "n = len(datasets_to_plot)\n",
        "r = math.ceil(math.sqrt(n))\n",
        "i=0\n",
        "for m in range(r):\n",
        "  plt = sns.pairplot(combined_df,diag_kind=\"kde\", y_vars=[OUTPUT], x_vars=[datasets_to_plot[i] for i in range(r*m,min(n,r*(m+1)))], height=4,dropna=True)\n",
        "  plt"
      ],
      "metadata": {
        "id": "qzwxOH62KM-w"
      },
      "execution_count": null,
      "outputs": []
    },
    {
      "cell_type": "markdown",
      "source": [
        "## Primary education OL"
      ],
      "metadata": {
        "id": "czSh_sfSKowp"
      }
    },
    {
      "cell_type": "code",
      "source": [
        "PREDICT_FUTURE  = 0\n",
        "OUTPUT          = '20-24-Primary_OL'\n",
        "n = len(datasets_to_plot)\n",
        "r = math.ceil(math.sqrt(n))\n",
        "i=0\n",
        "for m in range(r):\n",
        "  plt = sns.pairplot(combined_df,diag_kind=\"kde\", y_vars=[OUTPUT], x_vars=[datasets_to_plot[i] for i in range(r*m,min(n,r*(m+1)))], height=4,dropna=True)\n",
        "  plt"
      ],
      "metadata": {
        "id": "Q7QHRxD3Kp1U"
      },
      "execution_count": null,
      "outputs": []
    },
    {
      "cell_type": "markdown",
      "source": [
        "## GDP per capita"
      ],
      "metadata": {
        "id": "B1bOn1b9KpNe"
      }
    },
    {
      "cell_type": "code",
      "source": [
        "PREDICT_FUTURE  = 0\n",
        "OUTPUT          = 'gdppercapita_us_infla_adjust'\n",
        "n = len(datasets_to_plot)\n",
        "r = math.ceil(math.sqrt(n))\n",
        "i=0\n",
        "for m in range(r):\n",
        "  plt = sns.pairplot(combined_df,diag_kind=\"kde\", y_vars=[OUTPUT], x_vars=[datasets_to_plot[i] for i in range(r*m,min(n,r*(m+1)))], height=4,dropna=True)\n",
        "  plt"
      ],
      "metadata": {
        "id": "CM9eRA5wKOIy"
      },
      "execution_count": null,
      "outputs": []
    },
    {
      "cell_type": "markdown",
      "source": [
        "# Building Model"
      ],
      "metadata": {
        "id": "kZ0ohdJRQcLt"
      }
    },
    {
      "cell_type": "markdown",
      "source": [
        "## Life Expectancy"
      ],
      "metadata": {
        "id": "n7-G1zPTQi8R"
      }
    },
    {
      "cell_type": "code",
      "metadata": {
        "id": "lEv-zMFlFgCm"
      },
      "source": [
        "PREDICT_FUTURE  = 0\n",
        "OUTPUT         = 'life_expectancy'"
      ],
      "execution_count": null,
      "outputs": []
    },
    {
      "cell_type": "code",
      "metadata": {
        "id": "zQlw2De3EPX-"
      },
      "source": [
        "datasets = [\n",
        "            # \"infant_mortality\",\n",
        "            # \"life_expectancy\",\n",
        "            # \"child_mortality\",\n",
        "            \"children_per_woman\",\n",
        "            \"co_emissions_percapita\",\n",
        "            \"gini_index\",\n",
        "            \"gdppercapita_us_infla_adjust\",\n",
        "            \"gdppercapita_us_infla_adjust\",\n",
        "            \"20-24-In_Primary_OL\",\n",
        "            \"20-24-Primary_OL\",\n",
        "            # \"20-24-Lower_Secondary_OL\",\n",
        "            \"population\",\n",
        "            \"20-24_female-In_Primary_OL\",\n",
        "            \"20-24_female-Primary_OL\", ,\n",
        "            # \"20-24_female-Lower_Secondary_OL\",\n",
        "            ]\n",
        "get_countries_count(datasets)"
      ],
      "execution_count": null,
      "outputs": []
    },
    {
      "cell_type": "code",
      "metadata": {
        "id": "6lCbc1WbKgia"
      },
      "source": [
        "# creating a list of all countries & years\n",
        "countries = find_common_countries(datasets)\n",
        "years     = [y for y in range(1960,2015-PREDICT_FUTURE+1)]\n",
        "keys      = generate_indices(countries, years)"
      ],
      "execution_count": null,
      "outputs": []
    },
    {
      "cell_type": "code",
      "metadata": {
        "id": "E1W2z1TcszrP"
      },
      "source": [
        "input_df            = load_datasets_to_pd(datasets,keys)\n",
        "input_df            = add_n_yrs_old_dataset(input_df,\"gdppercapita_us_infla_adjust\",20)\n",
        "input_df.set_index([\"country\",\"year\"], inplace=True)"
      ],
      "execution_count": null,
      "outputs": []
    },
    {
      "cell_type": "code",
      "source": [
        "output_df           = input_df[[\"o_\" + OUTPUT]]\n",
        "input_df.drop(labels=[\"o_\" + OUTPUT], axis = 1, inplace=True)"
      ],
      "metadata": {
        "id": "PXUVrn4ZWFSx"
      },
      "execution_count": null,
      "outputs": []
    },
    {
      "cell_type": "code",
      "metadata": {
        "id": "Kgk60lsfU1AB"
      },
      "source": [
        "input_df"
      ],
      "execution_count": null,
      "outputs": []
    },
    {
      "cell_type": "code",
      "metadata": {
        "id": "X7DlA3Lnwhuf"
      },
      "source": [
        "input_df.isna().sum()"
      ],
      "execution_count": null,
      "outputs": []
    },
    {
      "cell_type": "code",
      "metadata": {
        "id": "gWdEi4ciwoXc"
      },
      "source": [
        "input_df.shape"
      ],
      "execution_count": null,
      "outputs": []
    },
    {
      "cell_type": "code",
      "metadata": {
        "id": "KRYgp4465ve1"
      },
      "source": [
        "X_train, X_test, y_train, y_test = train_test_split(input_df, output_df, test_size=0.30, random_state=43)"
      ],
      "execution_count": null,
      "outputs": []
    },
    {
      "cell_type": "code",
      "metadata": {
        "id": "x2wiwgqk6ZfU"
      },
      "source": [
        "\n",
        "# converting pandas to tensorFlow dataset\n",
        "train_ds = tfdf.keras.pd_dataframe_to_tf_dataset(combine_dfs(X_train,y_train), label=\"o_\"+OUTPUT, task=tfdf.keras.Task.REGRESSION)\n",
        "model = tfdf.keras.RandomForestModel(task = tfdf.keras.Task.REGRESSION)\n",
        "\n",
        "model.fit(x=train_ds)\n",
        "# Convert it to a TensorFlow dataset\n",
        "test_ds = tfdf.keras.pd_dataframe_to_tf_dataset(combine_dfs(X_train,y_train), label=\"o_\"+OUTPUT, task=tfdf.keras.Task.REGRESSION)\n",
        "\n",
        "# Evaluate the model\n",
        "model.compile(metrics=[\"mse\"])\n",
        "# Evaluate the model on the test dataset.\n",
        "evaluation = model.evaluate(test_ds, return_dict=True)\n",
        "print(OUTPUT.upper())\n",
        "print(evaluation)\n",
        "print()\n",
        "print(f\"MSE: {evaluation['mse']}\")\n",
        "print(f\"RMSE: {math.sqrt(evaluation['mse'])}\")\n",
        "print()"
      ],
      "execution_count": null,
      "outputs": []
    },
    {
      "cell_type": "code",
      "metadata": {
        "id": "9km9jt9mBIvM"
      },
      "source": [
        "tfdf.model_plotter.plot_model_in_colab(model, tree_idx=0)"
      ],
      "execution_count": null,
      "outputs": []
    },
    {
      "cell_type": "code",
      "metadata": {
        "id": "9dd29dXaO8AB"
      },
      "source": [
        "# %set_cell_height 300\n",
        "\n",
        "model.summary()"
      ],
      "execution_count": null,
      "outputs": []
    },
    {
      "cell_type": "markdown",
      "source": [
        "## Total Fertility Rate"
      ],
      "metadata": {
        "id": "J6KhYR4mRIYf"
      }
    },
    {
      "cell_type": "code",
      "metadata": {
        "id": "M4aZfaF4RjjX"
      },
      "source": [
        "PREDICT_FUTURE  = 0\n",
        "OUTPUT         = 'children_per_woman'"
      ],
      "execution_count": null,
      "outputs": []
    },
    {
      "cell_type": "code",
      "metadata": {
        "id": "x8kvcF41RjjU"
      },
      "source": [
        "datasets = [\n",
        "            # \"infant_mortality\",\n",
        "            # \"life_expectancy\",\n",
        "            # \"child_mortality\",\n",
        "            \"children_per_woman\",\n",
        "            \"co_emissions_percapita\",\n",
        "            \"gini_index\",\n",
        "            \"gdppercapita_us_infla_adjust\",\n",
        "            \"gdppercapita_us_infla_adjust\",\n",
        "            \"20-24-In_Primary_OL\",\n",
        "            \"20-24-Primary_OL\",\n",
        "            # \"20-24-Lower_Secondary_OL\",\n",
        "            \"population\",\n",
        "            \"20-24_female-In_Primary_OL\",\n",
        "            \"20-24_female-Primary_OL\", ,\n",
        "            # \"20-24_female-Lower_Secondary_OL\",\n",
        "            ]\n",
        "get_countries_count(datasets)"
      ],
      "execution_count": null,
      "outputs": []
    },
    {
      "cell_type": "code",
      "metadata": {
        "id": "VzOULbTzRjjd"
      },
      "source": [
        "# creating a list of all countries & years\n",
        "countries = find_common_countries(datasets)\n",
        "years     = [y for y in range(1960,2015-PREDICT_FUTURE+1)]\n",
        "keys      = generate_indices(countries, years)"
      ],
      "execution_count": null,
      "outputs": []
    },
    {
      "cell_type": "code",
      "metadata": {
        "id": "A8k7GO3eRjje"
      },
      "source": [
        "input_df            = load_datasets_to_pd(datasets,keys)\n",
        "# input_df            = add_n_yrs_old_dataset(input_df,\"gdppercapita_us_infla_adjust\",20)\n",
        "input_df.set_index([\"country\",\"year\"], inplace=True)\n",
        "output_df           = input_df[[\"o_\" + OUTPUT]]\n",
        "input_df.drop(labels=[\"o_\" + OUTPUT], axis = 1, inplace=True)"
      ],
      "execution_count": null,
      "outputs": []
    },
    {
      "cell_type": "code",
      "metadata": {
        "id": "83MaE8NoRjje"
      },
      "source": [
        "input_df"
      ],
      "execution_count": null,
      "outputs": []
    },
    {
      "cell_type": "code",
      "metadata": {
        "id": "vLgXULhQWNLA"
      },
      "source": [
        "input_df.isna().sum()"
      ],
      "execution_count": null,
      "outputs": []
    },
    {
      "cell_type": "code",
      "metadata": {
        "id": "KDygxHE8WNLB"
      },
      "source": [
        "input_df.shape"
      ],
      "execution_count": null,
      "outputs": []
    },
    {
      "cell_type": "code",
      "metadata": {
        "id": "7QRuj2D0Rjjg"
      },
      "source": [
        "X_train, X_test, y_train, y_test = train_test_split(input_df, output_df, test_size=0.30, random_state=43)"
      ],
      "execution_count": null,
      "outputs": []
    },
    {
      "cell_type": "code",
      "metadata": {
        "id": "fSF6pVbIRjjj"
      },
      "source": [
        "\n",
        "# converting pandas to tensorFlow dataset\n",
        "train_ds = tfdf.keras.pd_dataframe_to_tf_dataset(combine_dfs(X_train,y_train), label=\"o_\"+OUTPUT, task=tfdf.keras.Task.REGRESSION)\n",
        "model = tfdf.keras.RandomForestModel(task = tfdf.keras.Task.REGRESSION)\n",
        "\n",
        "model.fit(x=train_ds)\n",
        "# Convert it to a TensorFlow dataset\n",
        "test_ds = tfdf.keras.pd_dataframe_to_tf_dataset(combine_dfs(X_train,y_train), label=\"o_\"+OUTPUT, task=tfdf.keras.Task.REGRESSION)\n",
        "\n",
        "# Evaluate the model\n",
        "model.compile(metrics=[\"mse\"])\n",
        "# Evaluate the model on the test dataset.\n",
        "evaluation = model.evaluate(test_ds, return_dict=True)\n",
        "print(OUTPUT.upper())\n",
        "print(evaluation)\n",
        "print()\n",
        "print(f\"MSE: {evaluation['mse']}\")\n",
        "print(f\"RMSE: {math.sqrt(evaluation['mse'])}\")\n",
        "print()"
      ],
      "execution_count": null,
      "outputs": []
    },
    {
      "cell_type": "code",
      "metadata": {
        "id": "mWXFs7RTRjjk"
      },
      "source": [
        "tfdf.model_plotter.plot_model_in_colab(model, tree_idx=0)"
      ],
      "execution_count": null,
      "outputs": []
    },
    {
      "cell_type": "code",
      "metadata": {
        "id": "VCdZ7yX2Rjjl"
      },
      "source": [
        "# %set_cell_height 300\n",
        "\n",
        "model.summary()"
      ],
      "execution_count": null,
      "outputs": []
    },
    {
      "cell_type": "markdown",
      "source": [
        "## Primary education OL"
      ],
      "metadata": {
        "id": "9sc8HWQyR4L7"
      }
    },
    {
      "cell_type": "code",
      "metadata": {
        "colab": {
          "base_uri": "https://localhost:8080/"
        },
        "outputId": "1bea554c-fa3a-4198-e2a9-b9df8696a3ae",
        "id": "KR0Dh4KLSK0O"
      },
      "source": [
        "PREDICT_FUTURE = 0\n",
        "OUTPUT         = '20-24-Primary_OL'\n"
      ],
      "execution_count": null,
      "outputs": [
        {
          "output_type": "stream",
          "name": "stdout",
          "text": [
            "Factor: infant_mortality                 count: 266\n",
            "Factor: life_expectancy                  count: 195\n",
            "Factor: child_mortality                  count: 197\n",
            "Factor: children_per_woman               count: 202\n",
            "Factor: co2_emissions_percapita          count: 194\n",
            "Factor: gdppercapita_us_infla_adjust     count: 207\n"
          ]
        }
      ]
    },
    {
      "cell_type": "code",
      "metadata": {
        "id": "JJUdD5loSK0J"
      },
      "source": [
        "datasets = [\n",
        "            # \"infant_mortality\",\n",
        "            # \"life_expectancy\",\n",
        "            # \"child_mortality\",\n",
        "            \"children_per_woman\",\n",
        "            \"co_emissions_percapita\",\n",
        "            \"gini_index\",\n",
        "            \"gdppercapita_us_infla_adjust\",\n",
        "            \"gdppercapita_us_infla_adjust\",\n",
        "            \"20-24-In_Primary_OL\",\n",
        "            \"20-24-Primary_OL\",\n",
        "            # \"20-24-Lower_Secondary_OL\",\n",
        "            \"population\",\n",
        "            \"20-24_female-In_Primary_OL\",\n",
        "            \"20-24_female-Primary_OL\", ,\n",
        "            # \"20-24_female-Lower_Secondary_OL\",\n",
        "            ]\n",
        "get_countries_count(datasets)"
      ],
      "execution_count": null,
      "outputs": []
    },
    {
      "cell_type": "code",
      "metadata": {
        "id": "O73UttmPSK0P"
      },
      "source": [
        "# creating a list of all countries & years\n",
        "countries = find_common_countries(datasets)\n",
        "years     = [y for y in range(1960,2015-PREDICT_FUTURE+1)]\n",
        "keys      = generate_indices(countries, years)"
      ],
      "execution_count": null,
      "outputs": []
    },
    {
      "cell_type": "code",
      "metadata": {
        "id": "-Gf0qtOZSK0Q"
      },
      "source": [
        "input_df            = load_datasets_to_pd(datasets,keys)\n",
        "input_df            = add_n_yrs_old_dataset(input_df,\"gdppercapita_us_infla_adjust\",20)\n",
        "input_df.dropna(subset=[\"gdppercapita_us_infla_adjust\"],inplace=True)\n",
        "input_df.set_index([\"country\",\"year\"], inplace=True)"
      ],
      "execution_count": null,
      "outputs": []
    },
    {
      "cell_type": "code",
      "source": [
        "output_df           = input_df[[\"o_\" + OUTPUT]]\n",
        "input_df.drop(labels=[\"o_\" + OUTPUT], axis = 1, inplace=True)"
      ],
      "metadata": {
        "id": "tlS62tKhCAkE"
      },
      "execution_count": null,
      "outputs": []
    },
    {
      "cell_type": "code",
      "metadata": {
        "id": "E4EvcxlBSK0X"
      },
      "source": [
        "input_df"
      ],
      "execution_count": null,
      "outputs": []
    },
    {
      "cell_type": "code",
      "source": [
        "input_df.isna().sum()"
      ],
      "metadata": {
        "id": "K5SUdXJQB6iq"
      },
      "execution_count": null,
      "outputs": []
    },
    {
      "cell_type": "code",
      "source": [
        "input_df.shape"
      ],
      "metadata": {
        "id": "q_vhABxuWTOn"
      },
      "execution_count": null,
      "outputs": []
    },
    {
      "cell_type": "code",
      "metadata": {
        "id": "NlnFvUd-SK0X"
      },
      "source": [
        "X_train, X_test, y_train, y_test = train_test_split(input_df, output_df, test_size=0.30, random_state=43)"
      ],
      "execution_count": null,
      "outputs": []
    },
    {
      "cell_type": "code",
      "metadata": {
        "id": "QYeX15ATSK0a"
      },
      "source": [
        "\n",
        "# converting pandas to tensorFlow dataset\n",
        "train_ds = tfdf.keras.pd_dataframe_to_tf_dataset(combine_dfs(X_train,y_train), label=\"o_\"+OUTPUT, task=tfdf.keras.Task.REGRESSION)\n",
        "model = tfdf.keras.RandomForestModel(task = tfdf.keras.Task.REGRESSION)\n",
        "\n",
        "model.fit(x=train_ds)\n",
        "# Convert it to a TensorFlow dataset\n",
        "test_ds = tfdf.keras.pd_dataframe_to_tf_dataset(combine_dfs(X_train,y_train), label=\"o_\"+OUTPUT, task=tfdf.keras.Task.REGRESSION)\n",
        "\n",
        "# Evaluate the model\n",
        "model.compile(metrics=[\"mse\"])\n",
        "# Evaluate the model on the test dataset.\n",
        "evaluation = model.evaluate(test_ds, return_dict=True)\n",
        "print(OUTPUT.upper())\n",
        "print(evaluation)\n",
        "print()\n",
        "print(f\"MSE: {evaluation['mse']}\")\n",
        "print(f\"RMSE: {math.sqrt(evaluation['mse'])}\")\n",
        "print()"
      ],
      "execution_count": null,
      "outputs": []
    },
    {
      "cell_type": "code",
      "metadata": {
        "id": "MJMsDaEgSK0c"
      },
      "source": [
        "tfdf.model_plotter.plot_model_in_colab(model, tree_idx=0)"
      ],
      "execution_count": null,
      "outputs": []
    },
    {
      "cell_type": "code",
      "metadata": {
        "id": "x6pS0GbjSK0d"
      },
      "source": [
        "# %set_cell_height 300\n",
        "\n",
        "model.summary()"
      ],
      "execution_count": null,
      "outputs": []
    },
    {
      "cell_type": "markdown",
      "source": [
        "## GDP per capita"
      ],
      "metadata": {
        "id": "DaMr3ulNSgTz"
      }
    },
    {
      "cell_type": "code",
      "source": [
        "created_datasets = []\n",
        "created_datasets.append(create_n_yrs_gst_old_csv(\"gdppercapita_us_infla_adjust\",20))"
      ],
      "metadata": {
        "id": "7bNxG67cAW_p"
      },
      "execution_count": null,
      "outputs": []
    },
    {
      "cell_type": "code",
      "metadata": {
        "id": "ruT8d-gvTGMw"
      },
      "source": [
        "PREDICT_FUTURE  = 0\n",
        "OUTPUT         = 'gdppercapita_us_infla_adjust'\n"
      ],
      "execution_count": null,
      "outputs": []
    },
    {
      "cell_type": "code",
      "metadata": {
        "id": "Shmi3Nu-TGMf"
      },
      "source": [
        "datasets = [\n",
        "            # \"infant_mortality\",\n",
        "            # \"life_expectancy\",\n",
        "            # \"child_mortality\",\n",
        "            \"children_per_woman\",\n",
        "            \"co_emissions_percapita\",\n",
        "            \"gini_index\",\n",
        "            \"gdppercapita_us_infla_adjust\",\n",
        "            \"gdppercapita_us_infla_adjust\",\n",
        "            \"20-24-In_Primary_OL\",\n",
        "            \"20-24-Primary_OL\",\n",
        "            # \"20-24-Lower_Secondary_OL\",\n",
        "            \"population\",\n",
        "            \"20-24_female-In_Primary_OL\",\n",
        "            \"20-24_female-Primary_OL\", ,\n",
        "            # \"20-24_female-Lower_Secondary_OL\",\n",
        "            ]\n",
        "get_countries_count(datasets)"
      ],
      "execution_count": null,
      "outputs": []
    },
    {
      "cell_type": "code",
      "metadata": {
        "id": "N3f4oUsPTGM1"
      },
      "source": [
        "# creating a list of all countries & years\n",
        "countries = find_common_countries(datasets)\n",
        "years     = [y for y in range(1960,2015-PREDICT_FUTURE+1)]\n",
        "keys      = generate_indices(countries, years)"
      ],
      "execution_count": null,
      "outputs": []
    },
    {
      "cell_type": "code",
      "metadata": {
        "id": "9HB5QShVTGM1"
      },
      "source": [
        "input_df            = load_datasets_to_pd(datasets,keys)\n",
        "input_df            = add_n_yrs_old_dataset(input_df,\"gdppercapita_us_infla_adjust\",20)\n",
        "input_df.set_index([\"country\",\"year\"], inplace=True)\n",
        "input_df['o_gdppercapita_us_infla_adjust'] = np.log(input_df['o_gdppercapita_us_infla_adjust'])\n",
        "input_df['gdppercapita_us_infla_adjust'+\"_\"+str(20)+\"years_before\"] = np.log(input_df['gdppercapita_us_infla_adjust'+\"_\"+str(20)+\"years_before\"])"
      ],
      "execution_count": null,
      "outputs": []
    },
    {
      "cell_type": "code",
      "source": [
        "output_df           = input_df[[\"o_\" + OUTPUT]]\n",
        "input_df.drop(labels=[\"o_\" + OUTPUT], axis = 1, inplace=True)"
      ],
      "metadata": {
        "id": "iJBdidLCEz6i"
      },
      "execution_count": null,
      "outputs": []
    },
    {
      "cell_type": "code",
      "metadata": {
        "colab": {
          "base_uri": "https://localhost:8080/"
        },
        "outputId": "aab951c5-ae8b-4029-d630-c55e7feb91ac",
        "id": "jrfHfBbuTGM4"
      },
      "source": [
        "print(input_df.shape)\n",
        "input_df.isna().sum()"
      ],
      "execution_count": null,
      "outputs": [
        {
          "output_type": "stream",
          "name": "stdout",
          "text": [
            "(8624, 11)\n"
          ]
        },
        {
          "output_type": "execute_result",
          "data": {
            "text/plain": [
              "infant_mortality                                782\n",
              "life_expectancy                                   0\n",
              "child_mortality                                   0\n",
              "children_per_woman                                0\n",
              "20-24-In_Primary_OL                               0\n",
              "20-24-Primary_OL                                  0\n",
              "20-24-Lower_Secondary_OL                          0\n",
              "20-24_female-In_Primary_OL                        0\n",
              "20-24_female-Primary_OL                           0\n",
              "20-24_female-Lower_Secondary_OL                   0\n",
              "gdppercapita_us_infla_adjust_20years_before    4884\n",
              "dtype: int64"
            ]
          },
          "metadata": {},
          "execution_count": 68
        }
      ]
    },
    {
      "cell_type": "code",
      "source": [
        "input_df.describe()"
      ],
      "metadata": {
        "id": "2EgkQY5O6V7d"
      },
      "execution_count": null,
      "outputs": []
    },
    {
      "cell_type": "code",
      "source": [
        "input_df"
      ],
      "metadata": {
        "id": "jhoIWh0L7y-9"
      },
      "execution_count": null,
      "outputs": []
    },
    {
      "cell_type": "code",
      "metadata": {
        "id": "L7qv4z0iTGM_"
      },
      "source": [
        "X_train, X_test, y_train, y_test = train_test_split(input_df, output_df, test_size=0.30, random_state=43)"
      ],
      "execution_count": null,
      "outputs": []
    },
    {
      "cell_type": "code",
      "metadata": {
        "id": "z_TuZBq5TGM_"
      },
      "source": [
        "X_train.isna().sum()"
      ],
      "execution_count": null,
      "outputs": []
    },
    {
      "cell_type": "code",
      "metadata": {
        "id": "HGWRfEucTGNA"
      },
      "source": [
        "y_train.isna().sum()"
      ],
      "execution_count": null,
      "outputs": []
    },
    {
      "cell_type": "code",
      "metadata": {
        "id": "dkGKrQhfTGNA"
      },
      "source": [
        "\n",
        "# converting pandas to tensorFlow dataset\n",
        "train_ds = tfdf.keras.pd_dataframe_to_tf_dataset(combine_dfs(X_train,y_train), label=\"o_\"+OUTPUT, task=tfdf.keras.Task.REGRESSION)\n",
        "model = tfdf.keras.RandomForestModel(task = tfdf.keras.Task.REGRESSION)\n",
        "\n",
        "model.fit(x=train_ds)\n",
        "# Convert it to a TensorFlow dataset\n",
        "test_ds = tfdf.keras.pd_dataframe_to_tf_dataset(combine_dfs(X_train,y_train), label=\"o_\"+OUTPUT, task=tfdf.keras.Task.REGRESSION)\n",
        "\n",
        "# Evaluate the model\n",
        "model.compile(metrics=[\"mse\"])\n",
        "# Evaluate the model on the test dataset.\n",
        "evaluation = model.evaluate(test_ds, return_dict=True)\n",
        "print(OUTPUT.upper())\n",
        "print(evaluation)\n",
        "print()\n",
        "print(f\"MSE: {evaluation['mse']}\")\n",
        "print(f\"RMSE: {math.sqrt(evaluation['mse'])}\")\n",
        "print()"
      ],
      "execution_count": null,
      "outputs": []
    },
    {
      "cell_type": "code",
      "metadata": {
        "id": "So2TRuh7TGNA"
      },
      "source": [
        "tfdf.model_plotter.plot_model_in_colab(model, tree_idx=0)"
      ],
      "execution_count": null,
      "outputs": []
    },
    {
      "cell_type": "code",
      "metadata": {
        "id": "m5cwPXhUTGNB"
      },
      "source": [
        "# %set_cell_height 300\n",
        "\n",
        "model.summary()"
      ],
      "execution_count": null,
      "outputs": []
    },
    {
      "cell_type": "code",
      "source": [
        "for f in created_datasets:\n",
        "  if os.path.isfile(datasets_path[f]): # this makes the code more robust\n",
        "        os.remove(datasets_path[f])"
      ],
      "metadata": {
        "id": "NaA1CMEiApdM"
      },
      "execution_count": null,
      "outputs": []
    }
  ]
}