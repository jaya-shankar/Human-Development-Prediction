{
  "nbformat": 4,
  "nbformat_minor": 0,
  "metadata": {
    "colab": {
      "name": "life_expectancy_model.ipynb",
      "provenance": [],
      "collapsed_sections": [],
      "include_colab_link": true
    },
    "kernelspec": {
      "name": "python3",
      "display_name": "Python 3"
    },
    "language_info": {
      "name": "python"
    }
  },
  "cells": [
    {
      "cell_type": "markdown",
      "metadata": {
        "id": "view-in-github",
        "colab_type": "text"
      },
      "source": [
        "<a href=\"https://colab.research.google.com/github/jaya-shankar/education-impact/blob/master/life_expectancy_model.ipynb\" target=\"_parent\"><img src=\"https://colab.research.google.com/assets/colab-badge.svg\" alt=\"Open In Colab\"/></a>"
      ]
    },
    {
      "cell_type": "markdown",
      "metadata": {
        "id": "XFiMWKD-aEI_"
      },
      "source": [
        "### Model Performace History\n",
        "\n",
        "1.   Cosidering life expectancy as input\n",
        "      \n",
        "      1. *Training using max no of countries:*\\\n",
        "          **MSE**: 1.421960711479187\n",
        "          \n",
        "      2. *Training using min no of countries:*\\\n",
        "          **MSE**: 1.6800711154937744\n",
        "\n",
        "      3. *Training using only common countries:*\\\n",
        "          **MSE**: 1.5712116956710815\n",
        "\n",
        "2.   Not cosidering life expectancy as input\n",
        "      1. *Trained using max no of countries:*\\\n",
        "          **MSE**: 1.9395439624786377\n",
        "\n",
        "      2. *Trained using min no of countries*:\\\n",
        "          **MSE**: 2.161480665206909\n",
        "\n",
        "      3. *Trained using only common countries*:\\\n",
        "          **MSE**: 2.10016131401062\n",
        "\n"
      ]
    },
    {
      "cell_type": "code",
      "metadata": {
        "colab": {
          "base_uri": "https://localhost:8080/"
        },
        "id": "_5tBhvAJeBj7",
        "outputId": "91d85972-1634-4677-9f79-51fea2ff1281"
      },
      "source": [
        "!rm -rf education-impact\n",
        "!rm education-impact"
      ],
      "execution_count": 171,
      "outputs": [
        {
          "output_type": "stream",
          "name": "stdout",
          "text": [
            "rm: cannot remove 'education-impact': No such file or directory\n"
          ]
        }
      ]
    },
    {
      "cell_type": "code",
      "metadata": {
        "id": "WLCGn-YlJ5k5",
        "colab": {
          "base_uri": "https://localhost:8080/"
        },
        "outputId": "589235c1-1ebb-4ca8-9e78-285421bbc307"
      },
      "source": [
        "!git clone https://github.com/jaya-shankar/education-impact.git\n"
      ],
      "execution_count": 172,
      "outputs": [
        {
          "output_type": "stream",
          "name": "stdout",
          "text": [
            "Cloning into 'education-impact'...\n",
            "remote: Enumerating objects: 318, done.\u001b[K\n",
            "remote: Counting objects: 100% (318/318), done.\u001b[K\n",
            "remote: Compressing objects: 100% (269/269), done.\u001b[K\n",
            "remote: Total 318 (delta 157), reused 157 (delta 46), pack-reused 0\u001b[K\n",
            "Receiving objects: 100% (318/318), 2.11 MiB | 16.39 MiB/s, done.\n",
            "Resolving deltas: 100% (157/157), done.\n"
          ]
        }
      ]
    },
    {
      "cell_type": "code",
      "metadata": {
        "id": "Jo8dc6Xv7sPc"
      },
      "source": [
        "# !pip install tensorflow_decision_forests\n",
        "# !pip install wurlitzer\n",
        "# !pip install seaborn"
      ],
      "execution_count": 173,
      "outputs": []
    },
    {
      "cell_type": "code",
      "metadata": {
        "id": "UNc6Or80qBwS"
      },
      "source": [
        "import pandas as pd\n",
        "import numpy as np\n",
        "import math\n",
        "import seaborn as sns\n",
        "import tensorflow_decision_forests as tfdf\n",
        "from sklearn.model_selection import train_test_split\n",
        "from wurlitzer import sys_pipes"
      ],
      "execution_count": 174,
      "outputs": []
    },
    {
      "cell_type": "code",
      "metadata": {
        "id": "mHtPKJNNQ7Zv",
        "cellView": "code"
      },
      "source": [
        "#@title Default title text\n",
        "root = \"education-impact/\" \n",
        "datasets_path = {\n",
        "                    \"infant_mortality\"              :  root+ \"datasets/Infant_Mortality_Rate.csv\",\n",
        "                    \"child_mortality\"               :  root+ \"datasets/child_mortality_0_5_year_olds_dying_per_1000_born.csv\",\n",
        "                    \"children_per_woman\"            :  root+ \"datasets/children_per_woman_total_fertility.csv\",\n",
        "                    \"co2_emissions\"                 :  root+ \"datasets/co2_emissions_tonnes_per_person.csv\",\n",
        "                    \"population\"                    :  root+ \"datasets/converted_pop.csv\",\n",
        "                    \"food_supply\"                   :  root+ \"datasets/food_supply_kilocalories_per_person_and_day.csv\",\n",
        "                    \"gdp_growth\"                    :  root+ \"datasets/gdp_per_capita_yearly_growth.csv\",\n",
        "                    \"Avg_daily_income_ppp\"          :  root+ \"datasets/mincpcap_cppp.csv\",\n",
        "                    \"gdppercapita_us_infla_adjust\"  :  root+ \"datasets/gdppercapita_us_inflation_adjusted.csv\",\n",
        "                    \"gini_index\"                    :  root+ \"datasets/gini.csv\",\n",
        "                    \"life_expectancy\"               :  root+ \"datasets/life_expectancy_years.csv\",\n",
        "                    \"malnutrition\"                  :  root+ \"datasets/malnutrition_weight_for_age_percent_of_children_under_5.csv\",\n",
        "                    \"poverty_index\"                 :  root+ \"datasets/mincpcap_cppp.csv\",\n",
        "                    \"maternal_mortality\"            :  root+ \"datasets/mmr_who.csv\",\n",
        "                    \"people_in_poverty\"             :  root+ \"datasets/number_of_people_in_poverty.csv\",\n",
        "                    \"primary_completion\"            :  root+ \"datasets/primary_school_completion_percent_of_girls.csv\",\n",
        "                    \"ratio_b/g_in_primary\"          :  root+ \"datasets/ratio_of_girls_to_boys_in_primary_and_secondary_education_perc.csv\",\n",
        "                    \"wcde-25--34\"                   :  root+ \"datasets/wcde-25--34.csv\",\n",
        "                    \"wcde-Incomplete_Primary\"       :  root+ \"datasets/wcde-Incomplete Primary.csv\",\n",
        "                    \"wcde-Lower_Secondary\"          :  root+ \"datasets/wcde-Lower Secondary.csv\",\n",
        "                    \"wcde-Post_Secondary\"           :  root+ \"datasets/wcde-Post Secondary.csv\",\n",
        "                    \"wcde_female-Incomplete_Primary\":  root+ \"datasets/wcde_female-Incomplete Primary.csv\",\n",
        "                    \"wcde_female-Lower_Secondary\"   :  root+ \"datasets/wcde_female-Lower Secondary.csv\",\n",
        "                    \"wcde_female-Post_Secondary\"    :  root+ \"datasets/wcde_female-Post Secondary.csv\",\n",
        "                    \"wcde-In_Primary_OL\"            :  root+ \"datasets/wcde-In_Primary_OL.csv\",\n",
        "                    \"wcde-Primary_OL\"               :  root+ \"datasets/wcde-Primary_OL.csv\",\n",
        "                    \"wcde-Lower_Secondary_OL\"       :  root+ \"datasets/wcde-Lower_Secondary_OL.csv\",\n",
        "                    \"female_wcde-In_Primary_OL\"     :  root+ \"datasets/wcde-female_In_Primary_OL.csv\",\n",
        "                    \"female_wcde-Primary_OL\"        :  root+ \"datasets/wcde-female_Primary_OL.csv\",\n",
        "                    \"female_wcde-Lower_Secondary_OL\":  root+ \"datasets/wcde-female_Lower_Secondary_OL.csv\"\n",
        "                }"
      ],
      "execution_count": 226,
      "outputs": []
    },
    {
      "cell_type": "code",
      "metadata": {
        "id": "zQlw2De3EPX-"
      },
      "source": [
        "datasets = [\n",
        "            # \"infant_mortality\",\n",
        "            # \"life_expectancy\",\n",
        "            # \"child_mortality\",\n",
        "            \"children_per_woman\",\n",
        "            \"co2_emissions\",\n",
        "            \"gini_index\",\n",
        "            \"gdppercapita_us_infla_adjust\",\n",
        "            \"wcde-In_Primary_OL\",\n",
        "            \"wcde-Primary_OL\",\n",
        "            # \"wcde-Lower_Secondary_OL\",\n",
        "            \"population\",\n",
        "            \"female_wcde-In_Primary_OL\",\n",
        "            \"female_wcde-Primary_OL\" ,\n",
        "            # \"female_wcde-Lower_Secondary_OL\"\n",
        "            ]"
      ],
      "execution_count": 301,
      "outputs": []
    },
    {
      "cell_type": "code",
      "metadata": {
        "id": "lEv-zMFlFgCm"
      },
      "source": [
        "PREDICT_FUTURE  = 10\n",
        "OUTPUTS         = ['life_expectancy']\n",
        "                   "
      ],
      "execution_count": 302,
      "outputs": []
    },
    {
      "cell_type": "code",
      "metadata": {
        "id": "PWHauD_9RN8n",
        "colab": {
          "base_uri": "https://localhost:8080/"
        },
        "outputId": "c849a328-2256-4bba-a453-666038f769e1"
      },
      "source": [
        "# to find out how many countries each dataset has\n",
        "countries_count      = None\n",
        "least_dataset_path   = None\n",
        "for dataset in datasets:\n",
        "  df = pd.read_csv(datasets_path[dataset])\n",
        "  count = len(set(df.Country.unique()))\n",
        "  if not countries_count:\n",
        "    countries_count = count\n",
        "    least_dataset_path   = datasets_path[dataset]\n",
        "  elif countries_count > count:\n",
        "    countries_count = count\n",
        "    least_dataset_path   = datasets_path[dataset]\n",
        "  print(f\"{'Factor: ' + dataset:<30} count: {count}\")\n",
        "print(f\"{'To use: ' + least_dataset_path:<30} count: {countries_count}\")"
      ],
      "execution_count": 303,
      "outputs": [
        {
          "output_type": "stream",
          "name": "stdout",
          "text": [
            "Factor: children_per_woman     count: 202\n",
            "Factor: co2_emissions          count: 194\n",
            "Factor: gini_index             count: 195\n",
            "Factor: gdppercapita_us_infla_adjust count: 207\n",
            "Factor: wcde-In_Primary_OL     count: 202\n",
            "Factor: wcde-Primary_OL        count: 202\n",
            "Factor: population             count: 197\n",
            "Factor: female_wcde-In_Primary_OL count: 202\n",
            "Factor: female_wcde-Primary_OL count: 202\n",
            "To use: education-impact/datasets/co2_emissions_tonnes_per_person.csv count: 194\n"
          ]
        }
      ]
    },
    {
      "cell_type": "code",
      "metadata": {
        "id": "ZpydOBe_ZESB"
      },
      "source": [
        ""
      ],
      "execution_count": 303,
      "outputs": []
    },
    {
      "cell_type": "code",
      "metadata": {
        "colab": {
          "base_uri": "https://localhost:8080/"
        },
        "id": "OEMcE1movJBw",
        "outputId": "d7b37bcd-97c7-466a-9b47-6a3b5b1b5d96"
      },
      "source": [
        "common_countries = set()\n",
        "for dataset in datasets:\n",
        "  countries_list = list(pd.read_csv(datasets_path[dataset]).Country)\n",
        "  countries_list = set(map(lambda x: x.lower(), countries_list))\n",
        "  if common_countries == set():\n",
        "    common_countries = countries_list\n",
        "  else:\n",
        "    common_countries = common_countries.intersection(countries_list)\n",
        "len(common_countries)"
      ],
      "execution_count": 304,
      "outputs": [
        {
          "output_type": "execute_result",
          "data": {
            "text/plain": [
              "158"
            ]
          },
          "metadata": {},
          "execution_count": 304
        }
      ]
    },
    {
      "cell_type": "code",
      "metadata": {
        "id": "6lCbc1WbKgia"
      },
      "source": [
        "# creating a list of all countries & years\n",
        "countries = list(common_countries)\n",
        "years     = [y for y in range(1960,2015-PREDICT_FUTURE+1)]"
      ],
      "execution_count": 305,
      "outputs": []
    },
    {
      "cell_type": "code",
      "metadata": {
        "colab": {
          "base_uri": "https://localhost:8080/"
        },
        "id": "xiq8YOwXdzXL",
        "outputId": "e9c62234-6824-45cc-f572-2849159735a6"
      },
      "source": [
        "len(countries)"
      ],
      "execution_count": 306,
      "outputs": [
        {
          "output_type": "execute_result",
          "data": {
            "text/plain": [
              "158"
            ]
          },
          "metadata": {},
          "execution_count": 306
        }
      ]
    },
    {
      "cell_type": "code",
      "metadata": {
        "id": "zcGs5bV_OlyL"
      },
      "source": [
        "keys=[]\n",
        "for y in years:\n",
        "  for c in countries:\n",
        "    keys.append((c,str(y)))"
      ],
      "execution_count": 307,
      "outputs": []
    },
    {
      "cell_type": "code",
      "metadata": {
        "id": "GF8pxSpGlaKM"
      },
      "source": [
        "big_dic = {k : [] for k in keys}\n",
        "for dataset in datasets:\n",
        "  df = pd.read_csv(datasets_path[dataset])\n",
        "  df[\"Country\"] = df[\"Country\"].str.lower()\n",
        "  df.set_index(\"Country\", inplace=True)\n",
        "  for k in keys:\n",
        "    try:\n",
        "      big_dic[k].append(df.loc[k[0]][k[1]])\n",
        "    except:\n",
        "      big_dic[k].append(np.NaN)\n",
        " "
      ],
      "execution_count": 308,
      "outputs": []
    },
    {
      "cell_type": "code",
      "metadata": {
        "id": "NgqcguWjsUGI"
      },
      "source": [
        "for output_path in OUTPUTS:\n",
        "  df = pd.read_csv(datasets_path[output_path])\n",
        "  df[\"Country\"] = df[\"Country\"].str.lower()\n",
        "  df.set_index(\"Country\", inplace=True)\n",
        "  for k in keys:\n",
        "    try:\n",
        "      big_dic[k].append(df.loc[k[0]][str(int(k[1])+PREDICT_FUTURE)])\n",
        "    except:\n",
        "      big_dic[k].append(np.NaN)"
      ],
      "execution_count": 309,
      "outputs": []
    },
    {
      "cell_type": "code",
      "metadata": {
        "id": "WVnfofKptBRt"
      },
      "source": [
        "columns = [k for k in datasets ]\n",
        "output_columns = [\"o_\"+o for o in OUTPUTS]\n",
        "columns.extend(output_columns)"
      ],
      "execution_count": 310,
      "outputs": []
    },
    {
      "cell_type": "code",
      "metadata": {
        "id": "E1W2z1TcszrP"
      },
      "source": [
        "input_df = pd.DataFrame.from_dict(big_dic,orient='index', columns = columns)\n",
        "output_df = input_df[[\"o_\"+o for o in OUTPUTS]]\n",
        "input_df.drop(labels=[\"o_\"+o for o in OUTPUTS], axis = 1, inplace=True)"
      ],
      "execution_count": 311,
      "outputs": []
    },
    {
      "cell_type": "code",
      "metadata": {
        "id": "KRYgp4465ve1"
      },
      "source": [
        "X_train, X_test, y_train, y_test = train_test_split(input_df, output_df, test_size=0.30, random_state=43)"
      ],
      "execution_count": 312,
      "outputs": []
    },
    {
      "cell_type": "code",
      "metadata": {
        "colab": {
          "base_uri": "https://localhost:8080/"
        },
        "id": "UoY9_jY9n7Wo",
        "outputId": "faf7512c-ba94-4c82-e8a0-360e1eab0c3b"
      },
      "source": [
        "X_train.isna().sum()"
      ],
      "execution_count": 313,
      "outputs": [
        {
          "output_type": "execute_result",
          "data": {
            "text/plain": [
              "children_per_woman                 0\n",
              "co2_emissions                     97\n",
              "gini_index                         0\n",
              "gdppercapita_us_infla_adjust    1299\n",
              "wcde-In_Primary_OL                 0\n",
              "wcde-Primary_OL                    0\n",
              "population                         0\n",
              "female_wcde-In_Primary_OL          0\n",
              "female_wcde-Primary_OL             0\n",
              "dtype: int64"
            ]
          },
          "metadata": {},
          "execution_count": 313
        }
      ]
    },
    {
      "cell_type": "code",
      "metadata": {
        "colab": {
          "base_uri": "https://localhost:8080/"
        },
        "id": "sefswM8hpqdg",
        "outputId": "977f9347-6e68-4bfe-836d-4a7c8889555e"
      },
      "source": [
        "y_train.isna().sum()"
      ],
      "execution_count": 314,
      "outputs": [
        {
          "output_type": "execute_result",
          "data": {
            "text/plain": [
              "o_life_expectancy    0\n",
              "dtype: int64"
            ]
          },
          "metadata": {},
          "execution_count": 314
        }
      ]
    },
    {
      "cell_type": "code",
      "metadata": {
        "colab": {
          "base_uri": "https://localhost:8080/",
          "height": 589
        },
        "id": "W3KhYqGwyuFg",
        "outputId": "fa7ad29e-8cb3-4684-ed80-70a0e128bc15"
      },
      "source": [
        "X_train"
      ],
      "execution_count": 315,
      "outputs": [
        {
          "output_type": "execute_result",
          "data": {
            "text/html": [
              "<div>\n",
              "<style scoped>\n",
              "    .dataframe tbody tr th:only-of-type {\n",
              "        vertical-align: middle;\n",
              "    }\n",
              "\n",
              "    .dataframe tbody tr th {\n",
              "        vertical-align: top;\n",
              "    }\n",
              "\n",
              "    .dataframe thead th {\n",
              "        text-align: right;\n",
              "    }\n",
              "</style>\n",
              "<table border=\"1\" class=\"dataframe\">\n",
              "  <thead>\n",
              "    <tr style=\"text-align: right;\">\n",
              "      <th></th>\n",
              "      <th>children_per_woman</th>\n",
              "      <th>co2_emissions</th>\n",
              "      <th>gini_index</th>\n",
              "      <th>gdppercapita_us_infla_adjust</th>\n",
              "      <th>wcde-In_Primary_OL</th>\n",
              "      <th>wcde-Primary_OL</th>\n",
              "      <th>population</th>\n",
              "      <th>female_wcde-In_Primary_OL</th>\n",
              "      <th>female_wcde-Primary_OL</th>\n",
              "    </tr>\n",
              "  </thead>\n",
              "  <tbody>\n",
              "    <tr>\n",
              "      <th>(ethiopia, 1966)</th>\n",
              "      <td>6.87</td>\n",
              "      <td>0.0322</td>\n",
              "      <td>52.3</td>\n",
              "      <td>NaN</td>\n",
              "      <td>98.14</td>\n",
              "      <td>99.40</td>\n",
              "      <td>25600000</td>\n",
              "      <td>98.14</td>\n",
              "      <td>99.40</td>\n",
              "    </tr>\n",
              "    <tr>\n",
              "      <th>(malawi, 1963)</th>\n",
              "      <td>7.02</td>\n",
              "      <td>0.0882</td>\n",
              "      <td>48.3</td>\n",
              "      <td>178.0</td>\n",
              "      <td>92.18</td>\n",
              "      <td>95.98</td>\n",
              "      <td>3930000</td>\n",
              "      <td>92.18</td>\n",
              "      <td>95.98</td>\n",
              "    </tr>\n",
              "    <tr>\n",
              "      <th>(montenegro, 1987)</th>\n",
              "      <td>2.12</td>\n",
              "      <td>3.0400</td>\n",
              "      <td>30.2</td>\n",
              "      <td>NaN</td>\n",
              "      <td>1.10</td>\n",
              "      <td>3.52</td>\n",
              "      <td>617000</td>\n",
              "      <td>1.10</td>\n",
              "      <td>3.52</td>\n",
              "    </tr>\n",
              "    <tr>\n",
              "      <th>(pakistan, 2005)</th>\n",
              "      <td>4.07</td>\n",
              "      <td>0.8410</td>\n",
              "      <td>32.1</td>\n",
              "      <td>1180.0</td>\n",
              "      <td>61.90</td>\n",
              "      <td>70.80</td>\n",
              "      <td>160000000</td>\n",
              "      <td>61.90</td>\n",
              "      <td>70.80</td>\n",
              "    </tr>\n",
              "    <tr>\n",
              "      <th>(papua new guinea, 1986)</th>\n",
              "      <td>5.11</td>\n",
              "      <td>0.4930</td>\n",
              "      <td>54.7</td>\n",
              "      <td>1740.0</td>\n",
              "      <td>0.00</td>\n",
              "      <td>0.00</td>\n",
              "      <td>4190000</td>\n",
              "      <td>0.00</td>\n",
              "      <td>0.00</td>\n",
              "    </tr>\n",
              "    <tr>\n",
              "      <th>...</th>\n",
              "      <td>...</td>\n",
              "      <td>...</td>\n",
              "      <td>...</td>\n",
              "      <td>...</td>\n",
              "      <td>...</td>\n",
              "      <td>...</td>\n",
              "      <td>...</td>\n",
              "      <td>...</td>\n",
              "      <td>...</td>\n",
              "    </tr>\n",
              "    <tr>\n",
              "      <th>(paraguay, 1999)</th>\n",
              "      <td>3.68</td>\n",
              "      <td>0.8400</td>\n",
              "      <td>54.7</td>\n",
              "      <td>4080.0</td>\n",
              "      <td>19.22</td>\n",
              "      <td>53.58</td>\n",
              "      <td>5220000</td>\n",
              "      <td>19.22</td>\n",
              "      <td>53.58</td>\n",
              "    </tr>\n",
              "    <tr>\n",
              "      <th>(belarus, 1974)</th>\n",
              "      <td>2.19</td>\n",
              "      <td>9.7300</td>\n",
              "      <td>22.4</td>\n",
              "      <td>NaN</td>\n",
              "      <td>0.24</td>\n",
              "      <td>2.74</td>\n",
              "      <td>9190000</td>\n",
              "      <td>0.24</td>\n",
              "      <td>2.74</td>\n",
              "    </tr>\n",
              "    <tr>\n",
              "      <th>(sao tome and principe, 1974)</th>\n",
              "      <td>6.53</td>\n",
              "      <td>0.2260</td>\n",
              "      <td>32.1</td>\n",
              "      <td>NaN</td>\n",
              "      <td>90.88</td>\n",
              "      <td>96.86</td>\n",
              "      <td>81100</td>\n",
              "      <td>90.88</td>\n",
              "      <td>96.86</td>\n",
              "    </tr>\n",
              "    <tr>\n",
              "      <th>(nicaragua, 1981)</th>\n",
              "      <td>6.02</td>\n",
              "      <td>0.6360</td>\n",
              "      <td>48.6</td>\n",
              "      <td>1890.0</td>\n",
              "      <td>55.08</td>\n",
              "      <td>74.24</td>\n",
              "      <td>3360000</td>\n",
              "      <td>55.08</td>\n",
              "      <td>74.24</td>\n",
              "    </tr>\n",
              "    <tr>\n",
              "      <th>(serbia, 1997)</th>\n",
              "      <td>1.84</td>\n",
              "      <td>5.0400</td>\n",
              "      <td>32.8</td>\n",
              "      <td>3180.0</td>\n",
              "      <td>1.32</td>\n",
              "      <td>2.52</td>\n",
              "      <td>9780000</td>\n",
              "      <td>1.32</td>\n",
              "      <td>2.52</td>\n",
              "    </tr>\n",
              "  </tbody>\n",
              "</table>\n",
              "<p>5087 rows × 9 columns</p>\n",
              "</div>"
            ],
            "text/plain": [
              "                               children_per_woman  ...  female_wcde-Primary_OL\n",
              "(ethiopia, 1966)                             6.87  ...                   99.40\n",
              "(malawi, 1963)                               7.02  ...                   95.98\n",
              "(montenegro, 1987)                           2.12  ...                    3.52\n",
              "(pakistan, 2005)                             4.07  ...                   70.80\n",
              "(papua new guinea, 1986)                     5.11  ...                    0.00\n",
              "...                                           ...  ...                     ...\n",
              "(paraguay, 1999)                             3.68  ...                   53.58\n",
              "(belarus, 1974)                              2.19  ...                    2.74\n",
              "(sao tome and principe, 1974)                6.53  ...                   96.86\n",
              "(nicaragua, 1981)                            6.02  ...                   74.24\n",
              "(serbia, 1997)                               1.84  ...                    2.52\n",
              "\n",
              "[5087 rows x 9 columns]"
            ]
          },
          "metadata": {},
          "execution_count": 315
        }
      ]
    },
    {
      "cell_type": "code",
      "metadata": {
        "id": "1NOlqEfOxpPA"
      },
      "source": [
        "# sns.pairplot(X_train[[\"infant_mortality\",\"life_expectancy\"]], diag_kind=\"kde\")"
      ],
      "execution_count": 316,
      "outputs": []
    },
    {
      "cell_type": "code",
      "metadata": {
        "id": "xggGoM-m0eNw"
      },
      "source": [
        "# sns.pairplot(X_train[[\"infant_mortality\",\"Avg_daily_income_ppp\"]], diag_kind=\"kde\")"
      ],
      "execution_count": 317,
      "outputs": []
    },
    {
      "cell_type": "code",
      "metadata": {
        "id": "vELwjG940fdB"
      },
      "source": [
        "# sns.pairplot(X_train[[\"infant_mortality\",\"wcde-Incomplete_Primary\"]], diag_kind=\"kde\")"
      ],
      "execution_count": 318,
      "outputs": []
    },
    {
      "cell_type": "code",
      "metadata": {
        "id": "kdjrDf5R0e5q"
      },
      "source": [
        "# sns.pairplot(X_train[[\"infant_mortality\",\"population\"]], diag_kind=\"kde\")"
      ],
      "execution_count": 319,
      "outputs": []
    },
    {
      "cell_type": "code",
      "metadata": {
        "colab": {
          "base_uri": "https://localhost:8080/",
          "height": 419
        },
        "id": "zbtSynu0ptXn",
        "outputId": "f67109db-e75a-461f-e27a-523d9db966ba"
      },
      "source": [
        "y_train"
      ],
      "execution_count": 320,
      "outputs": [
        {
          "output_type": "execute_result",
          "data": {
            "text/html": [
              "<div>\n",
              "<style scoped>\n",
              "    .dataframe tbody tr th:only-of-type {\n",
              "        vertical-align: middle;\n",
              "    }\n",
              "\n",
              "    .dataframe tbody tr th {\n",
              "        vertical-align: top;\n",
              "    }\n",
              "\n",
              "    .dataframe thead th {\n",
              "        text-align: right;\n",
              "    }\n",
              "</style>\n",
              "<table border=\"1\" class=\"dataframe\">\n",
              "  <thead>\n",
              "    <tr style=\"text-align: right;\">\n",
              "      <th></th>\n",
              "      <th>o_life_expectancy</th>\n",
              "    </tr>\n",
              "  </thead>\n",
              "  <tbody>\n",
              "    <tr>\n",
              "      <th>(ethiopia, 1966)</th>\n",
              "      <td>44.1</td>\n",
              "    </tr>\n",
              "    <tr>\n",
              "      <th>(malawi, 1963)</th>\n",
              "      <td>44.2</td>\n",
              "    </tr>\n",
              "    <tr>\n",
              "      <th>(montenegro, 1987)</th>\n",
              "      <td>73.8</td>\n",
              "    </tr>\n",
              "    <tr>\n",
              "      <th>(pakistan, 2005)</th>\n",
              "      <td>64.4</td>\n",
              "    </tr>\n",
              "    <tr>\n",
              "      <th>(papua new guinea, 1986)</th>\n",
              "      <td>63.4</td>\n",
              "    </tr>\n",
              "    <tr>\n",
              "      <th>...</th>\n",
              "      <td>...</td>\n",
              "    </tr>\n",
              "    <tr>\n",
              "      <th>(paraguay, 1999)</th>\n",
              "      <td>75.8</td>\n",
              "    </tr>\n",
              "    <tr>\n",
              "      <th>(belarus, 1974)</th>\n",
              "      <td>70.5</td>\n",
              "    </tr>\n",
              "    <tr>\n",
              "      <th>(sao tome and principe, 1974)</th>\n",
              "      <td>61.4</td>\n",
              "    </tr>\n",
              "    <tr>\n",
              "      <th>(nicaragua, 1981)</th>\n",
              "      <td>72.1</td>\n",
              "    </tr>\n",
              "    <tr>\n",
              "      <th>(serbia, 1997)</th>\n",
              "      <td>73.2</td>\n",
              "    </tr>\n",
              "  </tbody>\n",
              "</table>\n",
              "<p>5087 rows × 1 columns</p>\n",
              "</div>"
            ],
            "text/plain": [
              "                               o_life_expectancy\n",
              "(ethiopia, 1966)                            44.1\n",
              "(malawi, 1963)                              44.2\n",
              "(montenegro, 1987)                          73.8\n",
              "(pakistan, 2005)                            64.4\n",
              "(papua new guinea, 1986)                    63.4\n",
              "...                                          ...\n",
              "(paraguay, 1999)                            75.8\n",
              "(belarus, 1974)                             70.5\n",
              "(sao tome and principe, 1974)               61.4\n",
              "(nicaragua, 1981)                           72.1\n",
              "(serbia, 1997)                              73.2\n",
              "\n",
              "[5087 rows x 1 columns]"
            ]
          },
          "metadata": {},
          "execution_count": 320
        }
      ]
    },
    {
      "cell_type": "code",
      "metadata": {
        "colab": {
          "base_uri": "https://localhost:8080/",
          "height": 609
        },
        "id": "IAkvReLKpLQ4",
        "outputId": "bf33ba3a-4906-4984-8380-c1f76372cd81"
      },
      "source": [
        "combine_dfs(\"o_\"+OUTPUTS[0],X_test,y_test)"
      ],
      "execution_count": 321,
      "outputs": [
        {
          "output_type": "execute_result",
          "data": {
            "text/html": [
              "<div>\n",
              "<style scoped>\n",
              "    .dataframe tbody tr th:only-of-type {\n",
              "        vertical-align: middle;\n",
              "    }\n",
              "\n",
              "    .dataframe tbody tr th {\n",
              "        vertical-align: top;\n",
              "    }\n",
              "\n",
              "    .dataframe thead th {\n",
              "        text-align: right;\n",
              "    }\n",
              "</style>\n",
              "<table border=\"1\" class=\"dataframe\">\n",
              "  <thead>\n",
              "    <tr style=\"text-align: right;\">\n",
              "      <th></th>\n",
              "      <th>children_per_woman</th>\n",
              "      <th>co2_emissions</th>\n",
              "      <th>gini_index</th>\n",
              "      <th>gdppercapita_us_infla_adjust</th>\n",
              "      <th>wcde-In_Primary_OL</th>\n",
              "      <th>wcde-Primary_OL</th>\n",
              "      <th>population</th>\n",
              "      <th>female_wcde-In_Primary_OL</th>\n",
              "      <th>female_wcde-Primary_OL</th>\n",
              "      <th>o_life_expectancy</th>\n",
              "    </tr>\n",
              "  </thead>\n",
              "  <tbody>\n",
              "    <tr>\n",
              "      <th>(iraq, 1963)</th>\n",
              "      <td>6.69</td>\n",
              "      <td>1.1900</td>\n",
              "      <td>43.4</td>\n",
              "      <td>NaN</td>\n",
              "      <td>86.40</td>\n",
              "      <td>92.66</td>\n",
              "      <td>7890000</td>\n",
              "      <td>86.40</td>\n",
              "      <td>92.66</td>\n",
              "      <td>64.7</td>\n",
              "    </tr>\n",
              "    <tr>\n",
              "      <th>(argentina, 1974)</th>\n",
              "      <td>3.26</td>\n",
              "      <td>3.7500</td>\n",
              "      <td>35.5</td>\n",
              "      <td>10100.0</td>\n",
              "      <td>19.22</td>\n",
              "      <td>57.00</td>\n",
              "      <td>25500000</td>\n",
              "      <td>19.22</td>\n",
              "      <td>57.00</td>\n",
              "      <td>70.8</td>\n",
              "    </tr>\n",
              "    <tr>\n",
              "      <th>(montenegro, 1992)</th>\n",
              "      <td>2.05</td>\n",
              "      <td>2.4000</td>\n",
              "      <td>30.2</td>\n",
              "      <td>NaN</td>\n",
              "      <td>1.06</td>\n",
              "      <td>2.68</td>\n",
              "      <td>617000</td>\n",
              "      <td>1.06</td>\n",
              "      <td>2.68</td>\n",
              "      <td>73.9</td>\n",
              "    </tr>\n",
              "    <tr>\n",
              "      <th>(italy, 1975)</th>\n",
              "      <td>2.12</td>\n",
              "      <td>6.1800</td>\n",
              "      <td>37.8</td>\n",
              "      <td>17800.0</td>\n",
              "      <td>2.70</td>\n",
              "      <td>24.00</td>\n",
              "      <td>55300000</td>\n",
              "      <td>2.70</td>\n",
              "      <td>24.00</td>\n",
              "      <td>75.8</td>\n",
              "    </tr>\n",
              "    <tr>\n",
              "      <th>(switzerland, 1960)</th>\n",
              "      <td>2.52</td>\n",
              "      <td>3.6900</td>\n",
              "      <td>36.8</td>\n",
              "      <td>NaN</td>\n",
              "      <td>4.40</td>\n",
              "      <td>20.20</td>\n",
              "      <td>5280000</td>\n",
              "      <td>4.40</td>\n",
              "      <td>20.20</td>\n",
              "      <td>73.3</td>\n",
              "    </tr>\n",
              "    <tr>\n",
              "      <th>...</th>\n",
              "      <td>...</td>\n",
              "      <td>...</td>\n",
              "      <td>...</td>\n",
              "      <td>...</td>\n",
              "      <td>...</td>\n",
              "      <td>...</td>\n",
              "      <td>...</td>\n",
              "      <td>...</td>\n",
              "      <td>...</td>\n",
              "      <td>...</td>\n",
              "    </tr>\n",
              "    <tr>\n",
              "      <th>(ireland, 1977)</th>\n",
              "      <td>3.34</td>\n",
              "      <td>7.2700</td>\n",
              "      <td>35.9</td>\n",
              "      <td>15100.0</td>\n",
              "      <td>0.34</td>\n",
              "      <td>23.28</td>\n",
              "      <td>3240000</td>\n",
              "      <td>0.34</td>\n",
              "      <td>23.28</td>\n",
              "      <td>74.3</td>\n",
              "    </tr>\n",
              "    <tr>\n",
              "      <th>(nepal, 1993)</th>\n",
              "      <td>4.93</td>\n",
              "      <td>0.0718</td>\n",
              "      <td>33.8</td>\n",
              "      <td>464.0</td>\n",
              "      <td>70.52</td>\n",
              "      <td>80.30</td>\n",
              "      <td>20500000</td>\n",
              "      <td>70.52</td>\n",
              "      <td>80.30</td>\n",
              "      <td>67.0</td>\n",
              "    </tr>\n",
              "    <tr>\n",
              "      <th>(new zealand, 2004)</th>\n",
              "      <td>2.02</td>\n",
              "      <td>8.8200</td>\n",
              "      <td>33.2</td>\n",
              "      <td>34300.0</td>\n",
              "      <td>1.24</td>\n",
              "      <td>4.62</td>\n",
              "      <td>4080000</td>\n",
              "      <td>1.24</td>\n",
              "      <td>4.62</td>\n",
              "      <td>81.5</td>\n",
              "    </tr>\n",
              "    <tr>\n",
              "      <th>(central african republic, 1970)</th>\n",
              "      <td>5.95</td>\n",
              "      <td>0.1150</td>\n",
              "      <td>70.7</td>\n",
              "      <td>655.0</td>\n",
              "      <td>99.10</td>\n",
              "      <td>99.80</td>\n",
              "      <td>1810000</td>\n",
              "      <td>99.10</td>\n",
              "      <td>99.80</td>\n",
              "      <td>49.2</td>\n",
              "    </tr>\n",
              "    <tr>\n",
              "      <th>(qatar, 1981)</th>\n",
              "      <td>5.66</td>\n",
              "      <td>51.8000</td>\n",
              "      <td>40.0</td>\n",
              "      <td>NaN</td>\n",
              "      <td>38.62</td>\n",
              "      <td>50.12</td>\n",
              "      <td>248000</td>\n",
              "      <td>38.62</td>\n",
              "      <td>50.12</td>\n",
              "      <td>69.8</td>\n",
              "    </tr>\n",
              "  </tbody>\n",
              "</table>\n",
              "<p>2181 rows × 10 columns</p>\n",
              "</div>"
            ],
            "text/plain": [
              "                                  children_per_woman  ...  o_life_expectancy\n",
              "(iraq, 1963)                                    6.69  ...               64.7\n",
              "(argentina, 1974)                               3.26  ...               70.8\n",
              "(montenegro, 1992)                              2.05  ...               73.9\n",
              "(italy, 1975)                                   2.12  ...               75.8\n",
              "(switzerland, 1960)                             2.52  ...               73.3\n",
              "...                                              ...  ...                ...\n",
              "(ireland, 1977)                                 3.34  ...               74.3\n",
              "(nepal, 1993)                                   4.93  ...               67.0\n",
              "(new zealand, 2004)                             2.02  ...               81.5\n",
              "(central african republic, 1970)                5.95  ...               49.2\n",
              "(qatar, 1981)                                   5.66  ...               69.8\n",
              "\n",
              "[2181 rows x 10 columns]"
            ]
          },
          "metadata": {},
          "execution_count": 321
        }
      ]
    },
    {
      "cell_type": "code",
      "metadata": {
        "id": "gAi9JoDdGuhE"
      },
      "source": [
        "def combine_dfs(label,X,y):\n",
        "  frames      = [X,y[label]]\n",
        "  le_model_df = pd.concat(frames,axis=1)\n",
        "  le_model_df.dropna(subset=[label],inplace=True)\n",
        "  return le_model_df"
      ],
      "execution_count": 322,
      "outputs": []
    },
    {
      "cell_type": "code",
      "metadata": {
        "id": "x2wiwgqk6ZfU",
        "colab": {
          "base_uri": "https://localhost:8080/"
        },
        "outputId": "721e0dd7-652d-463d-c645-9cca113fec5f"
      },
      "source": [
        "for output in OUTPUTS:\n",
        "  # converting pandas to tensorFlow dataset\n",
        "  train_ds = tfdf.keras.pd_dataframe_to_tf_dataset(combine_dfs(\"o_\"+output,X_train,y_train), label=\"o_\"+output, task=tfdf.keras.Task.REGRESSION)\n",
        "  model = tfdf.keras.RandomForestModel(task = tfdf.keras.Task.REGRESSION)\n",
        "  \n",
        "  model.fit(x=train_ds)\n",
        "  # Convert it to a TensorFlow dataset\n",
        "  test_ds = tfdf.keras.pd_dataframe_to_tf_dataset(combine_dfs(\"o_\"+output,X_train,y_train), label=\"o_\"+output, task=tfdf.keras.Task.REGRESSION)\n",
        "\n",
        "  # Evaluate the model\n",
        "  model.compile(metrics=[\"mse\"])\n",
        "  # Evaluate the model on the test dataset.\n",
        "  evaluation = model.evaluate(test_ds, return_dict=True)\n",
        "  print(output.upper())\n",
        "  print(evaluation)\n",
        "  print()\n",
        "  print(f\"MSE: {evaluation['mse']}\")\n",
        "  print(f\"RMSE: {math.sqrt(evaluation['mse'])}\")\n",
        "  print()"
      ],
      "execution_count": 323,
      "outputs": [
        {
          "output_type": "stream",
          "name": "stdout",
          "text": [
            "80/80 [==============================] - 6s 70ms/step\n",
            "80/80 [==============================] - 1s 8ms/step - loss: 0.0000e+00 - mse: 2.2808\n",
            "LIFE_EXPECTANCY\n",
            "{'loss': 0.0, 'mse': 2.2807931900024414}\n",
            "\n",
            "MSE: 2.2807931900024414\n",
            "RMSE: 1.5102295156705292\n",
            "\n"
          ]
        }
      ]
    },
    {
      "cell_type": "code",
      "metadata": {
        "colab": {
          "base_uri": "https://localhost:8080/",
          "height": 404
        },
        "id": "9km9jt9mBIvM",
        "outputId": "e154aa7a-c3e9-42b2-c0f4-560d52af5a70"
      },
      "source": [
        "tfdf.model_plotter.plot_model_in_colab(model, tree_idx=0)"
      ],
      "execution_count": 324,
      "outputs": [
        {
          "output_type": "execute_result",
          "data": {
            "text/html": [
              "\n",
              "<script src=\"https://d3js.org/d3.v6.min.js\"></script>\n",
              "<div id=\"tree_plot_02df3ddaa8614aab9d04046873c2659b\"></div>\n",
              "<script>\n",
              "/*\n",
              " * Copyright 2021 Google LLC.\n",
              " * Licensed under the Apache License, Version 2.0 (the \"License\");\n",
              " * you may not use this file except in compliance with the License.\n",
              " * You may obtain a copy of the License at\n",
              " *\n",
              " *     https://www.apache.org/licenses/LICENSE-2.0\n",
              " *\n",
              " * Unless required by applicable law or agreed to in writing, software\n",
              " * distributed under the License is distributed on an \"AS IS\" BASIS,\n",
              " * WITHOUT WARRANTIES OR CONDITIONS OF ANY KIND, either express or implied.\n",
              " * See the License for the specific language governing permissions and\n",
              " * limitations under the License.\n",
              " */\n",
              "\n",
              "/**\n",
              " *  Plotting of decision trees generated by TF-DF.\n",
              " *\n",
              " *  A tree is a recursive structure of node objects.\n",
              " *  A node contains one or more of the following components:\n",
              " *\n",
              " *    - A value: Representing the output of the node. If the node is not a leaf,\n",
              " *      the value is only present for analysis i.e. it is not used for\n",
              " *      predictions.\n",
              " *\n",
              " *    - A condition : For non-leaf nodes, the condition (also known as split)\n",
              " *      defines a binary test to branch to the positive or negative child.\n",
              " *\n",
              " *    - An explanation: Generally a plot showing the relation between the label\n",
              " *      and the condition to give insights about the effect of the condition.\n",
              " *\n",
              " *    - Two children : For non-leaf nodes, the children nodes. The first\n",
              " *      children (i.e. \"node.children[0]\") is the negative children (drawn in\n",
              " *      red). The second children is the positive one (drawn in green).\n",
              " *\n",
              " */\n",
              "\n",
              "/**\n",
              " * Plots a single decision tree into a DOM element.\n",
              " * @param {!options} options Dictionary of configurations.\n",
              " * @param {!tree} raw_tree Recursive tree structure.\n",
              " * @param {string} canvas_id Id of the output dom element.\n",
              " */\n",
              "function display_tree(options, raw_tree, canvas_id) {\n",
              "  console.log(options);\n",
              "\n",
              "  // Determine the node placement.\n",
              "  const tree_struct = d3.tree().nodeSize(\n",
              "      [options.node_y_offset, options.node_x_offset])(d3.hierarchy(raw_tree));\n",
              "\n",
              "  // Boundaries of the node placement.\n",
              "  let x_min = Infinity;\n",
              "  let x_max = -x_min;\n",
              "  let y_min = Infinity;\n",
              "  let y_max = -x_min;\n",
              "\n",
              "  tree_struct.each(d => {\n",
              "    if (d.x > x_max) x_max = d.x;\n",
              "    if (d.x < x_min) x_min = d.x;\n",
              "    if (d.y > y_max) y_max = d.y;\n",
              "    if (d.y < y_min) y_min = d.y;\n",
              "  });\n",
              "\n",
              "  // Size of the plot.\n",
              "  const width = y_max - y_min + options.node_x_size + options.margin * 2;\n",
              "  const height = x_max - x_min + options.node_y_size + options.margin * 2 +\n",
              "      options.node_y_offset - options.node_y_size;\n",
              "\n",
              "  const plot = d3.select(canvas_id);\n",
              "\n",
              "  // Tool tip\n",
              "  options.tooltip = plot.append('div')\n",
              "                        .attr('width', 100)\n",
              "                        .attr('height', 100)\n",
              "                        .style('padding', '4px')\n",
              "                        .style('background', '#fff')\n",
              "                        .style('box-shadow', '4px 4px 0px rgba(0,0,0,0.1)')\n",
              "                        .style('border', '1px solid black')\n",
              "                        .style('font-family', 'sans-serif')\n",
              "                        .style('font-size', options.font_size)\n",
              "                        .style('position', 'absolute')\n",
              "                        .style('z-index', '10')\n",
              "                        .attr('pointer-events', 'none')\n",
              "                        .style('display', 'none');\n",
              "\n",
              "  // Create canvas\n",
              "  const svg = plot.append('svg').attr('width', width).attr('height', height);\n",
              "  const graph =\n",
              "      svg.style('overflow', 'visible')\n",
              "          .append('g')\n",
              "          .attr('font-family', 'sans-serif')\n",
              "          .attr('font-size', options.font_size)\n",
              "          .attr(\n",
              "              'transform',\n",
              "              () => `translate(${options.margin},${\n",
              "                  - x_min + options.node_y_offset / 2 + options.margin})`);\n",
              "\n",
              "  // Plot bounding box.\n",
              "  if (options.show_plot_bounding_box) {\n",
              "    svg.append('rect')\n",
              "        .attr('width', width)\n",
              "        .attr('height', height)\n",
              "        .attr('fill', 'none')\n",
              "        .attr('stroke-width', 1.0)\n",
              "        .attr('stroke', 'black');\n",
              "  }\n",
              "\n",
              "  // Draw the edges.\n",
              "  display_edges(options, graph, tree_struct);\n",
              "\n",
              "  // Draw the nodes.\n",
              "  display_nodes(options, graph, tree_struct);\n",
              "}\n",
              "\n",
              "/**\n",
              " * Draw the nodes of the tree.\n",
              " * @param {!options} options Dictionary of configurations.\n",
              " * @param {!graph} graph D3 search handle containing the graph.\n",
              " * @param {!tree_struct} tree_struct Structure of the tree (node placement,\n",
              " *     data, etc.).\n",
              " */\n",
              "function display_nodes(options, graph, tree_struct) {\n",
              "  const nodes = graph.append('g')\n",
              "                    .selectAll('g')\n",
              "                    .data(tree_struct.descendants())\n",
              "                    .join('g')\n",
              "                    .attr('transform', d => `translate(${d.y},${d.x})`);\n",
              "\n",
              "  nodes.append('rect')\n",
              "      .attr('x', 0.5)\n",
              "      .attr('y', 0.5)\n",
              "      .attr('width', options.node_x_size)\n",
              "      .attr('height', options.node_y_size)\n",
              "      .attr('stroke', 'lightgrey')\n",
              "      .attr('stroke-width', 1)\n",
              "      .attr('fill', 'white')\n",
              "      .attr('y', -options.node_y_size / 2);\n",
              "\n",
              "  // Brackets on the right of condition nodes without children.\n",
              "  non_leaf_node_without_children =\n",
              "      nodes.filter(node => node.data.condition != null && node.children == null)\n",
              "          .append('g')\n",
              "          .attr('transform', `translate(${options.node_x_size},0)`);\n",
              "\n",
              "  non_leaf_node_without_children.append('path')\n",
              "      .attr('d', 'M0,0 C 10,0 0,10 10,10')\n",
              "      .attr('fill', 'none')\n",
              "      .attr('stroke-width', 1.0)\n",
              "      .attr('stroke', '#F00');\n",
              "\n",
              "  non_leaf_node_without_children.append('path')\n",
              "      .attr('d', 'M0,0 C 10,0 0,-10 10,-10')\n",
              "      .attr('fill', 'none')\n",
              "      .attr('stroke-width', 1.0)\n",
              "      .attr('stroke', '#0F0');\n",
              "\n",
              "  const node_content = nodes.append('g').attr(\n",
              "      'transform',\n",
              "      `translate(0,${options.node_padding - options.node_y_size / 2})`);\n",
              "\n",
              "  node_content.append(node => create_node_element(options, node));\n",
              "}\n",
              "\n",
              "/**\n",
              " * Creates the D3 content for a single node.\n",
              " * @param {!options} options Dictionary of configurations.\n",
              " * @param {!node} node Node to draw.\n",
              " * @return {!d3} D3 content.\n",
              " */\n",
              "function create_node_element(options, node) {\n",
              "  // Output accumulator.\n",
              "  let output = {\n",
              "    // Content to draw.\n",
              "    content: d3.create('svg:g'),\n",
              "    // Vertical offset to the next element to draw.\n",
              "    vertical_offset: 0\n",
              "  };\n",
              "\n",
              "  // Conditions.\n",
              "  if (node.data.condition != null) {\n",
              "    display_condition(options, node.data.condition, output);\n",
              "  }\n",
              "\n",
              "  // Values.\n",
              "  if (node.data.value != null) {\n",
              "    display_value(options, node.data.value, output);\n",
              "  }\n",
              "\n",
              "  // Explanations.\n",
              "  if (node.data.explanation != null) {\n",
              "    display_explanation(options, node.data.explanation, output);\n",
              "  }\n",
              "\n",
              "  return output.content.node();\n",
              "}\n",
              "\n",
              "\n",
              "/**\n",
              " * Adds a single line of text inside of a node.\n",
              " * @param {!options} options Dictionary of configurations.\n",
              " * @param {string} text Text to display.\n",
              " * @param {!output} output Output display accumulator.\n",
              " */\n",
              "function display_node_text(options, text, output) {\n",
              "  output.content.append('text')\n",
              "      .attr('x', options.node_padding)\n",
              "      .attr('y', output.vertical_offset)\n",
              "      .attr('alignment-baseline', 'hanging')\n",
              "      .text(text);\n",
              "  output.vertical_offset += 10;\n",
              "}\n",
              "\n",
              "/**\n",
              " * Adds a single line of text inside of a node with a tooltip.\n",
              " * @param {!options} options Dictionary of configurations.\n",
              " * @param {string} text Text to display.\n",
              " * @param {string} tooltip Text in the Tooltip.\n",
              " * @param {!output} output Output display accumulator.\n",
              " */\n",
              "function display_node_text_with_tooltip(options, text, tooltip, output) {\n",
              "  const item = output.content.append('text')\n",
              "                   .attr('x', options.node_padding)\n",
              "                   .attr('alignment-baseline', 'hanging')\n",
              "                   .text(text);\n",
              "\n",
              "  add_tooltip(options, item, () => tooltip);\n",
              "  output.vertical_offset += 10;\n",
              "}\n",
              "\n",
              "/**\n",
              " * Adds a tooltip to a dom element.\n",
              " * @param {!options} options Dictionary of configurations.\n",
              " * @param {!dom} target Dom element to equip with a tooltip.\n",
              " * @param {!func} get_content Generates the html content of the tooltip.\n",
              " */\n",
              "function add_tooltip(options, target, get_content) {\n",
              "  function show(d) {\n",
              "    options.tooltip.style('display', 'block');\n",
              "    options.tooltip.html(get_content());\n",
              "  }\n",
              "\n",
              "  function hide(d) {\n",
              "    options.tooltip.style('display', 'none');\n",
              "  }\n",
              "\n",
              "  function move(d) {\n",
              "    options.tooltip.style('display', 'block');\n",
              "    options.tooltip.style('left', (d.pageX + 5) + 'px');\n",
              "    options.tooltip.style('top', d.pageY + 'px');\n",
              "  }\n",
              "\n",
              "  target.on('mouseover', show);\n",
              "  target.on('mouseout', hide);\n",
              "  target.on('mousemove', move);\n",
              "}\n",
              "\n",
              "/**\n",
              " * Adds a condition inside of a node.\n",
              " * @param {!options} options Dictionary of configurations.\n",
              " * @param {!condition} condition Condition to display.\n",
              " * @param {!output} output Output display accumulator.\n",
              " */\n",
              "function display_condition(options, condition, output) {\n",
              "  threshold_format = d3.format('r');\n",
              "\n",
              "  if (condition.type === 'IS_MISSING') {\n",
              "    display_node_text(options, `${condition.attribute} is missing`, output);\n",
              "    return;\n",
              "  }\n",
              "\n",
              "  if (condition.type === 'IS_TRUE') {\n",
              "    display_node_text(options, `${condition.attribute} is true`, output);\n",
              "    return;\n",
              "  }\n",
              "\n",
              "  if (condition.type === 'NUMERICAL_IS_HIGHER_THAN') {\n",
              "    format = d3.format('r');\n",
              "    display_node_text(\n",
              "        options,\n",
              "        `${condition.attribute} >= ${threshold_format(condition.threshold)}`,\n",
              "        output);\n",
              "    return;\n",
              "  }\n",
              "\n",
              "  if (condition.type === 'CATEGORICAL_IS_IN') {\n",
              "    display_node_text_with_tooltip(\n",
              "        options, `${condition.attribute} in [...]`,\n",
              "        `${condition.attribute} in [${condition.mask}]`, output);\n",
              "    return;\n",
              "  }\n",
              "\n",
              "  if (condition.type === 'CATEGORICAL_SET_CONTAINS') {\n",
              "    display_node_text_with_tooltip(\n",
              "        options, `${condition.attribute} intersect [...]`,\n",
              "        `${condition.attribute} intersect [${condition.mask}]`, output);\n",
              "    return;\n",
              "  }\n",
              "\n",
              "  if (condition.type === 'NUMERICAL_SPARSE_OBLIQUE') {\n",
              "    display_node_text_with_tooltip(\n",
              "        options, `Sparse oblique split...`,\n",
              "        `[${condition.attributes}]*[${condition.weights}]>=${\n",
              "            threshold_format(condition.threshold)}`,\n",
              "        output);\n",
              "    return;\n",
              "  }\n",
              "\n",
              "  display_node_text(\n",
              "      options, `Non supported condition ${condition.type}`, output);\n",
              "}\n",
              "\n",
              "/**\n",
              " * Adds a value inside of a node.\n",
              " * @param {!options} options Dictionary of configurations.\n",
              " * @param {!value} value Value to display.\n",
              " * @param {!output} output Output display accumulator.\n",
              " */\n",
              "function display_value(options, value, output) {\n",
              "  if (value.type === 'PROBABILITY') {\n",
              "    const left_margin = 0;\n",
              "    const right_margin = 50;\n",
              "    const plot_width = options.node_x_size - options.node_padding * 2 -\n",
              "        left_margin - right_margin;\n",
              "\n",
              "    let cusum = Array.from(d3.cumsum(value.distribution));\n",
              "    cusum.unshift(0);\n",
              "    const distribution_plot = output.content.append('g').attr(\n",
              "        'transform', `translate(0,${output.vertical_offset + 0.5})`);\n",
              "\n",
              "    distribution_plot.selectAll('rect')\n",
              "        .data(value.distribution)\n",
              "        .join('rect')\n",
              "        .attr('height', 10)\n",
              "        .attr(\n",
              "            'x',\n",
              "            (d, i) =>\n",
              "                (cusum[i] * plot_width + left_margin + options.node_padding))\n",
              "        .attr('width', (d, i) => d * plot_width)\n",
              "        .style('fill', (d, i) => d3.schemeSet1[i]);\n",
              "\n",
              "    const num_examples =\n",
              "        output.content.append('g')\n",
              "            .attr('transform', `translate(0,${output.vertical_offset})`)\n",
              "            .append('text')\n",
              "            .attr('x', options.node_x_size - options.node_padding)\n",
              "            .attr('alignment-baseline', 'hanging')\n",
              "            .attr('text-anchor', 'end')\n",
              "            .text(`(${value.num_examples})`);\n",
              "\n",
              "    const distribution_details = d3.create('ul');\n",
              "    distribution_details.selectAll('li')\n",
              "        .data(value.distribution)\n",
              "        .join('li')\n",
              "        .append('span')\n",
              "        .text(\n",
              "            (d, i) =>\n",
              "                'class ' + i + ': ' + d3.format('.3%')(value.distribution[i]));\n",
              "\n",
              "    add_tooltip(options, distribution_plot, () => distribution_details.html());\n",
              "    add_tooltip(options, num_examples, () => 'Number of examples');\n",
              "\n",
              "    output.vertical_offset += 10;\n",
              "    return;\n",
              "  }\n",
              "\n",
              "  if (value.type === 'REGRESSION') {\n",
              "    display_node_text(\n",
              "        options,\n",
              "        'value: ' + d3.format('r')(value.value) + ` (` +\n",
              "            d3.format('.6')(value.num_examples) + `)`,\n",
              "        output);\n",
              "    return;\n",
              "  }\n",
              "\n",
              "  display_node_text(options, `Non supported value ${value.type}`, output);\n",
              "}\n",
              "\n",
              "/**\n",
              " * Adds an explanation inside of a node.\n",
              " * @param {!options} options Dictionary of configurations.\n",
              " * @param {!explanation} explanation Explanation to display.\n",
              " * @param {!output} output Output display accumulator.\n",
              " */\n",
              "function display_explanation(options, explanation, output) {\n",
              "  // Margin before the explanation.\n",
              "  output.vertical_offset += 10;\n",
              "\n",
              "  display_node_text(\n",
              "      options, `Non supported explanation ${explanation.type}`, output);\n",
              "}\n",
              "\n",
              "\n",
              "/**\n",
              " * Draw the edges of the tree.\n",
              " * @param {!options} options Dictionary of configurations.\n",
              " * @param {!graph} graph D3 search handle containing the graph.\n",
              " * @param {!tree_struct} tree_struct Structure of the tree (node placement,\n",
              " *     data, etc.).\n",
              " */\n",
              "function display_edges(options, graph, tree_struct) {\n",
              "  // Draw an edge between a parent and a child node with a bezier.\n",
              "  function draw_single_edge(d) {\n",
              "    return 'M' + (d.source.y + options.node_x_size) + ',' + d.source.x + ' C' +\n",
              "        (d.source.y + options.node_x_size + options.edge_rounding) + ',' +\n",
              "        d.source.x + ' ' + (d.target.y - options.edge_rounding) + ',' +\n",
              "        d.target.x + ' ' + d.target.y + ',' + d.target.x;\n",
              "  }\n",
              "\n",
              "  graph.append('g')\n",
              "      .attr('fill', 'none')\n",
              "      .attr('stroke-width', 1.2)\n",
              "      .selectAll('path')\n",
              "      .data(tree_struct.links())\n",
              "      .join('path')\n",
              "      .attr('d', draw_single_edge)\n",
              "      .attr(\n",
              "          'stroke', d => (d.target === d.source.children[0]) ? '#0F0' : '#F00');\n",
              "}\n",
              "\n",
              "display_tree({\"margin\": 10, \"node_x_size\": 160, \"node_y_size\": 28, \"node_x_offset\": 180, \"node_y_offset\": 33, \"font_size\": 10, \"edge_rounding\": 20, \"node_padding\": 2, \"show_plot_bounding_box\": false}, {\"value\": {\"type\": \"REGRESSION\", \"value\": 66.08887481689453, \"num_examples\": 5087.0, \"standard_deviation\": 9.823560297633783}, \"condition\": {\"type\": \"NUMERICAL_IS_HIGHER_THAN\", \"attribute\": \"female_wcde-Primary_OL\", \"threshold\": 83.19000244140625}, \"children\": [{\"value\": {\"type\": \"REGRESSION\", \"value\": 55.22660827636719, \"num_examples\": 1507.0, \"standard_deviation\": 7.089231373540675}, \"condition\": {\"type\": \"NUMERICAL_IS_HIGHER_THAN\", \"attribute\": \"female_wcde-Primary_OL\", \"threshold\": 93.99000549316406}, \"children\": [{\"value\": {\"type\": \"REGRESSION\", \"value\": 51.6476936340332, \"num_examples\": 780.0, \"standard_deviation\": 6.273644936019106}, \"condition\": {\"type\": \"NUMERICAL_IS_HIGHER_THAN\", \"attribute\": \"female_wcde-Primary_OL\", \"threshold\": 96.20999908447266}, \"children\": [{\"value\": {\"type\": \"REGRESSION\", \"value\": 50.61228561401367, \"num_examples\": 529.0, \"standard_deviation\": 6.615195559077366}, \"condition\": {\"type\": \"NUMERICAL_IS_HIGHER_THAN\", \"attribute\": \"population\", \"threshold\": 637500.0}}, {\"value\": {\"type\": \"REGRESSION\", \"value\": 53.82987976074219, \"num_examples\": 251.0, \"standard_deviation\": 4.8020101600868745}, \"condition\": {\"type\": \"NUMERICAL_IS_HIGHER_THAN\", \"attribute\": \"population\", \"threshold\": 810500.0}}]}, {\"value\": {\"type\": \"REGRESSION\", \"value\": 59.066436767578125, \"num_examples\": 727.0, \"standard_deviation\": 5.784773706953126}, \"condition\": {\"type\": \"NUMERICAL_IS_HIGHER_THAN\", \"attribute\": \"gdppercapita_us_infla_adjust\", \"threshold\": 639.5}, \"children\": [{\"value\": {\"type\": \"REGRESSION\", \"value\": 60.312400817871094, \"num_examples\": 500.0, \"standard_deviation\": 5.671021824798212}, \"condition\": {\"type\": \"NUMERICAL_IS_HIGHER_THAN\", \"attribute\": \"co2_emissions\", \"threshold\": 0.35100001096725464}}, {\"value\": {\"type\": \"REGRESSION\", \"value\": 56.322025299072266, \"num_examples\": 227.0, \"standard_deviation\": 5.038123165851256}, \"condition\": {\"type\": \"NUMERICAL_IS_HIGHER_THAN\", \"attribute\": \"children_per_woman\", \"threshold\": 7.034999847412109}}]}]}, {\"value\": {\"type\": \"REGRESSION\", \"value\": 70.66133880615234, \"num_examples\": 3580.0, \"standard_deviation\": 6.737537364219152}, \"condition\": {\"type\": \"NUMERICAL_IS_HIGHER_THAN\", \"attribute\": \"female_wcde-Primary_OL\", \"threshold\": 59.630001068115234}, \"children\": [{\"value\": {\"type\": \"REGRESSION\", \"value\": 65.00314331054688, \"num_examples\": 795.0, \"standard_deviation\": 6.5539346538879135}, \"condition\": {\"type\": \"NUMERICAL_IS_HIGHER_THAN\", \"attribute\": \"gini_index\", \"threshold\": 60.650001525878906}, \"children\": [{\"value\": {\"type\": \"REGRESSION\", \"value\": 54.65142822265625, \"num_examples\": 35.0, \"standard_deviation\": 5.611026854088515}, \"condition\": {\"type\": \"NUMERICAL_IS_HIGHER_THAN\", \"attribute\": \"population\", \"threshold\": 9360000.0}}, {\"value\": {\"type\": \"REGRESSION\", \"value\": 65.47986602783203, \"num_examples\": 760.0, \"standard_deviation\": 6.190325407060269}, \"condition\": {\"type\": \"NUMERICAL_IS_HIGHER_THAN\", \"attribute\": \"children_per_woman\", \"threshold\": 3.619999885559082}}]}, {\"value\": {\"type\": \"REGRESSION\", \"value\": 72.27651977539062, \"num_examples\": 2785.0, \"standard_deviation\": 5.86031130324824}, \"condition\": {\"type\": \"NUMERICAL_IS_HIGHER_THAN\", \"attribute\": \"gdppercapita_us_infla_adjust\", \"threshold\": 8165.57421875}, \"children\": [{\"value\": {\"type\": \"REGRESSION\", \"value\": 76.587158203125, \"num_examples\": 911.0, \"standard_deviation\": 3.5720126139994064}, \"condition\": {\"type\": \"NUMERICAL_IS_HIGHER_THAN\", \"attribute\": \"female_wcde-Primary_OL\", \"threshold\": 15.030000686645508}}, {\"value\": {\"type\": \"REGRESSION\", \"value\": 70.18099975585938, \"num_examples\": 1874.0, \"standard_deviation\": 5.604604757850727}, \"condition\": {\"type\": \"NUMERICAL_IS_HIGHER_THAN\", \"attribute\": \"children_per_woman\", \"threshold\": 4.404999732971191}}]}]}]}, \"#tree_plot_02df3ddaa8614aab9d04046873c2659b\")\n",
              "</script>\n"
            ],
            "text/plain": [
              "<IPython.core.display.HTML object>"
            ]
          },
          "metadata": {},
          "execution_count": 324
        }
      ]
    },
    {
      "cell_type": "code",
      "metadata": {
        "colab": {
          "base_uri": "https://localhost:8080/"
        },
        "id": "9dd29dXaO8AB",
        "outputId": "48934c54-f967-4a09-c6b3-69bab5504893"
      },
      "source": [
        "# %set_cell_height 300\n",
        "\n",
        "model.summary()"
      ],
      "execution_count": 325,
      "outputs": [
        {
          "output_type": "stream",
          "name": "stdout",
          "text": [
            "Model: \"random_forest_model_10\"\n",
            "_________________________________________________________________\n",
            " Layer (type)                Output Shape              Param #   \n",
            "=================================================================\n",
            "=================================================================\n",
            "Total params: 1\n",
            "Trainable params: 0\n",
            "Non-trainable params: 1\n",
            "_________________________________________________________________\n",
            "Type: \"RANDOM_FOREST\"\n",
            "Task: REGRESSION\n",
            "Label: \"__LABEL\"\n",
            "\n",
            "Input Features (9):\n",
            "\tchildren_per_woman\n",
            "\tco2_emissions\n",
            "\tfemale_wcde-In_Primary_OL\n",
            "\tfemale_wcde-Primary_OL\n",
            "\tgdppercapita_us_infla_adjust\n",
            "\tgini_index\n",
            "\tpopulation\n",
            "\twcde-In_Primary_OL\n",
            "\twcde-Primary_OL\n",
            "\n",
            "No weights\n",
            "\n",
            "Variable Importance: MEAN_MIN_DEPTH:\n",
            "    1.                      \"__LABEL\" 11.454764 ################\n",
            "    2.           \"wcde-In_Primary_OL\"  8.076121 #########\n",
            "    3.    \"female_wcde-In_Primary_OL\"  7.876849 #########\n",
            "    4.                   \"population\"  7.036748 ########\n",
            "    5.                   \"gini_index\"  5.905103 ######\n",
            "    6.                \"co2_emissions\"  5.685592 #####\n",
            "    7.       \"female_wcde-Primary_OL\"  5.541573 #####\n",
            "    8.              \"wcde-Primary_OL\"  5.270643 ####\n",
            "    9. \"gdppercapita_us_infla_adjust\"  4.285061 ###\n",
            "   10.           \"children_per_woman\"  2.464084 \n",
            "\n",
            "Variable Importance: NUM_AS_ROOT:\n",
            "    1.        \"children_per_woman\" 125.000000 ################\n",
            "    2.           \"wcde-Primary_OL\" 73.000000 #########\n",
            "    3.    \"female_wcde-Primary_OL\" 65.000000 ########\n",
            "    4. \"female_wcde-In_Primary_OL\" 18.000000 ##\n",
            "    5.        \"wcde-In_Primary_OL\" 18.000000 ##\n",
            "    6.             \"co2_emissions\"  1.000000 \n",
            "\n",
            "Variable Importance: NUM_NODES:\n",
            "    1.                   \"population\" 33703.000000 ################\n",
            "    2.                   \"gini_index\" 27913.000000 #########\n",
            "    3.           \"children_per_woman\" 27896.000000 #########\n",
            "    4.                \"co2_emissions\" 26869.000000 ########\n",
            "    5. \"gdppercapita_us_infla_adjust\" 24783.000000 ######\n",
            "    6.              \"wcde-Primary_OL\" 18933.000000 \n",
            "    7.       \"female_wcde-Primary_OL\" 18823.000000 \n",
            "    8.           \"wcde-In_Primary_OL\" 18396.000000 \n",
            "    9.    \"female_wcde-In_Primary_OL\" 18297.000000 \n",
            "\n",
            "Variable Importance: SUM_SCORE:\n",
            "    1.           \"children_per_woman\" 42861558.207489 ################\n",
            "    2.              \"wcde-Primary_OL\" 24912162.766261 ########\n",
            "    3.       \"female_wcde-Primary_OL\" 22984246.206917 #######\n",
            "    4. \"gdppercapita_us_infla_adjust\" 11834010.589737 ##\n",
            "    5.    \"female_wcde-In_Primary_OL\" 8548076.946824 #\n",
            "    6.           \"wcde-In_Primary_OL\" 8195690.865254 \n",
            "    7.                   \"gini_index\" 6995494.845241 \n",
            "    8.                \"co2_emissions\" 6854519.657822 \n",
            "    9.                   \"population\" 6065154.983251 \n",
            "\n",
            "\n",
            "\n",
            "Out-of-bag evaluation: rmse:2.37154\n",
            "Number of trees: 300\n",
            "Total number of nodes: 431526\n",
            "\n",
            "Number of nodes by tree:\n",
            "Count: 300 Average: 1438.42 StdDev: 50.3687\n",
            "Min: 1283 Max: 1561 Ignored: 0\n",
            "----------------------------------------------\n",
            "[ 1283, 1296)  1   0.33%   0.33%\n",
            "[ 1296, 1310)  2   0.67%   1.00% #\n",
            "[ 1310, 1324)  4   1.33%   2.33% #\n",
            "[ 1324, 1338)  3   1.00%   3.33% #\n",
            "[ 1338, 1352)  7   2.33%   5.67% ##\n",
            "[ 1352, 1366) 10   3.33%   9.00% ###\n",
            "[ 1366, 1380) 14   4.67%  13.67% ####\n",
            "[ 1380, 1394) 18   6.00%  19.67% #####\n",
            "[ 1394, 1408) 20   6.67%  26.33% #####\n",
            "[ 1408, 1422) 18   6.00%  32.33% #####\n",
            "[ 1422, 1436) 31  10.33%  42.67% ########\n",
            "[ 1436, 1450) 40  13.33%  56.00% ##########\n",
            "[ 1450, 1464) 39  13.00%  69.00% ##########\n",
            "[ 1464, 1478) 32  10.67%  79.67% ########\n",
            "[ 1478, 1492) 19   6.33%  86.00% #####\n",
            "[ 1492, 1506) 17   5.67%  91.67% ####\n",
            "[ 1506, 1520) 15   5.00%  96.67% ####\n",
            "[ 1520, 1534)  5   1.67%  98.33% #\n",
            "[ 1534, 1548)  2   0.67%  99.00% #\n",
            "[ 1548, 1561]  3   1.00% 100.00% #\n",
            "\n",
            "Depth by leafs:\n",
            "Count: 215913 Average: 11.4548 StdDev: 2.38098\n",
            "Min: 3 Max: 15 Ignored: 0\n",
            "----------------------------------------------\n",
            "[  3,  4)     2   0.00%   0.00%\n",
            "[  4,  5)   121   0.06%   0.06%\n",
            "[  5,  6)   863   0.40%   0.46%\n",
            "[  6,  7)  3236   1.50%   1.96% #\n",
            "[  7,  8)  7954   3.68%   5.64% ###\n",
            "[  8,  9) 14252   6.60%  12.24% #####\n",
            "[  9, 10) 21230   9.83%  22.07% #######\n",
            "[ 10, 11) 27589  12.78%  34.85% #########\n",
            "[ 11, 12) 30925  14.32%  49.17% ##########\n",
            "[ 12, 13) 31189  14.45%  63.62% ##########\n",
            "[ 13, 14) 28578  13.24%  76.85% #########\n",
            "[ 14, 15) 23210  10.75%  87.60% #######\n",
            "[ 15, 15] 26764  12.40% 100.00% #########\n",
            "\n",
            "Number of training obs by leaf:\n",
            "Count: 215913 Average: 7.06812 StdDev: 5.99236\n",
            "Min: 5 Max: 293 Ignored: 0\n",
            "----------------------------------------------\n",
            "[   5,  19) 212223  98.29%  98.29% ##########\n",
            "[  19,  33)   2181   1.01%  99.30%\n",
            "[  33,  48)    730   0.34%  99.64%\n",
            "[  48,  62)    278   0.13%  99.77%\n",
            "[  62,  77)    174   0.08%  99.85%\n",
            "[  77,  91)    118   0.05%  99.90%\n",
            "[  91, 106)     67   0.03%  99.93%\n",
            "[ 106, 120)     34   0.02%  99.95%\n",
            "[ 120, 135)     33   0.02%  99.97%\n",
            "[ 135, 149)     20   0.01%  99.97%\n",
            "[ 149, 163)     10   0.00%  99.98%\n",
            "[ 163, 178)     12   0.01%  99.98%\n",
            "[ 178, 192)     18   0.01%  99.99%\n",
            "[ 192, 207)      4   0.00%  99.99%\n",
            "[ 207, 221)      5   0.00% 100.00%\n",
            "[ 221, 236)      2   0.00% 100.00%\n",
            "[ 236, 250)      1   0.00% 100.00%\n",
            "[ 250, 265)      0   0.00% 100.00%\n",
            "[ 265, 279)      0   0.00% 100.00%\n",
            "[ 279, 293]      3   0.00% 100.00%\n",
            "\n",
            "Attribute in nodes:\n",
            "\t33703 : population [NUMERICAL]\n",
            "\t27913 : gini_index [NUMERICAL]\n",
            "\t27896 : children_per_woman [NUMERICAL]\n",
            "\t26869 : co2_emissions [NUMERICAL]\n",
            "\t24783 : gdppercapita_us_infla_adjust [NUMERICAL]\n",
            "\t18933 : wcde-Primary_OL [NUMERICAL]\n",
            "\t18823 : female_wcde-Primary_OL [NUMERICAL]\n",
            "\t18396 : wcde-In_Primary_OL [NUMERICAL]\n",
            "\t18297 : female_wcde-In_Primary_OL [NUMERICAL]\n",
            "\n",
            "Attribute in nodes with depth <= 0:\n",
            "\t125 : children_per_woman [NUMERICAL]\n",
            "\t73 : wcde-Primary_OL [NUMERICAL]\n",
            "\t65 : female_wcde-Primary_OL [NUMERICAL]\n",
            "\t18 : wcde-In_Primary_OL [NUMERICAL]\n",
            "\t18 : female_wcde-In_Primary_OL [NUMERICAL]\n",
            "\t1 : co2_emissions [NUMERICAL]\n",
            "\n",
            "Attribute in nodes with depth <= 1:\n",
            "\t226 : children_per_woman [NUMERICAL]\n",
            "\t197 : wcde-Primary_OL [NUMERICAL]\n",
            "\t171 : female_wcde-Primary_OL [NUMERICAL]\n",
            "\t126 : gdppercapita_us_infla_adjust [NUMERICAL]\n",
            "\t66 : female_wcde-In_Primary_OL [NUMERICAL]\n",
            "\t57 : wcde-In_Primary_OL [NUMERICAL]\n",
            "\t48 : co2_emissions [NUMERICAL]\n",
            "\t9 : gini_index [NUMERICAL]\n",
            "\n",
            "Attribute in nodes with depth <= 2:\n",
            "\t426 : children_per_woman [NUMERICAL]\n",
            "\t375 : gdppercapita_us_infla_adjust [NUMERICAL]\n",
            "\t326 : female_wcde-Primary_OL [NUMERICAL]\n",
            "\t316 : wcde-Primary_OL [NUMERICAL]\n",
            "\t307 : co2_emissions [NUMERICAL]\n",
            "\t118 : female_wcde-In_Primary_OL [NUMERICAL]\n",
            "\t98 : gini_index [NUMERICAL]\n",
            "\t89 : wcde-In_Primary_OL [NUMERICAL]\n",
            "\t45 : population [NUMERICAL]\n",
            "\n",
            "Attribute in nodes with depth <= 3:\n",
            "\t809 : gdppercapita_us_infla_adjust [NUMERICAL]\n",
            "\t807 : children_per_woman [NUMERICAL]\n",
            "\t648 : co2_emissions [NUMERICAL]\n",
            "\t497 : gini_index [NUMERICAL]\n",
            "\t493 : wcde-Primary_OL [NUMERICAL]\n",
            "\t489 : female_wcde-Primary_OL [NUMERICAL]\n",
            "\t321 : population [NUMERICAL]\n",
            "\t232 : female_wcde-In_Primary_OL [NUMERICAL]\n",
            "\t202 : wcde-In_Primary_OL [NUMERICAL]\n",
            "\n",
            "Attribute in nodes with depth <= 5:\n",
            "\t2720 : gini_index [NUMERICAL]\n",
            "\t2625 : gdppercapita_us_infla_adjust [NUMERICAL]\n",
            "\t2588 : children_per_woman [NUMERICAL]\n",
            "\t2457 : population [NUMERICAL]\n",
            "\t2092 : co2_emissions [NUMERICAL]\n",
            "\t1403 : female_wcde-Primary_OL [NUMERICAL]\n",
            "\t1368 : wcde-Primary_OL [NUMERICAL]\n",
            "\t1230 : female_wcde-In_Primary_OL [NUMERICAL]\n",
            "\t1177 : wcde-In_Primary_OL [NUMERICAL]\n",
            "\n",
            "Condition type in nodes:\n",
            "\t215613 : HigherCondition\n",
            "Condition type in nodes with depth <= 0:\n",
            "\t300 : HigherCondition\n",
            "Condition type in nodes with depth <= 1:\n",
            "\t900 : HigherCondition\n",
            "Condition type in nodes with depth <= 2:\n",
            "\t2100 : HigherCondition\n",
            "Condition type in nodes with depth <= 3:\n",
            "\t4498 : HigherCondition\n",
            "Condition type in nodes with depth <= 5:\n",
            "\t17660 : HigherCondition\n",
            "Node format: NOT_SET\n",
            "\n",
            "Training OOB:\n",
            "\ttrees: 1, Out-of-bag evaluation: rmse:3.93049\n",
            "\ttrees: 11, Out-of-bag evaluation: rmse:2.76532\n",
            "\ttrees: 21, Out-of-bag evaluation: rmse:2.59008\n",
            "\ttrees: 31, Out-of-bag evaluation: rmse:2.51439\n",
            "\ttrees: 41, Out-of-bag evaluation: rmse:2.46905\n",
            "\ttrees: 51, Out-of-bag evaluation: rmse:2.44773\n",
            "\ttrees: 61, Out-of-bag evaluation: rmse:2.43614\n",
            "\ttrees: 71, Out-of-bag evaluation: rmse:2.42471\n",
            "\ttrees: 81, Out-of-bag evaluation: rmse:2.41513\n",
            "\ttrees: 91, Out-of-bag evaluation: rmse:2.40546\n",
            "\ttrees: 101, Out-of-bag evaluation: rmse:2.40196\n",
            "\ttrees: 111, Out-of-bag evaluation: rmse:2.40022\n",
            "\ttrees: 121, Out-of-bag evaluation: rmse:2.39358\n",
            "\ttrees: 131, Out-of-bag evaluation: rmse:2.39904\n",
            "\ttrees: 141, Out-of-bag evaluation: rmse:2.39695\n",
            "\ttrees: 151, Out-of-bag evaluation: rmse:2.38966\n",
            "\ttrees: 161, Out-of-bag evaluation: rmse:2.38737\n",
            "\ttrees: 171, Out-of-bag evaluation: rmse:2.38392\n",
            "\ttrees: 181, Out-of-bag evaluation: rmse:2.38214\n",
            "\ttrees: 191, Out-of-bag evaluation: rmse:2.37899\n",
            "\ttrees: 201, Out-of-bag evaluation: rmse:2.38147\n",
            "\ttrees: 211, Out-of-bag evaluation: rmse:2.37714\n",
            "\ttrees: 221, Out-of-bag evaluation: rmse:2.37908\n",
            "\ttrees: 231, Out-of-bag evaluation: rmse:2.38027\n",
            "\ttrees: 241, Out-of-bag evaluation: rmse:2.37846\n",
            "\ttrees: 251, Out-of-bag evaluation: rmse:2.37716\n",
            "\ttrees: 261, Out-of-bag evaluation: rmse:2.37519\n",
            "\ttrees: 271, Out-of-bag evaluation: rmse:2.37258\n",
            "\ttrees: 281, Out-of-bag evaluation: rmse:2.37485\n",
            "\ttrees: 291, Out-of-bag evaluation: rmse:2.37308\n",
            "\ttrees: 300, Out-of-bag evaluation: rmse:2.37154\n",
            "\n"
          ]
        }
      ]
    },
    {
      "cell_type": "markdown",
      "metadata": {
        "id": "Ck40I_2pO2t8"
      },
      "source": [
        "# CNN Algorithm"
      ]
    },
    {
      "cell_type": "code",
      "metadata": {
        "id": "WoTPvb0hO2BL"
      },
      "source": [
        ""
      ],
      "execution_count": 325,
      "outputs": []
    },
    {
      "cell_type": "code",
      "metadata": {
        "id": "VOgX1z4ssI_r"
      },
      "source": [
        ""
      ],
      "execution_count": 325,
      "outputs": []
    },
    {
      "cell_type": "code",
      "metadata": {
        "id": "VAYG6P8ysI8I"
      },
      "source": [
        ""
      ],
      "execution_count": 325,
      "outputs": []
    },
    {
      "cell_type": "code",
      "metadata": {
        "id": "kSrlOe2ysI2e"
      },
      "source": [
        ""
      ],
      "execution_count": 325,
      "outputs": []
    },
    {
      "cell_type": "code",
      "metadata": {
        "id": "F9EhQCMjsIzH"
      },
      "source": [
        ""
      ],
      "execution_count": 325,
      "outputs": []
    },
    {
      "cell_type": "code",
      "metadata": {
        "id": "a7hOC8ZBsIwK"
      },
      "source": [
        ""
      ],
      "execution_count": 325,
      "outputs": []
    },
    {
      "cell_type": "code",
      "metadata": {
        "id": "5Rj_nYZ0sItM"
      },
      "source": [
        ""
      ],
      "execution_count": 325,
      "outputs": []
    },
    {
      "cell_type": "code",
      "metadata": {
        "id": "aHcOgjQOsIjf"
      },
      "source": [
        ""
      ],
      "execution_count": 325,
      "outputs": []
    },
    {
      "cell_type": "markdown",
      "metadata": {
        "id": "pavoB83cgMS_"
      },
      "source": [
        "from the above output\n",
        "- **malnutrition & people in povery** have least no of countries\n",
        "- **infant mortality & gdp per captia** have highest no of countries\n",
        "\n",
        "*Doubt:* Does having more data for one factor will make the decision tree bias?\n"
      ]
    },
    {
      "cell_type": "markdown",
      "metadata": {
        "id": "26MX_yiOLQM1"
      },
      "source": [
        "###Steps\n",
        "1. create a csv file such that each row contains all values of particular year & country present\n",
        "2. the output for each row is year + 40 years corresponding value \n",
        "    1. **outputs** - life expectany, education level, gdp\n",
        "\n",
        "\n"
      ]
    },
    {
      "cell_type": "markdown",
      "metadata": {
        "id": "2UMi5KTtyRsq"
      },
      "source": [
        "From above output\n",
        "- if we dont drop any rows our table size = 4256 entries\n",
        "- if we drop rows containing any if all of outputs missing then our table size = 3039 entries\n",
        "- if we drop rows containing any one of output missing then our table size = 1745 entries\n",
        "\n",
        "so, I think its is better to go with second choice and build different models, but not sure it will not effect performance of the model\n"
      ]
    },
    {
      "cell_type": "markdown",
      "metadata": {
        "id": "rlvdCI-pzVEd"
      },
      "source": [
        "now we have the dataframe containing both inputs and ouputs,our next step is\n",
        "1. split the data into train & test data\n",
        "  1. try to split data based on continents to reduce bias\n",
        "2. build DF model using tensorflow\n",
        "3. check the accuracy of the model"
      ]
    }
  ]
}