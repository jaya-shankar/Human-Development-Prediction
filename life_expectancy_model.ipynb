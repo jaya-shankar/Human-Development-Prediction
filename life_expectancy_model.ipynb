{
  "nbformat": 4,
  "nbformat_minor": 0,
  "metadata": {
    "colab": {
      "name": "life_expectancy_model.ipynb",
      "provenance": [],
      "collapsed_sections": [],
      "include_colab_link": true
    },
    "kernelspec": {
      "name": "python3",
      "display_name": "Python 3"
    },
    "language_info": {
      "name": "python"
    }
  },
  "cells": [
    {
      "cell_type": "markdown",
      "metadata": {
        "id": "view-in-github",
        "colab_type": "text"
      },
      "source": [
        "<a href=\"https://colab.research.google.com/github/jaya-shankar/education-impact/blob/master/life_expectancy_model.ipynb\" target=\"_parent\"><img src=\"https://colab.research.google.com/assets/colab-badge.svg\" alt=\"Open In Colab\"/></a>"
      ]
    },
    {
      "cell_type": "code",
      "metadata": {
        "colab": {
          "base_uri": "https://localhost:8080/"
        },
        "id": "_5tBhvAJeBj7",
        "outputId": "473d6633-8e7c-4cae-eddd-be78765b8004"
      },
      "source": [
        "!rm -rf education-impact\n",
        "!rm education-impact"
      ],
      "execution_count": 2,
      "outputs": [
        {
          "output_type": "stream",
          "name": "stdout",
          "text": [
            "rm: cannot remove 'education-impact': No such file or directory\n"
          ]
        }
      ]
    },
    {
      "cell_type": "code",
      "metadata": {
        "id": "WLCGn-YlJ5k5",
        "colab": {
          "base_uri": "https://localhost:8080/"
        },
        "outputId": "52ac3dec-7078-4cbf-fddd-ca8f05b37e83"
      },
      "source": [
        "!git clone https://github.com/jaya-shankar/education-impact.git\n"
      ],
      "execution_count": 3,
      "outputs": [
        {
          "output_type": "stream",
          "name": "stdout",
          "text": [
            "Cloning into 'education-impact'...\n",
            "remote: Enumerating objects: 264, done.\u001b[K\n",
            "remote: Counting objects: 100% (264/264), done.\u001b[K\n",
            "remote: Compressing objects: 100% (223/223), done.\u001b[K\n",
            "remote: Total 264 (delta 125), reused 132 (delta 38), pack-reused 0\u001b[K\n",
            "Receiving objects: 100% (264/264), 1.81 MiB | 11.53 MiB/s, done.\n",
            "Resolving deltas: 100% (125/125), done.\n"
          ]
        }
      ]
    },
    {
      "cell_type": "code",
      "metadata": {
        "id": "Jo8dc6Xv7sPc"
      },
      "source": [
        "!pip install tensorflow_decision_forests\n",
        "!pip install wurlitzer\n",
        "!pip install seaborn"
      ],
      "execution_count": null,
      "outputs": []
    },
    {
      "cell_type": "code",
      "metadata": {
        "id": "UNc6Or80qBwS",
        "colab": {
          "base_uri": "https://localhost:8080/"
        },
        "outputId": "cdca1fe4-ce80-43b0-9125-ed7739eee47e"
      },
      "source": [
        "import pandas as pd\n",
        "import numpy as np\n",
        "import math\n",
        "import tensorflow_decision_forests as tfdf\n",
        "from sklearn.model_selection import train_test_split\n",
        "from wurlitzer import sys_pipes"
      ],
      "execution_count": 10,
      "outputs": [
        {
          "output_type": "stream",
          "name": "stderr",
          "text": [
            "WARNING:root:Failure to load the custom c++ tensorflow ops. This error is likely caused the version of TensorFlow and TensorFlow Decision Forests are not compatible.\n",
            "WARNING:root:TF Parameter Server distributed training not available.\n"
          ]
        }
      ]
    },
    {
      "cell_type": "code",
      "metadata": {
        "id": "mHtPKJNNQ7Zv",
        "cellView": "code"
      },
      "source": [
        "#@title Default title text\n",
        "root = \"education-impact/\" \n",
        "datasets_path = {\n",
        "                    \"infant_mortality\"              :  root+ \"datasets/Infant_Mortality_Rate.csv\",\n",
        "                    \"child_mortality\"               :  root+ \"datasets/child_mortality_0_5_year_olds_dying_per_1000_born.csv\",\n",
        "                    \"children_per_woman\"            :  root+ \"datasets/children_per_woman_total_fertility.csv\",\n",
        "                    \"co2_emissions\"                 :  root+\"datasets/co2_emissions_tonnes_per_person.csv\",\n",
        "                    \"population\"                    :  root+ \"datasets/converted_pop.csv\",\n",
        "                    \"food_supply\"                   :  root+ \"datasets/food_supply_kilocalories_per_person_and_day.csv\",\n",
        "                    \"gdp_per_captia\"                :  root+ \"datasets/gdp_per_capita_yearly_growth.csv\",\n",
        "                    \"Avg_daily_income_ppp\"          :  root+ \"datasets/mincpcap_cppp.csv\",\n",
        "                    \"gini_index\"                    :  root+ \"datasets/gini.csv\",\n",
        "                    \"life_expectancy\"               :  root+ \"datasets/life_expectancy_years.csv\",\n",
        "                    \"malnutrition\"                  :  root+ \"datasets/malnutrition_weight_for_age_percent_of_children_under_5.csv\",\n",
        "                    \"poverty_index\"                 :  root+ \"datasets/mincpcap_cppp.csv\",\n",
        "                    \"maternal_mortality\"            :  root+ \"datasets/mmr_who.csv\",\n",
        "                    \"people_in_poverty\"             :  root+ \"datasets/number_of_people_in_poverty.csv\",\n",
        "                    \"primary_completion\"            :  root+ \"datasets/primary_school_completion_percent_of_girls.csv\",\n",
        "                    \"ratio_b/g_in_primary\"          :  root+ \"datasets/ratio_of_girls_to_boys_in_primary_and_secondary_education_perc.csv\",\n",
        "                    \"wcde-25--34\"                   :  root+ \"datasets/wcde-25--34.csv\",\n",
        "                    \"wcde-Incomplete_Primary\"       :  root+ \"datasets/wcde-Incomplete Primary.csv\",\n",
        "                    \"wcde-Lower_Secondary\"          :  root+ \"datasets/wcde-Lower Secondary.csv\",\n",
        "                    \"wcde-Post_Secondary\"           :  root+ \"datasets/wcde-Post Secondary.csv\",\n",
        "                    \"wcde_female-Incomplete_Primary\":  root+ \"datasets/wcde_female-Incomplete Primary.csv\",\n",
        "                    \"wcde_female-Lower_Secondary\"   :  root+ \"datasets/wcde_female-Lower Secondary.csv\",\n",
        "                    \"wcde_female-Post_Secondary\"    :  root+ \"datasets/wcde_female-Post Secondary.csv\",\n",
        "                }"
      ],
      "execution_count": 7,
      "outputs": []
    },
    {
      "cell_type": "code",
      "metadata": {
        "id": "zQlw2De3EPX-"
      },
      "source": [
        "datasets = [\n",
        "            \"infant_mortality\",\n",
        "            \"life_expectancy\",\n",
        "            \"child_mortality\",\n",
        "            \"co2_emissions\",\n",
        "            \"Avg_daily_income_ppp\",\n",
        "            \"wcde-Incomplete_Primary\",\n",
        "            \"wcde-Lower_Secondary\",\n",
        "            \"population\",\n",
        "            \"wcde_female-Lower_Secondary\"\n",
        "            ]"
      ],
      "execution_count": 62,
      "outputs": []
    },
    {
      "cell_type": "code",
      "metadata": {
        "id": "lEv-zMFlFgCm"
      },
      "source": [
        "PREDICT_FUTURE  = 10\n",
        "OUTPUTS         = ['life_expectancy']\n",
        "                   "
      ],
      "execution_count": 63,
      "outputs": []
    },
    {
      "cell_type": "code",
      "metadata": {
        "id": "PWHauD_9RN8n",
        "colab": {
          "base_uri": "https://localhost:8080/"
        },
        "outputId": "68fb7723-6797-4398-8962-03b40703f23d"
      },
      "source": [
        "# to find out how many countries each dataset has\n",
        "countries_count = None\n",
        "least_dataset_path   = None\n",
        "for dataset in datasets:\n",
        "  df = pd.read_csv(datasets_path[dataset])\n",
        "  count = len(set(df.Country.unique()))\n",
        "  if not countries_count:\n",
        "    countries_count = count\n",
        "  elif countries_count>count:\n",
        "    countries_count = count\n",
        "    least_dataset_path   = datasets_path[dataset]\n",
        "  print(f\"{'Factor: ' + dataset:<30} count: {count}\")\n",
        "print(f\"{'To use: ' + least_dataset_path:<30} count: {countries_count}\")"
      ],
      "execution_count": 64,
      "outputs": [
        {
          "output_type": "stream",
          "name": "stdout",
          "text": [
            "Factor: infant_mortality       count: 266\n",
            "Factor: life_expectancy        count: 195\n",
            "Factor: child_mortality        count: 197\n",
            "Factor: co2_emissions          count: 194\n",
            "Factor: Avg_daily_income_ppp   count: 195\n",
            "Factor: wcde-Incomplete_Primary count: 202\n",
            "Factor: wcde-Lower_Secondary   count: 202\n",
            "Factor: population             count: 197\n",
            "Factor: wcde_female-Lower_Secondary count: 202\n",
            "To use: education-impact/datasets/co2_emissions_tonnes_per_person.csv count: 194\n"
          ]
        }
      ]
    },
    {
      "cell_type": "code",
      "metadata": {
        "id": "6lCbc1WbKgia"
      },
      "source": [
        "# creating a list of all countries & years\n",
        "countries = list(pd.read_csv(least_dataset_path).Country.unique())\n",
        "years     = [y for y in range(1960,2015-PREDICT_FUTURE+1)]"
      ],
      "execution_count": 65,
      "outputs": []
    },
    {
      "cell_type": "code",
      "metadata": {
        "id": "zcGs5bV_OlyL"
      },
      "source": [
        "keys=[]\n",
        "for y in years:\n",
        "  for c in countries:\n",
        "    keys.append((c,str(y)))"
      ],
      "execution_count": 66,
      "outputs": []
    },
    {
      "cell_type": "code",
      "metadata": {
        "id": "GF8pxSpGlaKM"
      },
      "source": [
        "big_dic = {k : [] for k in keys}\n",
        "for dataset in datasets:\n",
        "  df = pd.read_csv(datasets_path[dataset])\n",
        "  df.set_index(\"Country\", inplace=True)\n",
        "  for k in keys:\n",
        "    try:\n",
        "      big_dic[k].append(df.loc[k[0]][k[1]])\n",
        "    except:\n",
        "      big_dic[k].append(np.NaN)\n",
        " "
      ],
      "execution_count": 67,
      "outputs": []
    },
    {
      "cell_type": "code",
      "metadata": {
        "id": "NgqcguWjsUGI"
      },
      "source": [
        "for output_path in OUTPUTS:\n",
        "  df = pd.read_csv(datasets_path[output_path])\n",
        "  df.set_index(\"Country\", inplace=True)\n",
        "  for k in keys:\n",
        "    try:\n",
        "      big_dic[k].append(df.loc[k[0]][str(int(k[1])+PREDICT_FUTURE)])\n",
        "    except:\n",
        "      big_dic[k].append(np.NaN)"
      ],
      "execution_count": 68,
      "outputs": []
    },
    {
      "cell_type": "code",
      "metadata": {
        "id": "WVnfofKptBRt"
      },
      "source": [
        "columns = [k for k in datasets ]\n",
        "output_columns = [\"o_\"+o for o in OUTPUTS]\n",
        "columns.extend(output_columns)"
      ],
      "execution_count": 69,
      "outputs": []
    },
    {
      "cell_type": "code",
      "metadata": {
        "id": "E1W2z1TcszrP"
      },
      "source": [
        "input_df = pd.DataFrame.from_dict(big_dic,orient='index', columns = columns)\n",
        "output_df = input_df[[\"o_\"+o for o in OUTPUTS]]\n",
        "input_df.drop(labels=[\"o_\"+o for o in OUTPUTS], axis = 1, inplace=True)"
      ],
      "execution_count": 70,
      "outputs": []
    },
    {
      "cell_type": "code",
      "metadata": {
        "id": "KRYgp4465ve1"
      },
      "source": [
        "X_train, X_test, y_train, y_test = train_test_split(input_df, output_df, test_size=0.30, random_state=43)"
      ],
      "execution_count": 71,
      "outputs": []
    },
    {
      "cell_type": "code",
      "metadata": {
        "colab": {
          "base_uri": "https://localhost:8080/"
        },
        "id": "UoY9_jY9n7Wo",
        "outputId": "a74653f6-0bd9-45ea-a656-1b987d7e43a8"
      },
      "source": [
        "X_train.isna().sum()"
      ],
      "execution_count": 72,
      "outputs": [
        {
          "output_type": "execute_result",
          "data": {
            "text/plain": [
              "infant_mortality               1259\n",
              "life_expectancy                  43\n",
              "child_mortality                   0\n",
              "co2_emissions                   316\n",
              "Avg_daily_income_ppp             43\n",
              "wcde-Incomplete_Primary        1165\n",
              "wcde-Lower_Secondary           1165\n",
              "population                        0\n",
              "wcde_female-Lower_Secondary    1165\n",
              "dtype: int64"
            ]
          },
          "metadata": {},
          "execution_count": 72
        }
      ]
    },
    {
      "cell_type": "code",
      "metadata": {
        "colab": {
          "base_uri": "https://localhost:8080/"
        },
        "id": "sefswM8hpqdg",
        "outputId": "13e375d7-5a50-4d8d-a1e6-b3eeeb85bdf1"
      },
      "source": [
        "y_train.isna().sum()"
      ],
      "execution_count": 73,
      "outputs": [
        {
          "output_type": "execute_result",
          "data": {
            "text/plain": [
              "o_life_expectancy    43\n",
              "dtype: int64"
            ]
          },
          "metadata": {},
          "execution_count": 73
        }
      ]
    },
    {
      "cell_type": "code",
      "metadata": {
        "colab": {
          "base_uri": "https://localhost:8080/",
          "height": 422
        },
        "id": "zbtSynu0ptXn",
        "outputId": "d244ef72-3236-4bcf-e7b7-e8515b3f4900"
      },
      "source": [
        "y_train"
      ],
      "execution_count": 74,
      "outputs": [
        {
          "output_type": "execute_result",
          "data": {
            "text/html": [
              "<div>\n",
              "<style scoped>\n",
              "    .dataframe tbody tr th:only-of-type {\n",
              "        vertical-align: middle;\n",
              "    }\n",
              "\n",
              "    .dataframe tbody tr th {\n",
              "        vertical-align: top;\n",
              "    }\n",
              "\n",
              "    .dataframe thead th {\n",
              "        text-align: right;\n",
              "    }\n",
              "</style>\n",
              "<table border=\"1\" class=\"dataframe\">\n",
              "  <thead>\n",
              "    <tr style=\"text-align: right;\">\n",
              "      <th></th>\n",
              "      <th>o_life_expectancy</th>\n",
              "    </tr>\n",
              "  </thead>\n",
              "  <tbody>\n",
              "    <tr>\n",
              "      <th>(Burundi, 1975)</th>\n",
              "      <td>49.3</td>\n",
              "    </tr>\n",
              "    <tr>\n",
              "      <th>(Bosnia and Herzegovina, 2001)</th>\n",
              "      <td>76.4</td>\n",
              "    </tr>\n",
              "    <tr>\n",
              "      <th>(Philippines, 1973)</th>\n",
              "      <td>66.3</td>\n",
              "    </tr>\n",
              "    <tr>\n",
              "      <th>(Algeria, 1988)</th>\n",
              "      <td>70.2</td>\n",
              "    </tr>\n",
              "    <tr>\n",
              "      <th>(Mauritius, 1973)</th>\n",
              "      <td>68.8</td>\n",
              "    </tr>\n",
              "    <tr>\n",
              "      <th>...</th>\n",
              "      <td>...</td>\n",
              "    </tr>\n",
              "    <tr>\n",
              "      <th>(Serbia, 2003)</th>\n",
              "      <td>74.9</td>\n",
              "    </tr>\n",
              "    <tr>\n",
              "      <th>(Namibia, 1970)</th>\n",
              "      <td>58.9</td>\n",
              "    </tr>\n",
              "    <tr>\n",
              "      <th>(Chile, 2001)</th>\n",
              "      <td>79.0</td>\n",
              "    </tr>\n",
              "    <tr>\n",
              "      <th>(Thailand, 1971)</th>\n",
              "      <td>66.9</td>\n",
              "    </tr>\n",
              "    <tr>\n",
              "      <th>(South Korea, 1977)</th>\n",
              "      <td>70.6</td>\n",
              "    </tr>\n",
              "  </tbody>\n",
              "</table>\n",
              "<p>6246 rows × 1 columns</p>\n",
              "</div>"
            ],
            "text/plain": [
              "                                o_life_expectancy\n",
              "(Burundi, 1975)                              49.3\n",
              "(Bosnia and Herzegovina, 2001)               76.4\n",
              "(Philippines, 1973)                          66.3\n",
              "(Algeria, 1988)                              70.2\n",
              "(Mauritius, 1973)                            68.8\n",
              "...                                           ...\n",
              "(Serbia, 2003)                               74.9\n",
              "(Namibia, 1970)                              58.9\n",
              "(Chile, 2001)                                79.0\n",
              "(Thailand, 1971)                             66.9\n",
              "(South Korea, 1977)                          70.6\n",
              "\n",
              "[6246 rows x 1 columns]"
            ]
          },
          "metadata": {},
          "execution_count": 74
        }
      ]
    },
    {
      "cell_type": "code",
      "metadata": {
        "colab": {
          "base_uri": "https://localhost:8080/",
          "height": 632
        },
        "id": "IAkvReLKpLQ4",
        "outputId": "6a17e4a2-185f-4c34-d8be-22a503a8c236"
      },
      "source": [
        "combine_dfs(\"o_\"+OUTPUTS[0],X_test,y_test)"
      ],
      "execution_count": 56,
      "outputs": [
        {
          "output_type": "execute_result",
          "data": {
            "text/html": [
              "<div>\n",
              "<style scoped>\n",
              "    .dataframe tbody tr th:only-of-type {\n",
              "        vertical-align: middle;\n",
              "    }\n",
              "\n",
              "    .dataframe tbody tr th {\n",
              "        vertical-align: top;\n",
              "    }\n",
              "\n",
              "    .dataframe thead th {\n",
              "        text-align: right;\n",
              "    }\n",
              "</style>\n",
              "<table border=\"1\" class=\"dataframe\">\n",
              "  <thead>\n",
              "    <tr style=\"text-align: right;\">\n",
              "      <th></th>\n",
              "      <th>infant_mortality</th>\n",
              "      <th>child_mortality</th>\n",
              "      <th>co2_emissions</th>\n",
              "      <th>Avg_daily_income_ppp</th>\n",
              "      <th>wcde-Incomplete_Primary</th>\n",
              "      <th>wcde-Lower_Secondary</th>\n",
              "      <th>population</th>\n",
              "      <th>wcde_female-Lower_Secondary</th>\n",
              "      <th>o_life_expectancy</th>\n",
              "    </tr>\n",
              "  </thead>\n",
              "  <tbody>\n",
              "    <tr>\n",
              "      <th>(Albania, 2005)</th>\n",
              "      <td>17.8</td>\n",
              "      <td>19.20</td>\n",
              "      <td>1.380</td>\n",
              "      <td>7.70</td>\n",
              "      <td>3.70</td>\n",
              "      <td>45.00</td>\n",
              "      <td>3090000</td>\n",
              "      <td>45.90</td>\n",
              "      <td>78.1</td>\n",
              "    </tr>\n",
              "    <tr>\n",
              "      <th>(Bangladesh, 2002)</th>\n",
              "      <td>57.3</td>\n",
              "      <td>78.20</td>\n",
              "      <td>0.242</td>\n",
              "      <td>3.05</td>\n",
              "      <td>41.88</td>\n",
              "      <td>44.36</td>\n",
              "      <td>132000000</td>\n",
              "      <td>45.94</td>\n",
              "      <td>72.3</td>\n",
              "    </tr>\n",
              "    <tr>\n",
              "      <th>(Vietnam, 1971)</th>\n",
              "      <td>53.9</td>\n",
              "      <td>80.80</td>\n",
              "      <td>0.551</td>\n",
              "      <td>1.60</td>\n",
              "      <td>NaN</td>\n",
              "      <td>NaN</td>\n",
              "      <td>44500000</td>\n",
              "      <td>NaN</td>\n",
              "      <td>66.6</td>\n",
              "    </tr>\n",
              "    <tr>\n",
              "      <th>(Malaysia, 1977)</th>\n",
              "      <td>30.5</td>\n",
              "      <td>37.30</td>\n",
              "      <td>1.770</td>\n",
              "      <td>9.50</td>\n",
              "      <td>22.30</td>\n",
              "      <td>53.04</td>\n",
              "      <td>12800000</td>\n",
              "      <td>51.20</td>\n",
              "      <td>71.0</td>\n",
              "    </tr>\n",
              "    <tr>\n",
              "      <th>(Malaysia, 2000)</th>\n",
              "      <td>8.7</td>\n",
              "      <td>10.20</td>\n",
              "      <td>5.460</td>\n",
              "      <td>15.60</td>\n",
              "      <td>7.80</td>\n",
              "      <td>26.20</td>\n",
              "      <td>23200000</td>\n",
              "      <td>22.80</td>\n",
              "      <td>74.4</td>\n",
              "    </tr>\n",
              "    <tr>\n",
              "      <th>...</th>\n",
              "      <td>...</td>\n",
              "      <td>...</td>\n",
              "      <td>...</td>\n",
              "      <td>...</td>\n",
              "      <td>...</td>\n",
              "      <td>...</td>\n",
              "      <td>...</td>\n",
              "      <td>...</td>\n",
              "      <td>...</td>\n",
              "    </tr>\n",
              "    <tr>\n",
              "      <th>(Iceland, 1995)</th>\n",
              "      <td>4.2</td>\n",
              "      <td>5.21</td>\n",
              "      <td>9.220</td>\n",
              "      <td>34.70</td>\n",
              "      <td>0.00</td>\n",
              "      <td>54.80</td>\n",
              "      <td>268000</td>\n",
              "      <td>55.10</td>\n",
              "      <td>81.6</td>\n",
              "    </tr>\n",
              "    <tr>\n",
              "      <th>(Guatemala, 1989)</th>\n",
              "      <td>61.6</td>\n",
              "      <td>83.80</td>\n",
              "      <td>0.463</td>\n",
              "      <td>5.55</td>\n",
              "      <td>56.08</td>\n",
              "      <td>36.06</td>\n",
              "      <td>9050000</td>\n",
              "      <td>31.88</td>\n",
              "      <td>66.4</td>\n",
              "    </tr>\n",
              "    <tr>\n",
              "      <th>(Micronesia, Fed. Sts., 2002)</th>\n",
              "      <td>39.8</td>\n",
              "      <td>51.00</td>\n",
              "      <td>1.340</td>\n",
              "      <td>7.33</td>\n",
              "      <td>NaN</td>\n",
              "      <td>NaN</td>\n",
              "      <td>107000</td>\n",
              "      <td>NaN</td>\n",
              "      <td>64.2</td>\n",
              "    </tr>\n",
              "    <tr>\n",
              "      <th>(Haiti, 1986)</th>\n",
              "      <td>110.4</td>\n",
              "      <td>161.00</td>\n",
              "      <td>0.128</td>\n",
              "      <td>3.68</td>\n",
              "      <td>73.20</td>\n",
              "      <td>23.98</td>\n",
              "      <td>6480000</td>\n",
              "      <td>20.00</td>\n",
              "      <td>55.7</td>\n",
              "    </tr>\n",
              "    <tr>\n",
              "      <th>(Tonga, 1986)</th>\n",
              "      <td>21.2</td>\n",
              "      <td>25.10</td>\n",
              "      <td>0.507</td>\n",
              "      <td>7.84</td>\n",
              "      <td>1.78</td>\n",
              "      <td>80.48</td>\n",
              "      <td>94100</td>\n",
              "      <td>80.68</td>\n",
              "      <td>71.6</td>\n",
              "    </tr>\n",
              "  </tbody>\n",
              "</table>\n",
              "<p>2675 rows × 9 columns</p>\n",
              "</div>"
            ],
            "text/plain": [
              "                               infant_mortality  ...  o_life_expectancy\n",
              "(Albania, 2005)                            17.8  ...               78.1\n",
              "(Bangladesh, 2002)                         57.3  ...               72.3\n",
              "(Vietnam, 1971)                            53.9  ...               66.6\n",
              "(Malaysia, 1977)                           30.5  ...               71.0\n",
              "(Malaysia, 2000)                            8.7  ...               74.4\n",
              "...                                         ...  ...                ...\n",
              "(Iceland, 1995)                             4.2  ...               81.6\n",
              "(Guatemala, 1989)                          61.6  ...               66.4\n",
              "(Micronesia, Fed. Sts., 2002)              39.8  ...               64.2\n",
              "(Haiti, 1986)                             110.4  ...               55.7\n",
              "(Tonga, 1986)                              21.2  ...               71.6\n",
              "\n",
              "[2675 rows x 9 columns]"
            ]
          },
          "metadata": {},
          "execution_count": 56
        }
      ]
    },
    {
      "cell_type": "code",
      "metadata": {
        "id": "gAi9JoDdGuhE"
      },
      "source": [
        "def combine_dfs(label,X,y):\n",
        "  frames      = [X,y[label]]\n",
        "  le_model_df = pd.concat(frames,axis=1)\n",
        "  le_model_df.dropna(subset=[label],inplace=True)\n",
        "  return le_model_df"
      ],
      "execution_count": 57,
      "outputs": []
    },
    {
      "cell_type": "code",
      "metadata": {
        "id": "x2wiwgqk6ZfU",
        "colab": {
          "base_uri": "https://localhost:8080/"
        },
        "outputId": "ddab69fa-503b-40fa-d959-a100e03bb4e1"
      },
      "source": [
        "for output in OUTPUTS:\n",
        "  train_ds = tfdf.keras.pd_dataframe_to_tf_dataset(combine_dfs(\"o_\"+output,X_train,y_train), label=\"o_\"+output, task=tfdf.keras.Task.REGRESSION)\n",
        "  model = tfdf.keras.RandomForestModel(task = tfdf.keras.Task.REGRESSION)\n",
        "  \n",
        "  model.fit(x=train_ds)\n",
        "  # Convert it to a TensorFlow dataset\n",
        "  test_ds = tfdf.keras.pd_dataframe_to_tf_dataset(combine_dfs(\"o_\"+output,X_train,y_train), label=\"o_\"+output, task=tfdf.keras.Task.REGRESSION)\n",
        "\n",
        "  # Evaluate the model\n",
        "  model.compile(metrics=[\"mse\"])\n",
        "  # Evaluate the model on the test dataset.\n",
        "  evaluation = model.evaluate(test_ds, return_dict=True)\n",
        "  print(output.upper())\n",
        "  print(evaluation)\n",
        "  print()\n",
        "  print(f\"MSE: {evaluation['mse']}\")\n",
        "  print(f\"RMSE: {math.sqrt(evaluation['mse'])}\")\n",
        "  print()"
      ],
      "execution_count": 75,
      "outputs": [
        {
          "output_type": "stream",
          "name": "stdout",
          "text": [
            "97/97 [==============================] - 6s 59ms/step\n",
            "WARNING:tensorflow:5 out of the last 5 calls to <function CoreModel.make_predict_function.<locals>.predict_function_trained at 0x7fbd9503ef80> triggered tf.function retracing. Tracing is expensive and the excessive number of tracings could be due to (1) creating @tf.function repeatedly in a loop, (2) passing tensors with different shapes, (3) passing Python objects instead of tensors. For (1), please define your @tf.function outside of the loop. For (2), @tf.function has experimental_relax_shapes=True option that relaxes argument shapes that can avoid unnecessary retracing. For (3), please refer to https://www.tensorflow.org/guide/function#controlling_retracing and https://www.tensorflow.org/api_docs/python/tf/function for  more details.\n"
          ]
        },
        {
          "output_type": "stream",
          "name": "stderr",
          "text": [
            "WARNING:tensorflow:5 out of the last 5 calls to <function CoreModel.make_predict_function.<locals>.predict_function_trained at 0x7fbd9503ef80> triggered tf.function retracing. Tracing is expensive and the excessive number of tracings could be due to (1) creating @tf.function repeatedly in a loop, (2) passing tensors with different shapes, (3) passing Python objects instead of tensors. For (1), please define your @tf.function outside of the loop. For (2), @tf.function has experimental_relax_shapes=True option that relaxes argument shapes that can avoid unnecessary retracing. For (3), please refer to https://www.tensorflow.org/guide/function#controlling_retracing and https://www.tensorflow.org/api_docs/python/tf/function for  more details.\n"
          ]
        },
        {
          "output_type": "stream",
          "name": "stdout",
          "text": [
            "97/97 [==============================] - 0s 4ms/step - loss: 0.0000e+00 - mse: 1.6801\n",
            "LIFE_EXPECTANCY\n",
            "{'loss': 0.0, 'mse': 1.6800711154937744}\n",
            "\n",
            "MSE: 1.6800711154937744\n",
            "RMSE: 1.2961755727885689\n",
            "\n"
          ]
        }
      ]
    },
    {
      "cell_type": "code",
      "metadata": {
        "colab": {
          "base_uri": "https://localhost:8080/",
          "height": 405
        },
        "id": "9km9jt9mBIvM",
        "outputId": "365099ee-3cd3-4e61-86f9-315a0505dad4"
      },
      "source": [
        "tfdf.model_plotter.plot_model_in_colab(model, tree_idx=0)"
      ],
      "execution_count": 76,
      "outputs": [
        {
          "output_type": "execute_result",
          "data": {
            "text/html": [
              "\n",
              "<script src=\"https://d3js.org/d3.v6.min.js\"></script>\n",
              "<div id=\"tree_plot_24d73da7309b4b03884b13db2b42bd83\"></div>\n",
              "<script>\n",
              "/*\n",
              " * Copyright 2021 Google LLC.\n",
              " * Licensed under the Apache License, Version 2.0 (the \"License\");\n",
              " * you may not use this file except in compliance with the License.\n",
              " * You may obtain a copy of the License at\n",
              " *\n",
              " *     https://www.apache.org/licenses/LICENSE-2.0\n",
              " *\n",
              " * Unless required by applicable law or agreed to in writing, software\n",
              " * distributed under the License is distributed on an \"AS IS\" BASIS,\n",
              " * WITHOUT WARRANTIES OR CONDITIONS OF ANY KIND, either express or implied.\n",
              " * See the License for the specific language governing permissions and\n",
              " * limitations under the License.\n",
              " */\n",
              "\n",
              "/**\n",
              " *  Plotting of decision trees generated by TF-DF.\n",
              " *\n",
              " *  A tree is a recursive structure of node objects.\n",
              " *  A node contains one or more of the following components:\n",
              " *\n",
              " *    - A value: Representing the output of the node. If the node is not a leaf,\n",
              " *      the value is only present for analysis i.e. it is not used for\n",
              " *      predictions.\n",
              " *\n",
              " *    - A condition : For non-leaf nodes, the condition (also known as split)\n",
              " *      defines a binary test to branch to the positive or negative child.\n",
              " *\n",
              " *    - An explanation: Generally a plot showing the relation between the label\n",
              " *      and the condition to give insights about the effect of the condition.\n",
              " *\n",
              " *    - Two children : For non-leaf nodes, the children nodes. The first\n",
              " *      children (i.e. \"node.children[0]\") is the negative children (drawn in\n",
              " *      red). The second children is the positive one (drawn in green).\n",
              " *\n",
              " */\n",
              "\n",
              "/**\n",
              " * Plots a single decision tree into a DOM element.\n",
              " * @param {!options} options Dictionary of configurations.\n",
              " * @param {!tree} raw_tree Recursive tree structure.\n",
              " * @param {string} canvas_id Id of the output dom element.\n",
              " */\n",
              "function display_tree(options, raw_tree, canvas_id) {\n",
              "  console.log(options);\n",
              "\n",
              "  // Determine the node placement.\n",
              "  const tree_struct = d3.tree().nodeSize(\n",
              "      [options.node_y_offset, options.node_x_offset])(d3.hierarchy(raw_tree));\n",
              "\n",
              "  // Boundaries of the node placement.\n",
              "  let x_min = Infinity;\n",
              "  let x_max = -x_min;\n",
              "  let y_min = Infinity;\n",
              "  let y_max = -x_min;\n",
              "\n",
              "  tree_struct.each(d => {\n",
              "    if (d.x > x_max) x_max = d.x;\n",
              "    if (d.x < x_min) x_min = d.x;\n",
              "    if (d.y > y_max) y_max = d.y;\n",
              "    if (d.y < y_min) y_min = d.y;\n",
              "  });\n",
              "\n",
              "  // Size of the plot.\n",
              "  const width = y_max - y_min + options.node_x_size + options.margin * 2;\n",
              "  const height = x_max - x_min + options.node_y_size + options.margin * 2 +\n",
              "      options.node_y_offset - options.node_y_size;\n",
              "\n",
              "  const plot = d3.select(canvas_id);\n",
              "\n",
              "  // Tool tip\n",
              "  options.tooltip = plot.append('div')\n",
              "                        .attr('width', 100)\n",
              "                        .attr('height', 100)\n",
              "                        .style('padding', '4px')\n",
              "                        .style('background', '#fff')\n",
              "                        .style('box-shadow', '4px 4px 0px rgba(0,0,0,0.1)')\n",
              "                        .style('border', '1px solid black')\n",
              "                        .style('font-family', 'sans-serif')\n",
              "                        .style('font-size', options.font_size)\n",
              "                        .style('position', 'absolute')\n",
              "                        .style('z-index', '10')\n",
              "                        .attr('pointer-events', 'none')\n",
              "                        .style('display', 'none');\n",
              "\n",
              "  // Create canvas\n",
              "  const svg = plot.append('svg').attr('width', width).attr('height', height);\n",
              "  const graph =\n",
              "      svg.style('overflow', 'visible')\n",
              "          .append('g')\n",
              "          .attr('font-family', 'sans-serif')\n",
              "          .attr('font-size', options.font_size)\n",
              "          .attr(\n",
              "              'transform',\n",
              "              () => `translate(${options.margin},${\n",
              "                  - x_min + options.node_y_offset / 2 + options.margin})`);\n",
              "\n",
              "  // Plot bounding box.\n",
              "  if (options.show_plot_bounding_box) {\n",
              "    svg.append('rect')\n",
              "        .attr('width', width)\n",
              "        .attr('height', height)\n",
              "        .attr('fill', 'none')\n",
              "        .attr('stroke-width', 1.0)\n",
              "        .attr('stroke', 'black');\n",
              "  }\n",
              "\n",
              "  // Draw the edges.\n",
              "  display_edges(options, graph, tree_struct);\n",
              "\n",
              "  // Draw the nodes.\n",
              "  display_nodes(options, graph, tree_struct);\n",
              "}\n",
              "\n",
              "/**\n",
              " * Draw the nodes of the tree.\n",
              " * @param {!options} options Dictionary of configurations.\n",
              " * @param {!graph} graph D3 search handle containing the graph.\n",
              " * @param {!tree_struct} tree_struct Structure of the tree (node placement,\n",
              " *     data, etc.).\n",
              " */\n",
              "function display_nodes(options, graph, tree_struct) {\n",
              "  const nodes = graph.append('g')\n",
              "                    .selectAll('g')\n",
              "                    .data(tree_struct.descendants())\n",
              "                    .join('g')\n",
              "                    .attr('transform', d => `translate(${d.y},${d.x})`);\n",
              "\n",
              "  nodes.append('rect')\n",
              "      .attr('x', 0.5)\n",
              "      .attr('y', 0.5)\n",
              "      .attr('width', options.node_x_size)\n",
              "      .attr('height', options.node_y_size)\n",
              "      .attr('stroke', 'lightgrey')\n",
              "      .attr('stroke-width', 1)\n",
              "      .attr('fill', 'white')\n",
              "      .attr('y', -options.node_y_size / 2);\n",
              "\n",
              "  // Brackets on the right of condition nodes without children.\n",
              "  non_leaf_node_without_children =\n",
              "      nodes.filter(node => node.data.condition != null && node.children == null)\n",
              "          .append('g')\n",
              "          .attr('transform', `translate(${options.node_x_size},0)`);\n",
              "\n",
              "  non_leaf_node_without_children.append('path')\n",
              "      .attr('d', 'M0,0 C 10,0 0,10 10,10')\n",
              "      .attr('fill', 'none')\n",
              "      .attr('stroke-width', 1.0)\n",
              "      .attr('stroke', '#F00');\n",
              "\n",
              "  non_leaf_node_without_children.append('path')\n",
              "      .attr('d', 'M0,0 C 10,0 0,-10 10,-10')\n",
              "      .attr('fill', 'none')\n",
              "      .attr('stroke-width', 1.0)\n",
              "      .attr('stroke', '#0F0');\n",
              "\n",
              "  const node_content = nodes.append('g').attr(\n",
              "      'transform',\n",
              "      `translate(0,${options.node_padding - options.node_y_size / 2})`);\n",
              "\n",
              "  node_content.append(node => create_node_element(options, node));\n",
              "}\n",
              "\n",
              "/**\n",
              " * Creates the D3 content for a single node.\n",
              " * @param {!options} options Dictionary of configurations.\n",
              " * @param {!node} node Node to draw.\n",
              " * @return {!d3} D3 content.\n",
              " */\n",
              "function create_node_element(options, node) {\n",
              "  // Output accumulator.\n",
              "  let output = {\n",
              "    // Content to draw.\n",
              "    content: d3.create('svg:g'),\n",
              "    // Vertical offset to the next element to draw.\n",
              "    vertical_offset: 0\n",
              "  };\n",
              "\n",
              "  // Conditions.\n",
              "  if (node.data.condition != null) {\n",
              "    display_condition(options, node.data.condition, output);\n",
              "  }\n",
              "\n",
              "  // Values.\n",
              "  if (node.data.value != null) {\n",
              "    display_value(options, node.data.value, output);\n",
              "  }\n",
              "\n",
              "  // Explanations.\n",
              "  if (node.data.explanation != null) {\n",
              "    display_explanation(options, node.data.explanation, output);\n",
              "  }\n",
              "\n",
              "  return output.content.node();\n",
              "}\n",
              "\n",
              "\n",
              "/**\n",
              " * Adds a single line of text inside of a node.\n",
              " * @param {!options} options Dictionary of configurations.\n",
              " * @param {string} text Text to display.\n",
              " * @param {!output} output Output display accumulator.\n",
              " */\n",
              "function display_node_text(options, text, output) {\n",
              "  output.content.append('text')\n",
              "      .attr('x', options.node_padding)\n",
              "      .attr('y', output.vertical_offset)\n",
              "      .attr('alignment-baseline', 'hanging')\n",
              "      .text(text);\n",
              "  output.vertical_offset += 10;\n",
              "}\n",
              "\n",
              "/**\n",
              " * Adds a single line of text inside of a node with a tooltip.\n",
              " * @param {!options} options Dictionary of configurations.\n",
              " * @param {string} text Text to display.\n",
              " * @param {string} tooltip Text in the Tooltip.\n",
              " * @param {!output} output Output display accumulator.\n",
              " */\n",
              "function display_node_text_with_tooltip(options, text, tooltip, output) {\n",
              "  const item = output.content.append('text')\n",
              "                   .attr('x', options.node_padding)\n",
              "                   .attr('alignment-baseline', 'hanging')\n",
              "                   .text(text);\n",
              "\n",
              "  add_tooltip(options, item, () => tooltip);\n",
              "  output.vertical_offset += 10;\n",
              "}\n",
              "\n",
              "/**\n",
              " * Adds a tooltip to a dom element.\n",
              " * @param {!options} options Dictionary of configurations.\n",
              " * @param {!dom} target Dom element to equip with a tooltip.\n",
              " * @param {!func} get_content Generates the html content of the tooltip.\n",
              " */\n",
              "function add_tooltip(options, target, get_content) {\n",
              "  function show(d) {\n",
              "    options.tooltip.style('display', 'block');\n",
              "    options.tooltip.html(get_content());\n",
              "  }\n",
              "\n",
              "  function hide(d) {\n",
              "    options.tooltip.style('display', 'none');\n",
              "  }\n",
              "\n",
              "  function move(d) {\n",
              "    options.tooltip.style('display', 'block');\n",
              "    options.tooltip.style('left', (d.pageX + 5) + 'px');\n",
              "    options.tooltip.style('top', d.pageY + 'px');\n",
              "  }\n",
              "\n",
              "  target.on('mouseover', show);\n",
              "  target.on('mouseout', hide);\n",
              "  target.on('mousemove', move);\n",
              "}\n",
              "\n",
              "/**\n",
              " * Adds a condition inside of a node.\n",
              " * @param {!options} options Dictionary of configurations.\n",
              " * @param {!condition} condition Condition to display.\n",
              " * @param {!output} output Output display accumulator.\n",
              " */\n",
              "function display_condition(options, condition, output) {\n",
              "  threshold_format = d3.format('r');\n",
              "\n",
              "  if (condition.type === 'IS_MISSING') {\n",
              "    display_node_text(options, `${condition.attribute} is missing`, output);\n",
              "    return;\n",
              "  }\n",
              "\n",
              "  if (condition.type === 'IS_TRUE') {\n",
              "    display_node_text(options, `${condition.attribute} is true`, output);\n",
              "    return;\n",
              "  }\n",
              "\n",
              "  if (condition.type === 'NUMERICAL_IS_HIGHER_THAN') {\n",
              "    format = d3.format('r');\n",
              "    display_node_text(\n",
              "        options,\n",
              "        `${condition.attribute} >= ${threshold_format(condition.threshold)}`,\n",
              "        output);\n",
              "    return;\n",
              "  }\n",
              "\n",
              "  if (condition.type === 'CATEGORICAL_IS_IN') {\n",
              "    display_node_text_with_tooltip(\n",
              "        options, `${condition.attribute} in [...]`,\n",
              "        `${condition.attribute} in [${condition.mask}]`, output);\n",
              "    return;\n",
              "  }\n",
              "\n",
              "  if (condition.type === 'CATEGORICAL_SET_CONTAINS') {\n",
              "    display_node_text_with_tooltip(\n",
              "        options, `${condition.attribute} intersect [...]`,\n",
              "        `${condition.attribute} intersect [${condition.mask}]`, output);\n",
              "    return;\n",
              "  }\n",
              "\n",
              "  if (condition.type === 'NUMERICAL_SPARSE_OBLIQUE') {\n",
              "    display_node_text_with_tooltip(\n",
              "        options, `Sparse oblique split...`,\n",
              "        `[${condition.attributes}]*[${condition.weights}]>=${\n",
              "            threshold_format(condition.threshold)}`,\n",
              "        output);\n",
              "    return;\n",
              "  }\n",
              "\n",
              "  display_node_text(\n",
              "      options, `Non supported condition ${condition.type}`, output);\n",
              "}\n",
              "\n",
              "/**\n",
              " * Adds a value inside of a node.\n",
              " * @param {!options} options Dictionary of configurations.\n",
              " * @param {!value} value Value to display.\n",
              " * @param {!output} output Output display accumulator.\n",
              " */\n",
              "function display_value(options, value, output) {\n",
              "  if (value.type === 'PROBABILITY') {\n",
              "    const left_margin = 0;\n",
              "    const right_margin = 50;\n",
              "    const plot_width = options.node_x_size - options.node_padding * 2 -\n",
              "        left_margin - right_margin;\n",
              "\n",
              "    let cusum = Array.from(d3.cumsum(value.distribution));\n",
              "    cusum.unshift(0);\n",
              "    const distribution_plot = output.content.append('g').attr(\n",
              "        'transform', `translate(0,${output.vertical_offset + 0.5})`);\n",
              "\n",
              "    distribution_plot.selectAll('rect')\n",
              "        .data(value.distribution)\n",
              "        .join('rect')\n",
              "        .attr('height', 10)\n",
              "        .attr(\n",
              "            'x',\n",
              "            (d, i) =>\n",
              "                (cusum[i] * plot_width + left_margin + options.node_padding))\n",
              "        .attr('width', (d, i) => d * plot_width)\n",
              "        .style('fill', (d, i) => d3.schemeSet1[i]);\n",
              "\n",
              "    const num_examples =\n",
              "        output.content.append('g')\n",
              "            .attr('transform', `translate(0,${output.vertical_offset})`)\n",
              "            .append('text')\n",
              "            .attr('x', options.node_x_size - options.node_padding)\n",
              "            .attr('alignment-baseline', 'hanging')\n",
              "            .attr('text-anchor', 'end')\n",
              "            .text(`(${value.num_examples})`);\n",
              "\n",
              "    const distribution_details = d3.create('ul');\n",
              "    distribution_details.selectAll('li')\n",
              "        .data(value.distribution)\n",
              "        .join('li')\n",
              "        .append('span')\n",
              "        .text(\n",
              "            (d, i) =>\n",
              "                'class ' + i + ': ' + d3.format('.3%')(value.distribution[i]));\n",
              "\n",
              "    add_tooltip(options, distribution_plot, () => distribution_details.html());\n",
              "    add_tooltip(options, num_examples, () => 'Number of examples');\n",
              "\n",
              "    output.vertical_offset += 10;\n",
              "    return;\n",
              "  }\n",
              "\n",
              "  if (value.type === 'REGRESSION') {\n",
              "    display_node_text(\n",
              "        options,\n",
              "        'value: ' + d3.format('r')(value.value) + ` (` +\n",
              "            d3.format('.6')(value.num_examples) + `)`,\n",
              "        output);\n",
              "    return;\n",
              "  }\n",
              "\n",
              "  display_node_text(options, `Non supported value ${value.type}`, output);\n",
              "}\n",
              "\n",
              "/**\n",
              " * Adds an explanation inside of a node.\n",
              " * @param {!options} options Dictionary of configurations.\n",
              " * @param {!explanation} explanation Explanation to display.\n",
              " * @param {!output} output Output display accumulator.\n",
              " */\n",
              "function display_explanation(options, explanation, output) {\n",
              "  // Margin before the explanation.\n",
              "  output.vertical_offset += 10;\n",
              "\n",
              "  display_node_text(\n",
              "      options, `Non supported explanation ${explanation.type}`, output);\n",
              "}\n",
              "\n",
              "\n",
              "/**\n",
              " * Draw the edges of the tree.\n",
              " * @param {!options} options Dictionary of configurations.\n",
              " * @param {!graph} graph D3 search handle containing the graph.\n",
              " * @param {!tree_struct} tree_struct Structure of the tree (node placement,\n",
              " *     data, etc.).\n",
              " */\n",
              "function display_edges(options, graph, tree_struct) {\n",
              "  // Draw an edge between a parent and a child node with a bezier.\n",
              "  function draw_single_edge(d) {\n",
              "    return 'M' + (d.source.y + options.node_x_size) + ',' + d.source.x + ' C' +\n",
              "        (d.source.y + options.node_x_size + options.edge_rounding) + ',' +\n",
              "        d.source.x + ' ' + (d.target.y - options.edge_rounding) + ',' +\n",
              "        d.target.x + ' ' + d.target.y + ',' + d.target.x;\n",
              "  }\n",
              "\n",
              "  graph.append('g')\n",
              "      .attr('fill', 'none')\n",
              "      .attr('stroke-width', 1.2)\n",
              "      .selectAll('path')\n",
              "      .data(tree_struct.links())\n",
              "      .join('path')\n",
              "      .attr('d', draw_single_edge)\n",
              "      .attr(\n",
              "          'stroke', d => (d.target === d.source.children[0]) ? '#0F0' : '#F00');\n",
              "}\n",
              "\n",
              "display_tree({\"margin\": 10, \"node_x_size\": 160, \"node_y_size\": 28, \"node_x_offset\": 180, \"node_y_offset\": 33, \"font_size\": 10, \"edge_rounding\": 20, \"node_padding\": 2, \"show_plot_bounding_box\": false}, {\"value\": {\"type\": \"REGRESSION\", \"value\": 66.221923828125, \"num_examples\": 6203.0, \"standard_deviation\": 9.431995702625358}, \"condition\": {\"type\": \"NUMERICAL_IS_HIGHER_THAN\", \"attribute\": \"child_mortality\", \"threshold\": 97.44999694824219}, \"children\": [{\"value\": {\"type\": \"REGRESSION\", \"value\": 57.24917984008789, \"num_examples\": 2379.0, \"standard_deviation\": 7.1176409063674795}, \"condition\": {\"type\": \"NUMERICAL_IS_HIGHER_THAN\", \"attribute\": \"life_expectancy\", \"threshold\": 54.25}, \"children\": [{\"value\": {\"type\": \"REGRESSION\", \"value\": 62.77688980102539, \"num_examples\": 1125.0, \"standard_deviation\": 4.737512793070456}, \"condition\": {\"type\": \"NUMERICAL_IS_HIGHER_THAN\", \"attribute\": \"child_mortality\", \"threshold\": 141.5}, \"children\": [{\"value\": {\"type\": \"REGRESSION\", \"value\": 60.93765640258789, \"num_examples\": 478.0, \"standard_deviation\": 3.8154226517537158}, \"condition\": {\"type\": \"NUMERICAL_IS_HIGHER_THAN\", \"attribute\": \"life_expectancy\", \"threshold\": 57.04999923706055}}, {\"value\": {\"type\": \"REGRESSION\", \"value\": 64.13570404052734, \"num_examples\": 647.0, \"standard_deviation\": 4.891322511808665}, \"condition\": {\"type\": \"NUMERICAL_IS_HIGHER_THAN\", \"attribute\": \"life_expectancy\", \"threshold\": 59.04999923706055}}]}, {\"value\": {\"type\": \"REGRESSION\", \"value\": 52.29011154174805, \"num_examples\": 1254.0, \"standard_deviation\": 4.895943730339955}, \"condition\": {\"type\": \"NUMERICAL_IS_HIGHER_THAN\", \"attribute\": \"life_expectancy\", \"threshold\": 49.54999923706055}, \"children\": [{\"value\": {\"type\": \"REGRESSION\", \"value\": 55.37889862060547, \"num_examples\": 526.0, \"standard_deviation\": 4.031598992561091}, \"condition\": {\"type\": \"NUMERICAL_IS_HIGHER_THAN\", \"attribute\": \"co2_emissions\", \"threshold\": 0.14149999618530273}}, {\"value\": {\"type\": \"REGRESSION\", \"value\": 50.058380126953125, \"num_examples\": 728.0, \"standard_deviation\": 4.203766967526569}, \"condition\": {\"type\": \"NUMERICAL_IS_HIGHER_THAN\", \"attribute\": \"wcde-Lower_Secondary\", \"threshold\": 17.239999771118164}}]}]}, {\"value\": {\"type\": \"REGRESSION\", \"value\": 71.8040771484375, \"num_examples\": 3824.0, \"standard_deviation\": 5.616337653465468}, \"condition\": {\"type\": \"NUMERICAL_IS_HIGHER_THAN\", \"attribute\": \"Avg_daily_income_ppp\", \"threshold\": 8.815000534057617}, \"children\": [{\"value\": {\"type\": \"REGRESSION\", \"value\": 74.19972229003906, \"num_examples\": 2187.0, \"standard_deviation\": 4.37036385472578}, \"condition\": {\"type\": \"NUMERICAL_IS_HIGHER_THAN\", \"attribute\": \"infant_mortality\", \"threshold\": 11.649999618530273}, \"children\": [{\"value\": {\"type\": \"REGRESSION\", \"value\": 72.37593078613281, \"num_examples\": 1529.0, \"standard_deviation\": 3.645833288786996}, \"condition\": {\"type\": \"NUMERICAL_IS_HIGHER_THAN\", \"attribute\": \"child_mortality\", \"threshold\": 44.19999694824219}}, {\"value\": {\"type\": \"REGRESSION\", \"value\": 78.43769073486328, \"num_examples\": 658.0, \"standard_deviation\": 2.6280438803416963}, \"condition\": {\"type\": \"NUMERICAL_IS_HIGHER_THAN\", \"attribute\": \"child_mortality\", \"threshold\": 7.380000114440918}}]}, {\"value\": {\"type\": \"REGRESSION\", \"value\": 68.60354614257812, \"num_examples\": 1637.0, \"standard_deviation\": 5.5005719517093175}, \"condition\": {\"type\": \"NUMERICAL_IS_HIGHER_THAN\", \"attribute\": \"life_expectancy\", \"threshold\": 63.849998474121094}, \"children\": [{\"value\": {\"type\": \"REGRESSION\", \"value\": 70.99010467529297, \"num_examples\": 1203.0, \"standard_deviation\": 3.034153051860502}, \"condition\": {\"type\": \"NUMERICAL_IS_HIGHER_THAN\", \"attribute\": \"infant_mortality\", \"threshold\": 37.650001525878906}}, {\"value\": {\"type\": \"REGRESSION\", \"value\": 61.988250732421875, \"num_examples\": 434.0, \"standard_deviation\": 5.390286647164655}, \"condition\": {\"type\": \"NUMERICAL_IS_HIGHER_THAN\", \"attribute\": \"infant_mortality\", \"threshold\": 51.849998474121094}}]}]}]}, \"#tree_plot_24d73da7309b4b03884b13db2b42bd83\")\n",
              "</script>\n"
            ],
            "text/plain": [
              "<IPython.core.display.HTML object>"
            ]
          },
          "metadata": {},
          "execution_count": 76
        }
      ]
    },
    {
      "cell_type": "code",
      "metadata": {
        "id": "9dd29dXaO8AB"
      },
      "source": [
        "# %set_cell_height 300\n",
        "\n",
        "model.summary()"
      ],
      "execution_count": null,
      "outputs": []
    },
    {
      "cell_type": "markdown",
      "metadata": {
        "id": "Ck40I_2pO2t8"
      },
      "source": [
        "# RNN Algorithm"
      ]
    },
    {
      "cell_type": "code",
      "metadata": {
        "id": "WoTPvb0hO2BL"
      },
      "source": [
        ""
      ],
      "execution_count": null,
      "outputs": []
    },
    {
      "cell_type": "code",
      "metadata": {
        "id": "VOgX1z4ssI_r"
      },
      "source": [
        ""
      ],
      "execution_count": null,
      "outputs": []
    },
    {
      "cell_type": "code",
      "metadata": {
        "id": "VAYG6P8ysI8I"
      },
      "source": [
        ""
      ],
      "execution_count": null,
      "outputs": []
    },
    {
      "cell_type": "code",
      "metadata": {
        "id": "kSrlOe2ysI2e"
      },
      "source": [
        ""
      ],
      "execution_count": null,
      "outputs": []
    },
    {
      "cell_type": "code",
      "metadata": {
        "id": "F9EhQCMjsIzH"
      },
      "source": [
        ""
      ],
      "execution_count": null,
      "outputs": []
    },
    {
      "cell_type": "code",
      "metadata": {
        "id": "a7hOC8ZBsIwK"
      },
      "source": [
        ""
      ],
      "execution_count": null,
      "outputs": []
    },
    {
      "cell_type": "code",
      "metadata": {
        "id": "5Rj_nYZ0sItM"
      },
      "source": [
        ""
      ],
      "execution_count": null,
      "outputs": []
    },
    {
      "cell_type": "code",
      "metadata": {
        "id": "aHcOgjQOsIjf"
      },
      "source": [
        ""
      ],
      "execution_count": null,
      "outputs": []
    },
    {
      "cell_type": "markdown",
      "metadata": {
        "id": "pavoB83cgMS_"
      },
      "source": [
        "from the above output\n",
        "- **malnutrition & people in povery** have least no of countries\n",
        "- **infant mortality & gdp per captia** have highest no of countries\n",
        "\n",
        "*Doubt:* Does having more data for one factor will make the decision tree bias?\n"
      ]
    },
    {
      "cell_type": "markdown",
      "metadata": {
        "id": "26MX_yiOLQM1"
      },
      "source": [
        "###Steps\n",
        "1. create a csv file such that each row contains all values of particular year & country present\n",
        "2. the output for each row is year + 40 years corresponding value \n",
        "    1. **outputs** - life expectany, education level, gdp\n",
        "\n",
        "\n"
      ]
    },
    {
      "cell_type": "markdown",
      "metadata": {
        "id": "2UMi5KTtyRsq"
      },
      "source": [
        "From above output\n",
        "- if we dont drop any rows our table size = 4256 entries\n",
        "- if we drop rows containing any if all of outputs missing then our table size = 3039 entries\n",
        "- if we drop rows containing any one of output missing then our table size = 1745 entries\n",
        "\n",
        "so, I think its is better to go with second choice and build different models, but not sure it will not effect performance of the model\n"
      ]
    },
    {
      "cell_type": "markdown",
      "metadata": {
        "id": "rlvdCI-pzVEd"
      },
      "source": [
        "now we have the dataframe containing both inputs and ouputs,our next step is\n",
        "1. split the data into train & test data\n",
        "  1. try to split data based on continents to reduce bias\n",
        "2. build DF model using tensorflow\n",
        "3. check the accuracy of the model"
      ]
    }
  ]
}