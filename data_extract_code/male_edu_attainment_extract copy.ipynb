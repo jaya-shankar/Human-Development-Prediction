{
  "cells": [
    {
      "attachments": {},
      "cell_type": "markdown",
      "metadata": {
        "colab_type": "text",
        "id": "view-in-github"
      },
      "source": [
        "<a href=\"https://colab.research.google.com/github/jaya-shankar/education-impact/blob/master/data_extract_code/female_edu_attainment_extract.ipynb\" target=\"_parent\"><img src=\"https://colab.research.google.com/assets/colab-badge.svg\" alt=\"Open In Colab\"/></a>"
      ]
    },
    {
      "cell_type": "code",
      "execution_count": 5,
      "metadata": {
        "id": "LNXPuNJvcXNu"
      },
      "outputs": [],
      "source": [
        "!rm -rf education-impact"
      ]
    },
    {
      "cell_type": "code",
      "execution_count": 6,
      "metadata": {
        "colab": {
          "base_uri": "https://localhost:8080/"
        },
        "id": "VfiHPDRRH51D",
        "outputId": "be748e1b-b05e-4e5f-a852-1602ab089e15"
      },
      "outputs": [
        {
          "name": "stdout",
          "output_type": "stream",
          "text": [
            "Cloning into 'education-impact'...\n",
            "remote: Enumerating objects: 349, done.\u001b[K\n",
            "remote: Counting objects: 100% (349/349), done.\u001b[K\n",
            "remote: Compressing objects: 100% (292/292), done.\u001b[K\n",
            "remote: Total 349 (delta 176), reused 172 (delta 54), pack-reused 0\u001b[K\n",
            "Receiving objects: 100% (349/349), 2.87 MiB | 10.85 MiB/s, done.\n",
            "Resolving deltas: 100% (176/176), done.\n"
          ]
        }
      ],
      "source": [
        "!git clone https://github.com/jaya-shankar/education-impact.git"
      ]
    },
    {
      "cell_type": "code",
      "execution_count": 1,
      "metadata": {
        "id": "eTgMVrqGExOg"
      },
      "outputs": [],
      "source": [
        "import pandas as pd\n",
        "import numpy as np\n",
        "import csv"
      ]
    },
    {
      "cell_type": "code",
      "execution_count": 2,
      "metadata": {
        "colab": {
          "base_uri": "https://localhost:8080/",
          "height": 419
        },
        "id": "ak0pV615E1ML",
        "outputId": "5499aec1-70b5-440b-c854-897c47c197cd"
      },
      "outputs": [
        {
          "data": {
            "text/html": [
              "<div>\n",
              "<style scoped>\n",
              "    .dataframe tbody tr th:only-of-type {\n",
              "        vertical-align: middle;\n",
              "    }\n",
              "\n",
              "    .dataframe tbody tr th {\n",
              "        vertical-align: top;\n",
              "    }\n",
              "\n",
              "    .dataframe thead th {\n",
              "        text-align: right;\n",
              "    }\n",
              "</style>\n",
              "<table border=\"1\" class=\"dataframe\">\n",
              "  <thead>\n",
              "    <tr style=\"text-align: right;\">\n",
              "      <th></th>\n",
              "      <th>Area</th>\n",
              "      <th>Year</th>\n",
              "      <th>Age</th>\n",
              "      <th>Education</th>\n",
              "      <th>Distribution</th>\n",
              "    </tr>\n",
              "  </thead>\n",
              "  <tbody>\n",
              "    <tr>\n",
              "      <th>0</th>\n",
              "      <td>Afghanistan</td>\n",
              "      <td>1960</td>\n",
              "      <td>20--24</td>\n",
              "      <td>Under 15</td>\n",
              "      <td>0.0</td>\n",
              "    </tr>\n",
              "    <tr>\n",
              "      <th>1</th>\n",
              "      <td>Afghanistan</td>\n",
              "      <td>1965</td>\n",
              "      <td>20--24</td>\n",
              "      <td>Under 15</td>\n",
              "      <td>0.0</td>\n",
              "    </tr>\n",
              "    <tr>\n",
              "      <th>2</th>\n",
              "      <td>Afghanistan</td>\n",
              "      <td>1970</td>\n",
              "      <td>20--24</td>\n",
              "      <td>Under 15</td>\n",
              "      <td>0.0</td>\n",
              "    </tr>\n",
              "    <tr>\n",
              "      <th>3</th>\n",
              "      <td>Afghanistan</td>\n",
              "      <td>1975</td>\n",
              "      <td>20--24</td>\n",
              "      <td>Under 15</td>\n",
              "      <td>0.0</td>\n",
              "    </tr>\n",
              "    <tr>\n",
              "      <th>4</th>\n",
              "      <td>Afghanistan</td>\n",
              "      <td>1980</td>\n",
              "      <td>20--24</td>\n",
              "      <td>Under 15</td>\n",
              "      <td>0.0</td>\n",
              "    </tr>\n",
              "    <tr>\n",
              "      <th>...</th>\n",
              "      <td>...</td>\n",
              "      <td>...</td>\n",
              "      <td>...</td>\n",
              "      <td>...</td>\n",
              "      <td>...</td>\n",
              "    </tr>\n",
              "    <tr>\n",
              "      <th>17499</th>\n",
              "      <td>United Kingdom of Great Britain and Northern I...</td>\n",
              "      <td>2020</td>\n",
              "      <td>20--24</td>\n",
              "      <td>Master and higher</td>\n",
              "      <td>2.8</td>\n",
              "    </tr>\n",
              "    <tr>\n",
              "      <th>17500</th>\n",
              "      <td>United States of America</td>\n",
              "      <td>2015</td>\n",
              "      <td>20--24</td>\n",
              "      <td>Master and higher</td>\n",
              "      <td>2.4</td>\n",
              "    </tr>\n",
              "    <tr>\n",
              "      <th>17501</th>\n",
              "      <td>United States of America</td>\n",
              "      <td>2020</td>\n",
              "      <td>20--24</td>\n",
              "      <td>Master and higher</td>\n",
              "      <td>2.9</td>\n",
              "    </tr>\n",
              "    <tr>\n",
              "      <th>17502</th>\n",
              "      <td>Uruguay</td>\n",
              "      <td>2015</td>\n",
              "      <td>20--24</td>\n",
              "      <td>Master and higher</td>\n",
              "      <td>0.1</td>\n",
              "    </tr>\n",
              "    <tr>\n",
              "      <th>17503</th>\n",
              "      <td>Uruguay</td>\n",
              "      <td>2020</td>\n",
              "      <td>20--24</td>\n",
              "      <td>Master and higher</td>\n",
              "      <td>0.2</td>\n",
              "    </tr>\n",
              "  </tbody>\n",
              "</table>\n",
              "<p>17504 rows × 5 columns</p>\n",
              "</div>"
            ],
            "text/plain": [
              "                                                    Area  Year     Age  \\\n",
              "0                                            Afghanistan  1960  20--24   \n",
              "1                                            Afghanistan  1965  20--24   \n",
              "2                                            Afghanistan  1970  20--24   \n",
              "3                                            Afghanistan  1975  20--24   \n",
              "4                                            Afghanistan  1980  20--24   \n",
              "...                                                  ...   ...     ...   \n",
              "17499  United Kingdom of Great Britain and Northern I...  2020  20--24   \n",
              "17500                           United States of America  2015  20--24   \n",
              "17501                           United States of America  2020  20--24   \n",
              "17502                                            Uruguay  2015  20--24   \n",
              "17503                                            Uruguay  2020  20--24   \n",
              "\n",
              "               Education  Distribution  \n",
              "0               Under 15           0.0  \n",
              "1               Under 15           0.0  \n",
              "2               Under 15           0.0  \n",
              "3               Under 15           0.0  \n",
              "4               Under 15           0.0  \n",
              "...                  ...           ...  \n",
              "17499  Master and higher           2.8  \n",
              "17500  Master and higher           2.4  \n",
              "17501  Master and higher           2.9  \n",
              "17502  Master and higher           0.1  \n",
              "17503  Master and higher           0.2  \n",
              "\n",
              "[17504 rows x 5 columns]"
            ]
          },
          "execution_count": 2,
          "metadata": {},
          "output_type": "execute_result"
        }
      ],
      "source": [
        "i_file_name = \"education-attainment.csv\"\n",
        "data = pd.read_csv(\"../raw_data/\"+i_file_name)\n",
        "df = pd.DataFrame(data)\n",
        "df"
      ]
    },
    {
      "cell_type": "code",
      "execution_count": 3,
      "metadata": {
        "colab": {
          "base_uri": "https://localhost:8080/"
        },
        "id": "8HabKRQ6L1Eh",
        "outputId": "c018f72c-0b56-4898-df6c-d7443d6aa1d5"
      },
      "outputs": [
        {
          "data": {
            "text/plain": [
              "Index(['Area', 'Year', 'Age', 'Education', 'Distribution'], dtype='object')"
            ]
          },
          "execution_count": 3,
          "metadata": {},
          "output_type": "execute_result"
        }
      ],
      "source": [
        "df.columns"
      ]
    },
    {
      "cell_type": "code",
      "execution_count": 4,
      "metadata": {
        "colab": {
          "base_uri": "https://localhost:8080/",
          "height": 419
        },
        "id": "m5fqZoBEFJw4",
        "outputId": "b89ba40a-ea90-4faf-f2ea-cdc6b59f0520"
      },
      "outputs": [
        {
          "data": {
            "text/html": [
              "<div>\n",
              "<style scoped>\n",
              "    .dataframe tbody tr th:only-of-type {\n",
              "        vertical-align: middle;\n",
              "    }\n",
              "\n",
              "    .dataframe tbody tr th {\n",
              "        vertical-align: top;\n",
              "    }\n",
              "\n",
              "    .dataframe thead th {\n",
              "        text-align: right;\n",
              "    }\n",
              "</style>\n",
              "<table border=\"1\" class=\"dataframe\">\n",
              "  <thead>\n",
              "    <tr style=\"text-align: right;\">\n",
              "      <th></th>\n",
              "      <th>Area</th>\n",
              "      <th>Year</th>\n",
              "      <th>Age</th>\n",
              "      <th>Education</th>\n",
              "      <th>Distribution</th>\n",
              "    </tr>\n",
              "  </thead>\n",
              "  <tbody>\n",
              "    <tr>\n",
              "      <th>2450</th>\n",
              "      <td>Afghanistan</td>\n",
              "      <td>1960</td>\n",
              "      <td>20--24</td>\n",
              "      <td>No Education</td>\n",
              "      <td>92.5</td>\n",
              "    </tr>\n",
              "    <tr>\n",
              "      <th>2451</th>\n",
              "      <td>Afghanistan</td>\n",
              "      <td>1965</td>\n",
              "      <td>20--24</td>\n",
              "      <td>No Education</td>\n",
              "      <td>90.6</td>\n",
              "    </tr>\n",
              "    <tr>\n",
              "      <th>2452</th>\n",
              "      <td>Afghanistan</td>\n",
              "      <td>1970</td>\n",
              "      <td>20--24</td>\n",
              "      <td>No Education</td>\n",
              "      <td>89.1</td>\n",
              "    </tr>\n",
              "    <tr>\n",
              "      <th>2453</th>\n",
              "      <td>Afghanistan</td>\n",
              "      <td>1975</td>\n",
              "      <td>20--24</td>\n",
              "      <td>No Education</td>\n",
              "      <td>84.2</td>\n",
              "    </tr>\n",
              "    <tr>\n",
              "      <th>2454</th>\n",
              "      <td>Afghanistan</td>\n",
              "      <td>1980</td>\n",
              "      <td>20--24</td>\n",
              "      <td>No Education</td>\n",
              "      <td>82.4</td>\n",
              "    </tr>\n",
              "    <tr>\n",
              "      <th>...</th>\n",
              "      <td>...</td>\n",
              "      <td>...</td>\n",
              "      <td>...</td>\n",
              "      <td>...</td>\n",
              "      <td>...</td>\n",
              "    </tr>\n",
              "    <tr>\n",
              "      <th>17499</th>\n",
              "      <td>United Kingdom of Great Britain and Northern I...</td>\n",
              "      <td>2020</td>\n",
              "      <td>20--24</td>\n",
              "      <td>Master and higher</td>\n",
              "      <td>2.8</td>\n",
              "    </tr>\n",
              "    <tr>\n",
              "      <th>17500</th>\n",
              "      <td>United States of America</td>\n",
              "      <td>2015</td>\n",
              "      <td>20--24</td>\n",
              "      <td>Master and higher</td>\n",
              "      <td>2.4</td>\n",
              "    </tr>\n",
              "    <tr>\n",
              "      <th>17501</th>\n",
              "      <td>United States of America</td>\n",
              "      <td>2020</td>\n",
              "      <td>20--24</td>\n",
              "      <td>Master and higher</td>\n",
              "      <td>2.9</td>\n",
              "    </tr>\n",
              "    <tr>\n",
              "      <th>17502</th>\n",
              "      <td>Uruguay</td>\n",
              "      <td>2015</td>\n",
              "      <td>20--24</td>\n",
              "      <td>Master and higher</td>\n",
              "      <td>0.1</td>\n",
              "    </tr>\n",
              "    <tr>\n",
              "      <th>17503</th>\n",
              "      <td>Uruguay</td>\n",
              "      <td>2020</td>\n",
              "      <td>20--24</td>\n",
              "      <td>Master and higher</td>\n",
              "      <td>0.2</td>\n",
              "    </tr>\n",
              "  </tbody>\n",
              "</table>\n",
              "<p>15054 rows × 5 columns</p>\n",
              "</div>"
            ],
            "text/plain": [
              "                                                    Area  Year     Age  \\\n",
              "2450                                         Afghanistan  1960  20--24   \n",
              "2451                                         Afghanistan  1965  20--24   \n",
              "2452                                         Afghanistan  1970  20--24   \n",
              "2453                                         Afghanistan  1975  20--24   \n",
              "2454                                         Afghanistan  1980  20--24   \n",
              "...                                                  ...   ...     ...   \n",
              "17499  United Kingdom of Great Britain and Northern I...  2020  20--24   \n",
              "17500                           United States of America  2015  20--24   \n",
              "17501                           United States of America  2020  20--24   \n",
              "17502                                            Uruguay  2015  20--24   \n",
              "17503                                            Uruguay  2020  20--24   \n",
              "\n",
              "               Education  Distribution  \n",
              "2450        No Education          92.5  \n",
              "2451        No Education          90.6  \n",
              "2452        No Education          89.1  \n",
              "2453        No Education          84.2  \n",
              "2454        No Education          82.4  \n",
              "...                  ...           ...  \n",
              "17499  Master and higher           2.8  \n",
              "17500  Master and higher           2.4  \n",
              "17501  Master and higher           2.9  \n",
              "17502  Master and higher           0.1  \n",
              "17503  Master and higher           0.2  \n",
              "\n",
              "[15054 rows x 5 columns]"
            ]
          },
          "execution_count": 4,
          "metadata": {},
          "output_type": "execute_result"
        }
      ],
      "source": [
        "df = df[df.Education != 'Under 15']\n",
        "df"
      ]
    },
    {
      "cell_type": "code",
      "execution_count": 5,
      "metadata": {
        "colab": {
          "base_uri": "https://localhost:8080/"
        },
        "id": "_iew0D5aGPz4",
        "outputId": "a9aa0e5d-aee1-4608-d4c4-c77d55c7f551"
      },
      "outputs": [
        {
          "data": {
            "text/plain": [
              "array(['No Education', 'Incomplete Primary', 'Primary', 'Lower Secondary',\n",
              "       'Upper Secondary', 'Post Secondary', 'Short Post Secondary',\n",
              "       'Bachelor', 'Master and higher'], dtype=object)"
            ]
          },
          "execution_count": 5,
          "metadata": {},
          "output_type": "execute_result"
        }
      ],
      "source": [
        "df.Education.unique()"
      ]
    },
    {
      "cell_type": "code",
      "execution_count": 6,
      "metadata": {
        "id": "AaEEvb4nGQVA"
      },
      "outputs": [],
      "source": [
        "edu_level = { '20-24-Primary_fin'          : [ 'Primary', 'Lower Secondary', 'Upper Secondary', 'Post Secondary', 'Short Post Secondary', 'Bachelor', 'Master and higher'],\n",
        "              '20-24-Lower_Secondary_fin'  : [ 'Lower Secondary', 'Upper Secondary', 'Post Secondary', 'Short Post Secondary', 'Bachelor', 'Master and higher'],\n",
        "              '20-24-Higher_Secondary_fin' : [ 'Upper Secondary', 'Post Secondary', 'Short Post Secondary', 'Bachelor', 'Master and higher'],\n",
        "              '20-24-College_comp'         : [ 'Post Secondary', 'Short Post Secondary', 'Bachelor', 'Master and higher'],\n",
        "            }"
      ]
    },
    {
      "cell_type": "code",
      "execution_count": 7,
      "metadata": {
        "id": "HvaDrx841oIO"
      },
      "outputs": [],
      "source": [
        "for i in edu_level:\n",
        "  sr = df.loc[df['Education'].isin(edu_level[i])]\n",
        "  sr.to_csv('../datasets/'+i+'.csv', encoding='utf-8', index=False)"
      ]
    },
    {
      "cell_type": "code",
      "execution_count": 8,
      "metadata": {
        "id": "fT94A6hn0v53"
      },
      "outputs": [],
      "source": [
        "countries = list(df.Area.unique())"
      ]
    },
    {
      "cell_type": "code",
      "execution_count": 9,
      "metadata": {
        "id": "yjGm8PdV0puR"
      },
      "outputs": [],
      "source": [
        "def init_timeline():\n",
        "  timeline = [i for i in range(1960,2021)]\n",
        "  timeline_dic={c:{t : 0 if not t%5 else np.NaN for t in timeline  } for c in countries}\n",
        "  return timeline_dic"
      ]
    },
    {
      "cell_type": "code",
      "execution_count": 10,
      "metadata": {
        "id": "jyUSaoFr0z7x"
      },
      "outputs": [],
      "source": [
        "def convert_to_df():\n",
        "  dft = pd.DataFrame.from_dict(timeline_dic,orient='index')\n",
        "  dft.insert(0, \"Country\", countries, True)\n",
        "  return dft"
      ]
    },
    {
      "cell_type": "code",
      "execution_count": 11,
      "metadata": {
        "id": "4OEDvl_d04KJ"
      },
      "outputs": [],
      "source": [
        "for e in edu_level:\n",
        "  timeline_dic = init_timeline()\n",
        "  data = pd.read_csv(\"../datasets/\"+e+\".csv\")   \n",
        "  dfs = pd.DataFrame(data)\n",
        "  for j in range(len(data)):\n",
        "    timeline_dic[dfs.iloc[j]['Area']][dfs.iloc[j]['Year']] += dfs.iloc[j]['Distribution']\n",
        "    round(timeline_dic[dfs.iloc[j]['Area']][dfs.iloc[j]['Year']], 2)\n",
        "  dft = convert_to_df()\n",
        "  dft.to_csv('../datasets/'+e+'.csv', encoding='utf-8', index=False)"
      ]
    },
    {
      "attachments": {},
      "cell_type": "markdown",
      "metadata": {},
      "source": [
        "## Interpolation of missing years"
      ]
    },
    {
      "cell_type": "code",
      "execution_count": 12,
      "metadata": {
        "id": "dBraoJbAbQWk"
      },
      "outputs": [],
      "source": [
        "years = [(y,y+5) for y in range(1960,2016,5)]\n",
        "datasets = [ e for e in edu_level]\n",
        "\n",
        "for name in datasets:\n",
        "  data = pd.read_csv('../datasets/'+name+'.csv')   \n",
        "  df = pd.DataFrame(data)\n",
        "  for r in range(len(df)):\n",
        "    for s,e in years:\n",
        "      df.at[r,str(s)] = round(df.iloc[r][str(s)],2)\n",
        "      df.at[r,str(e)] = round(df.iloc[r][str(e)],2)\n",
        "      d   = df.iloc[r][str(e)] - df.iloc[r][str(s)]\n",
        "      inc = d/5\n",
        "      i=1\n",
        "      for y in range(s+1,e):\n",
        "        df.at[r,str(y)] = round(df.iloc[r][str(s)] + inc*i,2)\n",
        "        i+=1\n",
        "  df.to_csv('../datasets/'+name+'.csv', encoding='utf-8', index=False)"
      ]
    }
  ],
  "metadata": {
    "colab": {
      "authorship_tag": "ABX9TyOcUei7c5QXO4kEKuKglYmT",
      "collapsed_sections": [],
      "include_colab_link": true,
      "name": "female_edu-attainment-extract.ipynb",
      "provenance": []
    },
    "kernelspec": {
      "display_name": "Python 3",
      "name": "python3"
    },
    "language_info": {
      "codemirror_mode": {
        "name": "ipython",
        "version": 3
      },
      "file_extension": ".py",
      "mimetype": "text/x-python",
      "name": "python",
      "nbconvert_exporter": "python",
      "pygments_lexer": "ipython3",
      "version": "3.7.4"
    }
  },
  "nbformat": 4,
  "nbformat_minor": 0
}
