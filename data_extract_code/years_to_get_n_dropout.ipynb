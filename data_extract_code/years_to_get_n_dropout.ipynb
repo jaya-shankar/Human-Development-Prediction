{
 "cells": [
  {
   "cell_type": "code",
   "execution_count": 30,
   "metadata": {},
   "outputs": [],
   "source": [
    "import pandas as pd\n",
    "import numpy as np"
   ]
  },
  {
   "cell_type": "code",
   "execution_count": 73,
   "metadata": {},
   "outputs": [],
   "source": [
    "root = \"../datasets/\" \n",
    "datasets_path = {\n",
    "                    \"gdppercapita_us_infla_adjust\"    :  root+ \"gdppercapita_us_inflation_adjusted.csv\",\n",
    "                    \"20-24-In_Primary_OL\"             :  root+ \"In_Primary_OL.csv\",\n",
    "                    \"20-24-Primary_OL\"                :  root+ \"Primary_OL.csv\",\n",
    "                    \"20-24-Lower_Secondary_OL\"        :  root+ \"Lower_Secondary_OL.csv\",\n",
    "                    \"20-24_female-In_Primary_OL\"      :  root+ \"female_In_Primary_OL.csv\",\n",
    "                    \"20-24_female-Primary_OL\"         :  root+ \"female_Primary_OL.csv\",\n",
    "                    \"20-24_female-Lower_Secondary_OL\" :  root+ \"female_Lower_Secondary_OL.csv\"\n",
    "                }"
   ]
  },
  {
   "cell_type": "code",
   "execution_count": 69,
   "metadata": {},
   "outputs": [],
   "source": [
    "\n",
    "# give row in dataframe find first column having value less than 50\n",
    "def create_n_dropout_csv(dataset,n):\n",
    "    df = pd.read_csv(datasets_path[dataset])\n",
    "    years = list(range(1960, 2016))\n",
    "    countries = list(df['Country'])\n",
    "    drop_out_years = []\n",
    "    for i in range(len(df)):\n",
    "        for year in years:\n",
    "            if df.iloc[i][str(year)] < n:\n",
    "                drop_out_years.append((df.iloc[i]['Country'],(year-1960)))\n",
    "                break\n",
    "        else:\n",
    "            drop_out_years.append((df.iloc[i]['Country'], year-1960))\n",
    "\n",
    "    new_df = pd.DataFrame(countries,columns=['Country'])\n",
    "    for i in range(1960,2016):\n",
    "        new_df[i] = np.nan\n",
    "    new_df.set_index('country',inplace=True)\n",
    "    for c,y in drop_out_years:\n",
    "        for i in range(1960,2016):\n",
    "            new_df.at[c,i] = y\n",
    "    new_df.to_csv(root+str(n)+\"_dropout_\"+dataset+\".csv\",encoding='utf-8', index=True)"
   ]
  },
  {
   "cell_type": "code",
   "execution_count": null,
   "metadata": {},
   "outputs": [],
   "source": [
    "create_n_dropout_csv(\"20-24_female-Lower_Secondary_OL\",50)"
   ]
  },
  {
   "cell_type": "code",
   "execution_count": null,
   "metadata": {},
   "outputs": [],
   "source": [
    "datasets = [\n",
    "            # \"infant_mortality\",\n",
    "            # (\"life_expectancy\",0),\n",
    "            # (\"child_mortality\",0),\n",
    "            (\"children_per_woman\",0),\n",
    "            (\"co2_emissions_percapita\",0),\n",
    "            (\"gini_index\",0),\n",
    "            (\"gdppercapita_us_infla_adjust\",0),\n",
    "            (\"gdppercapita_us_infla_adjust\",20),\n",
    "            (\"20-24-In_Primary_OL\",0),\n",
    "            (\"20-24-Primary_OL\",0),\n",
    "            # (\"20-24-Lower_Secondary_OL\",0),\n",
    "            (\"population\",0),\n",
    "            (\"20-24_female-In_Primary_OL\",0),\n",
    "            (\"20-24_female-Primary_OL\",0) ,\n",
    "            # (\"female_wcde-Lower_Secondary_OL\",0)\n",
    "            ]"
   ]
  },
  {
   "cell_type": "code",
   "execution_count": 141,
   "metadata": {},
   "outputs": [],
   "source": [
    "def create_n_yrs_gst_old_csv(dataset,n_years):\n",
    "    df = pd.read_csv(datasets_path[dataset])\n",
    "    years = list(range(1960, 2016))\n",
    "    countries = list(df['Country'])\n",
    "    new_df = pd.DataFrame(countries,columns=['Country'])\n",
    "    for i in range(1960,2016):\n",
    "        new_df[i] = np.nan\n",
    "    new_df.set_index('Country',inplace=True)\n",
    "    df.set_index('Country',inplace=True)\n",
    "    for c in countries:\n",
    "        for y in range(1960+n_years,2016):\n",
    "            new_df[y].at[c] = df.loc[c][str(y-n_years)]\n",
    "\n",
    "    new_df.to_csv(root+str(n_years)+\"_yrs_old_\"+dataset+\".csv\",encoding='utf-8', index=True)"
   ]
  },
  {
   "cell_type": "code",
   "execution_count": 142,
   "metadata": {},
   "outputs": [],
   "source": [
    "create_n_yrs_gst_old_csv(\"gdppercapita_us_infla_adjust\",10)"
   ]
  }
 ],
 "metadata": {
  "interpreter": {
   "hash": "aee8b7b246df8f9039afb4144a1f6fd8d2ca17a180786b69acc140d282b71a49"
  },
  "kernelspec": {
   "display_name": "Python 3.7.4 64-bit",
   "name": "python3"
  },
  "language_info": {
   "codemirror_mode": {
    "name": "ipython",
    "version": 3
   },
   "file_extension": ".py",
   "mimetype": "text/x-python",
   "name": "python",
   "nbconvert_exporter": "python",
   "pygments_lexer": "ipython3",
   "version": "3.7.4"
  },
  "orig_nbformat": 4
 },
 "nbformat": 4,
 "nbformat_minor": 2
}
