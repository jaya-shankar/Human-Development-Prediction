{
  "nbformat": 4,
  "nbformat_minor": 0,
  "metadata": {
    "colab": {
      "name": "female_edu-attainment-extract.ipynb",
      "provenance": [],
      "collapsed_sections": [],
      "authorship_tag": "ABX9TyOcUei7c5QXO4kEKuKglYmT",
      "include_colab_link": true
    },
    "kernelspec": {
      "name": "python3",
      "display_name": "Python 3"
    },
    "language_info": {
      "name": "python"
    }
  },
  "cells": [
    {
      "cell_type": "markdown",
      "metadata": {
        "id": "view-in-github",
        "colab_type": "text"
      },
      "source": [
        "<a href=\"https://colab.research.google.com/github/jaya-shankar/education-impact/blob/master/data_extract_code/female_edu_attainment_extract.ipynb\" target=\"_parent\"><img src=\"https://colab.research.google.com/assets/colab-badge.svg\" alt=\"Open In Colab\"/></a>"
      ]
    },
    {
      "cell_type": "code",
      "source": [
        "!rm -rf education-impact"
      ],
      "metadata": {
        "id": "LNXPuNJvcXNu"
      },
      "execution_count": 5,
      "outputs": []
    },
    {
      "cell_type": "code",
      "metadata": {
        "id": "VfiHPDRRH51D",
        "colab": {
          "base_uri": "https://localhost:8080/"
        },
        "outputId": "be748e1b-b05e-4e5f-a852-1602ab089e15"
      },
      "source": [
        "!git clone https://github.com/jaya-shankar/education-impact.git"
      ],
      "execution_count": 6,
      "outputs": [
        {
          "output_type": "stream",
          "name": "stdout",
          "text": [
            "Cloning into 'education-impact'...\n",
            "remote: Enumerating objects: 349, done.\u001b[K\n",
            "remote: Counting objects: 100% (349/349), done.\u001b[K\n",
            "remote: Compressing objects: 100% (292/292), done.\u001b[K\n",
            "remote: Total 349 (delta 176), reused 172 (delta 54), pack-reused 0\u001b[K\n",
            "Receiving objects: 100% (349/349), 2.87 MiB | 10.85 MiB/s, done.\n",
            "Resolving deltas: 100% (176/176), done.\n"
          ]
        }
      ]
    },
    {
      "cell_type": "code",
      "metadata": {
        "id": "eTgMVrqGExOg"
      },
      "source": [
        "import pandas as pd\n",
        "import numpy as np\n",
        "import csv"
      ],
      "execution_count": 3,
      "outputs": []
    },
    {
      "cell_type": "code",
      "metadata": {
        "colab": {
          "base_uri": "https://localhost:8080/",
          "height": 419
        },
        "id": "ak0pV615E1ML",
        "outputId": "5499aec1-70b5-440b-c854-897c47c197cd"
      },
      "source": [
        "i_file_name = \"female_education-attainment.csv\"\n",
        "data = pd.read_csv(\"education-impact/raw_data/\"+i_file_name)\n",
        "df = pd.DataFrame(data)\n",
        "df"
      ],
      "execution_count": 7,
      "outputs": [
        {
          "output_type": "execute_result",
          "data": {
            "text/html": [
              "<div>\n",
              "<style scoped>\n",
              "    .dataframe tbody tr th:only-of-type {\n",
              "        vertical-align: middle;\n",
              "    }\n",
              "\n",
              "    .dataframe tbody tr th {\n",
              "        vertical-align: top;\n",
              "    }\n",
              "\n",
              "    .dataframe thead th {\n",
              "        text-align: right;\n",
              "    }\n",
              "</style>\n",
              "<table border=\"1\" class=\"dataframe\">\n",
              "  <thead>\n",
              "    <tr style=\"text-align: right;\">\n",
              "      <th></th>\n",
              "      <th>Area</th>\n",
              "      <th>Year</th>\n",
              "      <th>Age</th>\n",
              "      <th>Sex</th>\n",
              "      <th>Education</th>\n",
              "      <th>Distribution</th>\n",
              "    </tr>\n",
              "  </thead>\n",
              "  <tbody>\n",
              "    <tr>\n",
              "      <th>0</th>\n",
              "      <td>Afghanistan</td>\n",
              "      <td>1960</td>\n",
              "      <td>20--24</td>\n",
              "      <td>Female</td>\n",
              "      <td>Under 15</td>\n",
              "      <td>0.0</td>\n",
              "    </tr>\n",
              "    <tr>\n",
              "      <th>1</th>\n",
              "      <td>Afghanistan</td>\n",
              "      <td>1965</td>\n",
              "      <td>20--24</td>\n",
              "      <td>Female</td>\n",
              "      <td>Under 15</td>\n",
              "      <td>0.0</td>\n",
              "    </tr>\n",
              "    <tr>\n",
              "      <th>2</th>\n",
              "      <td>Afghanistan</td>\n",
              "      <td>1970</td>\n",
              "      <td>20--24</td>\n",
              "      <td>Female</td>\n",
              "      <td>Under 15</td>\n",
              "      <td>0.0</td>\n",
              "    </tr>\n",
              "    <tr>\n",
              "      <th>3</th>\n",
              "      <td>Afghanistan</td>\n",
              "      <td>1975</td>\n",
              "      <td>20--24</td>\n",
              "      <td>Female</td>\n",
              "      <td>Under 15</td>\n",
              "      <td>0.0</td>\n",
              "    </tr>\n",
              "    <tr>\n",
              "      <th>4</th>\n",
              "      <td>Afghanistan</td>\n",
              "      <td>1980</td>\n",
              "      <td>20--24</td>\n",
              "      <td>Female</td>\n",
              "      <td>Under 15</td>\n",
              "      <td>0.0</td>\n",
              "    </tr>\n",
              "    <tr>\n",
              "      <th>...</th>\n",
              "      <td>...</td>\n",
              "      <td>...</td>\n",
              "      <td>...</td>\n",
              "      <td>...</td>\n",
              "      <td>...</td>\n",
              "      <td>...</td>\n",
              "    </tr>\n",
              "    <tr>\n",
              "      <th>15908</th>\n",
              "      <td>Syrian Arab Republic</td>\n",
              "      <td>2015</td>\n",
              "      <td>20--24</td>\n",
              "      <td>Female</td>\n",
              "      <td>Master and higher</td>\n",
              "      <td>0.1</td>\n",
              "    </tr>\n",
              "    <tr>\n",
              "      <th>15909</th>\n",
              "      <td>Taiwan Province of China</td>\n",
              "      <td>2015</td>\n",
              "      <td>20--24</td>\n",
              "      <td>Female</td>\n",
              "      <td>Master and higher</td>\n",
              "      <td>2.2</td>\n",
              "    </tr>\n",
              "    <tr>\n",
              "      <th>15910</th>\n",
              "      <td>United Kingdom of Great Britain and Northern I...</td>\n",
              "      <td>2015</td>\n",
              "      <td>20--24</td>\n",
              "      <td>Female</td>\n",
              "      <td>Master and higher</td>\n",
              "      <td>2.5</td>\n",
              "    </tr>\n",
              "    <tr>\n",
              "      <th>15911</th>\n",
              "      <td>United States of America</td>\n",
              "      <td>2015</td>\n",
              "      <td>20--24</td>\n",
              "      <td>Female</td>\n",
              "      <td>Master and higher</td>\n",
              "      <td>2.6</td>\n",
              "    </tr>\n",
              "    <tr>\n",
              "      <th>15912</th>\n",
              "      <td>Uruguay</td>\n",
              "      <td>2015</td>\n",
              "      <td>20--24</td>\n",
              "      <td>Female</td>\n",
              "      <td>Master and higher</td>\n",
              "      <td>0.2</td>\n",
              "    </tr>\n",
              "  </tbody>\n",
              "</table>\n",
              "<p>15913 rows × 6 columns</p>\n",
              "</div>"
            ],
            "text/plain": [
              "                                                    Area  ...  Distribution\n",
              "0                                            Afghanistan  ...           0.0\n",
              "1                                            Afghanistan  ...           0.0\n",
              "2                                            Afghanistan  ...           0.0\n",
              "3                                            Afghanistan  ...           0.0\n",
              "4                                            Afghanistan  ...           0.0\n",
              "...                                                  ...  ...           ...\n",
              "15908                               Syrian Arab Republic  ...           0.1\n",
              "15909                           Taiwan Province of China  ...           2.2\n",
              "15910  United Kingdom of Great Britain and Northern I...  ...           2.5\n",
              "15911                           United States of America  ...           2.6\n",
              "15912                                            Uruguay  ...           0.2\n",
              "\n",
              "[15913 rows x 6 columns]"
            ]
          },
          "metadata": {},
          "execution_count": 7
        }
      ]
    },
    {
      "cell_type": "code",
      "metadata": {
        "id": "8HabKRQ6L1Eh",
        "colab": {
          "base_uri": "https://localhost:8080/"
        },
        "outputId": "c018f72c-0b56-4898-df6c-d7443d6aa1d5"
      },
      "source": [
        "df.columns"
      ],
      "execution_count": 8,
      "outputs": [
        {
          "output_type": "execute_result",
          "data": {
            "text/plain": [
              "Index(['Area', 'Year', 'Age', 'Sex', 'Education', 'Distribution'], dtype='object')"
            ]
          },
          "metadata": {},
          "execution_count": 8
        }
      ]
    },
    {
      "cell_type": "code",
      "metadata": {
        "colab": {
          "base_uri": "https://localhost:8080/",
          "height": 419
        },
        "id": "m5fqZoBEFJw4",
        "outputId": "b89ba40a-ea90-4faf-f2ea-cdc6b59f0520"
      },
      "source": [
        "df = df[df.Education != 'Under 15']\n",
        "df"
      ],
      "execution_count": 9,
      "outputs": [
        {
          "output_type": "execute_result",
          "data": {
            "text/html": [
              "<div>\n",
              "<style scoped>\n",
              "    .dataframe tbody tr th:only-of-type {\n",
              "        vertical-align: middle;\n",
              "    }\n",
              "\n",
              "    .dataframe tbody tr th {\n",
              "        vertical-align: top;\n",
              "    }\n",
              "\n",
              "    .dataframe thead th {\n",
              "        text-align: right;\n",
              "    }\n",
              "</style>\n",
              "<table border=\"1\" class=\"dataframe\">\n",
              "  <thead>\n",
              "    <tr style=\"text-align: right;\">\n",
              "      <th></th>\n",
              "      <th>Area</th>\n",
              "      <th>Year</th>\n",
              "      <th>Age</th>\n",
              "      <th>Sex</th>\n",
              "      <th>Education</th>\n",
              "      <th>Distribution</th>\n",
              "    </tr>\n",
              "  </thead>\n",
              "  <tbody>\n",
              "    <tr>\n",
              "      <th>2248</th>\n",
              "      <td>Afghanistan</td>\n",
              "      <td>1960</td>\n",
              "      <td>20--24</td>\n",
              "      <td>Female</td>\n",
              "      <td>No Education</td>\n",
              "      <td>98.4</td>\n",
              "    </tr>\n",
              "    <tr>\n",
              "      <th>2249</th>\n",
              "      <td>Afghanistan</td>\n",
              "      <td>1965</td>\n",
              "      <td>20--24</td>\n",
              "      <td>Female</td>\n",
              "      <td>No Education</td>\n",
              "      <td>97.7</td>\n",
              "    </tr>\n",
              "    <tr>\n",
              "      <th>2250</th>\n",
              "      <td>Afghanistan</td>\n",
              "      <td>1970</td>\n",
              "      <td>20--24</td>\n",
              "      <td>Female</td>\n",
              "      <td>No Education</td>\n",
              "      <td>97.3</td>\n",
              "    </tr>\n",
              "    <tr>\n",
              "      <th>2251</th>\n",
              "      <td>Afghanistan</td>\n",
              "      <td>1975</td>\n",
              "      <td>20--24</td>\n",
              "      <td>Female</td>\n",
              "      <td>No Education</td>\n",
              "      <td>95.4</td>\n",
              "    </tr>\n",
              "    <tr>\n",
              "      <th>2252</th>\n",
              "      <td>Afghanistan</td>\n",
              "      <td>1980</td>\n",
              "      <td>20--24</td>\n",
              "      <td>Female</td>\n",
              "      <td>No Education</td>\n",
              "      <td>94.3</td>\n",
              "    </tr>\n",
              "    <tr>\n",
              "      <th>...</th>\n",
              "      <td>...</td>\n",
              "      <td>...</td>\n",
              "      <td>...</td>\n",
              "      <td>...</td>\n",
              "      <td>...</td>\n",
              "      <td>...</td>\n",
              "    </tr>\n",
              "    <tr>\n",
              "      <th>15908</th>\n",
              "      <td>Syrian Arab Republic</td>\n",
              "      <td>2015</td>\n",
              "      <td>20--24</td>\n",
              "      <td>Female</td>\n",
              "      <td>Master and higher</td>\n",
              "      <td>0.1</td>\n",
              "    </tr>\n",
              "    <tr>\n",
              "      <th>15909</th>\n",
              "      <td>Taiwan Province of China</td>\n",
              "      <td>2015</td>\n",
              "      <td>20--24</td>\n",
              "      <td>Female</td>\n",
              "      <td>Master and higher</td>\n",
              "      <td>2.2</td>\n",
              "    </tr>\n",
              "    <tr>\n",
              "      <th>15910</th>\n",
              "      <td>United Kingdom of Great Britain and Northern I...</td>\n",
              "      <td>2015</td>\n",
              "      <td>20--24</td>\n",
              "      <td>Female</td>\n",
              "      <td>Master and higher</td>\n",
              "      <td>2.5</td>\n",
              "    </tr>\n",
              "    <tr>\n",
              "      <th>15911</th>\n",
              "      <td>United States of America</td>\n",
              "      <td>2015</td>\n",
              "      <td>20--24</td>\n",
              "      <td>Female</td>\n",
              "      <td>Master and higher</td>\n",
              "      <td>2.6</td>\n",
              "    </tr>\n",
              "    <tr>\n",
              "      <th>15912</th>\n",
              "      <td>Uruguay</td>\n",
              "      <td>2015</td>\n",
              "      <td>20--24</td>\n",
              "      <td>Female</td>\n",
              "      <td>Master and higher</td>\n",
              "      <td>0.2</td>\n",
              "    </tr>\n",
              "  </tbody>\n",
              "</table>\n",
              "<p>13665 rows × 6 columns</p>\n",
              "</div>"
            ],
            "text/plain": [
              "                                                    Area  ...  Distribution\n",
              "2248                                         Afghanistan  ...          98.4\n",
              "2249                                         Afghanistan  ...          97.7\n",
              "2250                                         Afghanistan  ...          97.3\n",
              "2251                                         Afghanistan  ...          95.4\n",
              "2252                                         Afghanistan  ...          94.3\n",
              "...                                                  ...  ...           ...\n",
              "15908                               Syrian Arab Republic  ...           0.1\n",
              "15909                           Taiwan Province of China  ...           2.2\n",
              "15910  United Kingdom of Great Britain and Northern I...  ...           2.5\n",
              "15911                           United States of America  ...           2.6\n",
              "15912                                            Uruguay  ...           0.2\n",
              "\n",
              "[13665 rows x 6 columns]"
            ]
          },
          "metadata": {},
          "execution_count": 9
        }
      ]
    },
    {
      "cell_type": "code",
      "metadata": {
        "colab": {
          "base_uri": "https://localhost:8080/"
        },
        "id": "_iew0D5aGPz4",
        "outputId": "a9aa0e5d-aee1-4608-d4c4-c77d55c7f551"
      },
      "source": [
        "df.Education.unique()"
      ],
      "execution_count": 10,
      "outputs": [
        {
          "output_type": "execute_result",
          "data": {
            "text/plain": [
              "array(['No Education', 'Incomplete Primary', 'Primary', 'Lower Secondary',\n",
              "       'Upper Secondary', 'Post Secondary', 'Short Post Secondary',\n",
              "       'Bachelor', 'Master and higher'], dtype=object)"
            ]
          },
          "metadata": {},
          "execution_count": 10
        }
      ]
    },
    {
      "cell_type": "code",
      "metadata": {
        "id": "AaEEvb4nGQVA"
      },
      "source": [
        "edu_level = { 'female_In_Primary_OL'     : [ 'No Education', 'Incomplete Primary'], \n",
        "              'female_Primary_OL'        : [ 'No Education', 'Incomplete Primary','Primary'],\n",
        "              'female_Lower_Secondary_OL': ['No Education', 'Incomplete Primary','Primary', 'Lower Secondary'],\n",
        "            }"
      ],
      "execution_count": 12,
      "outputs": []
    },
    {
      "cell_type": "code",
      "metadata": {
        "id": "HvaDrx841oIO"
      },
      "source": [
        "for i in edu_level:\n",
        "  sr = df.loc[df['Education'].isin(edu_level[i])]\n",
        "  sr.to_csv('education-impact/datasets/'+i+'.csv', encoding='utf-8', index=False)"
      ],
      "execution_count": 13,
      "outputs": []
    },
    {
      "cell_type": "code",
      "metadata": {
        "id": "fT94A6hn0v53"
      },
      "source": [
        "countries = list(df.Area.unique())"
      ],
      "execution_count": 14,
      "outputs": []
    },
    {
      "cell_type": "code",
      "metadata": {
        "id": "yjGm8PdV0puR"
      },
      "source": [
        "def init_timeline():\n",
        "  timeline = [i for i in range(1960,2016)]\n",
        "  timeline_dic={c:{t : 0 if not t%5 else np.NaN for t in timeline  } for c in countries}\n",
        "  return timeline_dic"
      ],
      "execution_count": 15,
      "outputs": []
    },
    {
      "cell_type": "code",
      "metadata": {
        "id": "jyUSaoFr0z7x"
      },
      "source": [
        "def convert_to_df():\n",
        "  dft = pd.DataFrame.from_dict(timeline_dic,orient='index')\n",
        "  dft.insert(0, \"Country\", countries, True)\n",
        "  return dft"
      ],
      "execution_count": 16,
      "outputs": []
    },
    {
      "cell_type": "code",
      "metadata": {
        "id": "4OEDvl_d04KJ"
      },
      "source": [
        "for e in edu_level:\n",
        "  timeline_dic = init_timeline()\n",
        "  data = pd.read_csv(\"education-impact/datasets/\"+e+\".csv\")   \n",
        "  dfs = pd.DataFrame(data)\n",
        "  for j in range(len(data)):\n",
        "    timeline_dic[dfs.iloc[j]['Area']][dfs.iloc[j]['Year']] += dfs.iloc[j]['Distribution']\n",
        "    round(timeline_dic[dfs.iloc[j]['Area']][dfs.iloc[j]['Year']], 2)\n",
        "  dft = convert_to_df()\n",
        "  dft.to_csv('education-impact/datasets/'+e+'.csv', encoding='utf-8', index=False)"
      ],
      "execution_count": 17,
      "outputs": []
    },
    {
      "cell_type": "code",
      "source": [
        "years = [(y,y+5) for y in range(1960,2011,5)]\n",
        "datasets = [ e for e in edu_level]\n",
        "\n",
        "for name in datasets:\n",
        "  data = pd.read_csv('education-impact/datasets/'+name+'.csv')   \n",
        "  df = pd.DataFrame(data)\n",
        "  for r in range(len(df)):\n",
        "    for s,e in years:\n",
        "      df.at[r,str(s)] = round(df.iloc[r][str(s)],2)\n",
        "      df.at[r,str(e)] = round(df.iloc[r][str(e)],2)\n",
        "      d   = df.iloc[r][str(e)] - df.iloc[r][str(s)]\n",
        "      inc = d/5\n",
        "      i=1\n",
        "      for y in range(s+1,e):\n",
        "        df.at[r,str(y)] = round(df.iloc[r][str(s)] + inc*i,2)\n",
        "        i+=1\n",
        "  df.to_csv('education-impact/datasets/'+name+'.csv', encoding='utf-8', index=False)"
      ],
      "metadata": {
        "id": "dBraoJbAbQWk"
      },
      "execution_count": 18,
      "outputs": []
    }
  ]
}