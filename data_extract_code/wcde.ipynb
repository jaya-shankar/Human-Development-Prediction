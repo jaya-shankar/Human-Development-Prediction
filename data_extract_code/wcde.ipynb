{
  "nbformat": 4,
  "nbformat_minor": 0,
  "metadata": {
    "colab": {
      "name": "Untitled6.ipynb",
      "provenance": [],
      "authorship_tag": "ABX9TyNlE9e9dHK2PUpB4aRBgLRH",
      "include_colab_link": true
    },
    "kernelspec": {
      "name": "python3",
      "display_name": "Python 3"
    },
    "language_info": {
      "name": "python"
    }
  },
  "cells": [
    {
      "cell_type": "markdown",
      "metadata": {
        "id": "view-in-github",
        "colab_type": "text"
      },
      "source": [
        "<a href=\"https://colab.research.google.com/github/jaya-shankar/education-impact/blob/master/data_extract_code/wcde.ipynb\" target=\"_parent\"><img src=\"https://colab.research.google.com/assets/colab-badge.svg\" alt=\"Open In Colab\"/></a>"
      ]
    },
    {
      "cell_type": "code",
      "metadata": {
        "colab": {
          "base_uri": "https://localhost:8080/"
        },
        "id": "g6PvwqBO0C5C",
        "outputId": "76d823a2-8e17-4e34-f481-119b5db5ae61"
      },
      "source": [
        "from google.colab import drive\n",
        "drive.mount('drive')"
      ],
      "execution_count": 1,
      "outputs": [
        {
          "output_type": "stream",
          "name": "stdout",
          "text": [
            "Mounted at drive\n"
          ]
        }
      ]
    },
    {
      "cell_type": "code",
      "metadata": {
        "id": "B7Lozl3AmPlU"
      },
      "source": [
        "import pandas as pd\n",
        "import numpy as np\n",
        "import csv"
      ],
      "execution_count": 2,
      "outputs": []
    },
    {
      "cell_type": "code",
      "metadata": {
        "id": "_xuThskFJ-Va"
      },
      "source": [
        "\n",
        "data = pd.read_csv(\"/content/drive/MyDrive/wcde_data.csv\")   \n",
        "df = pd.DataFrame(data)"
      ],
      "execution_count": 3,
      "outputs": []
    },
    {
      "cell_type": "code",
      "metadata": {
        "id": "VVAaVHdg0UW_"
      },
      "source": [
        "age = list(df.Age.unique())\n",
        "for i in range(0,len(age),2):\n",
        "  sr = df.loc[((df['Age'] == age[i]) | (df['Age']==age[i+1])) & ((df['Year']<=2015) & (df['Year']>=1960))]\n",
        "  sr.to_csv('/content/drive/My Drive/wcde/wcde'+age[i][:4]+age[i+1][4:]+'.csv', encoding='utf-8', index=False)"
      ],
      "execution_count": 4,
      "outputs": []
    },
    {
      "cell_type": "code",
      "metadata": {
        "id": "TCzHSOk2djee"
      },
      "source": [
        "countries = list(df.Area.unique())"
      ],
      "execution_count": 5,
      "outputs": []
    },
    {
      "cell_type": "code",
      "metadata": {
        "id": "Eqjkqj0p7oUa"
      },
      "source": [
        "def init_timeline():\n",
        "  timeline = [i for i in range(1960,2016)]\n",
        "  timeline_dic={c:{t : 0 if not t%5 else np.NaN for t in timeline  } for c in countries}\n",
        "  return timeline_dic"
      ],
      "execution_count": 6,
      "outputs": []
    },
    {
      "cell_type": "code",
      "metadata": {
        "id": "dxSOnYxnoLw1"
      },
      "source": [
        "def convert_to_df():\n",
        "  dft = pd.DataFrame.from_dict(timeline_dic,orient='index')\n",
        "  dft.insert(0, \"Country\", countries, True)\n",
        "  return dft\n"
      ],
      "execution_count": 7,
      "outputs": []
    },
    {
      "cell_type": "code",
      "metadata": {
        "id": "FQ8k5G_R7lQC"
      },
      "source": [
        "for i in range(0,len(age),2):\n",
        "  timeline_dic = init_timeline()\n",
        "  data = pd.read_csv(\"/content/drive/MyDrive/wcde/wcde\"+age[i][:4]+age[i+1][4:]+\".csv\")   \n",
        "  dfs = pd.DataFrame(data)\n",
        "  for j in range(len(data)):\n",
        "    timeline_dic[dfs.iloc[j]['Area']][dfs.iloc[j]['Year']] += dfs.iloc[j]['Years']\n",
        "    round(timeline_dic[dfs.iloc[j]['Area']][dfs.iloc[j]['Year']], 2)\n",
        "  dft = convert_to_df()\n",
        "  dft.to_csv('/content/drive/My Drive/wcde/modified/wcde-'+age[i][:4]+age[i+1][4:]+'.csv', encoding='utf-8', index=False)"
      ],
      "execution_count": 8,
      "outputs": []
    }
  ]
}