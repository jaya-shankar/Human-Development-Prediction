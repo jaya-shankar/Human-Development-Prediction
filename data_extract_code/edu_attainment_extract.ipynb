{
  "nbformat": 4,
  "nbformat_minor": 0,
  "metadata": {
    "colab": {
      "name": "edu-attainment-extract.ipynb",
      "provenance": [],
      "collapsed_sections": [],
      "authorship_tag": "ABX9TyMUx4ZKMrJYaL5dzTQs0Cbn",
      "include_colab_link": true
    },
    "kernelspec": {
      "name": "python3",
      "display_name": "Python 3"
    },
    "language_info": {
      "name": "python"
    }
  },
  "cells": [
    {
      "cell_type": "markdown",
      "metadata": {
        "id": "view-in-github",
        "colab_type": "text"
      },
      "source": [
        "<a href=\"https://colab.research.google.com/github/jaya-shankar/education-impact/blob/master/data_extract_code/edu_attainment_extract.ipynb\" target=\"_parent\"><img src=\"https://colab.research.google.com/assets/colab-badge.svg\" alt=\"Open In Colab\"/></a>"
      ]
    },
    {
      "cell_type": "code",
      "metadata": {
        "id": "VfiHPDRRH51D",
        "colab": {
          "base_uri": "https://localhost:8080/"
        },
        "outputId": "c608c3ab-9bc8-48a8-e10b-a4a91684e066"
      },
      "source": [
        "from google.colab import drive\n",
        "drive.mount('drive')"
      ],
      "execution_count": 1,
      "outputs": [
        {
          "output_type": "stream",
          "name": "stdout",
          "text": [
            "Mounted at drive\n"
          ]
        }
      ]
    },
    {
      "cell_type": "code",
      "metadata": {
        "id": "eTgMVrqGExOg"
      },
      "source": [
        "import pandas as pd\n",
        "import numpy as np\n",
        "import csv"
      ],
      "execution_count": 6,
      "outputs": []
    },
    {
      "cell_type": "code",
      "metadata": {
        "colab": {
          "base_uri": "https://localhost:8080/",
          "height": 422
        },
        "id": "ak0pV615E1ML",
        "outputId": "d5a71f4e-ee5d-405f-c928-499ac2009c8a"
      },
      "source": [
        "data = pd.read_csv(\"/content/drive/MyDrive/wcde/education-attainment.csv\")   \n",
        "df = pd.DataFrame(data)\n",
        "df"
      ],
      "execution_count": 7,
      "outputs": [
        {
          "output_type": "execute_result",
          "data": {
            "text/html": [
              "<div>\n",
              "<style scoped>\n",
              "    .dataframe tbody tr th:only-of-type {\n",
              "        vertical-align: middle;\n",
              "    }\n",
              "\n",
              "    .dataframe tbody tr th {\n",
              "        vertical-align: top;\n",
              "    }\n",
              "\n",
              "    .dataframe thead th {\n",
              "        text-align: right;\n",
              "    }\n",
              "</style>\n",
              "<table border=\"1\" class=\"dataframe\">\n",
              "  <thead>\n",
              "    <tr style=\"text-align: right;\">\n",
              "      <th></th>\n",
              "      <th>Area</th>\n",
              "      <th>Year</th>\n",
              "      <th>Age</th>\n",
              "      <th>Education</th>\n",
              "      <th>Distribution</th>\n",
              "    </tr>\n",
              "  </thead>\n",
              "  <tbody>\n",
              "    <tr>\n",
              "      <th>0</th>\n",
              "      <td>Afghanistan</td>\n",
              "      <td>1960</td>\n",
              "      <td>20--24</td>\n",
              "      <td>Under 15</td>\n",
              "      <td>0.0</td>\n",
              "    </tr>\n",
              "    <tr>\n",
              "      <th>1</th>\n",
              "      <td>Afghanistan</td>\n",
              "      <td>1965</td>\n",
              "      <td>20--24</td>\n",
              "      <td>Under 15</td>\n",
              "      <td>0.0</td>\n",
              "    </tr>\n",
              "    <tr>\n",
              "      <th>2</th>\n",
              "      <td>Afghanistan</td>\n",
              "      <td>1970</td>\n",
              "      <td>20--24</td>\n",
              "      <td>Under 15</td>\n",
              "      <td>0.0</td>\n",
              "    </tr>\n",
              "    <tr>\n",
              "      <th>3</th>\n",
              "      <td>Afghanistan</td>\n",
              "      <td>1975</td>\n",
              "      <td>20--24</td>\n",
              "      <td>Under 15</td>\n",
              "      <td>0.0</td>\n",
              "    </tr>\n",
              "    <tr>\n",
              "      <th>4</th>\n",
              "      <td>Afghanistan</td>\n",
              "      <td>1980</td>\n",
              "      <td>20--24</td>\n",
              "      <td>Under 15</td>\n",
              "      <td>0.0</td>\n",
              "    </tr>\n",
              "    <tr>\n",
              "      <th>...</th>\n",
              "      <td>...</td>\n",
              "      <td>...</td>\n",
              "      <td>...</td>\n",
              "      <td>...</td>\n",
              "      <td>...</td>\n",
              "    </tr>\n",
              "    <tr>\n",
              "      <th>15908</th>\n",
              "      <td>Syrian Arab Republic</td>\n",
              "      <td>2015</td>\n",
              "      <td>20--24</td>\n",
              "      <td>Master and higher</td>\n",
              "      <td>0.0</td>\n",
              "    </tr>\n",
              "    <tr>\n",
              "      <th>15909</th>\n",
              "      <td>Taiwan Province of China</td>\n",
              "      <td>2015</td>\n",
              "      <td>20--24</td>\n",
              "      <td>Master and higher</td>\n",
              "      <td>1.6</td>\n",
              "    </tr>\n",
              "    <tr>\n",
              "      <th>15910</th>\n",
              "      <td>United Kingdom of Great Britain and Northern I...</td>\n",
              "      <td>2015</td>\n",
              "      <td>20--24</td>\n",
              "      <td>Master and higher</td>\n",
              "      <td>2.3</td>\n",
              "    </tr>\n",
              "    <tr>\n",
              "      <th>15911</th>\n",
              "      <td>United States of America</td>\n",
              "      <td>2015</td>\n",
              "      <td>20--24</td>\n",
              "      <td>Master and higher</td>\n",
              "      <td>2.4</td>\n",
              "    </tr>\n",
              "    <tr>\n",
              "      <th>15912</th>\n",
              "      <td>Uruguay</td>\n",
              "      <td>2015</td>\n",
              "      <td>20--24</td>\n",
              "      <td>Master and higher</td>\n",
              "      <td>0.1</td>\n",
              "    </tr>\n",
              "  </tbody>\n",
              "</table>\n",
              "<p>15913 rows × 5 columns</p>\n",
              "</div>"
            ],
            "text/plain": [
              "                                                    Area  ...  Distribution\n",
              "0                                            Afghanistan  ...           0.0\n",
              "1                                            Afghanistan  ...           0.0\n",
              "2                                            Afghanistan  ...           0.0\n",
              "3                                            Afghanistan  ...           0.0\n",
              "4                                            Afghanistan  ...           0.0\n",
              "...                                                  ...  ...           ...\n",
              "15908                               Syrian Arab Republic  ...           0.0\n",
              "15909                           Taiwan Province of China  ...           1.6\n",
              "15910  United Kingdom of Great Britain and Northern I...  ...           2.3\n",
              "15911                           United States of America  ...           2.4\n",
              "15912                                            Uruguay  ...           0.1\n",
              "\n",
              "[15913 rows x 5 columns]"
            ]
          },
          "metadata": {},
          "execution_count": 7
        }
      ]
    },
    {
      "cell_type": "code",
      "metadata": {
        "colab": {
          "base_uri": "https://localhost:8080/",
          "height": 422
        },
        "id": "m5fqZoBEFJw4",
        "outputId": "b05d91d2-1525-4546-b56a-aadac0416b38"
      },
      "source": [
        "df = df[df.Education != 'Under 15']\n",
        "df"
      ],
      "execution_count": 8,
      "outputs": [
        {
          "output_type": "execute_result",
          "data": {
            "text/html": [
              "<div>\n",
              "<style scoped>\n",
              "    .dataframe tbody tr th:only-of-type {\n",
              "        vertical-align: middle;\n",
              "    }\n",
              "\n",
              "    .dataframe tbody tr th {\n",
              "        vertical-align: top;\n",
              "    }\n",
              "\n",
              "    .dataframe thead th {\n",
              "        text-align: right;\n",
              "    }\n",
              "</style>\n",
              "<table border=\"1\" class=\"dataframe\">\n",
              "  <thead>\n",
              "    <tr style=\"text-align: right;\">\n",
              "      <th></th>\n",
              "      <th>Area</th>\n",
              "      <th>Year</th>\n",
              "      <th>Age</th>\n",
              "      <th>Education</th>\n",
              "      <th>Distribution</th>\n",
              "    </tr>\n",
              "  </thead>\n",
              "  <tbody>\n",
              "    <tr>\n",
              "      <th>2248</th>\n",
              "      <td>Afghanistan</td>\n",
              "      <td>1960</td>\n",
              "      <td>20--24</td>\n",
              "      <td>No Education</td>\n",
              "      <td>92.5</td>\n",
              "    </tr>\n",
              "    <tr>\n",
              "      <th>2249</th>\n",
              "      <td>Afghanistan</td>\n",
              "      <td>1965</td>\n",
              "      <td>20--24</td>\n",
              "      <td>No Education</td>\n",
              "      <td>90.6</td>\n",
              "    </tr>\n",
              "    <tr>\n",
              "      <th>2250</th>\n",
              "      <td>Afghanistan</td>\n",
              "      <td>1970</td>\n",
              "      <td>20--24</td>\n",
              "      <td>No Education</td>\n",
              "      <td>89.1</td>\n",
              "    </tr>\n",
              "    <tr>\n",
              "      <th>2251</th>\n",
              "      <td>Afghanistan</td>\n",
              "      <td>1975</td>\n",
              "      <td>20--24</td>\n",
              "      <td>No Education</td>\n",
              "      <td>84.2</td>\n",
              "    </tr>\n",
              "    <tr>\n",
              "      <th>2252</th>\n",
              "      <td>Afghanistan</td>\n",
              "      <td>1980</td>\n",
              "      <td>20--24</td>\n",
              "      <td>No Education</td>\n",
              "      <td>82.4</td>\n",
              "    </tr>\n",
              "    <tr>\n",
              "      <th>...</th>\n",
              "      <td>...</td>\n",
              "      <td>...</td>\n",
              "      <td>...</td>\n",
              "      <td>...</td>\n",
              "      <td>...</td>\n",
              "    </tr>\n",
              "    <tr>\n",
              "      <th>15908</th>\n",
              "      <td>Syrian Arab Republic</td>\n",
              "      <td>2015</td>\n",
              "      <td>20--24</td>\n",
              "      <td>Master and higher</td>\n",
              "      <td>0.0</td>\n",
              "    </tr>\n",
              "    <tr>\n",
              "      <th>15909</th>\n",
              "      <td>Taiwan Province of China</td>\n",
              "      <td>2015</td>\n",
              "      <td>20--24</td>\n",
              "      <td>Master and higher</td>\n",
              "      <td>1.6</td>\n",
              "    </tr>\n",
              "    <tr>\n",
              "      <th>15910</th>\n",
              "      <td>United Kingdom of Great Britain and Northern I...</td>\n",
              "      <td>2015</td>\n",
              "      <td>20--24</td>\n",
              "      <td>Master and higher</td>\n",
              "      <td>2.3</td>\n",
              "    </tr>\n",
              "    <tr>\n",
              "      <th>15911</th>\n",
              "      <td>United States of America</td>\n",
              "      <td>2015</td>\n",
              "      <td>20--24</td>\n",
              "      <td>Master and higher</td>\n",
              "      <td>2.4</td>\n",
              "    </tr>\n",
              "    <tr>\n",
              "      <th>15912</th>\n",
              "      <td>Uruguay</td>\n",
              "      <td>2015</td>\n",
              "      <td>20--24</td>\n",
              "      <td>Master and higher</td>\n",
              "      <td>0.1</td>\n",
              "    </tr>\n",
              "  </tbody>\n",
              "</table>\n",
              "<p>13665 rows × 5 columns</p>\n",
              "</div>"
            ],
            "text/plain": [
              "                                                    Area  ...  Distribution\n",
              "2248                                         Afghanistan  ...          92.5\n",
              "2249                                         Afghanistan  ...          90.6\n",
              "2250                                         Afghanistan  ...          89.1\n",
              "2251                                         Afghanistan  ...          84.2\n",
              "2252                                         Afghanistan  ...          82.4\n",
              "...                                                  ...  ...           ...\n",
              "15908                               Syrian Arab Republic  ...           0.0\n",
              "15909                           Taiwan Province of China  ...           1.6\n",
              "15910  United Kingdom of Great Britain and Northern I...  ...           2.3\n",
              "15911                           United States of America  ...           2.4\n",
              "15912                                            Uruguay  ...           0.1\n",
              "\n",
              "[13665 rows x 5 columns]"
            ]
          },
          "metadata": {},
          "execution_count": 8
        }
      ]
    },
    {
      "cell_type": "code",
      "metadata": {
        "colab": {
          "base_uri": "https://localhost:8080/"
        },
        "id": "_iew0D5aGPz4",
        "outputId": "9eae1b6e-365f-490a-9469-fc43f02678f3"
      },
      "source": [
        "df.Education.unique()"
      ],
      "execution_count": 9,
      "outputs": [
        {
          "output_type": "execute_result",
          "data": {
            "text/plain": [
              "array(['No Education', 'Incomplete Primary', 'Primary', 'Lower Secondary',\n",
              "       'Upper Secondary', 'Post Secondary', 'Short Post Secondary',\n",
              "       'Bachelor', 'Master and higher'], dtype=object)"
            ]
          },
          "metadata": {},
          "execution_count": 9
        }
      ]
    },
    {
      "cell_type": "code",
      "metadata": {
        "id": "AaEEvb4nGQVA"
      },
      "source": [
        "edu_level = {'Incomplete Primary' : ['No Education', 'Incomplete Primary'], 'Lower Secondary' : ['Primary', 'Lower Secondary'],\n",
        "             'Post Secondary' : ['Upper Secondary', 'Post Secondary', 'Short Post Secondary','Bachelor', 'Master and higher']}"
      ],
      "execution_count": 11,
      "outputs": []
    },
    {
      "cell_type": "code",
      "metadata": {
        "id": "HvaDrx841oIO"
      },
      "source": [
        "for i in edu_level:\n",
        "  sr = df.loc[df['Education'].isin(edu_level[i])]\n",
        "  sr.to_csv('/content/drive/My Drive/wcde/wcde'+i+'.csv', encoding='utf-8', index=False)"
      ],
      "execution_count": 16,
      "outputs": []
    },
    {
      "cell_type": "code",
      "metadata": {
        "id": "fT94A6hn0v53"
      },
      "source": [
        "countries = list(df.Area.unique())"
      ],
      "execution_count": 17,
      "outputs": []
    },
    {
      "cell_type": "code",
      "metadata": {
        "id": "yjGm8PdV0puR"
      },
      "source": [
        "def init_timeline():\n",
        "  timeline = [i for i in range(1960,2016)]\n",
        "  timeline_dic={c:{t : 0 if not t%5 else np.NaN for t in timeline  } for c in countries}\n",
        "  return timeline_dic"
      ],
      "execution_count": 18,
      "outputs": []
    },
    {
      "cell_type": "code",
      "metadata": {
        "id": "jyUSaoFr0z7x"
      },
      "source": [
        "def convert_to_df():\n",
        "  dft = pd.DataFrame.from_dict(timeline_dic,orient='index')\n",
        "  dft.insert(0, \"Country\", countries, True)\n",
        "  return dft"
      ],
      "execution_count": 19,
      "outputs": []
    },
    {
      "cell_type": "code",
      "metadata": {
        "id": "4OEDvl_d04KJ"
      },
      "source": [
        "for e in edu_level:\n",
        "  timeline_dic = init_timeline()\n",
        "  data = pd.read_csv(\"/content/drive/MyDrive/wcde/wcde\"+e+\".csv\")   \n",
        "  dfs = pd.DataFrame(data)\n",
        "  for j in range(len(data)):\n",
        "    timeline_dic[dfs.iloc[j]['Area']][dfs.iloc[j]['Year']] += dfs.iloc[j]['Distribution']\n",
        "    round(timeline_dic[dfs.iloc[j]['Area']][dfs.iloc[j]['Year']], 2)\n",
        "  dft = convert_to_df()\n",
        "  dft.to_csv('/content/drive/My Drive/wcde/modified/wcde-'+e+'.csv', encoding='utf-8', index=False)"
      ],
      "execution_count": 21,
      "outputs": []
    }
  ]
}