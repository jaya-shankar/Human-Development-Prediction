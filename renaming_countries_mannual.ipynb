{
  "nbformat": 4,
  "nbformat_minor": 0,
  "metadata": {
    "colab": {
      "name": "renaming_countries_mannual.ipynb",
      "provenance": [],
      "authorship_tag": "ABX9TyM39fl6ospjNTB+OR3lhWrF",
      "include_colab_link": true
    },
    "kernelspec": {
      "name": "python3",
      "display_name": "Python 3"
    },
    "language_info": {
      "name": "python"
    }
  },
  "cells": [
    {
      "cell_type": "markdown",
      "metadata": {
        "id": "view-in-github",
        "colab_type": "text"
      },
      "source": [
        "<a href=\"https://colab.research.google.com/github/jaya-shankar/education-impact/blob/master/renaming_countries_mannual.ipynb\" target=\"_parent\"><img src=\"https://colab.research.google.com/assets/colab-badge.svg\" alt=\"Open In Colab\"/></a>"
      ]
    },
    {
      "cell_type": "code",
      "source": [
        "!rm -rf education-impact"
      ],
      "metadata": {
        "id": "f0ZexpXRSsx6"
      },
      "execution_count": null,
      "outputs": []
    },
    {
      "cell_type": "code",
      "execution_count": null,
      "metadata": {
        "colab": {
          "base_uri": "https://localhost:8080/"
        },
        "id": "7S5VH3CPGPPF",
        "outputId": "9107630a-d2ef-48f7-c595-b7ca4c01bc88"
      },
      "outputs": [
        {
          "output_type": "stream",
          "name": "stdout",
          "text": [
            "Cloning into 'education-impact'...\n",
            "remote: Enumerating objects: 449, done.\u001b[K\n",
            "remote: Counting objects: 100% (449/449), done.\u001b[K\n",
            "remote: Compressing objects: 100% (379/379), done.\u001b[K\n",
            "remote: Total 449 (delta 232), reused 204 (delta 67), pack-reused 0\u001b[K\n",
            "Receiving objects: 100% (449/449), 6.40 MiB | 12.68 MiB/s, done.\n",
            "Resolving deltas: 100% (232/232), done.\n"
          ]
        }
      ],
      "source": [
        "!git clone https://github.com/jaya-shankar/education-impact.git\n"
      ]
    },
    {
      "cell_type": "code",
      "source": [
        "root = \"education-impact/datasets/\" \n",
        "datasets_path = {\n",
        "                    \"infant_mortality\"                :  root+ \"Infant_Mortality_Rate.csv\",\n",
        "                    \"child_mortality\"                 :  root+ \"child_mortality_0_5_year_olds_dying_per_1000_born.csv\",\n",
        "                    \"children_per_woman\"              :  root+ \"children_per_woman_total_fertility.csv\",\n",
        "                    \"co2_emissions_percapita\"         :  root+ \"co2_emissions_tonnes_per_person.csv\",\n",
        "                    \"population\"                      :  root+ \"converted_pop.csv\",\n",
        "                    \"population_density\"              :  root+ \"population_per_area.csv\",\n",
        "                    \"gdp_growth\"                      :  root+ \"gdp_per_capita_yearly_growth.csv\",\n",
        "                    \"Avg_daily_income_ppp\"            :  root+ \"mincpcap_cppp.csv\",\n",
        "                    \"gdppercapita_us_infla_adjust\"    :  root+ \"gdppercapita_us_inflation_adjusted.csv\",\n",
        "                    \"gini_index\"                      :  root+ \"gini.csv\",\n",
        "                    \"life_expectancy\"                 :  root+ \"life_expectancy_years.csv\",\n",
        "                    \"poverty_index\"                   :  root+ \"mincpcap_cppp.csv\",\n",
        "                    \"people_in_poverty\"               :  root+ \"number_of_people_in_poverty.csv\",\n",
        "                    \"ratio_b/g_in_primary\"            :  root+ \"ratio_of_girls_to_boys_in_primary_and_secondary_education_perc.csv\",\n",
        "                    \"wcde-25--34\"                     :  root+ \"wcde-25--34.csv\",\n",
        "                    \"20-24-In_Primary_OL\"             :  root+ \"In_Primary_OL.csv\",\n",
        "                    \"20-24-Primary_OL\"                :  root+ \"Primary_OL.csv\",\n",
        "                    \"20-24-Lower_Secondary_OL\"        :  root+ \"Lower_Secondary_OL.csv\",\n",
        "                    \"20-24_female-In_Primary_OL\"      :  root+ \"female_In_Primary_OL.csv\",\n",
        "                    \"20-24_female-Primary_OL\"         :  root+ \"female_Primary_OL.csv\",\n",
        "                    \"20-24_female-Lower_Secondary_OL\" :  root+ \"female_Lower_Secondary_OL.csv\",\n",
        "                    \"20-24-In_Primary_OL_comp\"        :  root+ \"In_Primary_OL_complete.csv\",\n",
        "                    \"20-24-Primary_OL_comp\"           :  root+ \"Primary_OL_complete.csv\",\n",
        "                    \"20-24-Lower_Secondary_OL_comp\"   :  root+ \"Lower_Secondary_OL_complete.csv\",\n",
        "                }\n"
      ],
      "metadata": {
        "id": "dBQUSbC1GQth"
      },
      "execution_count": null,
      "outputs": []
    },
    {
      "cell_type": "code",
      "source": [
        "import pandas as pd"
      ],
      "metadata": {
        "id": "Lf7h48JqGf0R"
      },
      "execution_count": null,
      "outputs": []
    },
    {
      "cell_type": "markdown",
      "source": [
        "## MASTER LIST 1"
      ],
      "metadata": {
        "id": "phX8wKOxTXQJ"
      }
    },
    {
      "cell_type": "code",
      "source": [
        "master_list_pd = pd.read_csv(datasets_path['gdppercapita_us_infla_adjust'])\n",
        "master_list = master_list_pd['Country']\n",
        "master_list = set(map(lambda x: x.lower(), master_list))"
      ],
      "metadata": {
        "id": "NYI9rQiRGd80"
      },
      "execution_count": null,
      "outputs": []
    },
    {
      "cell_type": "code",
      "source": [
        "imr_pd = pd.read_csv(datasets_path['infant_mortality'])\n",
        "imr_pd_list = set(map(lambda x: x.lower(), imr_pd['Country']))\n",
        "imr_pd_list.difference(master_list)"
      ],
      "metadata": {
        "colab": {
          "base_uri": "https://localhost:8080/"
        },
        "id": "j4QUykNtHOeQ",
        "outputId": "7166d048-93b2-4fa2-d757-1ad70f8ec27e"
      },
      "execution_count": null,
      "outputs": [
        {
          "output_type": "execute_result",
          "data": {
            "text/plain": [
              "{'africa eastern and southern',\n",
              " 'africa western and central',\n",
              " 'arab world',\n",
              " 'british virgin islands',\n",
              " 'brunei darussalam',\n",
              " 'cabo verde',\n",
              " 'caribbean small states',\n",
              " 'central europe and the baltics',\n",
              " 'channel islands',\n",
              " 'curacao',\n",
              " 'early-demographic dividend',\n",
              " 'east asia & pacific',\n",
              " 'east asia & pacific (excluding high income)',\n",
              " 'east asia & pacific (ida & ibrd countries)',\n",
              " 'eritrea',\n",
              " 'euro area',\n",
              " 'europe & central asia',\n",
              " 'europe & central asia (excluding high income)',\n",
              " 'europe & central asia (ida & ibrd countries)',\n",
              " 'european union',\n",
              " 'faroe islands',\n",
              " 'fragile and conflict affected situations',\n",
              " 'french polynesia',\n",
              " 'gibraltar',\n",
              " 'heavily indebted poor countries (hipc)',\n",
              " 'high income',\n",
              " 'ibrd only',\n",
              " 'ida & ibrd total',\n",
              " 'ida blend',\n",
              " 'ida only',\n",
              " 'ida total',\n",
              " 'lao pdr',\n",
              " 'late-demographic dividend',\n",
              " 'latin america & caribbean',\n",
              " 'latin america & caribbean (excluding high income)',\n",
              " 'latin america & the caribbean (ida & ibrd countries)',\n",
              " 'least developed countries: un classification',\n",
              " 'low & middle income',\n",
              " 'low income',\n",
              " 'lower middle income',\n",
              " 'macao sar, china',\n",
              " 'middle east & north africa',\n",
              " 'middle east & north africa (excluding high income)',\n",
              " 'middle east & north africa (ida & ibrd countries)',\n",
              " 'middle income',\n",
              " 'new caledonia',\n",
              " 'north america',\n",
              " 'north korea',\n",
              " 'not classified',\n",
              " 'oecd members',\n",
              " 'other small states',\n",
              " 'pacific island small states',\n",
              " 'post-demographic dividend',\n",
              " 'pre-demographic dividend',\n",
              " 'small states',\n",
              " 'south asia',\n",
              " 'south asia (ida & ibrd)',\n",
              " 'st. martin (french part)',\n",
              " 'sub-saharan africa',\n",
              " 'sub-saharan africa (excluding high income)',\n",
              " 'sub-saharan africa (ida & ibrd countries)',\n",
              " 'syria',\n",
              " 'upper middle income',\n",
              " 'venezuela',\n",
              " 'west bank and gaza',\n",
              " 'world'}"
            ]
          },
          "metadata": {},
          "execution_count": 38
        }
      ]
    },
    {
      "cell_type": "code",
      "source": [
        "edu_pd = pd.read_csv(datasets_path['20-24-Primary_OL'])\n",
        "edu_pd_list = set(map(lambda x: x.lower(), edu_pd['Country']))\n",
        "edu_pd_list.difference(master_list)"
      ],
      "metadata": {
        "id": "xEs2ZGrlKzYx"
      },
      "execution_count": null,
      "outputs": []
    },
    {
      "cell_type": "code",
      "source": [
        "pop_pd = pd.read_csv(datasets_path['population'])\n",
        "pop_pd_list = set(map(lambda x: x.lower(), pop_pd['Country']))\n",
        "pop_pd_list.difference(master_list)"
      ],
      "metadata": {
        "id": "2y-PML8ERTQv"
      },
      "execution_count": null,
      "outputs": []
    },
    {
      "cell_type": "code",
      "source": [
        "edu_pd_com = pd.read_csv(datasets_path[\"20-24-In_Primary_OL_comp\"])\n",
        "edu_pd_com_list = set(map(lambda x: x.lower(), edu_pd_com['Country']))\n",
        "edu_pd_com_list.difference(master_list)"
      ],
      "metadata": {
        "colab": {
          "base_uri": "https://localhost:8080/"
        },
        "id": "t6EORgmhQxbG",
        "outputId": "57845ad4-7106-4de1-803e-458605f418f7"
      },
      "execution_count": null,
      "outputs": [
        {
          "output_type": "execute_result",
          "data": {
            "text/plain": [
              "{'french guiana',\n",
              " 'french polynesia',\n",
              " 'guadeloupe',\n",
              " 'macao special administrative region of china',\n",
              " 'martinique',\n",
              " 'new caledonia',\n",
              " 'north korea',\n",
              " 'occupied palestinian territory',\n",
              " 'reunion',\n",
              " 'slovakia',\n",
              " 'syria',\n",
              " 'taiwan',\n",
              " 'venezuela',\n",
              " 'world'}"
            ]
          },
          "metadata": {},
          "execution_count": 42
        }
      ]
    },
    {
      "cell_type": "markdown",
      "source": [
        "## MASTER LIST 2"
      ],
      "metadata": {
        "id": "zn5SGu8xTRZw"
      }
    },
    {
      "cell_type": "code",
      "source": [
        "master_list_pd = pd.read_csv(datasets_path['life_expectancy'])\n",
        "master_list = master_list_pd['Country']\n",
        "master_list = set(map(lambda x: x.lower(), master_list))"
      ],
      "metadata": {
        "id": "nUCY-GhTTN5N"
      },
      "execution_count": null,
      "outputs": []
    },
    {
      "cell_type": "code",
      "source": [
        "imr_pd = pd.read_csv(datasets_path['infant_mortality'])\n",
        "imr_pd_list = set(map(lambda x: x.lower(), imr_pd['Country']))\n",
        "imr_pd_list.difference(master_list)"
      ],
      "metadata": {
        "colab": {
          "base_uri": "https://localhost:8080/"
        },
        "outputId": "3aa033d9-732f-4dd0-fe85-70cf8592cdd5",
        "id": "Ij39MmftTN5W"
      },
      "execution_count": null,
      "outputs": [
        {
          "output_type": "execute_result",
          "data": {
            "text/plain": [
              "{'africa eastern and southern',\n",
              " 'africa western and central',\n",
              " 'american samoa',\n",
              " 'arab world',\n",
              " 'aruba',\n",
              " 'bermuda',\n",
              " 'british virgin islands',\n",
              " 'brunei darussalam',\n",
              " 'cabo verde',\n",
              " 'caribbean small states',\n",
              " 'cayman islands',\n",
              " 'central europe and the baltics',\n",
              " 'channel islands',\n",
              " 'curacao',\n",
              " 'early-demographic dividend',\n",
              " 'east asia & pacific',\n",
              " 'east asia & pacific (excluding high income)',\n",
              " 'east asia & pacific (ida & ibrd countries)',\n",
              " 'euro area',\n",
              " 'europe & central asia',\n",
              " 'europe & central asia (excluding high income)',\n",
              " 'europe & central asia (ida & ibrd countries)',\n",
              " 'european union',\n",
              " 'faroe islands',\n",
              " 'fragile and conflict affected situations',\n",
              " 'french polynesia',\n",
              " 'gibraltar',\n",
              " 'greenland',\n",
              " 'guam',\n",
              " 'heavily indebted poor countries (hipc)',\n",
              " 'high income',\n",
              " 'ibrd only',\n",
              " 'ida & ibrd total',\n",
              " 'ida blend',\n",
              " 'ida only',\n",
              " 'ida total',\n",
              " 'isle of man',\n",
              " 'kosovo',\n",
              " 'lao pdr',\n",
              " 'late-demographic dividend',\n",
              " 'latin america & caribbean',\n",
              " 'latin america & caribbean (excluding high income)',\n",
              " 'latin america & the caribbean (ida & ibrd countries)',\n",
              " 'least developed countries: un classification',\n",
              " 'liechtenstein',\n",
              " 'low & middle income',\n",
              " 'low income',\n",
              " 'lower middle income',\n",
              " 'macao sar, china',\n",
              " 'middle east & north africa',\n",
              " 'middle east & north africa (excluding high income)',\n",
              " 'middle east & north africa (ida & ibrd countries)',\n",
              " 'middle income',\n",
              " 'new caledonia',\n",
              " 'north america',\n",
              " 'northern mariana islands',\n",
              " 'not classified',\n",
              " 'oecd members',\n",
              " 'other small states',\n",
              " 'pacific island small states',\n",
              " 'post-demographic dividend',\n",
              " 'pre-demographic dividend',\n",
              " 'puerto rico',\n",
              " 'sint maarten (dutch part)',\n",
              " 'small states',\n",
              " 'south asia',\n",
              " 'south asia (ida & ibrd)',\n",
              " 'st. martin (french part)',\n",
              " 'sub-saharan africa',\n",
              " 'sub-saharan africa (excluding high income)',\n",
              " 'sub-saharan africa (ida & ibrd countries)',\n",
              " 'turks and caicos islands',\n",
              " 'upper middle income',\n",
              " 'virgin islands (u.s.)',\n",
              " 'west bank and gaza',\n",
              " 'world'}"
            ]
          },
          "metadata": {},
          "execution_count": 40
        }
      ]
    },
    {
      "cell_type": "code",
      "source": [
        "edu_pd = pd.read_csv(datasets_path['20-24-Primary_OL'])\n",
        "edu_pd_list = set(map(lambda x: x.lower(), edu_pd['Country']))\n",
        "edu_pd_list.difference(master_list)"
      ],
      "metadata": {
        "colab": {
          "base_uri": "https://localhost:8080/"
        },
        "outputId": "41db0150-bedb-4c17-d330-7a12a67f000e",
        "id": "c_H32TS1TN5W"
      },
      "execution_count": null,
      "outputs": [
        {
          "output_type": "execute_result",
          "data": {
            "text/plain": [
              "{'aruba',\n",
              " 'channel islands',\n",
              " 'curaçao',\n",
              " 'french guiana',\n",
              " 'french polynesia',\n",
              " 'guadeloupe',\n",
              " 'guam',\n",
              " 'macao special administrative region of china',\n",
              " 'martinique',\n",
              " 'mayotte',\n",
              " 'new caledonia',\n",
              " 'occupied palestinian territory',\n",
              " 'puerto rico',\n",
              " 'reunion',\n",
              " 'virgin islands (u.s.)',\n",
              " 'western sahara',\n",
              " 'world'}"
            ]
          },
          "metadata": {},
          "execution_count": 23
        }
      ]
    },
    {
      "cell_type": "code",
      "source": [
        "pop_pd = pd.read_csv(datasets_path['population'])\n",
        "pop_pd_list = set(map(lambda x: x.lower(), pop_pd['Country']))\n",
        "pop_pd_list.difference(master_list)"
      ],
      "metadata": {
        "colab": {
          "base_uri": "https://localhost:8080/"
        },
        "outputId": "5bc568b6-6ce2-423a-eab1-0f1eab5784cf",
        "id": "ZDgEK476TN5X"
      },
      "execution_count": null,
      "outputs": [
        {
          "output_type": "execute_result",
          "data": {
            "text/plain": [
              "{'holy see', 'liechtenstein'}"
            ]
          },
          "metadata": {},
          "execution_count": 24
        }
      ]
    },
    {
      "cell_type": "code",
      "source": [
        "edu_pd_com = pd.read_csv(datasets_path[\"20-24-In_Primary_OL_comp\"])\n",
        "edu_pd_com_list = set(map(lambda x: x.lower(), edu_pd_com['Country']))\n",
        "edu_pd_com_list.difference(master_list)"
      ],
      "metadata": {
        "colab": {
          "base_uri": "https://localhost:8080/"
        },
        "id": "a2jjhF20TN5X",
        "outputId": "9dcf9a0d-bdee-48c9-c891-e0cf7ff15c04"
      },
      "execution_count": null,
      "outputs": [
        {
          "output_type": "execute_result",
          "data": {
            "text/plain": [
              "{'aruba',\n",
              " 'bolivia (plurinational state of)',\n",
              " 'congo',\n",
              " 'curaçao',\n",
              " \"democratic people's republic of korea\",\n",
              " 'democratic republic of the congo',\n",
              " 'french guiana',\n",
              " 'french polynesia',\n",
              " 'guadeloupe',\n",
              " 'hong kong special administrative region of china',\n",
              " 'iran (islamic republic of)',\n",
              " 'kyrgyzstan',\n",
              " \"lao people's democratic republic\",\n",
              " 'macao special administrative region of china',\n",
              " 'martinique',\n",
              " 'micronesia (federated states of)',\n",
              " 'new caledonia',\n",
              " 'occupied palestinian territory',\n",
              " 'puerto rico',\n",
              " 'republic of korea',\n",
              " 'republic of moldova',\n",
              " 'reunion',\n",
              " 'russian federation',\n",
              " 'saint lucia',\n",
              " 'saint vincent and the grenadines',\n",
              " 'slovakia',\n",
              " 'swaziland',\n",
              " 'syrian arab republic',\n",
              " 'taiwan province of china',\n",
              " 'the former yugoslav republic of macedonia',\n",
              " 'united kingdom of great britain and northern ireland',\n",
              " 'united republic of tanzania',\n",
              " 'united states of america',\n",
              " 'venezuela (bolivarian republic of)',\n",
              " 'viet nam',\n",
              " 'world'}"
            ]
          },
          "metadata": {},
          "execution_count": 25
        }
      ]
    },
    {
      "cell_type": "code",
      "source": [
        "edu_pd_com = pd.read_csv(datasets_path[\"20-24-In_Primary_OL_comp\"])\n",
        "edu_pd_com_list = set(map(lambda x: x.lower(), edu_pd_com['Country']))\n",
        "edu_pd_com_list.difference(master_list)"
      ],
      "metadata": {
        "id": "ZKvLag7E9pAG"
      },
      "execution_count": null,
      "outputs": []
    }
  ]
}