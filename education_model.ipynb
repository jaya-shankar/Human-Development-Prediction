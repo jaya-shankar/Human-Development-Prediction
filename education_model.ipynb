{
  "nbformat": 4,
  "nbformat_minor": 0,
  "metadata": {
    "colab": {
      "name": "education_model.ipynb",
      "provenance": [],
      "collapsed_sections": [],
      "include_colab_link": true
    },
    "kernelspec": {
      "name": "python3",
      "display_name": "Python 3"
    },
    "language_info": {
      "name": "python"
    }
  },
  "cells": [
    {
      "cell_type": "markdown",
      "metadata": {
        "id": "view-in-github",
        "colab_type": "text"
      },
      "source": [
        "<a href=\"https://colab.research.google.com/github/jaya-shankar/education-impact/blob/master/education_model.ipynb\" target=\"_parent\"><img src=\"https://colab.research.google.com/assets/colab-badge.svg\" alt=\"Open In Colab\"/></a>"
      ]
    },
    {
      "cell_type": "markdown",
      "metadata": {
        "id": "XFiMWKD-aEI_"
      },
      "source": [
        "### Model Performace History\n",
        "\n",
        "1.   Cosidering life expectancy as input\n",
        "      \n",
        "      1. *Training using max no of countries:*\\\n",
        "          **MSE**: 1.421960711479187\n",
        "          \n",
        "      2. *Training using min no of countries:*\\\n",
        "          **MSE**: 1.6800711154937744\n",
        "\n",
        "      3. *Training using only common countries:*\\\n",
        "          **MSE**: 1.5712116956710815\n",
        "\n",
        "2.   Not cosidering life expectancy as input\n",
        "      1. *Trained using max no of countries:*\\\n",
        "          **MSE**: 1.9395439624786377\n",
        "\n",
        "      2. *Trained using min no of countries*:\\\n",
        "          **MSE**: 2.161480665206909\n",
        "\n",
        "      3. *Trained using only common countries*:\\\n",
        "          **MSE**: 2.10016131401062\n",
        "\n"
      ]
    },
    {
      "cell_type": "code",
      "metadata": {
        "colab": {
          "base_uri": "https://localhost:8080/"
        },
        "id": "_5tBhvAJeBj7",
        "outputId": "5596a6cf-4806-4189-aad9-e2682ca9f943"
      },
      "source": [
        "!rm -rf education-impact\n",
        "!rm education-impact"
      ],
      "execution_count": 7,
      "outputs": [
        {
          "output_type": "stream",
          "name": "stdout",
          "text": [
            "rm: cannot remove 'education-impact': No such file or directory\n"
          ]
        }
      ]
    },
    {
      "cell_type": "code",
      "metadata": {
        "id": "WLCGn-YlJ5k5",
        "colab": {
          "base_uri": "https://localhost:8080/"
        },
        "outputId": "ee25d88b-a63a-41be-a147-bc8b488917cb"
      },
      "source": [
        "!git clone https://github.com/jaya-shankar/education-impact.git\n"
      ],
      "execution_count": 8,
      "outputs": [
        {
          "output_type": "stream",
          "name": "stdout",
          "text": [
            "Cloning into 'education-impact'...\n",
            "remote: Enumerating objects: 279, done.\u001b[K\n",
            "remote: Counting objects: 100% (279/279), done.\u001b[K\n",
            "remote: Compressing objects: 100% (238/238), done.\u001b[K\n",
            "remote: Total 279 (delta 135), reused 132 (delta 38), pack-reused 0\u001b[K\n",
            "Receiving objects: 100% (279/279), 1.83 MiB | 14.85 MiB/s, done.\n",
            "Resolving deltas: 100% (135/135), done.\n"
          ]
        }
      ]
    },
    {
      "cell_type": "code",
      "metadata": {
        "id": "Jo8dc6Xv7sPc",
        "colab": {
          "base_uri": "https://localhost:8080/"
        },
        "outputId": "d7aaf5df-ab6e-4a88-c4c9-57a910e47799"
      },
      "source": [
        "!pip install tensorflow_decision_forests\n",
        "!pip install wurlitzer\n",
        "!pip install seaborn"
      ],
      "execution_count": 9,
      "outputs": [
        {
          "output_type": "stream",
          "name": "stdout",
          "text": [
            "Collecting tensorflow_decision_forests\n",
            "  Downloading tensorflow_decision_forests-0.2.1-cp37-cp37m-manylinux_2_12_x86_64.manylinux2010_x86_64.whl (17.1 MB)\n",
            "\u001b[K     |████████████████████████████████| 17.1 MB 186 kB/s \n",
            "\u001b[?25hRequirement already satisfied: wheel in /usr/local/lib/python3.7/dist-packages (from tensorflow_decision_forests) (0.37.0)\n",
            "Requirement already satisfied: pandas in /usr/local/lib/python3.7/dist-packages (from tensorflow_decision_forests) (1.1.5)\n",
            "Requirement already satisfied: tensorflow~=2.7.0 in /usr/local/lib/python3.7/dist-packages (from tensorflow_decision_forests) (2.7.0)\n",
            "Requirement already satisfied: six in /usr/local/lib/python3.7/dist-packages (from tensorflow_decision_forests) (1.15.0)\n",
            "Requirement already satisfied: numpy in /usr/local/lib/python3.7/dist-packages (from tensorflow_decision_forests) (1.19.5)\n",
            "Requirement already satisfied: absl-py in /usr/local/lib/python3.7/dist-packages (from tensorflow_decision_forests) (0.12.0)\n",
            "Requirement already satisfied: typing-extensions>=3.6.6 in /usr/local/lib/python3.7/dist-packages (from tensorflow~=2.7.0->tensorflow_decision_forests) (3.10.0.2)\n",
            "Requirement already satisfied: keras<2.8,>=2.7.0rc0 in /usr/local/lib/python3.7/dist-packages (from tensorflow~=2.7.0->tensorflow_decision_forests) (2.7.0)\n",
            "Requirement already satisfied: tensorflow-estimator<2.8,~=2.7.0rc0 in /usr/local/lib/python3.7/dist-packages (from tensorflow~=2.7.0->tensorflow_decision_forests) (2.7.0)\n",
            "Requirement already satisfied: opt-einsum>=2.3.2 in /usr/local/lib/python3.7/dist-packages (from tensorflow~=2.7.0->tensorflow_decision_forests) (3.3.0)\n",
            "Requirement already satisfied: protobuf>=3.9.2 in /usr/local/lib/python3.7/dist-packages (from tensorflow~=2.7.0->tensorflow_decision_forests) (3.17.3)\n",
            "Requirement already satisfied: tensorboard~=2.6 in /usr/local/lib/python3.7/dist-packages (from tensorflow~=2.7.0->tensorflow_decision_forests) (2.7.0)\n",
            "Requirement already satisfied: keras-preprocessing>=1.1.1 in /usr/local/lib/python3.7/dist-packages (from tensorflow~=2.7.0->tensorflow_decision_forests) (1.1.2)\n",
            "Requirement already satisfied: astunparse>=1.6.0 in /usr/local/lib/python3.7/dist-packages (from tensorflow~=2.7.0->tensorflow_decision_forests) (1.6.3)\n",
            "Requirement already satisfied: h5py>=2.9.0 in /usr/local/lib/python3.7/dist-packages (from tensorflow~=2.7.0->tensorflow_decision_forests) (3.1.0)\n",
            "Requirement already satisfied: termcolor>=1.1.0 in /usr/local/lib/python3.7/dist-packages (from tensorflow~=2.7.0->tensorflow_decision_forests) (1.1.0)\n",
            "Requirement already satisfied: grpcio<2.0,>=1.24.3 in /usr/local/lib/python3.7/dist-packages (from tensorflow~=2.7.0->tensorflow_decision_forests) (1.42.0)\n",
            "Requirement already satisfied: google-pasta>=0.1.1 in /usr/local/lib/python3.7/dist-packages (from tensorflow~=2.7.0->tensorflow_decision_forests) (0.2.0)\n",
            "Requirement already satisfied: gast<0.5.0,>=0.2.1 in /usr/local/lib/python3.7/dist-packages (from tensorflow~=2.7.0->tensorflow_decision_forests) (0.4.0)\n",
            "Requirement already satisfied: flatbuffers<3.0,>=1.12 in /usr/local/lib/python3.7/dist-packages (from tensorflow~=2.7.0->tensorflow_decision_forests) (2.0)\n",
            "Requirement already satisfied: wrapt>=1.11.0 in /usr/local/lib/python3.7/dist-packages (from tensorflow~=2.7.0->tensorflow_decision_forests) (1.13.3)\n",
            "Requirement already satisfied: libclang>=9.0.1 in /usr/local/lib/python3.7/dist-packages (from tensorflow~=2.7.0->tensorflow_decision_forests) (12.0.0)\n",
            "Requirement already satisfied: tensorflow-io-gcs-filesystem>=0.21.0 in /usr/local/lib/python3.7/dist-packages (from tensorflow~=2.7.0->tensorflow_decision_forests) (0.22.0)\n",
            "Requirement already satisfied: cached-property in /usr/local/lib/python3.7/dist-packages (from h5py>=2.9.0->tensorflow~=2.7.0->tensorflow_decision_forests) (1.5.2)\n",
            "Requirement already satisfied: google-auth-oauthlib<0.5,>=0.4.1 in /usr/local/lib/python3.7/dist-packages (from tensorboard~=2.6->tensorflow~=2.7.0->tensorflow_decision_forests) (0.4.6)\n",
            "Requirement already satisfied: google-auth<3,>=1.6.3 in /usr/local/lib/python3.7/dist-packages (from tensorboard~=2.6->tensorflow~=2.7.0->tensorflow_decision_forests) (1.35.0)\n",
            "Requirement already satisfied: requests<3,>=2.21.0 in /usr/local/lib/python3.7/dist-packages (from tensorboard~=2.6->tensorflow~=2.7.0->tensorflow_decision_forests) (2.23.0)\n",
            "Requirement already satisfied: setuptools>=41.0.0 in /usr/local/lib/python3.7/dist-packages (from tensorboard~=2.6->tensorflow~=2.7.0->tensorflow_decision_forests) (57.4.0)\n",
            "Requirement already satisfied: tensorboard-plugin-wit>=1.6.0 in /usr/local/lib/python3.7/dist-packages (from tensorboard~=2.6->tensorflow~=2.7.0->tensorflow_decision_forests) (1.8.0)\n",
            "Requirement already satisfied: markdown>=2.6.8 in /usr/local/lib/python3.7/dist-packages (from tensorboard~=2.6->tensorflow~=2.7.0->tensorflow_decision_forests) (3.3.6)\n",
            "Requirement already satisfied: werkzeug>=0.11.15 in /usr/local/lib/python3.7/dist-packages (from tensorboard~=2.6->tensorflow~=2.7.0->tensorflow_decision_forests) (1.0.1)\n",
            "Requirement already satisfied: tensorboard-data-server<0.7.0,>=0.6.0 in /usr/local/lib/python3.7/dist-packages (from tensorboard~=2.6->tensorflow~=2.7.0->tensorflow_decision_forests) (0.6.1)\n",
            "Requirement already satisfied: cachetools<5.0,>=2.0.0 in /usr/local/lib/python3.7/dist-packages (from google-auth<3,>=1.6.3->tensorboard~=2.6->tensorflow~=2.7.0->tensorflow_decision_forests) (4.2.4)\n",
            "Requirement already satisfied: pyasn1-modules>=0.2.1 in /usr/local/lib/python3.7/dist-packages (from google-auth<3,>=1.6.3->tensorboard~=2.6->tensorflow~=2.7.0->tensorflow_decision_forests) (0.2.8)\n",
            "Requirement already satisfied: rsa<5,>=3.1.4 in /usr/local/lib/python3.7/dist-packages (from google-auth<3,>=1.6.3->tensorboard~=2.6->tensorflow~=2.7.0->tensorflow_decision_forests) (4.8)\n",
            "Requirement already satisfied: requests-oauthlib>=0.7.0 in /usr/local/lib/python3.7/dist-packages (from google-auth-oauthlib<0.5,>=0.4.1->tensorboard~=2.6->tensorflow~=2.7.0->tensorflow_decision_forests) (1.3.0)\n",
            "Requirement already satisfied: importlib-metadata>=4.4 in /usr/local/lib/python3.7/dist-packages (from markdown>=2.6.8->tensorboard~=2.6->tensorflow~=2.7.0->tensorflow_decision_forests) (4.8.2)\n",
            "Requirement already satisfied: zipp>=0.5 in /usr/local/lib/python3.7/dist-packages (from importlib-metadata>=4.4->markdown>=2.6.8->tensorboard~=2.6->tensorflow~=2.7.0->tensorflow_decision_forests) (3.6.0)\n",
            "Requirement already satisfied: pyasn1<0.5.0,>=0.4.6 in /usr/local/lib/python3.7/dist-packages (from pyasn1-modules>=0.2.1->google-auth<3,>=1.6.3->tensorboard~=2.6->tensorflow~=2.7.0->tensorflow_decision_forests) (0.4.8)\n",
            "Requirement already satisfied: chardet<4,>=3.0.2 in /usr/local/lib/python3.7/dist-packages (from requests<3,>=2.21.0->tensorboard~=2.6->tensorflow~=2.7.0->tensorflow_decision_forests) (3.0.4)\n",
            "Requirement already satisfied: idna<3,>=2.5 in /usr/local/lib/python3.7/dist-packages (from requests<3,>=2.21.0->tensorboard~=2.6->tensorflow~=2.7.0->tensorflow_decision_forests) (2.10)\n",
            "Requirement already satisfied: urllib3!=1.25.0,!=1.25.1,<1.26,>=1.21.1 in /usr/local/lib/python3.7/dist-packages (from requests<3,>=2.21.0->tensorboard~=2.6->tensorflow~=2.7.0->tensorflow_decision_forests) (1.24.3)\n",
            "Requirement already satisfied: certifi>=2017.4.17 in /usr/local/lib/python3.7/dist-packages (from requests<3,>=2.21.0->tensorboard~=2.6->tensorflow~=2.7.0->tensorflow_decision_forests) (2021.10.8)\n",
            "Requirement already satisfied: oauthlib>=3.0.0 in /usr/local/lib/python3.7/dist-packages (from requests-oauthlib>=0.7.0->google-auth-oauthlib<0.5,>=0.4.1->tensorboard~=2.6->tensorflow~=2.7.0->tensorflow_decision_forests) (3.1.1)\n",
            "Requirement already satisfied: pytz>=2017.2 in /usr/local/lib/python3.7/dist-packages (from pandas->tensorflow_decision_forests) (2018.9)\n",
            "Requirement already satisfied: python-dateutil>=2.7.3 in /usr/local/lib/python3.7/dist-packages (from pandas->tensorflow_decision_forests) (2.8.2)\n",
            "Installing collected packages: tensorflow-decision-forests\n",
            "Successfully installed tensorflow-decision-forests-0.2.1\n",
            "Collecting wurlitzer\n",
            "  Downloading wurlitzer-3.0.2-py3-none-any.whl (7.3 kB)\n",
            "Installing collected packages: wurlitzer\n",
            "Successfully installed wurlitzer-3.0.2\n",
            "Requirement already satisfied: seaborn in /usr/local/lib/python3.7/dist-packages (0.11.2)\n",
            "Requirement already satisfied: scipy>=1.0 in /usr/local/lib/python3.7/dist-packages (from seaborn) (1.4.1)\n",
            "Requirement already satisfied: numpy>=1.15 in /usr/local/lib/python3.7/dist-packages (from seaborn) (1.19.5)\n",
            "Requirement already satisfied: pandas>=0.23 in /usr/local/lib/python3.7/dist-packages (from seaborn) (1.1.5)\n",
            "Requirement already satisfied: matplotlib>=2.2 in /usr/local/lib/python3.7/dist-packages (from seaborn) (3.2.2)\n",
            "Requirement already satisfied: pyparsing!=2.0.4,!=2.1.2,!=2.1.6,>=2.0.1 in /usr/local/lib/python3.7/dist-packages (from matplotlib>=2.2->seaborn) (3.0.6)\n",
            "Requirement already satisfied: kiwisolver>=1.0.1 in /usr/local/lib/python3.7/dist-packages (from matplotlib>=2.2->seaborn) (1.3.2)\n",
            "Requirement already satisfied: python-dateutil>=2.1 in /usr/local/lib/python3.7/dist-packages (from matplotlib>=2.2->seaborn) (2.8.2)\n",
            "Requirement already satisfied: cycler>=0.10 in /usr/local/lib/python3.7/dist-packages (from matplotlib>=2.2->seaborn) (0.11.0)\n",
            "Requirement already satisfied: pytz>=2017.2 in /usr/local/lib/python3.7/dist-packages (from pandas>=0.23->seaborn) (2018.9)\n",
            "Requirement already satisfied: six>=1.5 in /usr/local/lib/python3.7/dist-packages (from python-dateutil>=2.1->matplotlib>=2.2->seaborn) (1.15.0)\n"
          ]
        }
      ]
    },
    {
      "cell_type": "code",
      "metadata": {
        "id": "UNc6Or80qBwS",
        "colab": {
          "base_uri": "https://localhost:8080/"
        },
        "outputId": "09f55ad1-8c1f-4158-a371-5a74ef3397d1"
      },
      "source": [
        "import pandas as pd\n",
        "import numpy as np\n",
        "import math\n",
        "import tensorflow_decision_forests as tfdf\n",
        "from sklearn.model_selection import train_test_split\n",
        "from wurlitzer import sys_pipes"
      ],
      "execution_count": 10,
      "outputs": [
        {
          "output_type": "stream",
          "name": "stderr",
          "text": [
            "WARNING:root:Failure to load the custom c++ tensorflow ops. This error is likely caused the version of TensorFlow and TensorFlow Decision Forests are not compatible.\n",
            "WARNING:root:TF Parameter Server distributed training not available.\n"
          ]
        }
      ]
    },
    {
      "cell_type": "code",
      "metadata": {
        "id": "mHtPKJNNQ7Zv",
        "cellView": "code"
      },
      "source": [
        "#@title Default title text\n",
        "root = \"education-impact/\" \n",
        "datasets_path = {\n",
        "                    \"infant_mortality\"              :  root+ \"datasets/Infant_Mortality_Rate.csv\",\n",
        "                    \"child_mortality\"               :  root+ \"datasets/child_mortality_0_5_year_olds_dying_per_1000_born.csv\",\n",
        "                    \"children_per_woman\"            :  root+ \"datasets/children_per_woman_total_fertility.csv\",\n",
        "                    \"co2_emissions\"                 :  root+\"datasets/co2_emissions_tonnes_per_person.csv\",\n",
        "                    \"population\"                    :  root+ \"datasets/converted_pop.csv\",\n",
        "                    \"food_supply\"                   :  root+ \"datasets/food_supply_kilocalories_per_person_and_day.csv\",\n",
        "                    \"gdp_per_captia\"                :  root+ \"datasets/gdp_per_capita_yearly_growth.csv\",\n",
        "                    \"Avg_daily_income_ppp\"          :  root+ \"datasets/mincpcap_cppp.csv\",\n",
        "                    \"gini_index\"                    :  root+ \"datasets/gini.csv\",\n",
        "                    \"life_expectancy\"               :  root+ \"datasets/life_expectancy_years.csv\",\n",
        "                    \"malnutrition\"                  :  root+ \"datasets/malnutrition_weight_for_age_percent_of_children_under_5.csv\",\n",
        "                    \"poverty_index\"                 :  root+ \"datasets/mincpcap_cppp.csv\",\n",
        "                    \"maternal_mortality\"            :  root+ \"datasets/mmr_who.csv\",\n",
        "                    \"people_in_poverty\"             :  root+ \"datasets/number_of_people_in_poverty.csv\",\n",
        "                    \"primary_completion\"            :  root+ \"datasets/primary_school_completion_percent_of_girls.csv\",\n",
        "                    \"ratio_b/g_in_primary\"          :  root+ \"datasets/ratio_of_girls_to_boys_in_primary_and_secondary_education_perc.csv\",\n",
        "                    \"wcde-25--34\"                   :  root+ \"datasets/wcde-25--34.csv\",\n",
        "                    \"wcde-Incomplete_Primary\"       :  root+ \"datasets/wcde-Incomplete Primary.csv\",\n",
        "                    \"wcde-Lower_Secondary\"          :  root+ \"datasets/wcde-Lower Secondary.csv\",\n",
        "                    \"wcde-Post_Secondary\"           :  root+ \"datasets/wcde-Post Secondary.csv\",\n",
        "                    \"wcde_female-Incomplete_Primary\":  root+ \"datasets/wcde_female-Incomplete Primary.csv\",\n",
        "                    \"wcde_female-Lower_Secondary\"   :  root+ \"datasets/wcde_female-Lower Secondary.csv\",\n",
        "                    \"wcde_female-Post_Secondary\"    :  root+ \"datasets/wcde_female-Post Secondary.csv\",\n",
        "                    \"sex-ratio\"                     :  root+ \"datasets/sex-ratio.csv\",\n",
        "                }"
      ],
      "execution_count": 11,
      "outputs": []
    },
    {
      "cell_type": "code",
      "metadata": {
        "id": "zQlw2De3EPX-"
      },
      "source": [
        "datasets = [\n",
        "            \"infant_mortality\",\n",
        "            # \"life_expectancy\",\n",
        "            #\"child_mortality\",\n",
        "            #\"co2_emissions\",\n",
        "            \"Avg_daily_income_ppp\",\n",
        "            \"primary_completion\",\n",
        "            \"wcde-Lower_Secondary\",\n",
        "            \"population\",\n",
        "            #\"wcde_female-Lower_Secondary\",\n",
        "            \"sex-ratio\",\n",
        "            \"gdp_per_captia\",\n",
        "            \"wcde-Post_Secondary\"\n",
        "            ]"
      ],
      "execution_count": 12,
      "outputs": []
    },
    {
      "cell_type": "code",
      "metadata": {
        "id": "lEv-zMFlFgCm"
      },
      "source": [
        "PREDICT_FUTURE  = 10\n",
        "OUTPUTS         = ['wcde-Incomplete_Primary']\n",
        "                   "
      ],
      "execution_count": 30,
      "outputs": []
    },
    {
      "cell_type": "code",
      "metadata": {
        "id": "PWHauD_9RN8n",
        "colab": {
          "base_uri": "https://localhost:8080/"
        },
        "outputId": "20a9559e-9c49-4b42-995e-95c90f049efb"
      },
      "source": [
        "# to find out how many countries each dataset has\n",
        "countries_count      = None\n",
        "least_dataset_path   = None\n",
        "for dataset in datasets:\n",
        "  df = pd.read_csv(datasets_path[dataset])\n",
        "  count = len(set(df.Country.unique()))\n",
        "  if not countries_count:\n",
        "    countries_count = count\n",
        "    least_dataset_path   = datasets_path[dataset]\n",
        "  elif countries_count > count:\n",
        "    countries_count = count\n",
        "    least_dataset_path   = datasets_path[dataset]\n",
        "  print(f\"{'Factor: ' + dataset:<30} count: {count}\")\n",
        "print(f\"{'To use: ' + least_dataset_path:<30} count: {countries_count}\")"
      ],
      "execution_count": 23,
      "outputs": [
        {
          "output_type": "stream",
          "name": "stdout",
          "text": [
            "Factor: infant_mortality       count: 266\n",
            "Factor: Avg_daily_income_ppp   count: 195\n",
            "Factor: primary_completion     count: 195\n",
            "Factor: wcde-Lower_Secondary   count: 202\n",
            "Factor: population             count: 197\n",
            "Factor: sex-ratio              count: 212\n",
            "Factor: gdp_per_captia         count: 221\n",
            "Factor: wcde-Post_Secondary    count: 202\n",
            "To use: education-impact/datasets/mincpcap_cppp.csv count: 195\n"
          ]
        }
      ]
    },
    {
      "cell_type": "code",
      "metadata": {
        "id": "ZpydOBe_ZESB"
      },
      "source": [
        ""
      ],
      "execution_count": null,
      "outputs": []
    },
    {
      "cell_type": "code",
      "metadata": {
        "colab": {
          "base_uri": "https://localhost:8080/"
        },
        "id": "OEMcE1movJBw",
        "outputId": "9917f0a6-1fdd-49d3-872b-a7ce1fb1dcf9"
      },
      "source": [
        "common_countries = set()\n",
        "for dataset in datasets:\n",
        "  countries_list = list(pd.read_csv(datasets_path[dataset]).Country)\n",
        "  countries_list = set(map(lambda x: x.lower(), countries_list))\n",
        "  if common_countries == set():\n",
        "    common_countries = countries_list\n",
        "  else:\n",
        "    common_countries = common_countries.intersection(countries_list)\n",
        "len(common_countries)"
      ],
      "execution_count": 24,
      "outputs": [
        {
          "output_type": "execute_result",
          "data": {
            "text/plain": [
              "145"
            ]
          },
          "metadata": {},
          "execution_count": 24
        }
      ]
    },
    {
      "cell_type": "code",
      "metadata": {
        "id": "6lCbc1WbKgia"
      },
      "source": [
        "# creating a list of all countries & years\n",
        "countries = list(common_countries)\n",
        "years     = [y for y in range(1960,2015-PREDICT_FUTURE+1)]"
      ],
      "execution_count": 25,
      "outputs": []
    },
    {
      "cell_type": "code",
      "metadata": {
        "colab": {
          "base_uri": "https://localhost:8080/"
        },
        "id": "xiq8YOwXdzXL",
        "outputId": "b445e15c-3087-4a38-d784-fded60278f9a"
      },
      "source": [
        "len(countries)"
      ],
      "execution_count": 26,
      "outputs": [
        {
          "output_type": "execute_result",
          "data": {
            "text/plain": [
              "145"
            ]
          },
          "metadata": {},
          "execution_count": 26
        }
      ]
    },
    {
      "cell_type": "code",
      "metadata": {
        "id": "zcGs5bV_OlyL"
      },
      "source": [
        "keys=[]\n",
        "for y in years:\n",
        "  for c in countries:\n",
        "    keys.append((c,str(y)))"
      ],
      "execution_count": 27,
      "outputs": []
    },
    {
      "cell_type": "code",
      "metadata": {
        "id": "GF8pxSpGlaKM"
      },
      "source": [
        "big_dic = {k : [] for k in keys}\n",
        "for dataset in datasets:\n",
        "  df = pd.read_csv(datasets_path[dataset])\n",
        "  df[\"Country\"] = df[\"Country\"].str.lower()\n",
        "  df.set_index(\"Country\", inplace=True)\n",
        "  for k in keys:\n",
        "    try:\n",
        "      big_dic[k].append(df.loc[k[0]][k[1]])\n",
        "    except:\n",
        "      big_dic[k].append(np.NaN)\n",
        " "
      ],
      "execution_count": 28,
      "outputs": []
    },
    {
      "cell_type": "code",
      "metadata": {
        "id": "NgqcguWjsUGI"
      },
      "source": [
        "for output_path in OUTPUTS:\n",
        "  df = pd.read_csv(datasets_path[output_path])\n",
        "  df[\"Country\"] = df[\"Country\"].str.lower()\n",
        "  df.set_index(\"Country\", inplace=True)\n",
        "  for k in keys:\n",
        "    try:\n",
        "      big_dic[k].append(df.loc[k[0]][str(int(k[1])+PREDICT_FUTURE)])\n",
        "    except:\n",
        "      big_dic[k].append(np.NaN)"
      ],
      "execution_count": 31,
      "outputs": []
    },
    {
      "cell_type": "code",
      "metadata": {
        "id": "WVnfofKptBRt"
      },
      "source": [
        "columns = [k for k in datasets ]\n",
        "output_columns = [\"o_\"+o for o in OUTPUTS]\n",
        "columns.extend(output_columns)"
      ],
      "execution_count": 32,
      "outputs": []
    },
    {
      "cell_type": "code",
      "metadata": {
        "id": "E1W2z1TcszrP"
      },
      "source": [
        "input_df = pd.DataFrame.from_dict(big_dic,orient='index', columns = columns)\n",
        "output_df = input_df[[\"o_\"+o for o in OUTPUTS]]\n",
        "input_df.drop(labels=[\"o_\"+o for o in OUTPUTS], axis = 1, inplace=True)"
      ],
      "execution_count": 33,
      "outputs": []
    },
    {
      "cell_type": "code",
      "metadata": {
        "id": "KRYgp4465ve1"
      },
      "source": [
        "X_train, X_test, y_train, y_test = train_test_split(input_df, output_df, test_size=0.30, random_state=43)"
      ],
      "execution_count": 34,
      "outputs": []
    },
    {
      "cell_type": "code",
      "metadata": {
        "colab": {
          "base_uri": "https://localhost:8080/"
        },
        "id": "UoY9_jY9n7Wo",
        "outputId": "ac48399f-59e0-4977-ddea-10642cbf1cfd"
      },
      "source": [
        "X_train.isna().sum()"
      ],
      "execution_count": 35,
      "outputs": [
        {
          "output_type": "execute_result",
          "data": {
            "text/plain": [
              "infant_mortality         475\n",
              "Avg_daily_income_ppp       0\n",
              "primary_completion      3182\n",
              "wcde-Lower_Secondary       0\n",
              "population                 0\n",
              "sex-ratio                  0\n",
              "gdp_per_captia             0\n",
              "wcde-Post_Secondary        0\n",
              "dtype: int64"
            ]
          },
          "metadata": {},
          "execution_count": 35
        }
      ]
    },
    {
      "cell_type": "code",
      "metadata": {
        "colab": {
          "base_uri": "https://localhost:8080/"
        },
        "id": "sefswM8hpqdg",
        "outputId": "012b679d-e8d3-4f1e-db88-1fb75450c014"
      },
      "source": [
        "y_train.isna().sum()"
      ],
      "execution_count": 36,
      "outputs": [
        {
          "output_type": "execute_result",
          "data": {
            "text/plain": [
              "o_wcde-Incomplete_Primary    0\n",
              "dtype: int64"
            ]
          },
          "metadata": {},
          "execution_count": 36
        }
      ]
    },
    {
      "cell_type": "code",
      "metadata": {
        "colab": {
          "base_uri": "https://localhost:8080/",
          "height": 417
        },
        "id": "zbtSynu0ptXn",
        "outputId": "875d1ec1-087e-48ee-8047-38fd5f78c9bd"
      },
      "source": [
        "y_train"
      ],
      "execution_count": 37,
      "outputs": [
        {
          "output_type": "execute_result",
          "data": {
            "text/html": [
              "<div>\n",
              "<style scoped>\n",
              "    .dataframe tbody tr th:only-of-type {\n",
              "        vertical-align: middle;\n",
              "    }\n",
              "\n",
              "    .dataframe tbody tr th {\n",
              "        vertical-align: top;\n",
              "    }\n",
              "\n",
              "    .dataframe thead th {\n",
              "        text-align: right;\n",
              "    }\n",
              "</style>\n",
              "<table border=\"1\" class=\"dataframe\">\n",
              "  <thead>\n",
              "    <tr style=\"text-align: right;\">\n",
              "      <th></th>\n",
              "      <th>o_wcde-Incomplete_Primary</th>\n",
              "    </tr>\n",
              "  </thead>\n",
              "  <tbody>\n",
              "    <tr>\n",
              "      <th>(georgia, 1963)</th>\n",
              "      <td>0.96</td>\n",
              "    </tr>\n",
              "    <tr>\n",
              "      <th>(greece, 1971)</th>\n",
              "      <td>1.96</td>\n",
              "    </tr>\n",
              "    <tr>\n",
              "      <th>(azerbaijan, 1994)</th>\n",
              "      <td>0.20</td>\n",
              "    </tr>\n",
              "    <tr>\n",
              "      <th>(eritrea, 1973)</th>\n",
              "      <td>0.00</td>\n",
              "    </tr>\n",
              "    <tr>\n",
              "      <th>(equatorial guinea, 1986)</th>\n",
              "      <td>23.28</td>\n",
              "    </tr>\n",
              "    <tr>\n",
              "      <th>...</th>\n",
              "      <td>...</td>\n",
              "    </tr>\n",
              "    <tr>\n",
              "      <th>(honduras, 2002)</th>\n",
              "      <td>31.38</td>\n",
              "    </tr>\n",
              "    <tr>\n",
              "      <th>(ethiopia, 1976)</th>\n",
              "      <td>86.36</td>\n",
              "    </tr>\n",
              "    <tr>\n",
              "      <th>(armenia, 1975)</th>\n",
              "      <td>0.30</td>\n",
              "    </tr>\n",
              "    <tr>\n",
              "      <th>(solomon islands, 1983)</th>\n",
              "      <td>35.60</td>\n",
              "    </tr>\n",
              "    <tr>\n",
              "      <th>(zambia, 2001)</th>\n",
              "      <td>30.64</td>\n",
              "    </tr>\n",
              "  </tbody>\n",
              "</table>\n",
              "<p>4669 rows × 1 columns</p>\n",
              "</div>"
            ],
            "text/plain": [
              "                           o_wcde-Incomplete_Primary\n",
              "(georgia, 1963)                                 0.96\n",
              "(greece, 1971)                                  1.96\n",
              "(azerbaijan, 1994)                              0.20\n",
              "(eritrea, 1973)                                 0.00\n",
              "(equatorial guinea, 1986)                      23.28\n",
              "...                                              ...\n",
              "(honduras, 2002)                               31.38\n",
              "(ethiopia, 1976)                               86.36\n",
              "(armenia, 1975)                                 0.30\n",
              "(solomon islands, 1983)                        35.60\n",
              "(zambia, 2001)                                 30.64\n",
              "\n",
              "[4669 rows x 1 columns]"
            ]
          },
          "metadata": {},
          "execution_count": 37
        }
      ]
    },
    {
      "cell_type": "code",
      "metadata": {
        "colab": {
          "base_uri": "https://localhost:8080/",
          "height": 467
        },
        "id": "IAkvReLKpLQ4",
        "outputId": "f1209fb0-5213-43d1-818f-9d1cdca837d2"
      },
      "source": [
        "combine_dfs(\"o_\"+OUTPUTS[0],X_test,y_test)"
      ],
      "execution_count": 40,
      "outputs": [
        {
          "output_type": "execute_result",
          "data": {
            "text/html": [
              "<div>\n",
              "<style scoped>\n",
              "    .dataframe tbody tr th:only-of-type {\n",
              "        vertical-align: middle;\n",
              "    }\n",
              "\n",
              "    .dataframe tbody tr th {\n",
              "        vertical-align: top;\n",
              "    }\n",
              "\n",
              "    .dataframe thead th {\n",
              "        text-align: right;\n",
              "    }\n",
              "</style>\n",
              "<table border=\"1\" class=\"dataframe\">\n",
              "  <thead>\n",
              "    <tr style=\"text-align: right;\">\n",
              "      <th></th>\n",
              "      <th>infant_mortality</th>\n",
              "      <th>Avg_daily_income_ppp</th>\n",
              "      <th>primary_completion</th>\n",
              "      <th>wcde-Lower_Secondary</th>\n",
              "      <th>population</th>\n",
              "      <th>sex-ratio</th>\n",
              "      <th>gdp_per_captia</th>\n",
              "      <th>wcde-Post_Secondary</th>\n",
              "      <th>o_wcde-Incomplete_Primary</th>\n",
              "    </tr>\n",
              "  </thead>\n",
              "  <tbody>\n",
              "    <tr>\n",
              "      <th>(cote d'ivoire, 1985)</th>\n",
              "      <td>106.0</td>\n",
              "      <td>8.63</td>\n",
              "      <td>36.5</td>\n",
              "      <td>30.10</td>\n",
              "      <td>9920000</td>\n",
              "      <td>102.822771</td>\n",
              "      <td>0.469</td>\n",
              "      <td>2.50</td>\n",
              "      <td>64.20</td>\n",
              "    </tr>\n",
              "    <tr>\n",
              "      <th>(sri lanka, 1980)</th>\n",
              "      <td>36.8</td>\n",
              "      <td>3.27</td>\n",
              "      <td>NaN</td>\n",
              "      <td>48.00</td>\n",
              "      <td>15000000</td>\n",
              "      <td>104.337239</td>\n",
              "      <td>3.670</td>\n",
              "      <td>26.10</td>\n",
              "      <td>17.90</td>\n",
              "    </tr>\n",
              "    <tr>\n",
              "      <th>(malaysia, 1976)</th>\n",
              "      <td>32.4</td>\n",
              "      <td>8.95</td>\n",
              "      <td>NaN</td>\n",
              "      <td>53.82</td>\n",
              "      <td>12500000</td>\n",
              "      <td>105.784594</td>\n",
              "      <td>9.890</td>\n",
              "      <td>22.94</td>\n",
              "      <td>13.62</td>\n",
              "    </tr>\n",
              "    <tr>\n",
              "      <th>(saudi arabia, 1996)</th>\n",
              "      <td>23.7</td>\n",
              "      <td>25.60</td>\n",
              "      <td>NaN</td>\n",
              "      <td>42.94</td>\n",
              "      <td>19000000</td>\n",
              "      <td>105.003345</td>\n",
              "      <td>-1.840</td>\n",
              "      <td>42.50</td>\n",
              "      <td>6.44</td>\n",
              "    </tr>\n",
              "    <tr>\n",
              "      <th>(nepal, 1989)</th>\n",
              "      <td>101.6</td>\n",
              "      <td>1.73</td>\n",
              "      <td>NaN</td>\n",
              "      <td>30.34</td>\n",
              "      <td>18400000</td>\n",
              "      <td>104.447811</td>\n",
              "      <td>-0.252</td>\n",
              "      <td>8.68</td>\n",
              "      <td>45.06</td>\n",
              "    </tr>\n",
              "    <tr>\n",
              "      <th>...</th>\n",
              "      <td>...</td>\n",
              "      <td>...</td>\n",
              "      <td>...</td>\n",
              "      <td>...</td>\n",
              "      <td>...</td>\n",
              "      <td>...</td>\n",
              "      <td>...</td>\n",
              "      <td>...</td>\n",
              "      <td>...</td>\n",
              "    </tr>\n",
              "    <tr>\n",
              "      <th>(tunisia, 1980)</th>\n",
              "      <td>68.9</td>\n",
              "      <td>5.43</td>\n",
              "      <td>47.9</td>\n",
              "      <td>62.10</td>\n",
              "      <td>6370000</td>\n",
              "      <td>105.580207</td>\n",
              "      <td>4.700</td>\n",
              "      <td>4.90</td>\n",
              "      <td>23.80</td>\n",
              "    </tr>\n",
              "    <tr>\n",
              "      <th>(chile, 1971)</th>\n",
              "      <td>66.1</td>\n",
              "      <td>12.00</td>\n",
              "      <td>87.7</td>\n",
              "      <td>55.60</td>\n",
              "      <td>9940000</td>\n",
              "      <td>104.117952</td>\n",
              "      <td>6.990</td>\n",
              "      <td>24.00</td>\n",
              "      <td>12.62</td>\n",
              "    </tr>\n",
              "    <tr>\n",
              "      <th>(ethiopia, 1997)</th>\n",
              "      <td>96.6</td>\n",
              "      <td>2.23</td>\n",
              "      <td>NaN</td>\n",
              "      <td>17.84</td>\n",
              "      <td>60700000</td>\n",
              "      <td>105.714366</td>\n",
              "      <td>0.122</td>\n",
              "      <td>2.68</td>\n",
              "      <td>70.14</td>\n",
              "    </tr>\n",
              "    <tr>\n",
              "      <th>(cameroon, 1960)</th>\n",
              "      <td>163.6</td>\n",
              "      <td>2.54</td>\n",
              "      <td>NaN</td>\n",
              "      <td>26.30</td>\n",
              "      <td>5180000</td>\n",
              "      <td>102.599943</td>\n",
              "      <td>1.160</td>\n",
              "      <td>0.80</td>\n",
              "      <td>54.90</td>\n",
              "    </tr>\n",
              "    <tr>\n",
              "      <th>(greece, 1979)</th>\n",
              "      <td>18.3</td>\n",
              "      <td>19.30</td>\n",
              "      <td>102.0</td>\n",
              "      <td>56.74</td>\n",
              "      <td>9520000</td>\n",
              "      <td>107.405292</td>\n",
              "      <td>2.560</td>\n",
              "      <td>41.14</td>\n",
              "      <td>1.80</td>\n",
              "    </tr>\n",
              "  </tbody>\n",
              "</table>\n",
              "<p>2001 rows × 9 columns</p>\n",
              "</div>"
            ],
            "text/plain": [
              "                       infant_mortality  ...  o_wcde-Incomplete_Primary\n",
              "(cote d'ivoire, 1985)             106.0  ...                      64.20\n",
              "(sri lanka, 1980)                  36.8  ...                      17.90\n",
              "(malaysia, 1976)                   32.4  ...                      13.62\n",
              "(saudi arabia, 1996)               23.7  ...                       6.44\n",
              "(nepal, 1989)                     101.6  ...                      45.06\n",
              "...                                 ...  ...                        ...\n",
              "(tunisia, 1980)                    68.9  ...                      23.80\n",
              "(chile, 1971)                      66.1  ...                      12.62\n",
              "(ethiopia, 1997)                   96.6  ...                      70.14\n",
              "(cameroon, 1960)                  163.6  ...                      54.90\n",
              "(greece, 1979)                     18.3  ...                       1.80\n",
              "\n",
              "[2001 rows x 9 columns]"
            ]
          },
          "metadata": {},
          "execution_count": 40
        }
      ]
    },
    {
      "cell_type": "code",
      "metadata": {
        "id": "gAi9JoDdGuhE"
      },
      "source": [
        "def combine_dfs(label,X,y):\n",
        "  frames      = [X,y[label]]\n",
        "  le_model_df = pd.concat(frames,axis=1)\n",
        "  le_model_df.dropna(subset=[label],inplace=True)\n",
        "  return le_model_df"
      ],
      "execution_count": 39,
      "outputs": []
    },
    {
      "cell_type": "code",
      "metadata": {
        "id": "x2wiwgqk6ZfU",
        "colab": {
          "base_uri": "https://localhost:8080/"
        },
        "outputId": "0ffb502c-b763-49bd-f5a5-38a76d9a1391"
      },
      "source": [
        "for output in OUTPUTS:\n",
        "  train_ds = tfdf.keras.pd_dataframe_to_tf_dataset(combine_dfs(\"o_\"+output,X_train,y_train), label=\"o_\"+output, task=tfdf.keras.Task.REGRESSION)\n",
        "  model = tfdf.keras.RandomForestModel(task = tfdf.keras.Task.REGRESSION)\n",
        "  \n",
        "  model.fit(x=train_ds)\n",
        "  # Convert it to a TensorFlow dataset\n",
        "  test_ds = tfdf.keras.pd_dataframe_to_tf_dataset(combine_dfs(\"o_\"+output,X_train,y_train), label=\"o_\"+output, task=tfdf.keras.Task.REGRESSION)\n",
        "\n",
        "  # Evaluate the model\n",
        "  model.compile(metrics=[\"mse\"])\n",
        "  # Evaluate the model on the test dataset.\n",
        "  evaluation = model.evaluate(test_ds, return_dict=True)\n",
        "  print(output.upper())\n",
        "  print(evaluation)\n",
        "  print()\n",
        "  print(f\"MSE: {evaluation['mse']}\")\n",
        "  print(f\"RMSE: {math.sqrt(evaluation['mse'])}\")\n",
        "  print()"
      ],
      "execution_count": 41,
      "outputs": [
        {
          "output_type": "stream",
          "name": "stdout",
          "text": [
            "73/73 [==============================] - 10s 69ms/step\n",
            "73/73 [==============================] - 1s 6ms/step - loss: 0.0000e+00 - mse: 2.9456\n",
            "WCDE-INCOMPLETE_PRIMARY\n",
            "{'loss': 0.0, 'mse': 2.945612668991089}\n",
            "\n",
            "MSE: 2.945612668991089\n",
            "RMSE: 1.7162787270694375\n",
            "\n"
          ]
        }
      ]
    },
    {
      "cell_type": "code",
      "metadata": {
        "colab": {
          "base_uri": "https://localhost:8080/",
          "height": 404
        },
        "id": "9km9jt9mBIvM",
        "outputId": "82b21873-de8a-4390-bd35-6df579f15a14"
      },
      "source": [
        "tfdf.model_plotter.plot_model_in_colab(model, tree_idx=0)"
      ],
      "execution_count": 42,
      "outputs": [
        {
          "output_type": "execute_result",
          "data": {
            "text/html": [
              "\n",
              "<script src=\"https://d3js.org/d3.v6.min.js\"></script>\n",
              "<div id=\"tree_plot_3f8e8e1c87ea4a2bab4fc02d11e3e4ca\"></div>\n",
              "<script>\n",
              "/*\n",
              " * Copyright 2021 Google LLC.\n",
              " * Licensed under the Apache License, Version 2.0 (the \"License\");\n",
              " * you may not use this file except in compliance with the License.\n",
              " * You may obtain a copy of the License at\n",
              " *\n",
              " *     https://www.apache.org/licenses/LICENSE-2.0\n",
              " *\n",
              " * Unless required by applicable law or agreed to in writing, software\n",
              " * distributed under the License is distributed on an \"AS IS\" BASIS,\n",
              " * WITHOUT WARRANTIES OR CONDITIONS OF ANY KIND, either express or implied.\n",
              " * See the License for the specific language governing permissions and\n",
              " * limitations under the License.\n",
              " */\n",
              "\n",
              "/**\n",
              " *  Plotting of decision trees generated by TF-DF.\n",
              " *\n",
              " *  A tree is a recursive structure of node objects.\n",
              " *  A node contains one or more of the following components:\n",
              " *\n",
              " *    - A value: Representing the output of the node. If the node is not a leaf,\n",
              " *      the value is only present for analysis i.e. it is not used for\n",
              " *      predictions.\n",
              " *\n",
              " *    - A condition : For non-leaf nodes, the condition (also known as split)\n",
              " *      defines a binary test to branch to the positive or negative child.\n",
              " *\n",
              " *    - An explanation: Generally a plot showing the relation between the label\n",
              " *      and the condition to give insights about the effect of the condition.\n",
              " *\n",
              " *    - Two children : For non-leaf nodes, the children nodes. The first\n",
              " *      children (i.e. \"node.children[0]\") is the negative children (drawn in\n",
              " *      red). The second children is the positive one (drawn in green).\n",
              " *\n",
              " */\n",
              "\n",
              "/**\n",
              " * Plots a single decision tree into a DOM element.\n",
              " * @param {!options} options Dictionary of configurations.\n",
              " * @param {!tree} raw_tree Recursive tree structure.\n",
              " * @param {string} canvas_id Id of the output dom element.\n",
              " */\n",
              "function display_tree(options, raw_tree, canvas_id) {\n",
              "  console.log(options);\n",
              "\n",
              "  // Determine the node placement.\n",
              "  const tree_struct = d3.tree().nodeSize(\n",
              "      [options.node_y_offset, options.node_x_offset])(d3.hierarchy(raw_tree));\n",
              "\n",
              "  // Boundaries of the node placement.\n",
              "  let x_min = Infinity;\n",
              "  let x_max = -x_min;\n",
              "  let y_min = Infinity;\n",
              "  let y_max = -x_min;\n",
              "\n",
              "  tree_struct.each(d => {\n",
              "    if (d.x > x_max) x_max = d.x;\n",
              "    if (d.x < x_min) x_min = d.x;\n",
              "    if (d.y > y_max) y_max = d.y;\n",
              "    if (d.y < y_min) y_min = d.y;\n",
              "  });\n",
              "\n",
              "  // Size of the plot.\n",
              "  const width = y_max - y_min + options.node_x_size + options.margin * 2;\n",
              "  const height = x_max - x_min + options.node_y_size + options.margin * 2 +\n",
              "      options.node_y_offset - options.node_y_size;\n",
              "\n",
              "  const plot = d3.select(canvas_id);\n",
              "\n",
              "  // Tool tip\n",
              "  options.tooltip = plot.append('div')\n",
              "                        .attr('width', 100)\n",
              "                        .attr('height', 100)\n",
              "                        .style('padding', '4px')\n",
              "                        .style('background', '#fff')\n",
              "                        .style('box-shadow', '4px 4px 0px rgba(0,0,0,0.1)')\n",
              "                        .style('border', '1px solid black')\n",
              "                        .style('font-family', 'sans-serif')\n",
              "                        .style('font-size', options.font_size)\n",
              "                        .style('position', 'absolute')\n",
              "                        .style('z-index', '10')\n",
              "                        .attr('pointer-events', 'none')\n",
              "                        .style('display', 'none');\n",
              "\n",
              "  // Create canvas\n",
              "  const svg = plot.append('svg').attr('width', width).attr('height', height);\n",
              "  const graph =\n",
              "      svg.style('overflow', 'visible')\n",
              "          .append('g')\n",
              "          .attr('font-family', 'sans-serif')\n",
              "          .attr('font-size', options.font_size)\n",
              "          .attr(\n",
              "              'transform',\n",
              "              () => `translate(${options.margin},${\n",
              "                  - x_min + options.node_y_offset / 2 + options.margin})`);\n",
              "\n",
              "  // Plot bounding box.\n",
              "  if (options.show_plot_bounding_box) {\n",
              "    svg.append('rect')\n",
              "        .attr('width', width)\n",
              "        .attr('height', height)\n",
              "        .attr('fill', 'none')\n",
              "        .attr('stroke-width', 1.0)\n",
              "        .attr('stroke', 'black');\n",
              "  }\n",
              "\n",
              "  // Draw the edges.\n",
              "  display_edges(options, graph, tree_struct);\n",
              "\n",
              "  // Draw the nodes.\n",
              "  display_nodes(options, graph, tree_struct);\n",
              "}\n",
              "\n",
              "/**\n",
              " * Draw the nodes of the tree.\n",
              " * @param {!options} options Dictionary of configurations.\n",
              " * @param {!graph} graph D3 search handle containing the graph.\n",
              " * @param {!tree_struct} tree_struct Structure of the tree (node placement,\n",
              " *     data, etc.).\n",
              " */\n",
              "function display_nodes(options, graph, tree_struct) {\n",
              "  const nodes = graph.append('g')\n",
              "                    .selectAll('g')\n",
              "                    .data(tree_struct.descendants())\n",
              "                    .join('g')\n",
              "                    .attr('transform', d => `translate(${d.y},${d.x})`);\n",
              "\n",
              "  nodes.append('rect')\n",
              "      .attr('x', 0.5)\n",
              "      .attr('y', 0.5)\n",
              "      .attr('width', options.node_x_size)\n",
              "      .attr('height', options.node_y_size)\n",
              "      .attr('stroke', 'lightgrey')\n",
              "      .attr('stroke-width', 1)\n",
              "      .attr('fill', 'white')\n",
              "      .attr('y', -options.node_y_size / 2);\n",
              "\n",
              "  // Brackets on the right of condition nodes without children.\n",
              "  non_leaf_node_without_children =\n",
              "      nodes.filter(node => node.data.condition != null && node.children == null)\n",
              "          .append('g')\n",
              "          .attr('transform', `translate(${options.node_x_size},0)`);\n",
              "\n",
              "  non_leaf_node_without_children.append('path')\n",
              "      .attr('d', 'M0,0 C 10,0 0,10 10,10')\n",
              "      .attr('fill', 'none')\n",
              "      .attr('stroke-width', 1.0)\n",
              "      .attr('stroke', '#F00');\n",
              "\n",
              "  non_leaf_node_without_children.append('path')\n",
              "      .attr('d', 'M0,0 C 10,0 0,-10 10,-10')\n",
              "      .attr('fill', 'none')\n",
              "      .attr('stroke-width', 1.0)\n",
              "      .attr('stroke', '#0F0');\n",
              "\n",
              "  const node_content = nodes.append('g').attr(\n",
              "      'transform',\n",
              "      `translate(0,${options.node_padding - options.node_y_size / 2})`);\n",
              "\n",
              "  node_content.append(node => create_node_element(options, node));\n",
              "}\n",
              "\n",
              "/**\n",
              " * Creates the D3 content for a single node.\n",
              " * @param {!options} options Dictionary of configurations.\n",
              " * @param {!node} node Node to draw.\n",
              " * @return {!d3} D3 content.\n",
              " */\n",
              "function create_node_element(options, node) {\n",
              "  // Output accumulator.\n",
              "  let output = {\n",
              "    // Content to draw.\n",
              "    content: d3.create('svg:g'),\n",
              "    // Vertical offset to the next element to draw.\n",
              "    vertical_offset: 0\n",
              "  };\n",
              "\n",
              "  // Conditions.\n",
              "  if (node.data.condition != null) {\n",
              "    display_condition(options, node.data.condition, output);\n",
              "  }\n",
              "\n",
              "  // Values.\n",
              "  if (node.data.value != null) {\n",
              "    display_value(options, node.data.value, output);\n",
              "  }\n",
              "\n",
              "  // Explanations.\n",
              "  if (node.data.explanation != null) {\n",
              "    display_explanation(options, node.data.explanation, output);\n",
              "  }\n",
              "\n",
              "  return output.content.node();\n",
              "}\n",
              "\n",
              "\n",
              "/**\n",
              " * Adds a single line of text inside of a node.\n",
              " * @param {!options} options Dictionary of configurations.\n",
              " * @param {string} text Text to display.\n",
              " * @param {!output} output Output display accumulator.\n",
              " */\n",
              "function display_node_text(options, text, output) {\n",
              "  output.content.append('text')\n",
              "      .attr('x', options.node_padding)\n",
              "      .attr('y', output.vertical_offset)\n",
              "      .attr('alignment-baseline', 'hanging')\n",
              "      .text(text);\n",
              "  output.vertical_offset += 10;\n",
              "}\n",
              "\n",
              "/**\n",
              " * Adds a single line of text inside of a node with a tooltip.\n",
              " * @param {!options} options Dictionary of configurations.\n",
              " * @param {string} text Text to display.\n",
              " * @param {string} tooltip Text in the Tooltip.\n",
              " * @param {!output} output Output display accumulator.\n",
              " */\n",
              "function display_node_text_with_tooltip(options, text, tooltip, output) {\n",
              "  const item = output.content.append('text')\n",
              "                   .attr('x', options.node_padding)\n",
              "                   .attr('alignment-baseline', 'hanging')\n",
              "                   .text(text);\n",
              "\n",
              "  add_tooltip(options, item, () => tooltip);\n",
              "  output.vertical_offset += 10;\n",
              "}\n",
              "\n",
              "/**\n",
              " * Adds a tooltip to a dom element.\n",
              " * @param {!options} options Dictionary of configurations.\n",
              " * @param {!dom} target Dom element to equip with a tooltip.\n",
              " * @param {!func} get_content Generates the html content of the tooltip.\n",
              " */\n",
              "function add_tooltip(options, target, get_content) {\n",
              "  function show(d) {\n",
              "    options.tooltip.style('display', 'block');\n",
              "    options.tooltip.html(get_content());\n",
              "  }\n",
              "\n",
              "  function hide(d) {\n",
              "    options.tooltip.style('display', 'none');\n",
              "  }\n",
              "\n",
              "  function move(d) {\n",
              "    options.tooltip.style('display', 'block');\n",
              "    options.tooltip.style('left', (d.pageX + 5) + 'px');\n",
              "    options.tooltip.style('top', d.pageY + 'px');\n",
              "  }\n",
              "\n",
              "  target.on('mouseover', show);\n",
              "  target.on('mouseout', hide);\n",
              "  target.on('mousemove', move);\n",
              "}\n",
              "\n",
              "/**\n",
              " * Adds a condition inside of a node.\n",
              " * @param {!options} options Dictionary of configurations.\n",
              " * @param {!condition} condition Condition to display.\n",
              " * @param {!output} output Output display accumulator.\n",
              " */\n",
              "function display_condition(options, condition, output) {\n",
              "  threshold_format = d3.format('r');\n",
              "\n",
              "  if (condition.type === 'IS_MISSING') {\n",
              "    display_node_text(options, `${condition.attribute} is missing`, output);\n",
              "    return;\n",
              "  }\n",
              "\n",
              "  if (condition.type === 'IS_TRUE') {\n",
              "    display_node_text(options, `${condition.attribute} is true`, output);\n",
              "    return;\n",
              "  }\n",
              "\n",
              "  if (condition.type === 'NUMERICAL_IS_HIGHER_THAN') {\n",
              "    format = d3.format('r');\n",
              "    display_node_text(\n",
              "        options,\n",
              "        `${condition.attribute} >= ${threshold_format(condition.threshold)}`,\n",
              "        output);\n",
              "    return;\n",
              "  }\n",
              "\n",
              "  if (condition.type === 'CATEGORICAL_IS_IN') {\n",
              "    display_node_text_with_tooltip(\n",
              "        options, `${condition.attribute} in [...]`,\n",
              "        `${condition.attribute} in [${condition.mask}]`, output);\n",
              "    return;\n",
              "  }\n",
              "\n",
              "  if (condition.type === 'CATEGORICAL_SET_CONTAINS') {\n",
              "    display_node_text_with_tooltip(\n",
              "        options, `${condition.attribute} intersect [...]`,\n",
              "        `${condition.attribute} intersect [${condition.mask}]`, output);\n",
              "    return;\n",
              "  }\n",
              "\n",
              "  if (condition.type === 'NUMERICAL_SPARSE_OBLIQUE') {\n",
              "    display_node_text_with_tooltip(\n",
              "        options, `Sparse oblique split...`,\n",
              "        `[${condition.attributes}]*[${condition.weights}]>=${\n",
              "            threshold_format(condition.threshold)}`,\n",
              "        output);\n",
              "    return;\n",
              "  }\n",
              "\n",
              "  display_node_text(\n",
              "      options, `Non supported condition ${condition.type}`, output);\n",
              "}\n",
              "\n",
              "/**\n",
              " * Adds a value inside of a node.\n",
              " * @param {!options} options Dictionary of configurations.\n",
              " * @param {!value} value Value to display.\n",
              " * @param {!output} output Output display accumulator.\n",
              " */\n",
              "function display_value(options, value, output) {\n",
              "  if (value.type === 'PROBABILITY') {\n",
              "    const left_margin = 0;\n",
              "    const right_margin = 50;\n",
              "    const plot_width = options.node_x_size - options.node_padding * 2 -\n",
              "        left_margin - right_margin;\n",
              "\n",
              "    let cusum = Array.from(d3.cumsum(value.distribution));\n",
              "    cusum.unshift(0);\n",
              "    const distribution_plot = output.content.append('g').attr(\n",
              "        'transform', `translate(0,${output.vertical_offset + 0.5})`);\n",
              "\n",
              "    distribution_plot.selectAll('rect')\n",
              "        .data(value.distribution)\n",
              "        .join('rect')\n",
              "        .attr('height', 10)\n",
              "        .attr(\n",
              "            'x',\n",
              "            (d, i) =>\n",
              "                (cusum[i] * plot_width + left_margin + options.node_padding))\n",
              "        .attr('width', (d, i) => d * plot_width)\n",
              "        .style('fill', (d, i) => d3.schemeSet1[i]);\n",
              "\n",
              "    const num_examples =\n",
              "        output.content.append('g')\n",
              "            .attr('transform', `translate(0,${output.vertical_offset})`)\n",
              "            .append('text')\n",
              "            .attr('x', options.node_x_size - options.node_padding)\n",
              "            .attr('alignment-baseline', 'hanging')\n",
              "            .attr('text-anchor', 'end')\n",
              "            .text(`(${value.num_examples})`);\n",
              "\n",
              "    const distribution_details = d3.create('ul');\n",
              "    distribution_details.selectAll('li')\n",
              "        .data(value.distribution)\n",
              "        .join('li')\n",
              "        .append('span')\n",
              "        .text(\n",
              "            (d, i) =>\n",
              "                'class ' + i + ': ' + d3.format('.3%')(value.distribution[i]));\n",
              "\n",
              "    add_tooltip(options, distribution_plot, () => distribution_details.html());\n",
              "    add_tooltip(options, num_examples, () => 'Number of examples');\n",
              "\n",
              "    output.vertical_offset += 10;\n",
              "    return;\n",
              "  }\n",
              "\n",
              "  if (value.type === 'REGRESSION') {\n",
              "    display_node_text(\n",
              "        options,\n",
              "        'value: ' + d3.format('r')(value.value) + ` (` +\n",
              "            d3.format('.6')(value.num_examples) + `)`,\n",
              "        output);\n",
              "    return;\n",
              "  }\n",
              "\n",
              "  display_node_text(options, `Non supported value ${value.type}`, output);\n",
              "}\n",
              "\n",
              "/**\n",
              " * Adds an explanation inside of a node.\n",
              " * @param {!options} options Dictionary of configurations.\n",
              " * @param {!explanation} explanation Explanation to display.\n",
              " * @param {!output} output Output display accumulator.\n",
              " */\n",
              "function display_explanation(options, explanation, output) {\n",
              "  // Margin before the explanation.\n",
              "  output.vertical_offset += 10;\n",
              "\n",
              "  display_node_text(\n",
              "      options, `Non supported explanation ${explanation.type}`, output);\n",
              "}\n",
              "\n",
              "\n",
              "/**\n",
              " * Draw the edges of the tree.\n",
              " * @param {!options} options Dictionary of configurations.\n",
              " * @param {!graph} graph D3 search handle containing the graph.\n",
              " * @param {!tree_struct} tree_struct Structure of the tree (node placement,\n",
              " *     data, etc.).\n",
              " */\n",
              "function display_edges(options, graph, tree_struct) {\n",
              "  // Draw an edge between a parent and a child node with a bezier.\n",
              "  function draw_single_edge(d) {\n",
              "    return 'M' + (d.source.y + options.node_x_size) + ',' + d.source.x + ' C' +\n",
              "        (d.source.y + options.node_x_size + options.edge_rounding) + ',' +\n",
              "        d.source.x + ' ' + (d.target.y - options.edge_rounding) + ',' +\n",
              "        d.target.x + ' ' + d.target.y + ',' + d.target.x;\n",
              "  }\n",
              "\n",
              "  graph.append('g')\n",
              "      .attr('fill', 'none')\n",
              "      .attr('stroke-width', 1.2)\n",
              "      .selectAll('path')\n",
              "      .data(tree_struct.links())\n",
              "      .join('path')\n",
              "      .attr('d', draw_single_edge)\n",
              "      .attr(\n",
              "          'stroke', d => (d.target === d.source.children[0]) ? '#0F0' : '#F00');\n",
              "}\n",
              "\n",
              "display_tree({\"margin\": 10, \"node_x_size\": 160, \"node_y_size\": 28, \"node_x_offset\": 180, \"node_y_offset\": 33, \"font_size\": 10, \"edge_rounding\": 20, \"node_padding\": 2, \"show_plot_bounding_box\": false}, {\"value\": {\"type\": \"REGRESSION\", \"value\": 26.979623794555664, \"num_examples\": 4669.0, \"standard_deviation\": 29.390934201545893}, \"condition\": {\"type\": \"NUMERICAL_IS_HIGHER_THAN\", \"attribute\": \"infant_mortality\", \"threshold\": 87.14999389648438}, \"children\": [{\"value\": {\"type\": \"REGRESSION\", \"value\": 59.46982955932617, \"num_examples\": 1294.0, \"standard_deviation\": 23.493690289064585}, \"condition\": {\"type\": \"NUMERICAL_IS_HIGHER_THAN\", \"attribute\": \"wcde-Post_Secondary\", \"threshold\": 3.569999933242798}, \"children\": [{\"value\": {\"type\": \"REGRESSION\", \"value\": 43.00577926635742, \"num_examples\": 384.0, \"standard_deviation\": 17.503078056438913}, \"condition\": {\"type\": \"NUMERICAL_IS_HIGHER_THAN\", \"attribute\": \"wcde-Post_Secondary\", \"threshold\": 41.33000183105469}, \"children\": [{\"value\": {\"type\": \"REGRESSION\", \"value\": 1.0957894325256348, \"num_examples\": 19.0, \"standard_deviation\": 1.1026204048356314}, \"condition\": {\"type\": \"NUMERICAL_IS_HIGHER_THAN\", \"attribute\": \"sex-ratio\", \"threshold\": 105.08473205566406}}, {\"value\": {\"type\": \"REGRESSION\", \"value\": 45.18739700317383, \"num_examples\": 365.0, \"standard_deviation\": 15.034988756839764}, \"condition\": {\"type\": \"NUMERICAL_IS_HIGHER_THAN\", \"attribute\": \"wcde-Lower_Secondary\", \"threshold\": 37.650001525878906}}]}, {\"value\": {\"type\": \"REGRESSION\", \"value\": 66.41729736328125, \"num_examples\": 910.0, \"standard_deviation\": 22.202224275278013}, \"condition\": {\"type\": \"NUMERICAL_IS_HIGHER_THAN\", \"attribute\": \"wcde-Post_Secondary\", \"threshold\": 0.009999999776482582}, \"children\": [{\"value\": {\"type\": \"REGRESSION\", \"value\": 70.25091552734375, \"num_examples\": 817.0, \"standard_deviation\": 13.535704004492048}, \"condition\": {\"type\": \"NUMERICAL_IS_HIGHER_THAN\", \"attribute\": \"wcde-Lower_Secondary\", \"threshold\": 17.729999542236328}}, {\"value\": {\"type\": \"REGRESSION\", \"value\": 32.739139556884766, \"num_examples\": 93.0, \"standard_deviation\": 44.16463899282199}, \"condition\": {\"type\": \"NUMERICAL_IS_HIGHER_THAN\", \"attribute\": \"wcde-Lower_Secondary\", \"threshold\": 1.1100000143051147}}]}]}, {\"value\": {\"type\": \"REGRESSION\", \"value\": 14.522637367248535, \"num_examples\": 3375.0, \"standard_deviation\": 20.578996112724816}, \"condition\": {\"type\": \"NUMERICAL_IS_HIGHER_THAN\", \"attribute\": \"wcde-Post_Secondary\", \"threshold\": 23.209999084472656}, \"children\": [{\"value\": {\"type\": \"REGRESSION\", \"value\": 4.074080944061279, \"num_examples\": 1882.0, \"standard_deviation\": 6.533071756387263}, \"condition\": {\"type\": \"NUMERICAL_IS_HIGHER_THAN\", \"attribute\": \"wcde-Post_Secondary\", \"threshold\": 40.45000076293945}, \"children\": [{\"value\": {\"type\": \"REGRESSION\", \"value\": 1.7568734884262085, \"num_examples\": 1273.0, \"standard_deviation\": 3.3426949498649647}, \"condition\": {\"type\": \"NUMERICAL_IS_HIGHER_THAN\", \"attribute\": \"Avg_daily_income_ppp\", \"threshold\": 96.05000305175781}}, {\"value\": {\"type\": \"REGRESSION\", \"value\": 8.917766571044922, \"num_examples\": 609.0, \"standard_deviation\": 8.593965262534528}, \"condition\": {\"type\": \"NUMERICAL_IS_HIGHER_THAN\", \"attribute\": \"Avg_daily_income_ppp\", \"threshold\": 37.25}}]}, {\"value\": {\"type\": \"REGRESSION\", \"value\": 27.69355583190918, \"num_examples\": 1493.0, \"standard_deviation\": 24.34008481140341}, \"condition\": {\"type\": \"NUMERICAL_IS_HIGHER_THAN\", \"attribute\": \"Avg_daily_income_ppp\", \"threshold\": 4.015000343322754}, \"children\": [{\"value\": {\"type\": \"REGRESSION\", \"value\": 19.92909812927246, \"num_examples\": 954.0, \"standard_deviation\": 17.843267324620253}, \"condition\": {\"type\": \"NUMERICAL_IS_HIGHER_THAN\", \"attribute\": \"wcde-Lower_Secondary\", \"threshold\": 4.5}}, {\"value\": {\"type\": \"REGRESSION\", \"value\": 41.436214447021484, \"num_examples\": 539.0, \"standard_deviation\": 27.963214442985485}, \"condition\": {\"type\": \"NUMERICAL_IS_HIGHER_THAN\", \"attribute\": \"infant_mortality\", \"threshold\": 62.379730224609375}}]}]}]}, \"#tree_plot_3f8e8e1c87ea4a2bab4fc02d11e3e4ca\")\n",
              "</script>\n"
            ],
            "text/plain": [
              "<IPython.core.display.HTML object>"
            ]
          },
          "metadata": {},
          "execution_count": 42
        }
      ]
    },
    {
      "cell_type": "code",
      "metadata": {
        "id": "9dd29dXaO8AB",
        "colab": {
          "base_uri": "https://localhost:8080/"
        },
        "outputId": "5de8571a-9731-40e8-8f07-18770defd3e3"
      },
      "source": [
        "# %set_cell_height 300\n",
        "\n",
        "model.summary()"
      ],
      "execution_count": 43,
      "outputs": [
        {
          "output_type": "stream",
          "name": "stdout",
          "text": [
            "Model: \"random_forest_model\"\n",
            "_________________________________________________________________\n",
            " Layer (type)                Output Shape              Param #   \n",
            "=================================================================\n",
            "=================================================================\n",
            "Total params: 1\n",
            "Trainable params: 0\n",
            "Non-trainable params: 1\n",
            "_________________________________________________________________\n",
            "Type: \"RANDOM_FOREST\"\n",
            "Task: REGRESSION\n",
            "Label: \"__LABEL\"\n",
            "\n",
            "Input Features (8):\n",
            "\tAvg_daily_income_ppp\n",
            "\tgdp_per_captia\n",
            "\tinfant_mortality\n",
            "\tpopulation\n",
            "\tprimary_completion\n",
            "\tsex-ratio\n",
            "\twcde-Lower_Secondary\n",
            "\twcde-Post_Secondary\n",
            "\n",
            "No weights\n",
            "\n",
            "Variable Importance: MEAN_MIN_DEPTH:\n",
            "    1.              \"__LABEL\" 11.293061 ################\n",
            "    2.       \"gdp_per_captia\" 10.298038 ##############\n",
            "    3.   \"primary_completion\"  9.754294 #############\n",
            "    4.           \"population\"  7.931297 ##########\n",
            "    5.            \"sex-ratio\"  5.689731 ######\n",
            "    6.     \"infant_mortality\"  4.365876 ####\n",
            "    7. \"Avg_daily_income_ppp\"  4.301345 ####\n",
            "    8. \"wcde-Lower_Secondary\"  4.247263 ####\n",
            "    9.  \"wcde-Post_Secondary\"  1.463571 \n",
            "\n",
            "Variable Importance: NUM_AS_ROOT:\n",
            "    1.  \"wcde-Post_Secondary\" 145.000000 ################\n",
            "    2.     \"infant_mortality\" 71.000000 #######\n",
            "    3. \"Avg_daily_income_ppp\" 65.000000 ######\n",
            "    4.            \"sex-ratio\" 14.000000 #\n",
            "    5. \"wcde-Lower_Secondary\"  5.000000 \n",
            "\n",
            "Variable Importance: NUM_NODES:\n",
            "    1. \"wcde-Lower_Secondary\" 35589.000000 ################\n",
            "    2.           \"population\" 30736.000000 #############\n",
            "    3.  \"wcde-Post_Secondary\" 28997.000000 ############\n",
            "    4.            \"sex-ratio\" 25281.000000 ##########\n",
            "    5. \"Avg_daily_income_ppp\" 25273.000000 ##########\n",
            "    6.     \"infant_mortality\" 24795.000000 #########\n",
            "    7.       \"gdp_per_captia\" 14992.000000 ####\n",
            "    8.   \"primary_completion\" 7454.000000 \n",
            "\n",
            "Variable Importance: SUM_SCORE:\n",
            "    1.  \"wcde-Post_Secondary\" 415359583.568648 ################\n",
            "    2. \"wcde-Lower_Secondary\" 327825913.917098 ############\n",
            "    3.     \"infant_mortality\" 208636342.020599 #######\n",
            "    4. \"Avg_daily_income_ppp\" 163359051.374678 ######\n",
            "    5.            \"sex-ratio\" 44680920.829147 #\n",
            "    6.           \"population\" 15418102.830054 \n",
            "    7.   \"primary_completion\" 4398571.789117 \n",
            "    8.       \"gdp_per_captia\" 2572334.320417 \n",
            "\n",
            "\n",
            "\n",
            "Out-of-bag evaluation: rmse:2.78883\n",
            "Number of trees: 300\n",
            "Total number of nodes: 386534\n",
            "\n",
            "Number of nodes by tree:\n",
            "Count: 300 Average: 1288.45 StdDev: 38.0295\n",
            "Min: 1131 Max: 1385 Ignored: 0\n",
            "----------------------------------------------\n",
            "[ 1131, 1143)  1   0.33%   0.33%\n",
            "[ 1143, 1156)  0   0.00%   0.33%\n",
            "[ 1156, 1169)  1   0.33%   0.67%\n",
            "[ 1169, 1182)  0   0.00%   0.67%\n",
            "[ 1182, 1194)  2   0.67%   1.33%\n",
            "[ 1194, 1207)  2   0.67%   2.00%\n",
            "[ 1207, 1220)  7   2.33%   4.33% #\n",
            "[ 1220, 1233)  8   2.67%   7.00% ##\n",
            "[ 1233, 1245) 12   4.00%  11.00% ##\n",
            "[ 1245, 1258) 26   8.67%  19.67% #####\n",
            "[ 1258, 1271) 37  12.33%  32.00% ########\n",
            "[ 1271, 1284) 34  11.33%  43.33% #######\n",
            "[ 1284, 1296) 27   9.00%  52.33% ######\n",
            "[ 1296, 1309) 37  12.33%  64.67% ########\n",
            "[ 1309, 1322) 49  16.33%  81.00% ##########\n",
            "[ 1322, 1335) 28   9.33%  90.33% ######\n",
            "[ 1335, 1347) 17   5.67%  96.00% ###\n",
            "[ 1347, 1360)  7   2.33%  98.33% #\n",
            "[ 1360, 1373)  4   1.33%  99.67% #\n",
            "[ 1373, 1385]  1   0.33% 100.00%\n",
            "\n",
            "Depth by leafs:\n",
            "Count: 193417 Average: 11.2918 StdDev: 2.30379\n",
            "Min: 2 Max: 15 Ignored: 0\n",
            "----------------------------------------------\n",
            "[  2,  3)    18   0.01%   0.01%\n",
            "[  3,  4)    49   0.03%   0.03%\n",
            "[  4,  5)   275   0.14%   0.18%\n",
            "[  5,  6)  1135   0.59%   0.76%\n",
            "[  6,  7)  3089   1.60%   2.36% #\n",
            "[  7,  8)  6172   3.19%   5.55% ##\n",
            "[  8,  9) 12055   6.23%  11.78% ####\n",
            "[  9, 10) 19927  10.30%  22.09% ######\n",
            "[ 10, 11) 27656  14.30%  36.39% #########\n",
            "[ 11, 12) 31104  16.08%  52.47% ##########\n",
            "[ 12, 13) 29676  15.34%  67.81% ##########\n",
            "[ 13, 14) 25328  13.10%  80.90% ########\n",
            "[ 14, 15) 18523   9.58%  90.48% ######\n",
            "[ 15, 15] 18410   9.52% 100.00% ######\n",
            "\n",
            "Number of training obs by leaf:\n",
            "Count: 193417 Average: 7.24187 StdDev: 6.86968\n",
            "Min: 5 Max: 242 Ignored: 0\n",
            "----------------------------------------------\n",
            "[   5,  16) 188161  97.28%  97.28% ##########\n",
            "[  16,  28)   2770   1.43%  98.71%\n",
            "[  28,  40)   1041   0.54%  99.25%\n",
            "[  40,  52)    522   0.27%  99.52%\n",
            "[  52,  64)    294   0.15%  99.67%\n",
            "[  64,  76)    168   0.09%  99.76%\n",
            "[  76,  88)    107   0.06%  99.82%\n",
            "[  88, 100)    105   0.05%  99.87%\n",
            "[ 100, 112)     77   0.04%  99.91%\n",
            "[ 112, 124)     55   0.03%  99.94%\n",
            "[ 124, 135)     41   0.02%  99.96%\n",
            "[ 135, 147)     29   0.01%  99.98%\n",
            "[ 147, 159)     12   0.01%  99.98%\n",
            "[ 159, 171)     12   0.01%  99.99%\n",
            "[ 171, 183)      8   0.00%  99.99%\n",
            "[ 183, 195)     10   0.01% 100.00%\n",
            "[ 195, 207)      2   0.00% 100.00%\n",
            "[ 207, 219)      2   0.00% 100.00%\n",
            "[ 219, 231)      0   0.00% 100.00%\n",
            "[ 231, 242]      1   0.00% 100.00%\n",
            "\n",
            "Attribute in nodes:\n",
            "\t35589 : wcde-Lower_Secondary [NUMERICAL]\n",
            "\t30736 : population [NUMERICAL]\n",
            "\t28997 : wcde-Post_Secondary [NUMERICAL]\n",
            "\t25281 : sex-ratio [NUMERICAL]\n",
            "\t25273 : Avg_daily_income_ppp [NUMERICAL]\n",
            "\t24795 : infant_mortality [NUMERICAL]\n",
            "\t14992 : gdp_per_captia [NUMERICAL]\n",
            "\t7454 : primary_completion [NUMERICAL]\n",
            "\n",
            "Attribute in nodes with depth <= 0:\n",
            "\t145 : wcde-Post_Secondary [NUMERICAL]\n",
            "\t71 : infant_mortality [NUMERICAL]\n",
            "\t65 : Avg_daily_income_ppp [NUMERICAL]\n",
            "\t14 : sex-ratio [NUMERICAL]\n",
            "\t5 : wcde-Lower_Secondary [NUMERICAL]\n",
            "\n",
            "Attribute in nodes with depth <= 1:\n",
            "\t333 : wcde-Post_Secondary [NUMERICAL]\n",
            "\t196 : infant_mortality [NUMERICAL]\n",
            "\t151 : wcde-Lower_Secondary [NUMERICAL]\n",
            "\t135 : Avg_daily_income_ppp [NUMERICAL]\n",
            "\t75 : sex-ratio [NUMERICAL]\n",
            "\t6 : population [NUMERICAL]\n",
            "\t4 : primary_completion [NUMERICAL]\n",
            "\n",
            "Attribute in nodes with depth <= 2:\n",
            "\t652 : wcde-Post_Secondary [NUMERICAL]\n",
            "\t492 : wcde-Lower_Secondary [NUMERICAL]\n",
            "\t365 : infant_mortality [NUMERICAL]\n",
            "\t248 : Avg_daily_income_ppp [NUMERICAL]\n",
            "\t204 : sex-ratio [NUMERICAL]\n",
            "\t73 : primary_completion [NUMERICAL]\n",
            "\t45 : population [NUMERICAL]\n",
            "\t3 : gdp_per_captia [NUMERICAL]\n",
            "\n",
            "Attribute in nodes with depth <= 3:\n",
            "\t1200 : wcde-Lower_Secondary [NUMERICAL]\n",
            "\t1138 : wcde-Post_Secondary [NUMERICAL]\n",
            "\t644 : infant_mortality [NUMERICAL]\n",
            "\t526 : Avg_daily_income_ppp [NUMERICAL]\n",
            "\t437 : sex-ratio [NUMERICAL]\n",
            "\t259 : population [NUMERICAL]\n",
            "\t173 : primary_completion [NUMERICAL]\n",
            "\t20 : gdp_per_captia [NUMERICAL]\n",
            "\n",
            "Attribute in nodes with depth <= 5:\n",
            "\t4624 : wcde-Lower_Secondary [NUMERICAL]\n",
            "\t3261 : wcde-Post_Secondary [NUMERICAL]\n",
            "\t2025 : infant_mortality [NUMERICAL]\n",
            "\t1887 : Avg_daily_income_ppp [NUMERICAL]\n",
            "\t1769 : sex-ratio [NUMERICAL]\n",
            "\t1674 : population [NUMERICAL]\n",
            "\t658 : primary_completion [NUMERICAL]\n",
            "\t429 : gdp_per_captia [NUMERICAL]\n",
            "\n",
            "Condition type in nodes:\n",
            "\t193117 : HigherCondition\n",
            "Condition type in nodes with depth <= 0:\n",
            "\t300 : HigherCondition\n",
            "Condition type in nodes with depth <= 1:\n",
            "\t900 : HigherCondition\n",
            "Condition type in nodes with depth <= 2:\n",
            "\t2082 : HigherCondition\n",
            "Condition type in nodes with depth <= 3:\n",
            "\t4397 : HigherCondition\n",
            "Condition type in nodes with depth <= 5:\n",
            "\t16327 : HigherCondition\n",
            "Node format: NOT_SET\n",
            "\n",
            "Training OOB:\n",
            "\ttrees: 1, Out-of-bag evaluation: rmse:4.80299\n",
            "\ttrees: 11, Out-of-bag evaluation: rmse:3.65069\n",
            "\ttrees: 22, Out-of-bag evaluation: rmse:3.17549\n",
            "\ttrees: 32, Out-of-bag evaluation: rmse:3.00881\n",
            "\ttrees: 42, Out-of-bag evaluation: rmse:2.95983\n",
            "\ttrees: 52, Out-of-bag evaluation: rmse:2.91018\n",
            "\ttrees: 62, Out-of-bag evaluation: rmse:2.88432\n",
            "\ttrees: 72, Out-of-bag evaluation: rmse:2.85496\n",
            "\ttrees: 82, Out-of-bag evaluation: rmse:2.85401\n",
            "\ttrees: 92, Out-of-bag evaluation: rmse:2.83809\n",
            "\ttrees: 102, Out-of-bag evaluation: rmse:2.82958\n",
            "\ttrees: 112, Out-of-bag evaluation: rmse:2.81075\n",
            "\ttrees: 122, Out-of-bag evaluation: rmse:2.80133\n",
            "\ttrees: 132, Out-of-bag evaluation: rmse:2.8033\n",
            "\ttrees: 142, Out-of-bag evaluation: rmse:2.7875\n",
            "\ttrees: 152, Out-of-bag evaluation: rmse:2.79011\n",
            "\ttrees: 162, Out-of-bag evaluation: rmse:2.77561\n",
            "\ttrees: 172, Out-of-bag evaluation: rmse:2.76967\n",
            "\ttrees: 182, Out-of-bag evaluation: rmse:2.76438\n",
            "\ttrees: 192, Out-of-bag evaluation: rmse:2.76557\n",
            "\ttrees: 202, Out-of-bag evaluation: rmse:2.77303\n",
            "\ttrees: 212, Out-of-bag evaluation: rmse:2.77313\n",
            "\ttrees: 222, Out-of-bag evaluation: rmse:2.7742\n",
            "\ttrees: 232, Out-of-bag evaluation: rmse:2.77937\n",
            "\ttrees: 242, Out-of-bag evaluation: rmse:2.78163\n",
            "\ttrees: 252, Out-of-bag evaluation: rmse:2.77957\n",
            "\ttrees: 262, Out-of-bag evaluation: rmse:2.78448\n",
            "\ttrees: 272, Out-of-bag evaluation: rmse:2.78425\n",
            "\ttrees: 282, Out-of-bag evaluation: rmse:2.78515\n",
            "\ttrees: 292, Out-of-bag evaluation: rmse:2.78905\n",
            "\ttrees: 300, Out-of-bag evaluation: rmse:2.78883\n",
            "\n"
          ]
        }
      ]
    },
    {
      "cell_type": "markdown",
      "metadata": {
        "id": "Ck40I_2pO2t8"
      },
      "source": [
        "# RNN Algorithm"
      ]
    },
    {
      "cell_type": "code",
      "metadata": {
        "id": "WoTPvb0hO2BL"
      },
      "source": [
        ""
      ],
      "execution_count": null,
      "outputs": []
    },
    {
      "cell_type": "code",
      "metadata": {
        "id": "VOgX1z4ssI_r"
      },
      "source": [
        ""
      ],
      "execution_count": null,
      "outputs": []
    },
    {
      "cell_type": "code",
      "metadata": {
        "id": "VAYG6P8ysI8I"
      },
      "source": [
        ""
      ],
      "execution_count": null,
      "outputs": []
    },
    {
      "cell_type": "code",
      "metadata": {
        "id": "kSrlOe2ysI2e"
      },
      "source": [
        ""
      ],
      "execution_count": null,
      "outputs": []
    },
    {
      "cell_type": "code",
      "metadata": {
        "id": "F9EhQCMjsIzH"
      },
      "source": [
        ""
      ],
      "execution_count": null,
      "outputs": []
    },
    {
      "cell_type": "code",
      "metadata": {
        "id": "a7hOC8ZBsIwK"
      },
      "source": [
        ""
      ],
      "execution_count": null,
      "outputs": []
    },
    {
      "cell_type": "code",
      "metadata": {
        "id": "5Rj_nYZ0sItM"
      },
      "source": [
        ""
      ],
      "execution_count": null,
      "outputs": []
    },
    {
      "cell_type": "code",
      "metadata": {
        "id": "aHcOgjQOsIjf"
      },
      "source": [
        ""
      ],
      "execution_count": null,
      "outputs": []
    },
    {
      "cell_type": "markdown",
      "metadata": {
        "id": "pavoB83cgMS_"
      },
      "source": [
        "from the above output\n",
        "- **malnutrition & people in povery** have least no of countries\n",
        "- **infant mortality & gdp per captia** have highest no of countries\n",
        "\n",
        "*Doubt:* Does having more data for one factor will make the decision tree bias?\n"
      ]
    },
    {
      "cell_type": "markdown",
      "metadata": {
        "id": "26MX_yiOLQM1"
      },
      "source": [
        "###Steps\n",
        "1. create a csv file such that each row contains all values of particular year & country present\n",
        "2. the output for each row is year + 40 years corresponding value \n",
        "    1. **outputs** - life expectany, education level, gdp\n",
        "\n",
        "\n"
      ]
    },
    {
      "cell_type": "markdown",
      "metadata": {
        "id": "2UMi5KTtyRsq"
      },
      "source": [
        "From above output\n",
        "- if we dont drop any rows our table size = 4256 entries\n",
        "- if we drop rows containing any if all of outputs missing then our table size = 3039 entries\n",
        "- if we drop rows containing any one of output missing then our table size = 1745 entries\n",
        "\n",
        "so, I think its is better to go with second choice and build different models, but not sure it will not effect performance of the model\n"
      ]
    },
    {
      "cell_type": "markdown",
      "metadata": {
        "id": "rlvdCI-pzVEd"
      },
      "source": [
        "now we have the dataframe containing both inputs and ouputs,our next step is\n",
        "1. split the data into train & test data\n",
        "  1. try to split data based on continents to reduce bias\n",
        "2. build DF model using tensorflow\n",
        "3. check the accuracy of the model"
      ]
    }
  ]
}