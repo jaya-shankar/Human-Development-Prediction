{
  "nbformat": 4,
  "nbformat_minor": 0,
  "metadata": {
    "colab": {
      "name": "load_data.ipynb",
      "provenance": [],
      "include_colab_link": true
    },
    "kernelspec": {
      "name": "python3",
      "display_name": "Python 3"
    },
    "language_info": {
      "name": "python"
    }
  },
  "cells": [
    {
      "cell_type": "markdown",
      "metadata": {
        "id": "view-in-github",
        "colab_type": "text"
      },
      "source": [
        "<a href=\"https://colab.research.google.com/github/jaya-shankar/education-impact/blob/master/load_data.ipynb\" target=\"_parent\"><img src=\"https://colab.research.google.com/assets/colab-badge.svg\" alt=\"Open In Colab\"/></a>"
      ]
    },
    {
      "cell_type": "code",
      "metadata": {
        "colab": {
          "base_uri": "https://localhost:8080/"
        },
        "id": "WLCGn-YlJ5k5",
        "outputId": "393183ad-8126-40d7-b182-c29ed1e5cbf6"
      },
      "source": [
        "!git clone https://github.com/jaya-shankar/education-impact.git\n"
      ],
      "execution_count": 1,
      "outputs": [
        {
          "output_type": "stream",
          "name": "stdout",
          "text": [
            "Cloning into 'education-impact'...\n",
            "remote: Enumerating objects: 40, done.\u001b[K\n",
            "remote: Counting objects: 100% (40/40), done.\u001b[K\n",
            "remote: Compressing objects: 100% (30/30), done.\u001b[K\n",
            "remote: Total 40 (delta 11), reused 33 (delta 8), pack-reused 0\u001b[K\n",
            "Unpacking objects: 100% (40/40), done.\n"
          ]
        }
      ]
    },
    {
      "cell_type": "code",
      "metadata": {
        "id": "mHtPKJNNQ7Zv"
      },
      "source": [
        "root = \"education-impact/\" \n",
        "datasets_path = {\n",
        "                    \"child_mortality\"               :  root+ \"datasets/child_mortality_0_5_year_olds_dying_per_1000_born.csv\",\n",
        "                    \"children_per_woman\"            :  root+\"datasets/children_per_woman_total_fertility.csv\",\n",
        "                    \"co2_emissions\"                 :  root+\"datasets/co2_emissions_tonnes_per_person.csv\",\n",
        "                    \"population\"                    :  root+ \"datasets/converted_pop.csv\",\n",
        "                    \"expenditure_per_student\"       :  root+ \"datasets/expenditure_per_student_secondary_percent_of_gdp_per_person.csv\",\n",
        "                    \"food_supply\"                   :  root+ \"datasets/food_supply_kilocalories_per_person_and_day.csv\",\n",
        "                    \"gdp_per_captia\"                :  root+ \"datasets/gdp_per_capita_yearly_growth.csv\",\n",
        "                    \"gini_index\"                    :  root+ \"datasets/gini.csv\",\n",
        "                    \"infant_mortality\"              :  root+ \"datasets/Infant_Mortality_Rate.csv\",\n",
        "                    \"life_expectancy\"               :  root+ \"datasets/life_expectancy_years.csv\",\n",
        "                    \"malnutrition\"                  :  root+ \"datasets/malnutrition_weight_for_age_percent_of_children_under_5.csv\",\n",
        "                    \"poverty_index\"                 :  root+ \"datasets/mincpcap_cppp.csv\",\n",
        "                    \"maternal_mortality\"            :  root+ \"datasets/mmr_who.csv\",\n",
        "                    \"people_in_poverty\"             :  root+ \"datasets/number_of_people_in_poverty.csv\",\n",
        "                    \"primary_completion\"            :  root+ \"datasets/primary_school_completion_percent_of_girls.csv\",\n",
        "                    \"ratio_b/g_in_primary\"          :  root+ \"datasets/ratio_of_girls_to_boys_in_primary_and_secondary_education_perc.csv\",\n",
        "                    \"sex_ratio\"                     :  root+ \"datasets/sex-ratio.csv\"\n",
        "                }"
      ],
      "execution_count": null,
      "outputs": []
    },
    {
      "cell_type": "code",
      "metadata": {
        "colab": {
          "base_uri": "https://localhost:8080/"
        },
        "id": "GeM0rvqVRLLD",
        "outputId": "f50f35a5-f36b-4d68-b0fc-68a34eb8b3fe"
      },
      "source": [
        "datasets_path"
      ],
      "execution_count": null,
      "outputs": [
        {
          "output_type": "execute_result",
          "data": {
            "text/plain": [
              "{'child_mortality': 'education-impact/datasets/child_mortality_0_5_year_olds_dying_per_1000_born.csv',\n",
              " 'children_per_woman': 'education-impact/datasets/children_per_woman_total_fertility.csv',\n",
              " 'co2_emissions': 'education-impact/datasets/co2_emissions_tonnes_per_person.csv',\n",
              " 'expenditure_per_student': 'education-impact/datasets/expenditure_per_student_secondary_percent_of_gdp_per_person.csv',\n",
              " 'food_supply': 'education-impact/datasets/food_supply_kilocalories_per_person_and_day.csv',\n",
              " 'gdp_per_captia': 'education-impact/datasets/gdp_per_capita_yearly_growth.csv',\n",
              " 'gini_index': 'education-impact/datasets/gini.csv',\n",
              " 'infant_mortality': 'education-impact/datasets/Infant_Mortality_Rate.csv',\n",
              " 'life_expectancy': 'education-impact/datasets/life_expectancy_years.csv',\n",
              " 'malnutrition': 'education-impact/datasets/malnutrition_weight_for_age_percent_of_children_under_5.csv',\n",
              " 'maternal_mortality': 'education-impact/datasets/mmr_who.csv',\n",
              " 'people_in_poverty': 'education-impact/datasets/number_of_people_in_poverty.csv',\n",
              " 'population': 'education-impact/datasets/converted_pop.csv',\n",
              " 'poverty_index': 'education-impact/datasets/mincpcap_cppp.csv',\n",
              " 'primary_completion': 'education-impact/datasets/primary_school_completion_percent_of_girls.csv',\n",
              " 'ratio_b/g_in_primary': 'education-impact/datasets/ratio_of_girls_to_boys_in_primary_and_secondary_education_perc.csv',\n",
              " 'sex_ratio': 'education-impact/datasets/sex-ratio.csv'}"
            ]
          },
          "metadata": {},
          "execution_count": 8
        }
      ]
    },
    {
      "cell_type": "code",
      "metadata": {
        "id": "PWHauD_9RN8n",
        "colab": {
          "base_uri": "https://localhost:8080/"
        },
        "outputId": "eaa07eca-a72c-4804-d92e-f03d5be413a0"
      },
      "source": [
        "from pandas import read_csv\n",
        "df = read_csv(datasets_path[\"child_mortality\"])\n",
        "print(df.head)\n",
        "data = df.values\n",
        "data"
      ],
      "execution_count": null,
      "outputs": [
        {
          "output_type": "stream",
          "name": "stdout",
          "text": [
            "<bound method NDFrame.head of                   country   1960   1961   1962  ...    2012   2013   2014   2015\n",
            "0             Afghanistan  357.0  351.0  345.0  ...   80.50  77.00  73.50  70.40\n",
            "1                  Angola  308.0  305.0  302.0  ...  105.00  98.40  92.90  88.10\n",
            "2                 Albania  188.0  180.0  173.0  ...   11.40  10.70  10.10   9.60\n",
            "3                 Andorra   36.6   34.5   32.6  ...    3.79   3.61   3.43   3.27\n",
            "4    United Arab Emirates  200.0  189.0  180.0  ...    8.13   8.00   7.91   7.83\n",
            "..                    ...    ...    ...    ...  ...     ...    ...    ...    ...\n",
            "192                 Samoa  135.0  131.0  127.0  ...   18.30  17.90  17.60  17.20\n",
            "193                 Yemen  418.0  414.0  409.0  ...   55.00  55.00  55.00  55.00\n",
            "194          South Africa  191.0  188.0  184.0  ...   43.30  41.20  39.50  37.70\n",
            "195                Zambia  206.0  202.0  198.0  ...   74.30  70.70  66.90  64.60\n",
            "196              Zimbabwe  151.0  147.0  142.0  ...   69.80  62.30  57.50  54.30\n",
            "\n",
            "[197 rows x 57 columns]>\n"
          ]
        },
        {
          "output_type": "execute_result",
          "data": {
            "text/plain": [
              "array([['Afghanistan', 357.0, 351.0, ..., 77.0, 73.5, 70.4],\n",
              "       ['Angola', 308.0, 305.0, ..., 98.4, 92.9, 88.1],\n",
              "       ['Albania', 188.0, 180.0, ..., 10.7, 10.1, 9.6],\n",
              "       ...,\n",
              "       ['South Africa', 191.0, 188.0, ..., 41.2, 39.5, 37.7],\n",
              "       ['Zambia', 206.0, 202.0, ..., 70.7, 66.9, 64.6],\n",
              "       ['Zimbabwe', 151.0, 147.0, ..., 62.3, 57.5, 54.3]], dtype=object)"
            ]
          },
          "metadata": {},
          "execution_count": 10
        }
      ]
    }
  ]
}