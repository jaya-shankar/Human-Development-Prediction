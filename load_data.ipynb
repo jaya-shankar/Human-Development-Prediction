{
  "nbformat": 4,
  "nbformat_minor": 0,
  "metadata": {
    "colab": {
      "name": "load_data.ipynb",
      "provenance": [],
      "include_colab_link": true
    },
    "kernelspec": {
      "name": "python3",
      "display_name": "Python 3"
    },
    "language_info": {
      "name": "python"
    }
  },
  "cells": [
    {
      "cell_type": "markdown",
      "metadata": {
        "id": "view-in-github",
        "colab_type": "text"
      },
      "source": [
        "<a href=\"https://colab.research.google.com/github/jaya-shankar/education-impact/blob/master/load_data.ipynb\" target=\"_parent\"><img src=\"https://colab.research.google.com/assets/colab-badge.svg\" alt=\"Open In Colab\"/></a>"
      ]
    },
    {
      "cell_type": "code",
      "metadata": {
        "id": "_5tBhvAJeBj7",
        "outputId": "a9aad74b-dec0-4194-e45a-6e7fea4210c4",
        "colab": {
          "base_uri": "https://localhost:8080/"
        }
      },
      "source": [
        "!rm -rf education-impact\n",
        "!rm education-impact"
      ],
      "execution_count": 4,
      "outputs": [
        {
          "output_type": "stream",
          "name": "stdout",
          "text": [
            "rm: cannot remove 'education-impact': No such file or directory\n"
          ]
        }
      ]
    },
    {
      "cell_type": "code",
      "metadata": {
        "colab": {
          "base_uri": "https://localhost:8080/"
        },
        "id": "WLCGn-YlJ5k5",
        "outputId": "b5b92a30-7a2b-4082-b958-5ef5a3ca5b6e"
      },
      "source": [
        "!git clone https://github.com/jaya-shankar/education-impact.git\n"
      ],
      "execution_count": 5,
      "outputs": [
        {
          "output_type": "stream",
          "name": "stdout",
          "text": [
            "Cloning into 'education-impact'...\n",
            "remote: Enumerating objects: 105, done.\u001b[K\n",
            "remote: Counting objects: 100% (105/105), done.\u001b[K\n",
            "remote: Compressing objects: 100% (81/81), done.\u001b[K\n",
            "remote: Total 105 (delta 46), reused 70 (delta 22), pack-reused 0\u001b[K\n",
            "Receiving objects: 100% (105/105), 966.13 KiB | 3.17 MiB/s, done.\n",
            "Resolving deltas: 100% (46/46), done.\n"
          ]
        }
      ]
    },
    {
      "cell_type": "code",
      "metadata": {
        "id": "mHtPKJNNQ7Zv"
      },
      "source": [
        "root = \"education-impact/\" \n",
        "datasets_path = {\n",
        "                    \"child_mortality\"               :  root+ \"datasets/child_mortality_0_5_year_olds_dying_per_1000_born.csv\",\n",
        "                    \"children_per_woman\"            :  root+ \"datasets/children_per_woman_total_fertility.csv\",\n",
        "                    \"co2_emissions\"                 :  root+\"datasets/co2_emissions_tonnes_per_person.csv\",\n",
        "                    \"population\"                    :  root+ \"datasets/converted_pop.csv\",\n",
        "                    # \"expenditure_per_student\"       :  root+ \"datasets/expenditure_per_student_secondary_percent_of_gdp_per_person.csv\",\n",
        "                    \"food_supply\"                   :  root+ \"datasets/food_supply_kilocalories_per_person_and_day.csv\",\n",
        "                    \"gdp_per_captia\"                :  root+ \"datasets/gdp_per_capita_yearly_growth.csv\",\n",
        "                    \"gini_index\"                    :  root+ \"datasets/gini.csv\",\n",
        "                    \"infant_mortality\"              :  root+ \"datasets/Infant_Mortality_Rate.csv\",\n",
        "                    \"life_expectancy\"               :  root+ \"datasets/life_expectancy_years.csv\",\n",
        "                    \"malnutrition\"                  :  root+ \"datasets/malnutrition_weight_for_age_percent_of_children_under_5.csv\",\n",
        "                    \"poverty_index\"                 :  root+ \"datasets/mincpcap_cppp.csv\",\n",
        "                    \"maternal_mortality\"            :  root+ \"datasets/mmr_who.csv\",\n",
        "                    \"people_in_poverty\"             :  root+ \"datasets/number_of_people_in_poverty.csv\",\n",
        "                    \"primary_completion\"            :  root+ \"datasets/primary_school_completion_percent_of_girls.csv\",\n",
        "                    \"ratio_b/g_in_primary\"          :  root+ \"datasets/ratio_of_girls_to_boys_in_primary_and_secondary_education_perc.csv\",\n",
        "                    \"wcde-15--24\"                   :  root+ \"datasets/wcde-15--24.csv\",\n",
        "                    \"wcde-25--34\"                   :  root+ \"datasets/wcde-25--34.csv\",\n",
        "                    \"wcde-35--44\"                   :  root+ \"datasets/wcde-35--44.csv\",\n",
        "                    \"wcde-45--54\"                   :  root+ \"datasets/wcde-45--54.csv\",\n",
        "                    \"wcde-55--64\"                   :  root+ \"datasets/wcde-55--64.csv\",\n",
        "                    \"wcde-65--74\"                   :  root+ \"datasets/wcde-65--74.csv\",\n",
        "                    \"wcde-75--84\"                   :  root+ \"datasets/wcde-75--84.csv\",\n",
        "                    \"wcde-85--94\"                   :  root+ \"datasets/wcde-85--94.csv\",\n",
        "                    \"wcde-95--\"                     :  root+ \"datasets/wcde-95--.csv\",\n",
        "                 \n",
        "                }"
      ],
      "execution_count": 6,
      "outputs": []
    },
    {
      "cell_type": "code",
      "metadata": {
        "colab": {
          "base_uri": "https://localhost:8080/"
        },
        "id": "GeM0rvqVRLLD",
        "outputId": "3c12c653-b542-4016-dba9-0715d133fe85"
      },
      "source": [
        "datasets_path"
      ],
      "execution_count": 7,
      "outputs": [
        {
          "output_type": "execute_result",
          "data": {
            "text/plain": [
              "{'child_mortality': 'education-impact/datasets/child_mortality_0_5_year_olds_dying_per_1000_born.csv',\n",
              " 'children_per_woman': 'education-impact/datasets/children_per_woman_total_fertility.csv',\n",
              " 'co2_emissions': 'education-impact/datasets/co2_emissions_tonnes_per_person.csv',\n",
              " 'food_supply': 'education-impact/datasets/food_supply_kilocalories_per_person_and_day.csv',\n",
              " 'gdp_per_captia': 'education-impact/datasets/gdp_per_capita_yearly_growth.csv',\n",
              " 'gini_index': 'education-impact/datasets/gini.csv',\n",
              " 'infant_mortality': 'education-impact/datasets/Infant_Mortality_Rate.csv',\n",
              " 'life_expectancy': 'education-impact/datasets/life_expectancy_years.csv',\n",
              " 'malnutrition': 'education-impact/datasets/malnutrition_weight_for_age_percent_of_children_under_5.csv',\n",
              " 'maternal_mortality': 'education-impact/datasets/mmr_who.csv',\n",
              " 'people_in_poverty': 'education-impact/datasets/number_of_people_in_poverty.csv',\n",
              " 'population': 'education-impact/datasets/converted_pop.csv',\n",
              " 'poverty_index': 'education-impact/datasets/mincpcap_cppp.csv',\n",
              " 'primary_completion': 'education-impact/datasets/primary_school_completion_percent_of_girls.csv',\n",
              " 'ratio_b/g_in_primary': 'education-impact/datasets/ratio_of_girls_to_boys_in_primary_and_secondary_education_perc.csv',\n",
              " 'wcde-15--24': 'education-impact/datasets/wcde-15--24.csv',\n",
              " 'wcde-25--34': 'education-impact/datasets/wcde-25--34.csv',\n",
              " 'wcde-35--44': 'education-impact/datasets/wcde-35--44.csv',\n",
              " 'wcde-45--54': 'education-impact/datasets/wcde-45--54.csv',\n",
              " 'wcde-55--64': 'education-impact/datasets/wcde-55--64.csv',\n",
              " 'wcde-65--74': 'education-impact/datasets/wcde-65--74.csv',\n",
              " 'wcde-75--84': 'education-impact/datasets/wcde-75--84.csv',\n",
              " 'wcde-85--94': 'education-impact/datasets/wcde-85--94.csv',\n",
              " 'wcde-95--': 'education-impact/datasets/wcde-95--.csv'}"
            ]
          },
          "metadata": {},
          "execution_count": 7
        }
      ]
    },
    {
      "cell_type": "code",
      "metadata": {
        "id": "PWHauD_9RN8n",
        "colab": {
          "base_uri": "https://localhost:8080/"
        },
        "outputId": "c7e13c29-eedb-4061-90b6-e6b8d5c10fa1"
      },
      "source": [
        "from pandas import read_csv\n",
        "countries_arr = []\n",
        "for path in datasets_path:\n",
        "  df = read_csv(datasets_path[path])\n",
        "  print(f\"{'Factor: ' + path:<30} count: {len(set(df.Country.unique()))}\")\n",
        "  "
      ],
      "execution_count": 13,
      "outputs": [
        {
          "output_type": "stream",
          "name": "stdout",
          "text": [
            "Factor: child_mortality        count: 197\n",
            "Factor: children_per_woman     count: 202\n",
            "Factor: co2_emissions          count: 194\n",
            "Factor: population             count: 197\n",
            "Factor: food_supply            count: 179\n",
            "Factor: gdp_per_captia         count: 221\n",
            "Factor: gini_index             count: 195\n",
            "Factor: infant_mortality       count: 266\n",
            "Factor: life_expectancy        count: 195\n",
            "Factor: malnutrition           count: 156\n",
            "Factor: poverty_index          count: 195\n",
            "Factor: maternal_mortality     count: 184\n",
            "Factor: people_in_poverty      count: 145\n",
            "Factor: primary_completion     count: 195\n",
            "Factor: ratio_b/g_in_primary   count: 200\n",
            "Factor: wcde-15--24            count: 202\n",
            "Factor: wcde-25--34            count: 202\n",
            "Factor: wcde-35--44            count: 202\n",
            "Factor: wcde-45--54            count: 202\n",
            "Factor: wcde-55--64            count: 202\n",
            "Factor: wcde-65--74            count: 202\n",
            "Factor: wcde-75--84            count: 202\n",
            "Factor: wcde-85--94            count: 202\n",
            "Factor: wcde-95--              count: 202\n"
          ]
        }
      ]
    },
    {
      "cell_type": "markdown",
      "metadata": {
        "id": "pavoB83cgMS_"
      },
      "source": [
        "from the above output\n",
        "- **malnutrition & people in povery** have least no of countries\n",
        "- **infant mortality & gdp per captia** have highest no of countries\n",
        "\n",
        "*Doubt:* Does having more data for one factor will make the decision tree bias?\n"
      ]
    }
  ]
}