{
  "nbformat": 4,
  "nbformat_minor": 0,
  "metadata": {
    "colab": {
      "name": "load_data.ipynb",
      "provenance": [],
      "include_colab_link": true
    },
    "kernelspec": {
      "name": "python3",
      "display_name": "Python 3"
    },
    "language_info": {
      "name": "python"
    }
  },
  "cells": [
    {
      "cell_type": "markdown",
      "metadata": {
        "id": "view-in-github",
        "colab_type": "text"
      },
      "source": [
        "<a href=\"https://colab.research.google.com/github/jaya-shankar/education-impact/blob/master/load_data.ipynb\" target=\"_parent\"><img src=\"https://colab.research.google.com/assets/colab-badge.svg\" alt=\"Open In Colab\"/></a>"
      ]
    },
    {
      "cell_type": "code",
      "metadata": {
        "colab": {
          "base_uri": "https://localhost:8080/"
        },
        "id": "_5tBhvAJeBj7",
        "outputId": "a9aad74b-dec0-4194-e45a-6e7fea4210c4"
      },
      "source": [
        "!rm -rf education-impact\n",
        "!rm education-impact"
      ],
      "execution_count": 4,
      "outputs": [
        {
          "output_type": "stream",
          "name": "stdout",
          "text": [
            "rm: cannot remove 'education-impact': No such file or directory\n"
          ]
        }
      ]
    },
    {
      "cell_type": "code",
      "metadata": {
        "colab": {
          "base_uri": "https://localhost:8080/"
        },
        "id": "WLCGn-YlJ5k5",
        "outputId": "b5b92a30-7a2b-4082-b958-5ef5a3ca5b6e"
      },
      "source": [
        "!git clone https://github.com/jaya-shankar/education-impact.git\n"
      ],
      "execution_count": 5,
      "outputs": [
        {
          "output_type": "stream",
          "name": "stdout",
          "text": [
            "Cloning into 'education-impact'...\n",
            "remote: Enumerating objects: 105, done.\u001b[K\n",
            "remote: Counting objects: 100% (105/105), done.\u001b[K\n",
            "remote: Compressing objects: 100% (81/81), done.\u001b[K\n",
            "remote: Total 105 (delta 46), reused 70 (delta 22), pack-reused 0\u001b[K\n",
            "Receiving objects: 100% (105/105), 966.13 KiB | 3.17 MiB/s, done.\n",
            "Resolving deltas: 100% (46/46), done.\n"
          ]
        }
      ]
    },
    {
      "cell_type": "code",
      "metadata": {
        "id": "mHtPKJNNQ7Zv"
      },
      "source": [
        "root = \"education-impact/\" \n",
        "datasets_path = {\n",
        "                    \"infant_mortality\"              :  root+ \"datasets/Infant_Mortality_Rate.csv\",\n",
        "                    \"child_mortality\"               :  root+ \"datasets/child_mortality_0_5_year_olds_dying_per_1000_born.csv\",\n",
        "                    \"children_per_woman\"            :  root+ \"datasets/children_per_woman_total_fertility.csv\",\n",
        "                    \"co2_emissions\"                 :  root+\"datasets/co2_emissions_tonnes_per_person.csv\",\n",
        "                    \"population\"                    :  root+ \"datasets/converted_pop.csv\",\n",
        "                    \"food_supply\"                   :  root+ \"datasets/food_supply_kilocalories_per_person_and_day.csv\",\n",
        "                    \"gdp_per_captia\"                :  root+ \"datasets/gdp_per_capita_yearly_growth.csv\",\n",
        "                    \"gini_index\"                    :  root+ \"datasets/gini.csv\",\n",
        "                    \"life_expectancy\"               :  root+ \"datasets/life_expectancy_years.csv\",\n",
        "                    \"malnutrition\"                  :  root+ \"datasets/malnutrition_weight_for_age_percent_of_children_under_5.csv\",\n",
        "                    \"poverty_index\"                 :  root+ \"datasets/mincpcap_cppp.csv\",\n",
        "                    \"maternal_mortality\"            :  root+ \"datasets/mmr_who.csv\",\n",
        "                    \"people_in_poverty\"             :  root+ \"datasets/number_of_people_in_poverty.csv\",\n",
        "                    \"primary_completion\"            :  root+ \"datasets/primary_school_completion_percent_of_girls.csv\",\n",
        "                    \"ratio_b/g_in_primary\"          :  root+ \"datasets/ratio_of_girls_to_boys_in_primary_and_secondary_education_perc.csv\",\n",
        "                    \"wcde-15--24\"                   :  root+ \"datasets/wcde-15--24.csv\",\n",
        "                    \"wcde-25--34\"                   :  root+ \"datasets/wcde-25--34.csv\",\n",
        "                    \"wcde-35--44\"                   :  root+ \"datasets/wcde-35--44.csv\",\n",
        "                    \"wcde-45--54\"                   :  root+ \"datasets/wcde-45--54.csv\",\n",
        "                    \"wcde-55--64\"                   :  root+ \"datasets/wcde-55--64.csv\",\n",
        "                    \"wcde-65--74\"                   :  root+ \"datasets/wcde-65--74.csv\",\n",
        "                    \"wcde-75--84\"                   :  root+ \"datasets/wcde-75--84.csv\",\n",
        "                    \"wcde-85--94\"                   :  root+ \"datasets/wcde-85--94.csv\",\n",
        "                    \"wcde-95--\"                     :  root+ \"datasets/wcde-95--.csv\",\n",
        "                 \n",
        "                }"
      ],
      "execution_count": 6,
      "outputs": []
    },
    {
      "cell_type": "code",
      "metadata": {
        "colab": {
          "base_uri": "https://localhost:8080/"
        },
        "id": "GeM0rvqVRLLD",
        "outputId": "3c12c653-b542-4016-dba9-0715d133fe85"
      },
      "source": [
        "datasets_path"
      ],
      "execution_count": 7,
      "outputs": [
        {
          "output_type": "execute_result",
          "data": {
            "text/plain": [
              "{'child_mortality': 'education-impact/datasets/child_mortality_0_5_year_olds_dying_per_1000_born.csv',\n",
              " 'children_per_woman': 'education-impact/datasets/children_per_woman_total_fertility.csv',\n",
              " 'co2_emissions': 'education-impact/datasets/co2_emissions_tonnes_per_person.csv',\n",
              " 'food_supply': 'education-impact/datasets/food_supply_kilocalories_per_person_and_day.csv',\n",
              " 'gdp_per_captia': 'education-impact/datasets/gdp_per_capita_yearly_growth.csv',\n",
              " 'gini_index': 'education-impact/datasets/gini.csv',\n",
              " 'infant_mortality': 'education-impact/datasets/Infant_Mortality_Rate.csv',\n",
              " 'life_expectancy': 'education-impact/datasets/life_expectancy_years.csv',\n",
              " 'malnutrition': 'education-impact/datasets/malnutrition_weight_for_age_percent_of_children_under_5.csv',\n",
              " 'maternal_mortality': 'education-impact/datasets/mmr_who.csv',\n",
              " 'people_in_poverty': 'education-impact/datasets/number_of_people_in_poverty.csv',\n",
              " 'population': 'education-impact/datasets/converted_pop.csv',\n",
              " 'poverty_index': 'education-impact/datasets/mincpcap_cppp.csv',\n",
              " 'primary_completion': 'education-impact/datasets/primary_school_completion_percent_of_girls.csv',\n",
              " 'ratio_b/g_in_primary': 'education-impact/datasets/ratio_of_girls_to_boys_in_primary_and_secondary_education_perc.csv',\n",
              " 'wcde-15--24': 'education-impact/datasets/wcde-15--24.csv',\n",
              " 'wcde-25--34': 'education-impact/datasets/wcde-25--34.csv',\n",
              " 'wcde-35--44': 'education-impact/datasets/wcde-35--44.csv',\n",
              " 'wcde-45--54': 'education-impact/datasets/wcde-45--54.csv',\n",
              " 'wcde-55--64': 'education-impact/datasets/wcde-55--64.csv',\n",
              " 'wcde-65--74': 'education-impact/datasets/wcde-65--74.csv',\n",
              " 'wcde-75--84': 'education-impact/datasets/wcde-75--84.csv',\n",
              " 'wcde-85--94': 'education-impact/datasets/wcde-85--94.csv',\n",
              " 'wcde-95--': 'education-impact/datasets/wcde-95--.csv'}"
            ]
          },
          "metadata": {},
          "execution_count": 7
        }
      ]
    },
    {
      "cell_type": "code",
      "metadata": {
        "id": "PWHauD_9RN8n",
        "colab": {
          "base_uri": "https://localhost:8080/"
        },
        "outputId": "c7e13c29-eedb-4061-90b6-e6b8d5c10fa1"
      },
      "source": [
        "from pandas import read_csv\n",
        "countries_arr = []\n",
        "for path in datasets_path:\n",
        "  df = read_csv(datasets_path[path])\n",
        "  print(f\"{'Factor: ' + path:<30} count: {len(set(df.Country.unique()))}\")\n",
        "  "
      ],
      "execution_count": 13,
      "outputs": [
        {
          "output_type": "stream",
          "name": "stdout",
          "text": [
            "Factor: child_mortality        count: 197\n",
            "Factor: children_per_woman     count: 202\n",
            "Factor: co2_emissions          count: 194\n",
            "Factor: population             count: 197\n",
            "Factor: food_supply            count: 179\n",
            "Factor: gdp_per_captia         count: 221\n",
            "Factor: gini_index             count: 195\n",
            "Factor: infant_mortality       count: 266\n",
            "Factor: life_expectancy        count: 195\n",
            "Factor: malnutrition           count: 156\n",
            "Factor: poverty_index          count: 195\n",
            "Factor: maternal_mortality     count: 184\n",
            "Factor: people_in_poverty      count: 145\n",
            "Factor: primary_completion     count: 195\n",
            "Factor: ratio_b/g_in_primary   count: 200\n",
            "Factor: wcde-15--24            count: 202\n",
            "Factor: wcde-25--34            count: 202\n",
            "Factor: wcde-35--44            count: 202\n",
            "Factor: wcde-45--54            count: 202\n",
            "Factor: wcde-55--64            count: 202\n",
            "Factor: wcde-65--74            count: 202\n",
            "Factor: wcde-75--84            count: 202\n",
            "Factor: wcde-85--94            count: 202\n",
            "Factor: wcde-95--              count: 202\n"
          ]
        }
      ]
    },
    {
      "cell_type": "markdown",
      "metadata": {
        "id": "pavoB83cgMS_"
      },
      "source": [
        "from the above output\n",
        "- **malnutrition & people in povery** have least no of countries\n",
        "- **infant mortality & gdp per captia** have highest no of countries\n",
        "\n",
        "*Doubt:* Does having more data for one factor will make the decision tree bias?\n"
      ]
    },
    {
      "cell_type": "markdown",
      "metadata": {
        "id": "26MX_yiOLQM1"
      },
      "source": [
        "###Steps\n",
        "1. create a csv file such that each row contains all values of particular year & country present\n",
        "2. the output for each row is year + 40 years corresponding value \n",
        "    1. **outputs** - life expectany, education level, gdp\n",
        "\n",
        "\n"
      ]
    },
    {
      "cell_type": "code",
      "metadata": {
        "id": "fowCPSIPOupC"
      },
      "source": [
        "PREDICT_FUTURE = 40"
      ],
      "execution_count": 16,
      "outputs": []
    },
    {
      "cell_type": "code",
      "metadata": {
        "id": "6lCbc1WbKgia",
        "outputId": "e7a5ec4e-1f52-429a-eff6-9b25d3d023d2",
        "colab": {
          "base_uri": "https://localhost:8080/"
        }
      },
      "source": [
        "\n",
        "countries = list(read_csv('education-impact/datasets/Infant_Mortality_Rate.csv').Country.unique())\n",
        "years = [y for y in range(1960,2015-PREDICT_FUTURE+1)]\n",
        "print(countries)\n",
        "print(years)"
      ],
      "execution_count": 18,
      "outputs": [
        {
          "output_type": "stream",
          "name": "stdout",
          "text": [
            "['Aruba', 'Africa Eastern and Southern', 'Afghanistan', 'Africa Western and Central', 'Angola', 'Albania', 'Andorra', 'Arab World', 'United Arab Emirates', 'Argentina', 'Armenia', 'American Samoa', 'Antigua and Barbuda', 'Australia', 'Austria', 'Azerbaijan', 'Burundi', 'Belgium', 'Benin', 'Burkina Faso', 'Bangladesh', 'Bulgaria', 'Bahrain', 'Bahamas, The', 'Bosnia and Herzegovina', 'Belarus', 'Belize', 'Bermuda', 'Bolivia', 'Brazil', 'Barbados', 'Brunei Darussalam', 'Bhutan', 'Botswana', 'Central African Republic', 'Canada', 'Central Europe and the Baltics', 'Switzerland', 'Channel Islands', 'Chile', 'China', \"Cote d'Ivoire\", 'Cameroon', 'Congo, Dem. Rep.', 'Congo, Rep.', 'Colombia', 'Comoros', 'Cabo Verde', 'Costa Rica', 'Caribbean small states', 'Cuba', 'Curacao', 'Cayman Islands', 'Cyprus', 'Czech Republic', 'Germany', 'Djibouti', 'Dominica', 'Denmark', 'Dominican Republic', 'Algeria', 'East Asia & Pacific (excluding high income)', 'Early-demographic dividend', 'East Asia & Pacific', 'Europe & Central Asia (excluding high income)', 'Europe & Central Asia', 'Ecuador', 'Egypt, Arab Rep.', 'Euro area', 'Eritrea', 'Spain', 'Estonia', 'Ethiopia', 'European Union', 'Fragile and conflict affected situations', 'Finland', 'Fiji', 'France', 'Faroe Islands', 'Micronesia, Fed. Sts.', 'Gabon', 'United Kingdom', 'Georgia', 'Ghana', 'Gibraltar', 'Guinea', 'Gambia, The', 'Guinea-Bissau', 'Equatorial Guinea', 'Greece', 'Grenada', 'Greenland', 'Guatemala', 'Guam', 'Guyana', 'High income', 'Hong Kong SAR, China', 'Honduras', 'Heavily indebted poor countries (HIPC)', 'Croatia', 'Haiti', 'Hungary', 'IBRD only', 'IDA & IBRD total', 'IDA total', 'IDA blend', 'Indonesia', 'IDA only', 'Isle of Man', 'India', 'Not classified', 'Ireland', 'Iran, Islamic Rep.', 'Iraq', 'Iceland', 'Israel', 'Italy', 'Jamaica', 'Jordan', 'Japan', 'Kazakhstan', 'Kenya', 'Kyrgyz Republic', 'Cambodia', 'Kiribati', 'St. Kitts and Nevis', 'Korea, Rep.', 'Kuwait', 'Latin America & Caribbean (excluding high income)', 'Lao PDR', 'Lebanon', 'Liberia', 'Libya', 'St. Lucia', 'Latin America & Caribbean', 'Least developed countries: UN classification', 'Low income', 'Liechtenstein', 'Sri Lanka', 'Lower middle income', 'Low & middle income', 'Lesotho', 'Late-demographic dividend', 'Lithuania', 'Luxembourg', 'Latvia', 'Macao SAR, China', 'St. Martin (French part)', 'Morocco', 'Monaco', 'Moldova', 'Madagascar', 'Maldives', 'Middle East & North Africa', 'Mexico', 'Marshall Islands', 'Middle income', 'North Macedonia', 'Mali', 'Malta', 'Myanmar', 'Middle East & North Africa (excluding high income)', 'Montenegro', 'Mongolia', 'Northern Mariana Islands', 'Mozambique', 'Mauritania', 'Mauritius', 'Malawi', 'Malaysia', 'North America', 'Namibia', 'New Caledonia', 'Niger', 'Nigeria', 'Nicaragua', 'Netherlands', 'Norway', 'Nepal', 'Nauru', 'New Zealand', 'OECD members', 'Oman', 'Other small states', 'Pakistan', 'Panama', 'Peru', 'Philippines', 'Palau', 'Papua New Guinea', 'Poland', 'Pre-demographic dividend', 'Puerto Rico', \"Korea, Dem. People's Rep.\", 'Portugal', 'Paraguay', 'West Bank and Gaza', 'Pacific island small states', 'Post-demographic dividend', 'French Polynesia', 'Qatar', 'Romania', 'Russian Federation', 'Rwanda', 'South Asia', 'Saudi Arabia', 'Sudan', 'Senegal', 'Singapore', 'Solomon Islands', 'Sierra Leone', 'El Salvador', 'San Marino', 'Somalia', 'Serbia', 'Sub-Saharan Africa (excluding high income)', 'South Sudan', 'Sub-Saharan Africa', 'Small states', 'Sao Tome and Principe', 'Suriname', 'Slovak Republic', 'Slovenia', 'Sweden', 'Eswatini', 'Sint Maarten (Dutch part)', 'Seychelles', 'Syrian Arab Republic', 'Turks and Caicos Islands', 'Chad', 'East Asia & Pacific (IDA & IBRD countries)', 'Europe & Central Asia (IDA & IBRD countries)', 'Togo', 'Thailand', 'Tajikistan', 'Turkmenistan', 'Latin America & the Caribbean (IDA & IBRD countries)', 'Timor-Leste', 'Middle East & North Africa (IDA & IBRD countries)', 'Tonga', 'South Asia (IDA & IBRD)', 'Sub-Saharan Africa (IDA & IBRD countries)', 'Trinidad and Tobago', 'Tunisia', 'Turkey', 'Tuvalu', 'Tanzania', 'Uganda', 'Ukraine', 'Upper middle income', 'Uruguay', 'United States', 'Uzbekistan', 'St. Vincent and the Grenadines', 'Venezuela, RB', 'British Virgin Islands', 'Virgin Islands (U.S.)', 'Vietnam', 'Vanuatu', 'World', 'Samoa', 'Kosovo', 'Yemen, Rep.', 'South Africa', 'Zambia', 'Zimbabwe']\n",
            "[1960, 1961, 1962, 1963, 1964, 1965, 1966, 1967, 1968, 1969, 1970, 1971, 1972, 1973, 1974, 1975]\n"
          ]
        }
      ]
    },
    {
      "cell_type": "code",
      "metadata": {
        "id": "GODbzyVjP9nh"
      },
      "source": [
        "import itertools"
      ],
      "execution_count": 2,
      "outputs": []
    },
    {
      "cell_type": "code",
      "metadata": {
        "id": "zcGs5bV_OlyL",
        "outputId": "682bdef9-d8ab-4a28-eb09-112b63243111",
        "colab": {
          "base_uri": "https://localhost:8080/",
          "height": 232
        }
      },
      "source": [
        "all_combinations = []\n",
        "countries_permutations = itertools.permutations(countries, len(years))\n",
        "\n",
        "for each_permutation in countries_permutations:\n",
        "  zipped = zip(each_permutation, years)\n",
        "  all_combinations.append(list(zipped))\n",
        "print(all_combinations)"
      ],
      "execution_count": 3,
      "outputs": [
        {
          "output_type": "error",
          "ename": "NameError",
          "evalue": "ignored",
          "traceback": [
            "\u001b[0;31m---------------------------------------------------------------------------\u001b[0m",
            "\u001b[0;31mNameError\u001b[0m                                 Traceback (most recent call last)",
            "\u001b[0;32m<ipython-input-3-f77a4d22fe9d>\u001b[0m in \u001b[0;36m<module>\u001b[0;34m()\u001b[0m\n\u001b[1;32m      1\u001b[0m \u001b[0mall_combinations\u001b[0m \u001b[0;34m=\u001b[0m \u001b[0;34m[\u001b[0m\u001b[0;34m]\u001b[0m\u001b[0;34m\u001b[0m\u001b[0;34m\u001b[0m\u001b[0m\n\u001b[0;32m----> 2\u001b[0;31m \u001b[0mcountries_permutations\u001b[0m \u001b[0;34m=\u001b[0m \u001b[0mitertools\u001b[0m\u001b[0;34m.\u001b[0m\u001b[0mpermutations\u001b[0m\u001b[0;34m(\u001b[0m\u001b[0mcountries\u001b[0m\u001b[0;34m,\u001b[0m \u001b[0mlen\u001b[0m\u001b[0;34m(\u001b[0m\u001b[0myears\u001b[0m\u001b[0;34m)\u001b[0m\u001b[0;34m)\u001b[0m\u001b[0;34m\u001b[0m\u001b[0;34m\u001b[0m\u001b[0m\n\u001b[0m\u001b[1;32m      3\u001b[0m \u001b[0;34m\u001b[0m\u001b[0m\n\u001b[1;32m      4\u001b[0m \u001b[0;32mfor\u001b[0m \u001b[0meach_permutation\u001b[0m \u001b[0;32min\u001b[0m \u001b[0mcountries_permutations\u001b[0m\u001b[0;34m:\u001b[0m\u001b[0;34m\u001b[0m\u001b[0;34m\u001b[0m\u001b[0m\n\u001b[1;32m      5\u001b[0m   \u001b[0mzipped\u001b[0m \u001b[0;34m=\u001b[0m \u001b[0mzip\u001b[0m\u001b[0;34m(\u001b[0m\u001b[0meach_permutation\u001b[0m\u001b[0;34m,\u001b[0m \u001b[0myears\u001b[0m\u001b[0;34m)\u001b[0m\u001b[0;34m\u001b[0m\u001b[0;34m\u001b[0m\u001b[0m\n",
            "\u001b[0;31mNameError\u001b[0m: name 'countries' is not defined"
          ]
        }
      ]
    }
  ]
}