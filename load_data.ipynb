{
  "nbformat": 4,
  "nbformat_minor": 0,
  "metadata": {
    "colab": {
      "name": "load_data.ipynb",
      "provenance": [],
      "include_colab_link": true
    },
    "kernelspec": {
      "name": "python3",
      "display_name": "Python 3"
    },
    "language_info": {
      "name": "python"
    }
  },
  "cells": [
    {
      "cell_type": "markdown",
      "metadata": {
        "id": "view-in-github",
        "colab_type": "text"
      },
      "source": [
        "<a href=\"https://colab.research.google.com/github/jaya-shankar/education-impact/blob/master/load_data.ipynb\" target=\"_parent\"><img src=\"https://colab.research.google.com/assets/colab-badge.svg\" alt=\"Open In Colab\"/></a>"
      ]
    },
    {
      "cell_type": "code",
      "metadata": {
        "colab": {
          "base_uri": "https://localhost:8080/"
        },
        "id": "WLCGn-YlJ5k5",
        "outputId": "2996f133-327e-43f3-975f-a91c5af040bc"
      },
      "source": [
        "!git clone https://github.com/jaya-shankar/education-impact.git\n"
      ],
      "execution_count": 12,
      "outputs": [
        {
          "output_type": "stream",
          "name": "stdout",
          "text": [
            "fatal: destination path 'education-impact' already exists and is not an empty directory.\n"
          ]
        }
      ]
    },
    {
      "cell_type": "code",
      "metadata": {
        "id": "mHtPKJNNQ7Zv"
      },
      "source": [
        "root = \"education-impact/\" \n",
        "datasets_path = {\n",
        "                    \"child_mortality\"               :  root+ \"datasets/child_mortality_0_5_year_olds_dying_per_1000_born.csv\",\n",
        "                    \"children_per_woman\"            :  root+ \"datasets/children_per_woman_total_fertility.csv\",\n",
        "                    \"co2_emissions\"                 :  root+\"datasets/co2_emissions_tonnes_per_person.csv\",\n",
        "                    \"population\"                    :  root+ \"datasets/converted_pop.csv\",\n",
        "                    # \"expenditure_per_student\"       :  root+ \"datasets/expenditure_per_student_secondary_percent_of_gdp_per_person.csv\",\n",
        "                    \"food_supply\"                   :  root+ \"datasets/food_supply_kilocalories_per_person_and_day.csv\",\n",
        "                    \"gdp_per_captia\"                :  root+ \"datasets/gdp_per_capita_yearly_growth.csv\",\n",
        "                    \"gini_index\"                    :  root+ \"datasets/gini.csv\",\n",
        "                    \"infant_mortality\"              :  root+ \"datasets/Infant_Mortality_Rate.csv\",\n",
        "                    \"life_expectancy\"               :  root+ \"datasets/life_expectancy_years.csv\",\n",
        "                    \"malnutrition\"                  :  root+ \"datasets/malnutrition_weight_for_age_percent_of_children_under_5.csv\",\n",
        "                    \"poverty_index\"                 :  root+ \"datasets/mincpcap_cppp.csv\",\n",
        "                    \"maternal_mortality\"            :  root+ \"datasets/mmr_who.csv\",\n",
        "                    \"people_in_poverty\"             :  root+ \"datasets/number_of_people_in_poverty.csv\",\n",
        "                    \"primary_completion\"            :  root+ \"datasets/primary_school_completion_percent_of_girls.csv\",\n",
        "                    \"ratio_b/g_in_primary\"          :  root+ \"datasets/ratio_of_girls_to_boys_in_primary_and_secondary_education_perc.csv\",\n",
        "                    \"wcde-15--24\"                   :  root+ \"datasets/wcde-15--24.csv\",\n",
        "                    \"wcde-25--34\"                   :  root+ \"datasets/wcde-25--34.csv\",\n",
        "                    \"wcde-35--44\"                   :  root+ \"datasets/wcde-35--44.csv\",\n",
        "                    \"wcde-45--54\"                   :  root+ \"datasets/wcde-45--54.csv\",\n",
        "                    \"wcde-55--64\"                   :  root+ \"datasets/wcde-55--64.csv\",\n",
        "                    \"wcde-65--74\"                   :  root+ \"datasets/wcde-65--74.csv\",\n",
        "                    \"wcde-75--84\"                   :  root+ \"datasets/wcde-75--84.csv\",\n",
        "                    \"wcde-85--94\"                   :  root+ \"datasets/wcde-85--94.csv\",\n",
        "                    \"wcde-95--\"                     :  root+ \"datasets/wcde-95--.csv\",\n",
        "                 \n",
        "                }"
      ],
      "execution_count": 8,
      "outputs": []
    },
    {
      "cell_type": "code",
      "metadata": {
        "colab": {
          "base_uri": "https://localhost:8080/"
        },
        "id": "GeM0rvqVRLLD",
        "outputId": "fa74421b-042e-45ee-91ab-9d58069b8472"
      },
      "source": [
        "datasets_path"
      ],
      "execution_count": 9,
      "outputs": [
        {
          "output_type": "execute_result",
          "data": {
            "text/plain": [
              "{'child_mortality': 'education-impact/datasets/child_mortality_0_5_year_olds_dying_per_1000_born.csv',\n",
              " 'children_per_woman': 'education-impact/datasets/children_per_woman_total_fertility.csv',\n",
              " 'co2_emissions': 'education-impact/datasets/co2_emissions_tonnes_per_person.csv',\n",
              " 'food_supply': 'education-impact/datasets/food_supply_kilocalories_per_person_and_day.csv',\n",
              " 'gdp_per_captia': 'education-impact/datasets/gdp_per_capita_yearly_growth.csv',\n",
              " 'gini_index': 'education-impact/datasets/gini.csv',\n",
              " 'infant_mortality': 'education-impact/datasets/Infant_Mortality_Rate.csv',\n",
              " 'life_expectancy': 'education-impact/datasets/life_expectancy_years.csv',\n",
              " 'malnutrition': 'education-impact/datasets/malnutrition_weight_for_age_percent_of_children_under_5.csv',\n",
              " 'maternal_mortality': 'education-impact/datasets/mmr_who.csv',\n",
              " 'people_in_poverty': 'education-impact/datasets/number_of_people_in_poverty.csv',\n",
              " 'population': 'education-impact/datasets/converted_pop.csv',\n",
              " 'poverty_index': 'education-impact/datasets/mincpcap_cppp.csv',\n",
              " 'primary_completion': 'education-impact/datasets/primary_school_completion_percent_of_girls.csv',\n",
              " 'ratio_b/g_in_primary': 'education-impact/datasets/ratio_of_girls_to_boys_in_primary_and_secondary_education_perc.csv',\n",
              " 'wcde-15--24': 'education-impact/datasets/wcde-15--24.csv',\n",
              " 'wcde-25--34': 'education-impact/datasets/wcde-25--34.csv',\n",
              " 'wcde-35--44': 'education-impact/datasets/wcde-35--44.csv',\n",
              " 'wcde-45--54': 'education-impact/datasets/wcde-45--54.csv',\n",
              " 'wcde-55--64': 'education-impact/datasets/wcde-55--64.csv',\n",
              " 'wcde-65--74': 'education-impact/datasets/wcde-65--74.csv',\n",
              " 'wcde-75--84': 'education-impact/datasets/wcde-75--84.csv',\n",
              " 'wcde-85--94': 'education-impact/datasets/wcde-85--94.csv',\n",
              " 'wcde-95--': 'education-impact/datasets/wcde-95--.csv'}"
            ]
          },
          "metadata": {},
          "execution_count": 9
        }
      ]
    },
    {
      "cell_type": "code",
      "metadata": {
        "id": "PWHauD_9RN8n",
        "colab": {
          "base_uri": "https://localhost:8080/",
          "height": 436
        },
        "outputId": "e31328fa-926e-45c3-8e3d-891e7be02d27"
      },
      "source": [
        "from pandas import read_csv\n",
        "countries_arr = []\n",
        "for path in datasets_path:\n",
        "  df = read_csv(datasets_path[path])\n",
        "  print(\"factor = \" + path +\"  \"+ str(len(set(df.country.unique()))))"
      ],
      "execution_count": 10,
      "outputs": [
        {
          "output_type": "stream",
          "name": "stdout",
          "text": [
            "factor = child_mortality197\n",
            "factor = children_per_woman202\n",
            "factor = co2_emissions194\n",
            "factor = population197\n",
            "factor = food_supply179\n",
            "factor = gdp_per_captia221\n",
            "factor = gini_index195\n"
          ]
        },
        {
          "output_type": "error",
          "ename": "AttributeError",
          "evalue": "ignored",
          "traceback": [
            "\u001b[0;31m---------------------------------------------------------------------------\u001b[0m",
            "\u001b[0;31mAttributeError\u001b[0m                            Traceback (most recent call last)",
            "\u001b[0;32m<ipython-input-10-8c53d808d1a8>\u001b[0m in \u001b[0;36m<module>\u001b[0;34m()\u001b[0m\n\u001b[1;32m      3\u001b[0m \u001b[0;32mfor\u001b[0m \u001b[0mpath\u001b[0m \u001b[0;32min\u001b[0m \u001b[0mdatasets_path\u001b[0m\u001b[0;34m:\u001b[0m\u001b[0;34m\u001b[0m\u001b[0;34m\u001b[0m\u001b[0m\n\u001b[1;32m      4\u001b[0m   \u001b[0mdf\u001b[0m \u001b[0;34m=\u001b[0m \u001b[0mread_csv\u001b[0m\u001b[0;34m(\u001b[0m\u001b[0mdatasets_path\u001b[0m\u001b[0;34m[\u001b[0m\u001b[0mpath\u001b[0m\u001b[0;34m]\u001b[0m\u001b[0;34m)\u001b[0m\u001b[0;34m\u001b[0m\u001b[0;34m\u001b[0m\u001b[0m\n\u001b[0;32m----> 5\u001b[0;31m   \u001b[0mprint\u001b[0m\u001b[0;34m(\u001b[0m\u001b[0;34m\"factor = \"\u001b[0m \u001b[0;34m+\u001b[0m \u001b[0mpath\u001b[0m \u001b[0;34m+\u001b[0m \u001b[0mstr\u001b[0m\u001b[0;34m(\u001b[0m\u001b[0mlen\u001b[0m\u001b[0;34m(\u001b[0m\u001b[0mset\u001b[0m\u001b[0;34m(\u001b[0m\u001b[0mdf\u001b[0m\u001b[0;34m.\u001b[0m\u001b[0mcountry\u001b[0m\u001b[0;34m.\u001b[0m\u001b[0munique\u001b[0m\u001b[0;34m(\u001b[0m\u001b[0;34m)\u001b[0m\u001b[0;34m)\u001b[0m\u001b[0;34m)\u001b[0m\u001b[0;34m)\u001b[0m\u001b[0;34m)\u001b[0m\u001b[0;34m\u001b[0m\u001b[0;34m\u001b[0m\u001b[0m\n\u001b[0m",
            "\u001b[0;32m/usr/local/lib/python3.7/dist-packages/pandas/core/generic.py\u001b[0m in \u001b[0;36m__getattr__\u001b[0;34m(self, name)\u001b[0m\n\u001b[1;32m   5139\u001b[0m             \u001b[0;32mif\u001b[0m \u001b[0mself\u001b[0m\u001b[0;34m.\u001b[0m\u001b[0m_info_axis\u001b[0m\u001b[0;34m.\u001b[0m\u001b[0m_can_hold_identifiers_and_holds_name\u001b[0m\u001b[0;34m(\u001b[0m\u001b[0mname\u001b[0m\u001b[0;34m)\u001b[0m\u001b[0;34m:\u001b[0m\u001b[0;34m\u001b[0m\u001b[0;34m\u001b[0m\u001b[0m\n\u001b[1;32m   5140\u001b[0m                 \u001b[0;32mreturn\u001b[0m \u001b[0mself\u001b[0m\u001b[0;34m[\u001b[0m\u001b[0mname\u001b[0m\u001b[0;34m]\u001b[0m\u001b[0;34m\u001b[0m\u001b[0;34m\u001b[0m\u001b[0m\n\u001b[0;32m-> 5141\u001b[0;31m             \u001b[0;32mreturn\u001b[0m \u001b[0mobject\u001b[0m\u001b[0;34m.\u001b[0m\u001b[0m__getattribute__\u001b[0m\u001b[0;34m(\u001b[0m\u001b[0mself\u001b[0m\u001b[0;34m,\u001b[0m \u001b[0mname\u001b[0m\u001b[0;34m)\u001b[0m\u001b[0;34m\u001b[0m\u001b[0;34m\u001b[0m\u001b[0m\n\u001b[0m\u001b[1;32m   5142\u001b[0m \u001b[0;34m\u001b[0m\u001b[0m\n\u001b[1;32m   5143\u001b[0m     \u001b[0;32mdef\u001b[0m \u001b[0m__setattr__\u001b[0m\u001b[0;34m(\u001b[0m\u001b[0mself\u001b[0m\u001b[0;34m,\u001b[0m \u001b[0mname\u001b[0m\u001b[0;34m:\u001b[0m \u001b[0mstr\u001b[0m\u001b[0;34m,\u001b[0m \u001b[0mvalue\u001b[0m\u001b[0;34m)\u001b[0m \u001b[0;34m->\u001b[0m \u001b[0;32mNone\u001b[0m\u001b[0;34m:\u001b[0m\u001b[0;34m\u001b[0m\u001b[0;34m\u001b[0m\u001b[0m\n",
            "\u001b[0;31mAttributeError\u001b[0m: 'DataFrame' object has no attribute 'country'"
          ]
        }
      ]
    }
  ]
}