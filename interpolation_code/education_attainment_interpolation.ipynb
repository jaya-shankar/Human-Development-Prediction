{
  "nbformat": 4,
  "nbformat_minor": 0,
  "metadata": {
    "colab": {
      "name": "education-attainment_interpolation.ipynb",
      "provenance": [],
      "authorship_tag": "ABX9TyNeB1E3WQaDxrpAlugXtTDF",
      "include_colab_link": true
    },
    "kernelspec": {
      "name": "python3",
      "display_name": "Python 3"
    },
    "language_info": {
      "name": "python"
    }
  },
  "cells": [
    {
      "cell_type": "markdown",
      "metadata": {
        "id": "view-in-github",
        "colab_type": "text"
      },
      "source": [
        "<a href=\"https://colab.research.google.com/github/jaya-shankar/education-impact/blob/master/interpolation_code/education_attainment_interpolation.ipynb\" target=\"_parent\"><img src=\"https://colab.research.google.com/assets/colab-badge.svg\" alt=\"Open In Colab\"/></a>"
      ]
    },
    {
      "cell_type": "code",
      "metadata": {
        "id": "CD6i2ypkds94",
        "outputId": "568786de-8d09-414c-8636-d17545f6c6d1",
        "colab": {
          "base_uri": "https://localhost:8080/"
        }
      },
      "source": [
        "!rm -rf education-impact\n",
        "!rm education-impact"
      ],
      "execution_count": 4,
      "outputs": [
        {
          "output_type": "stream",
          "name": "stdout",
          "text": [
            "rm: cannot remove 'education-impact': No such file or directory\n"
          ]
        }
      ]
    },
    {
      "cell_type": "code",
      "metadata": {
        "colab": {
          "base_uri": "https://localhost:8080/"
        },
        "id": "ouwaAq--MawK",
        "outputId": "5ee50148-efeb-45ff-b7d2-943f2ec8b693"
      },
      "source": [
        "!git clone https://github.com/jaya-shankar/education-impact.git"
      ],
      "execution_count": 5,
      "outputs": [
        {
          "output_type": "stream",
          "name": "stdout",
          "text": [
            "Cloning into 'education-impact'...\n",
            "remote: Enumerating objects: 243, done.\u001b[K\n",
            "remote: Counting objects: 100% (243/243), done.\u001b[K\n",
            "remote: Compressing objects: 100% (203/203), done.\u001b[K\n",
            "remote: Total 243 (delta 114), reused 128 (delta 37), pack-reused 0\u001b[K\n",
            "Receiving objects: 100% (243/243), 1.75 MiB | 16.42 MiB/s, done.\n",
            "Resolving deltas: 100% (114/114), done.\n"
          ]
        }
      ]
    },
    {
      "cell_type": "code",
      "metadata": {
        "id": "KsyEiGCzMt6N"
      },
      "source": [
        "import pandas as pd"
      ],
      "execution_count": 6,
      "outputs": []
    },
    {
      "cell_type": "code",
      "metadata": {
        "id": "_7OJupCUVMPp"
      },
      "source": [
        "years = [(y,y+5) for y in range(1960,2011,5)]\n",
        "datasets = ['Incomplete Primary', 'Lower Secondary', 'Post Secondary']"
      ],
      "execution_count": 7,
      "outputs": []
    },
    {
      "cell_type": "code",
      "metadata": {
        "id": "4dX3YysghCTo"
      },
      "source": [
        "file_prefix = \"wcde_female-\""
      ],
      "execution_count": 11,
      "outputs": []
    },
    {
      "cell_type": "code",
      "metadata": {
        "id": "vgXf172sVjCk"
      },
      "source": [
        "for name in datasets:\n",
        "  data = pd.read_csv(\"/content/education-impact/datasets/\"+file_prefix+name+\".csv\")   \n",
        "  df = pd.DataFrame(data)\n",
        "  for r in range(len(df)):\n",
        "    for s,e in years:\n",
        "      df.at[r,str(s)] = round(df.iloc[r][str(s)],2)\n",
        "      df.at[r,str(e)] = round(df.iloc[r][str(e)],2)\n",
        "      d   = df.iloc[r][str(e)] - df.iloc[r][str(s)]\n",
        "      inc = d/5\n",
        "      i=1\n",
        "      for y in range(s+1,e):\n",
        "        df.at[r,str(y)] = round(df.iloc[r][str(s)] + inc*i,2)\n",
        "        i+=1\n",
        "  df.to_csv(\"/content/education-impact/datasets/\"+file_prefix+name+\".csv\", encoding='utf-8', index=False)\n"
      ],
      "execution_count": 12,
      "outputs": []
    }
  ]
}