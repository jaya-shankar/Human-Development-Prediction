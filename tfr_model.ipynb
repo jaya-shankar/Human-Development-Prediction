{
  "nbformat": 4,
  "nbformat_minor": 0,
  "metadata": {
    "colab": {
      "name": "tfr_model.ipynb",
      "provenance": [],
      "collapsed_sections": [],
      "include_colab_link": true
    },
    "kernelspec": {
      "name": "python3",
      "display_name": "Python 3"
    },
    "language_info": {
      "name": "python"
    }
  },
  "cells": [
    {
      "cell_type": "markdown",
      "metadata": {
        "id": "view-in-github",
        "colab_type": "text"
      },
      "source": [
        "<a href=\"https://colab.research.google.com/github/jaya-shankar/education-impact/blob/master/tfr_model.ipynb\" target=\"_parent\"><img src=\"https://colab.research.google.com/assets/colab-badge.svg\" alt=\"Open In Colab\"/></a>"
      ]
    },
    {
      "cell_type": "markdown",
      "metadata": {
        "id": "XFiMWKD-aEI_"
      },
      "source": [
        "### Model Performace History\n",
        "\n",
        "1.   Cosidering life expectancy as input\n",
        "      \n",
        "      1. *Training using max no of countries:*\\\n",
        "          **MSE**: 1.421960711479187\n",
        "          \n",
        "      2. *Training using min no of countries:*\\\n",
        "          **MSE**: 1.6800711154937744\n",
        "\n",
        "      3. *Training using only common countries:*\\\n",
        "          **MSE**: 1.5712116956710815\n",
        "\n",
        "2.   Not cosidering life expectancy as input\n",
        "      1. *Trained using max no of countries:*\\\n",
        "          **MSE**: 1.9395439624786377\n",
        "\n",
        "      2. *Trained using min no of countries*:\\\n",
        "          **MSE**: 2.161480665206909\n",
        "\n",
        "      3. *Trained using only common countries*:\\\n",
        "          **MSE**: 2.10016131401062\n",
        "\n"
      ]
    },
    {
      "cell_type": "code",
      "metadata": {
        "colab": {
          "base_uri": "https://localhost:8080/"
        },
        "id": "_5tBhvAJeBj7",
        "outputId": "0e0e66d5-733a-41bd-e6fe-d9c5fc37f603"
      },
      "source": [
        "!rm -rf education-impact\n",
        "!rm education-impact"
      ],
      "execution_count": 1,
      "outputs": [
        {
          "output_type": "stream",
          "name": "stdout",
          "text": [
            "rm: cannot remove 'education-impact': No such file or directory\n"
          ]
        }
      ]
    },
    {
      "cell_type": "code",
      "metadata": {
        "id": "WLCGn-YlJ5k5",
        "colab": {
          "base_uri": "https://localhost:8080/"
        },
        "outputId": "faf4fac3-1a11-4ef6-c76c-7bc3d5d15deb"
      },
      "source": [
        "!git clone https://github.com/jaya-shankar/education-impact.git\n"
      ],
      "execution_count": 2,
      "outputs": [
        {
          "output_type": "stream",
          "name": "stdout",
          "text": [
            "Cloning into 'education-impact'...\n",
            "remote: Enumerating objects: 318, done.\u001b[K\n",
            "remote: Counting objects: 100% (318/318), done.\u001b[K\n",
            "remote: Compressing objects: 100% (269/269), done.\u001b[K\n",
            "remote: Total 318 (delta 157), reused 157 (delta 46), pack-reused 0\u001b[K\n",
            "Receiving objects: 100% (318/318), 2.11 MiB | 16.77 MiB/s, done.\n",
            "Resolving deltas: 100% (157/157), done.\n"
          ]
        }
      ]
    },
    {
      "cell_type": "code",
      "metadata": {
        "id": "Jo8dc6Xv7sPc",
        "colab": {
          "base_uri": "https://localhost:8080/"
        },
        "outputId": "b0c666c2-8eb4-405c-dd0c-bfc41f989db1"
      },
      "source": [
        "!pip install tensorflow_decision_forests\n",
        "!pip install wurlitzer\n",
        "!pip install seaborn"
      ],
      "execution_count": 3,
      "outputs": [
        {
          "output_type": "stream",
          "name": "stdout",
          "text": [
            "Collecting tensorflow_decision_forests\n",
            "  Downloading tensorflow_decision_forests-0.2.1-cp37-cp37m-manylinux_2_12_x86_64.manylinux2010_x86_64.whl (17.1 MB)\n",
            "\u001b[K     |████████████████████████████████| 17.1 MB 338 kB/s \n",
            "\u001b[?25hRequirement already satisfied: numpy in /usr/local/lib/python3.7/dist-packages (from tensorflow_decision_forests) (1.19.5)\n",
            "Requirement already satisfied: pandas in /usr/local/lib/python3.7/dist-packages (from tensorflow_decision_forests) (1.1.5)\n",
            "Requirement already satisfied: absl-py in /usr/local/lib/python3.7/dist-packages (from tensorflow_decision_forests) (0.12.0)\n",
            "Requirement already satisfied: wheel in /usr/local/lib/python3.7/dist-packages (from tensorflow_decision_forests) (0.37.0)\n",
            "Requirement already satisfied: six in /usr/local/lib/python3.7/dist-packages (from tensorflow_decision_forests) (1.15.0)\n",
            "Requirement already satisfied: tensorflow~=2.7.0 in /usr/local/lib/python3.7/dist-packages (from tensorflow_decision_forests) (2.7.0)\n",
            "Requirement already satisfied: tensorboard~=2.6 in /usr/local/lib/python3.7/dist-packages (from tensorflow~=2.7.0->tensorflow_decision_forests) (2.7.0)\n",
            "Requirement already satisfied: gast<0.5.0,>=0.2.1 in /usr/local/lib/python3.7/dist-packages (from tensorflow~=2.7.0->tensorflow_decision_forests) (0.4.0)\n",
            "Requirement already satisfied: google-pasta>=0.1.1 in /usr/local/lib/python3.7/dist-packages (from tensorflow~=2.7.0->tensorflow_decision_forests) (0.2.0)\n",
            "Requirement already satisfied: libclang>=9.0.1 in /usr/local/lib/python3.7/dist-packages (from tensorflow~=2.7.0->tensorflow_decision_forests) (12.0.0)\n",
            "Requirement already satisfied: protobuf>=3.9.2 in /usr/local/lib/python3.7/dist-packages (from tensorflow~=2.7.0->tensorflow_decision_forests) (3.17.3)\n",
            "Requirement already satisfied: tensorflow-estimator<2.8,~=2.7.0rc0 in /usr/local/lib/python3.7/dist-packages (from tensorflow~=2.7.0->tensorflow_decision_forests) (2.7.0)\n",
            "Requirement already satisfied: h5py>=2.9.0 in /usr/local/lib/python3.7/dist-packages (from tensorflow~=2.7.0->tensorflow_decision_forests) (3.1.0)\n",
            "Requirement already satisfied: termcolor>=1.1.0 in /usr/local/lib/python3.7/dist-packages (from tensorflow~=2.7.0->tensorflow_decision_forests) (1.1.0)\n",
            "Requirement already satisfied: keras<2.8,>=2.7.0rc0 in /usr/local/lib/python3.7/dist-packages (from tensorflow~=2.7.0->tensorflow_decision_forests) (2.7.0)\n",
            "Requirement already satisfied: grpcio<2.0,>=1.24.3 in /usr/local/lib/python3.7/dist-packages (from tensorflow~=2.7.0->tensorflow_decision_forests) (1.42.0)\n",
            "Requirement already satisfied: opt-einsum>=2.3.2 in /usr/local/lib/python3.7/dist-packages (from tensorflow~=2.7.0->tensorflow_decision_forests) (3.3.0)\n",
            "Requirement already satisfied: typing-extensions>=3.6.6 in /usr/local/lib/python3.7/dist-packages (from tensorflow~=2.7.0->tensorflow_decision_forests) (3.10.0.2)\n",
            "Requirement already satisfied: flatbuffers<3.0,>=1.12 in /usr/local/lib/python3.7/dist-packages (from tensorflow~=2.7.0->tensorflow_decision_forests) (2.0)\n",
            "Requirement already satisfied: astunparse>=1.6.0 in /usr/local/lib/python3.7/dist-packages (from tensorflow~=2.7.0->tensorflow_decision_forests) (1.6.3)\n",
            "Requirement already satisfied: keras-preprocessing>=1.1.1 in /usr/local/lib/python3.7/dist-packages (from tensorflow~=2.7.0->tensorflow_decision_forests) (1.1.2)\n",
            "Requirement already satisfied: tensorflow-io-gcs-filesystem>=0.21.0 in /usr/local/lib/python3.7/dist-packages (from tensorflow~=2.7.0->tensorflow_decision_forests) (0.22.0)\n",
            "Requirement already satisfied: wrapt>=1.11.0 in /usr/local/lib/python3.7/dist-packages (from tensorflow~=2.7.0->tensorflow_decision_forests) (1.13.3)\n",
            "Requirement already satisfied: cached-property in /usr/local/lib/python3.7/dist-packages (from h5py>=2.9.0->tensorflow~=2.7.0->tensorflow_decision_forests) (1.5.2)\n",
            "Requirement already satisfied: tensorboard-plugin-wit>=1.6.0 in /usr/local/lib/python3.7/dist-packages (from tensorboard~=2.6->tensorflow~=2.7.0->tensorflow_decision_forests) (1.8.0)\n",
            "Requirement already satisfied: google-auth-oauthlib<0.5,>=0.4.1 in /usr/local/lib/python3.7/dist-packages (from tensorboard~=2.6->tensorflow~=2.7.0->tensorflow_decision_forests) (0.4.6)\n",
            "Requirement already satisfied: tensorboard-data-server<0.7.0,>=0.6.0 in /usr/local/lib/python3.7/dist-packages (from tensorboard~=2.6->tensorflow~=2.7.0->tensorflow_decision_forests) (0.6.1)\n",
            "Requirement already satisfied: google-auth<3,>=1.6.3 in /usr/local/lib/python3.7/dist-packages (from tensorboard~=2.6->tensorflow~=2.7.0->tensorflow_decision_forests) (1.35.0)\n",
            "Requirement already satisfied: setuptools>=41.0.0 in /usr/local/lib/python3.7/dist-packages (from tensorboard~=2.6->tensorflow~=2.7.0->tensorflow_decision_forests) (57.4.0)\n",
            "Requirement already satisfied: werkzeug>=0.11.15 in /usr/local/lib/python3.7/dist-packages (from tensorboard~=2.6->tensorflow~=2.7.0->tensorflow_decision_forests) (1.0.1)\n",
            "Requirement already satisfied: requests<3,>=2.21.0 in /usr/local/lib/python3.7/dist-packages (from tensorboard~=2.6->tensorflow~=2.7.0->tensorflow_decision_forests) (2.23.0)\n",
            "Requirement already satisfied: markdown>=2.6.8 in /usr/local/lib/python3.7/dist-packages (from tensorboard~=2.6->tensorflow~=2.7.0->tensorflow_decision_forests) (3.3.6)\n",
            "Requirement already satisfied: rsa<5,>=3.1.4 in /usr/local/lib/python3.7/dist-packages (from google-auth<3,>=1.6.3->tensorboard~=2.6->tensorflow~=2.7.0->tensorflow_decision_forests) (4.8)\n",
            "Requirement already satisfied: pyasn1-modules>=0.2.1 in /usr/local/lib/python3.7/dist-packages (from google-auth<3,>=1.6.3->tensorboard~=2.6->tensorflow~=2.7.0->tensorflow_decision_forests) (0.2.8)\n",
            "Requirement already satisfied: cachetools<5.0,>=2.0.0 in /usr/local/lib/python3.7/dist-packages (from google-auth<3,>=1.6.3->tensorboard~=2.6->tensorflow~=2.7.0->tensorflow_decision_forests) (4.2.4)\n",
            "Requirement already satisfied: requests-oauthlib>=0.7.0 in /usr/local/lib/python3.7/dist-packages (from google-auth-oauthlib<0.5,>=0.4.1->tensorboard~=2.6->tensorflow~=2.7.0->tensorflow_decision_forests) (1.3.0)\n",
            "Requirement already satisfied: importlib-metadata>=4.4 in /usr/local/lib/python3.7/dist-packages (from markdown>=2.6.8->tensorboard~=2.6->tensorflow~=2.7.0->tensorflow_decision_forests) (4.8.2)\n",
            "Requirement already satisfied: zipp>=0.5 in /usr/local/lib/python3.7/dist-packages (from importlib-metadata>=4.4->markdown>=2.6.8->tensorboard~=2.6->tensorflow~=2.7.0->tensorflow_decision_forests) (3.6.0)\n",
            "Requirement already satisfied: pyasn1<0.5.0,>=0.4.6 in /usr/local/lib/python3.7/dist-packages (from pyasn1-modules>=0.2.1->google-auth<3,>=1.6.3->tensorboard~=2.6->tensorflow~=2.7.0->tensorflow_decision_forests) (0.4.8)\n",
            "Requirement already satisfied: certifi>=2017.4.17 in /usr/local/lib/python3.7/dist-packages (from requests<3,>=2.21.0->tensorboard~=2.6->tensorflow~=2.7.0->tensorflow_decision_forests) (2021.10.8)\n",
            "Requirement already satisfied: urllib3!=1.25.0,!=1.25.1,<1.26,>=1.21.1 in /usr/local/lib/python3.7/dist-packages (from requests<3,>=2.21.0->tensorboard~=2.6->tensorflow~=2.7.0->tensorflow_decision_forests) (1.24.3)\n",
            "Requirement already satisfied: chardet<4,>=3.0.2 in /usr/local/lib/python3.7/dist-packages (from requests<3,>=2.21.0->tensorboard~=2.6->tensorflow~=2.7.0->tensorflow_decision_forests) (3.0.4)\n",
            "Requirement already satisfied: idna<3,>=2.5 in /usr/local/lib/python3.7/dist-packages (from requests<3,>=2.21.0->tensorboard~=2.6->tensorflow~=2.7.0->tensorflow_decision_forests) (2.10)\n",
            "Requirement already satisfied: oauthlib>=3.0.0 in /usr/local/lib/python3.7/dist-packages (from requests-oauthlib>=0.7.0->google-auth-oauthlib<0.5,>=0.4.1->tensorboard~=2.6->tensorflow~=2.7.0->tensorflow_decision_forests) (3.1.1)\n",
            "Requirement already satisfied: pytz>=2017.2 in /usr/local/lib/python3.7/dist-packages (from pandas->tensorflow_decision_forests) (2018.9)\n",
            "Requirement already satisfied: python-dateutil>=2.7.3 in /usr/local/lib/python3.7/dist-packages (from pandas->tensorflow_decision_forests) (2.8.2)\n",
            "Installing collected packages: tensorflow-decision-forests\n",
            "Successfully installed tensorflow-decision-forests-0.2.1\n",
            "Collecting wurlitzer\n",
            "  Downloading wurlitzer-3.0.2-py3-none-any.whl (7.3 kB)\n",
            "Installing collected packages: wurlitzer\n",
            "Successfully installed wurlitzer-3.0.2\n",
            "Requirement already satisfied: seaborn in /usr/local/lib/python3.7/dist-packages (0.11.2)\n",
            "Requirement already satisfied: scipy>=1.0 in /usr/local/lib/python3.7/dist-packages (from seaborn) (1.4.1)\n",
            "Requirement already satisfied: numpy>=1.15 in /usr/local/lib/python3.7/dist-packages (from seaborn) (1.19.5)\n",
            "Requirement already satisfied: pandas>=0.23 in /usr/local/lib/python3.7/dist-packages (from seaborn) (1.1.5)\n",
            "Requirement already satisfied: matplotlib>=2.2 in /usr/local/lib/python3.7/dist-packages (from seaborn) (3.2.2)\n",
            "Requirement already satisfied: cycler>=0.10 in /usr/local/lib/python3.7/dist-packages (from matplotlib>=2.2->seaborn) (0.11.0)\n",
            "Requirement already satisfied: kiwisolver>=1.0.1 in /usr/local/lib/python3.7/dist-packages (from matplotlib>=2.2->seaborn) (1.3.2)\n",
            "Requirement already satisfied: python-dateutil>=2.1 in /usr/local/lib/python3.7/dist-packages (from matplotlib>=2.2->seaborn) (2.8.2)\n",
            "Requirement already satisfied: pyparsing!=2.0.4,!=2.1.2,!=2.1.6,>=2.0.1 in /usr/local/lib/python3.7/dist-packages (from matplotlib>=2.2->seaborn) (3.0.6)\n",
            "Requirement already satisfied: pytz>=2017.2 in /usr/local/lib/python3.7/dist-packages (from pandas>=0.23->seaborn) (2018.9)\n",
            "Requirement already satisfied: six>=1.5 in /usr/local/lib/python3.7/dist-packages (from python-dateutil>=2.1->matplotlib>=2.2->seaborn) (1.15.0)\n"
          ]
        }
      ]
    },
    {
      "cell_type": "code",
      "metadata": {
        "id": "UNc6Or80qBwS",
        "colab": {
          "base_uri": "https://localhost:8080/"
        },
        "outputId": "61576570-288f-4bf0-e9c0-f88a31353df3"
      },
      "source": [
        "import pandas as pd\n",
        "import numpy as np\n",
        "import math\n",
        "import seaborn as sns\n",
        "import tensorflow_decision_forests as tfdf\n",
        "from sklearn.model_selection import train_test_split\n",
        "from wurlitzer import sys_pipes"
      ],
      "execution_count": 4,
      "outputs": [
        {
          "output_type": "stream",
          "name": "stderr",
          "text": [
            "WARNING:root:Failure to load the custom c++ tensorflow ops. This error is likely caused the version of TensorFlow and TensorFlow Decision Forests are not compatible.\n",
            "WARNING:root:TF Parameter Server distributed training not available.\n"
          ]
        }
      ]
    },
    {
      "cell_type": "code",
      "metadata": {
        "id": "mHtPKJNNQ7Zv",
        "cellView": "code"
      },
      "source": [
        "#@title Default title text\n",
        "root = \"education-impact/\" \n",
        "datasets_path = {\n",
        "                    \"infant_mortality\"              :  root+ \"datasets/Infant_Mortality_Rate.csv\",\n",
        "                    \"child_mortality\"               :  root+ \"datasets/child_mortality_0_5_year_olds_dying_per_1000_born.csv\",\n",
        "                    \"children_per_woman\"            :  root+ \"datasets/children_per_woman_total_fertility.csv\",\n",
        "                    \"co2_emissions\"                 :  root+ \"datasets/co2_emissions_tonnes_per_person.csv\",\n",
        "                    \"population\"                    :  root+ \"datasets/converted_pop.csv\",\n",
        "                    \"food_supply\"                   :  root+ \"datasets/food_supply_kilocalories_per_person_and_day.csv\",\n",
        "                    \"gdp_growth\"                    :  root+ \"datasets/gdp_per_capita_yearly_growth.csv\",\n",
        "                    \"Avg_daily_income_ppp\"          :  root+ \"datasets/mincpcap_cppp.csv\",\n",
        "                    \"gdppercapita_us_infla_adjust\"  :  root+ \"datasets/gdppercapita_us_inflation_adjusted.csv\",\n",
        "                    \"gini_index\"                    :  root+ \"datasets/gini.csv\",\n",
        "                    \"life_expectancy\"               :  root+ \"datasets/life_expectancy_years.csv\",\n",
        "                    \"malnutrition\"                  :  root+ \"datasets/malnutrition_weight_for_age_percent_of_children_under_5.csv\",\n",
        "                    \"poverty_index\"                 :  root+ \"datasets/mincpcap_cppp.csv\",\n",
        "                    \"maternal_mortality\"            :  root+ \"datasets/mmr_who.csv\",\n",
        "                    \"people_in_poverty\"             :  root+ \"datasets/number_of_people_in_poverty.csv\",\n",
        "                    \"primary_completion\"            :  root+ \"datasets/primary_school_completion_percent_of_girls.csv\",\n",
        "                    \"ratio_b/g_in_primary\"          :  root+ \"datasets/ratio_of_girls_to_boys_in_primary_and_secondary_education_perc.csv\",\n",
        "                    \"wcde-25--34\"                   :  root+ \"datasets/wcde-25--34.csv\",\n",
        "                    \"wcde-Incomplete_Primary\"       :  root+ \"datasets/wcde-Incomplete Primary.csv\",\n",
        "                    \"wcde-Lower_Secondary\"          :  root+ \"datasets/wcde-Lower Secondary.csv\",\n",
        "                    \"wcde-Post_Secondary\"           :  root+ \"datasets/wcde-Post Secondary.csv\",\n",
        "                    \"wcde_female-Incomplete_Primary\":  root+ \"datasets/wcde_female-Incomplete Primary.csv\",\n",
        "                    \"wcde_female-Lower_Secondary\"   :  root+ \"datasets/wcde_female-Lower Secondary.csv\",\n",
        "                    \"wcde_female-Post_Secondary\"    :  root+ \"datasets/wcde_female-Post Secondary.csv\",\n",
        "                    \"wcde-In_Primary_OL\"            :  root+ \"datasets/wcde-In_Primary_OL.csv\",\n",
        "                    \"wcde-Primary_OL\"               :  root+ \"datasets/wcde-Primary_OL.csv\",\n",
        "                    \"wcde-Lower_Secondary_OL\"       :  root+ \"datasets/wcde-Lower_Secondary_OL.csv\",\n",
        "                    \"female_wcde-In_Primary_OL\"     :  root+ \"datasets/wcde-female_In_Primary_OL.csv\",\n",
        "                    \"female_wcde-Primary_OL\"        :  root+ \"datasets/wcde-female_Primary_OL.csv\",\n",
        "                    \"female_wcde-Lower_Secondary_OL\":  root+ \"datasets/wcde-female_Lower_Secondary_OL.csv\"\n",
        "                }"
      ],
      "execution_count": 5,
      "outputs": []
    },
    {
      "cell_type": "code",
      "metadata": {
        "id": "zQlw2De3EPX-"
      },
      "source": [
        "datasets = [\n",
        "            \"infant_mortality\",\n",
        "            \"life_expectancy\",\n",
        "            # \"child_mortality\",\n",
        "            \"children_per_woman\",\n",
        "            \"co2_emissions\",\n",
        "            \"gini_index\",\n",
        "            \"gdppercapita_us_infla_adjust\",\n",
        "            \"wcde-In_Primary_OL\",\n",
        "            \"wcde-Primary_OL\",\n",
        "            # \"wcde-Lower_Secondary_OL\",\n",
        "            \"population\",\n",
        "            \"female_wcde-In_Primary_OL\",\n",
        "            \"female_wcde-Primary_OL\" ,\n",
        "            # \"female_wcde-Lower_Secondary_OL\"\n",
        "            ]"
      ],
      "execution_count": 85,
      "outputs": []
    },
    {
      "cell_type": "code",
      "metadata": {
        "id": "lEv-zMFlFgCm"
      },
      "source": [
        "PREDICT_FUTURE  = 10\n",
        "OUTPUTS         = ['children_per_woman']\n",
        "                   "
      ],
      "execution_count": 58,
      "outputs": []
    },
    {
      "cell_type": "code",
      "metadata": {
        "id": "PWHauD_9RN8n",
        "colab": {
          "base_uri": "https://localhost:8080/"
        },
        "outputId": "d27a2445-eb9b-455f-9282-97a2d74f6dde"
      },
      "source": [
        "# to find out how many countries each dataset has\n",
        "countries_count      = None\n",
        "least_dataset_path   = None\n",
        "for dataset in datasets:\n",
        "  df = pd.read_csv(datasets_path[dataset])\n",
        "  count = len(set(df.Country.unique()))\n",
        "  if not countries_count:\n",
        "    countries_count = count\n",
        "    least_dataset_path   = datasets_path[dataset]\n",
        "  elif countries_count > count:\n",
        "    countries_count = count\n",
        "    least_dataset_path   = datasets_path[dataset]\n",
        "  print(f\"{'Factor: ' + dataset:<30} count: {count}\")\n",
        "print(f\"{'To use: ' + least_dataset_path:<30} count: {countries_count}\")"
      ],
      "execution_count": 86,
      "outputs": [
        {
          "output_type": "stream",
          "name": "stdout",
          "text": [
            "Factor: infant_mortality       count: 266\n",
            "Factor: life_expectancy        count: 195\n",
            "Factor: children_per_woman     count: 202\n",
            "Factor: co2_emissions          count: 194\n",
            "Factor: gini_index             count: 195\n",
            "Factor: gdppercapita_us_infla_adjust count: 207\n",
            "Factor: wcde-In_Primary_OL     count: 202\n",
            "Factor: wcde-Primary_OL        count: 202\n",
            "Factor: population             count: 197\n",
            "Factor: female_wcde-In_Primary_OL count: 202\n",
            "Factor: female_wcde-Primary_OL count: 202\n",
            "To use: education-impact/datasets/co2_emissions_tonnes_per_person.csv count: 194\n"
          ]
        }
      ]
    },
    {
      "cell_type": "code",
      "metadata": {
        "id": "ZpydOBe_ZESB"
      },
      "source": [
        ""
      ],
      "execution_count": 59,
      "outputs": []
    },
    {
      "cell_type": "code",
      "metadata": {
        "colab": {
          "base_uri": "https://localhost:8080/"
        },
        "id": "OEMcE1movJBw",
        "outputId": "aed38edc-4eaa-4c95-d8c7-8a54a60856f7"
      },
      "source": [
        "common_countries = set()\n",
        "for dataset in datasets:\n",
        "  countries_list = list(pd.read_csv(datasets_path[dataset]).Country)\n",
        "  countries_list = set(map(lambda x: x.lower(), countries_list))\n",
        "  if common_countries == set():\n",
        "    common_countries = countries_list\n",
        "  else:\n",
        "    common_countries = common_countries.intersection(countries_list)\n",
        "len(common_countries)"
      ],
      "execution_count": 87,
      "outputs": [
        {
          "output_type": "execute_result",
          "data": {
            "text/plain": [
              "153"
            ]
          },
          "metadata": {},
          "execution_count": 87
        }
      ]
    },
    {
      "cell_type": "code",
      "metadata": {
        "id": "6lCbc1WbKgia"
      },
      "source": [
        "# creating a list of all countries & years\n",
        "countries = list(common_countries)\n",
        "years     = [y for y in range(1960,2015-PREDICT_FUTURE+1)]"
      ],
      "execution_count": 88,
      "outputs": []
    },
    {
      "cell_type": "code",
      "metadata": {
        "colab": {
          "base_uri": "https://localhost:8080/"
        },
        "id": "xiq8YOwXdzXL",
        "outputId": "6c50f48f-a8c0-41fb-a3b2-d21e77dc9540"
      },
      "source": [
        "len(countries)"
      ],
      "execution_count": 62,
      "outputs": [
        {
          "output_type": "execute_result",
          "data": {
            "text/plain": [
              "158"
            ]
          },
          "metadata": {},
          "execution_count": 62
        }
      ]
    },
    {
      "cell_type": "code",
      "metadata": {
        "id": "zcGs5bV_OlyL"
      },
      "source": [
        "keys=[]\n",
        "for y in years:\n",
        "  for c in countries:\n",
        "    keys.append((c,str(y)))"
      ],
      "execution_count": 89,
      "outputs": []
    },
    {
      "cell_type": "code",
      "metadata": {
        "id": "GF8pxSpGlaKM"
      },
      "source": [
        "big_dic = {k : [] for k in keys}\n",
        "for dataset in datasets:\n",
        "  df = pd.read_csv(datasets_path[dataset])\n",
        "  df[\"Country\"] = df[\"Country\"].str.lower()\n",
        "  df.set_index(\"Country\", inplace=True)\n",
        "  for k in keys:\n",
        "    try:\n",
        "      big_dic[k].append(df.loc[k[0]][k[1]])\n",
        "    except:\n",
        "      big_dic[k].append(np.NaN)\n",
        " "
      ],
      "execution_count": 90,
      "outputs": []
    },
    {
      "cell_type": "code",
      "metadata": {
        "id": "NgqcguWjsUGI"
      },
      "source": [
        "for output_path in OUTPUTS:\n",
        "  df = pd.read_csv(datasets_path[output_path])\n",
        "  df[\"Country\"] = df[\"Country\"].str.lower()\n",
        "  df.set_index(\"Country\", inplace=True)\n",
        "  for k in keys:\n",
        "    try:\n",
        "      big_dic[k].append(df.loc[k[0]][str(int(k[1])+PREDICT_FUTURE)])\n",
        "    except:\n",
        "      big_dic[k].append(np.NaN)"
      ],
      "execution_count": 91,
      "outputs": []
    },
    {
      "cell_type": "code",
      "metadata": {
        "id": "WVnfofKptBRt"
      },
      "source": [
        "columns = [k for k in datasets ]\n",
        "output_columns = [\"o_\"+o for o in OUTPUTS]\n",
        "columns.extend(output_columns)"
      ],
      "execution_count": 92,
      "outputs": []
    },
    {
      "cell_type": "code",
      "metadata": {
        "id": "E1W2z1TcszrP"
      },
      "source": [
        "input_df = pd.DataFrame.from_dict(big_dic,orient='index', columns = columns)\n",
        "output_df = input_df[[\"o_\"+o for o in OUTPUTS]]\n",
        "input_df.drop(labels=[\"o_\"+o for o in OUTPUTS], axis = 1, inplace=True)"
      ],
      "execution_count": 93,
      "outputs": []
    },
    {
      "cell_type": "code",
      "metadata": {
        "id": "KRYgp4465ve1"
      },
      "source": [
        "X_train, X_test, y_train, y_test = train_test_split(input_df, output_df, test_size=0.30, random_state=43)"
      ],
      "execution_count": 94,
      "outputs": []
    },
    {
      "cell_type": "code",
      "metadata": {
        "colab": {
          "base_uri": "https://localhost:8080/"
        },
        "id": "UoY9_jY9n7Wo",
        "outputId": "580bd466-d95b-4402-9182-cd456b36236a"
      },
      "source": [
        "X_train.isna().sum()"
      ],
      "execution_count": 95,
      "outputs": [
        {
          "output_type": "execute_result",
          "data": {
            "text/plain": [
              "infant_mortality                 529\n",
              "life_expectancy                    0\n",
              "children_per_woman                 0\n",
              "co2_emissions                    107\n",
              "gini_index                         0\n",
              "gdppercapita_us_infla_adjust    1280\n",
              "wcde-In_Primary_OL                 0\n",
              "wcde-Primary_OL                    0\n",
              "population                         0\n",
              "female_wcde-In_Primary_OL          0\n",
              "female_wcde-Primary_OL             0\n",
              "dtype: int64"
            ]
          },
          "metadata": {},
          "execution_count": 95
        }
      ]
    },
    {
      "cell_type": "code",
      "metadata": {
        "colab": {
          "base_uri": "https://localhost:8080/"
        },
        "id": "sefswM8hpqdg",
        "outputId": "998eb2e5-bbb4-441e-a2f5-0194b4c82d77"
      },
      "source": [
        "y_train.isna().sum()"
      ],
      "execution_count": 96,
      "outputs": [
        {
          "output_type": "execute_result",
          "data": {
            "text/plain": [
              "o_children_per_woman    0\n",
              "dtype: int64"
            ]
          },
          "metadata": {},
          "execution_count": 96
        }
      ]
    },
    {
      "cell_type": "code",
      "metadata": {
        "colab": {
          "base_uri": "https://localhost:8080/",
          "height": 538
        },
        "id": "W3KhYqGwyuFg",
        "outputId": "e922eca0-c4ab-4c17-f8af-aea7fe5c35e3"
      },
      "source": [
        "X_train"
      ],
      "execution_count": 71,
      "outputs": [
        {
          "output_type": "execute_result",
          "data": {
            "text/html": [
              "<div>\n",
              "<style scoped>\n",
              "    .dataframe tbody tr th:only-of-type {\n",
              "        vertical-align: middle;\n",
              "    }\n",
              "\n",
              "    .dataframe tbody tr th {\n",
              "        vertical-align: top;\n",
              "    }\n",
              "\n",
              "    .dataframe thead th {\n",
              "        text-align: right;\n",
              "    }\n",
              "</style>\n",
              "<table border=\"1\" class=\"dataframe\">\n",
              "  <thead>\n",
              "    <tr style=\"text-align: right;\">\n",
              "      <th></th>\n",
              "      <th>life_expectancy</th>\n",
              "      <th>co2_emissions</th>\n",
              "      <th>gini_index</th>\n",
              "      <th>gdppercapita_us_infla_adjust</th>\n",
              "      <th>wcde-In_Primary_OL</th>\n",
              "      <th>wcde-Primary_OL</th>\n",
              "      <th>population</th>\n",
              "      <th>female_wcde-In_Primary_OL</th>\n",
              "      <th>female_wcde-Primary_OL</th>\n",
              "    </tr>\n",
              "  </thead>\n",
              "  <tbody>\n",
              "    <tr>\n",
              "      <th>(malta, 1966)</th>\n",
              "      <td>70.0</td>\n",
              "      <td>1.280</td>\n",
              "      <td>28.0</td>\n",
              "      <td>NaN</td>\n",
              "      <td>1.70</td>\n",
              "      <td>62.56</td>\n",
              "      <td>323000</td>\n",
              "      <td>1.70</td>\n",
              "      <td>62.56</td>\n",
              "    </tr>\n",
              "    <tr>\n",
              "      <th>(turkey, 1963)</th>\n",
              "      <td>51.9</td>\n",
              "      <td>0.767</td>\n",
              "      <td>51.3</td>\n",
              "      <td>2720.0</td>\n",
              "      <td>57.48</td>\n",
              "      <td>91.66</td>\n",
              "      <td>29500000</td>\n",
              "      <td>57.48</td>\n",
              "      <td>91.66</td>\n",
              "    </tr>\n",
              "    <tr>\n",
              "      <th>(guinea-bissau, 1987)</th>\n",
              "      <td>47.2</td>\n",
              "      <td>0.213</td>\n",
              "      <td>46.0</td>\n",
              "      <td>607.0</td>\n",
              "      <td>91.28</td>\n",
              "      <td>94.96</td>\n",
              "      <td>913000</td>\n",
              "      <td>91.28</td>\n",
              "      <td>94.96</td>\n",
              "    </tr>\n",
              "    <tr>\n",
              "      <th>(cuba, 2005)</th>\n",
              "      <td>77.7</td>\n",
              "      <td>2.300</td>\n",
              "      <td>42.8</td>\n",
              "      <td>5180.0</td>\n",
              "      <td>1.10</td>\n",
              "      <td>8.80</td>\n",
              "      <td>11300000</td>\n",
              "      <td>1.10</td>\n",
              "      <td>8.80</td>\n",
              "    </tr>\n",
              "    <tr>\n",
              "      <th>(benin, 1986)</th>\n",
              "      <td>54.3</td>\n",
              "      <td>0.151</td>\n",
              "      <td>41.7</td>\n",
              "      <td>833.0</td>\n",
              "      <td>83.60</td>\n",
              "      <td>92.60</td>\n",
              "      <td>4400000</td>\n",
              "      <td>83.60</td>\n",
              "      <td>92.60</td>\n",
              "    </tr>\n",
              "    <tr>\n",
              "      <th>...</th>\n",
              "      <td>...</td>\n",
              "      <td>...</td>\n",
              "      <td>...</td>\n",
              "      <td>...</td>\n",
              "      <td>...</td>\n",
              "      <td>...</td>\n",
              "      <td>...</td>\n",
              "      <td>...</td>\n",
              "      <td>...</td>\n",
              "    </tr>\n",
              "    <tr>\n",
              "      <th>(zimbabwe, 1999)</th>\n",
              "      <td>48.5</td>\n",
              "      <td>1.330</td>\n",
              "      <td>40.2</td>\n",
              "      <td>1760.0</td>\n",
              "      <td>11.92</td>\n",
              "      <td>29.68</td>\n",
              "      <td>11800000</td>\n",
              "      <td>11.92</td>\n",
              "      <td>29.68</td>\n",
              "    </tr>\n",
              "    <tr>\n",
              "      <th>(south sudan, 1974)</th>\n",
              "      <td>52.0</td>\n",
              "      <td>0.123</td>\n",
              "      <td>45.0</td>\n",
              "      <td>NaN</td>\n",
              "      <td>93.68</td>\n",
              "      <td>99.80</td>\n",
              "      <td>3840000</td>\n",
              "      <td>93.68</td>\n",
              "      <td>99.80</td>\n",
              "    </tr>\n",
              "    <tr>\n",
              "      <th>(trinidad and tobago, 1974)</th>\n",
              "      <td>66.6</td>\n",
              "      <td>10.100</td>\n",
              "      <td>48.3</td>\n",
              "      <td>6650.0</td>\n",
              "      <td>14.90</td>\n",
              "      <td>48.66</td>\n",
              "      <td>996000</td>\n",
              "      <td>14.90</td>\n",
              "      <td>48.66</td>\n",
              "    </tr>\n",
              "    <tr>\n",
              "      <th>(armenia, 1981)</th>\n",
              "      <td>70.5</td>\n",
              "      <td>5.460</td>\n",
              "      <td>41.5</td>\n",
              "      <td>NaN</td>\n",
              "      <td>0.20</td>\n",
              "      <td>0.78</td>\n",
              "      <td>3150000</td>\n",
              "      <td>0.20</td>\n",
              "      <td>0.78</td>\n",
              "    </tr>\n",
              "    <tr>\n",
              "      <th>(solomon islands, 1997)</th>\n",
              "      <td>56.8</td>\n",
              "      <td>0.376</td>\n",
              "      <td>46.1</td>\n",
              "      <td>2440.0</td>\n",
              "      <td>40.46</td>\n",
              "      <td>78.44</td>\n",
              "      <td>380000</td>\n",
              "      <td>40.46</td>\n",
              "      <td>78.44</td>\n",
              "    </tr>\n",
              "  </tbody>\n",
              "</table>\n",
              "<p>5087 rows × 9 columns</p>\n",
              "</div>"
            ],
            "text/plain": [
              "                             life_expectancy  ...  female_wcde-Primary_OL\n",
              "(malta, 1966)                           70.0  ...                   62.56\n",
              "(turkey, 1963)                          51.9  ...                   91.66\n",
              "(guinea-bissau, 1987)                   47.2  ...                   94.96\n",
              "(cuba, 2005)                            77.7  ...                    8.80\n",
              "(benin, 1986)                           54.3  ...                   92.60\n",
              "...                                      ...  ...                     ...\n",
              "(zimbabwe, 1999)                        48.5  ...                   29.68\n",
              "(south sudan, 1974)                     52.0  ...                   99.80\n",
              "(trinidad and tobago, 1974)             66.6  ...                   48.66\n",
              "(armenia, 1981)                         70.5  ...                    0.78\n",
              "(solomon islands, 1997)                 56.8  ...                   78.44\n",
              "\n",
              "[5087 rows x 9 columns]"
            ]
          },
          "metadata": {},
          "execution_count": 71
        }
      ]
    },
    {
      "cell_type": "code",
      "metadata": {
        "id": "1NOlqEfOxpPA",
        "colab": {
          "base_uri": "https://localhost:8080/",
          "height": 391
        },
        "outputId": "6d1e4ed0-0c93-4c8b-a1dd-5cc6174a82a1"
      },
      "source": [
        "sns.pairplot(X_train[[\"children_per_woman\",\"life_expectancy\"]], diag_kind=\"kde\")"
      ],
      "execution_count": 97,
      "outputs": [
        {
          "output_type": "execute_result",
          "data": {
            "text/plain": [
              "<seaborn.axisgrid.PairGrid at 0x7f5450bb1850>"
            ]
          },
          "metadata": {},
          "execution_count": 97
        },
        {
          "output_type": "display_data",
          "data": {
            "image/png": "[encoded data removed]",
            "text/plain": [
              "<Figure size 360x360 with 6 Axes>"
            ]
          },
          "metadata": {
            "needs_background": "light"
          }
        }
      ]
    },
    {
      "cell_type": "code",
      "metadata": {
        "id": "xggGoM-m0eNw"
      },
      "source": [
        "# sns.pairplot(X_train[[\"infant_mortality\",\"Avg_daily_income_ppp\"]], diag_kind=\"kde\")"
      ],
      "execution_count": 73,
      "outputs": []
    },
    {
      "cell_type": "code",
      "metadata": {
        "id": "vELwjG940fdB"
      },
      "source": [
        "# sns.pairplot(X_train[[\"infant_mortality\",\"wcde-Incomplete_Primary\"]], diag_kind=\"kde\")"
      ],
      "execution_count": 74,
      "outputs": []
    },
    {
      "cell_type": "code",
      "metadata": {
        "id": "kdjrDf5R0e5q"
      },
      "source": [
        "# sns.pairplot(X_train[[\"infant_mortality\",\"population\"]], diag_kind=\"kde\")"
      ],
      "execution_count": 75,
      "outputs": []
    },
    {
      "cell_type": "code",
      "metadata": {
        "colab": {
          "base_uri": "https://localhost:8080/",
          "height": 419
        },
        "id": "zbtSynu0ptXn",
        "outputId": "4b4b988a-0abb-4158-8eaf-add968e40581"
      },
      "source": [
        "y_train"
      ],
      "execution_count": 76,
      "outputs": [
        {
          "output_type": "execute_result",
          "data": {
            "text/html": [
              "<div>\n",
              "<style scoped>\n",
              "    .dataframe tbody tr th:only-of-type {\n",
              "        vertical-align: middle;\n",
              "    }\n",
              "\n",
              "    .dataframe tbody tr th {\n",
              "        vertical-align: top;\n",
              "    }\n",
              "\n",
              "    .dataframe thead th {\n",
              "        text-align: right;\n",
              "    }\n",
              "</style>\n",
              "<table border=\"1\" class=\"dataframe\">\n",
              "  <thead>\n",
              "    <tr style=\"text-align: right;\">\n",
              "      <th></th>\n",
              "      <th>o_children_per_woman</th>\n",
              "    </tr>\n",
              "  </thead>\n",
              "  <tbody>\n",
              "    <tr>\n",
              "      <th>(malta, 1966)</th>\n",
              "      <td>2.08</td>\n",
              "    </tr>\n",
              "    <tr>\n",
              "      <th>(turkey, 1963)</th>\n",
              "      <td>5.32</td>\n",
              "    </tr>\n",
              "    <tr>\n",
              "      <th>(guinea-bissau, 1987)</th>\n",
              "      <td>6.11</td>\n",
              "    </tr>\n",
              "    <tr>\n",
              "      <th>(cuba, 2005)</th>\n",
              "      <td>1.72</td>\n",
              "    </tr>\n",
              "    <tr>\n",
              "      <th>(benin, 1986)</th>\n",
              "      <td>6.28</td>\n",
              "    </tr>\n",
              "    <tr>\n",
              "      <th>...</th>\n",
              "      <td>...</td>\n",
              "    </tr>\n",
              "    <tr>\n",
              "      <th>(zimbabwe, 1999)</th>\n",
              "      <td>4.02</td>\n",
              "    </tr>\n",
              "    <tr>\n",
              "      <th>(south sudan, 1974)</th>\n",
              "      <td>6.81</td>\n",
              "    </tr>\n",
              "    <tr>\n",
              "      <th>(trinidad and tobago, 1974)</th>\n",
              "      <td>3.15</td>\n",
              "    </tr>\n",
              "    <tr>\n",
              "      <th>(armenia, 1981)</th>\n",
              "      <td>2.48</td>\n",
              "    </tr>\n",
              "    <tr>\n",
              "      <th>(solomon islands, 1997)</th>\n",
              "      <td>4.41</td>\n",
              "    </tr>\n",
              "  </tbody>\n",
              "</table>\n",
              "<p>5087 rows × 1 columns</p>\n",
              "</div>"
            ],
            "text/plain": [
              "                             o_children_per_woman\n",
              "(malta, 1966)                                2.08\n",
              "(turkey, 1963)                               5.32\n",
              "(guinea-bissau, 1987)                        6.11\n",
              "(cuba, 2005)                                 1.72\n",
              "(benin, 1986)                                6.28\n",
              "...                                           ...\n",
              "(zimbabwe, 1999)                             4.02\n",
              "(south sudan, 1974)                          6.81\n",
              "(trinidad and tobago, 1974)                  3.15\n",
              "(armenia, 1981)                              2.48\n",
              "(solomon islands, 1997)                      4.41\n",
              "\n",
              "[5087 rows x 1 columns]"
            ]
          },
          "metadata": {},
          "execution_count": 76
        }
      ]
    },
    {
      "cell_type": "code",
      "metadata": {
        "id": "gAi9JoDdGuhE"
      },
      "source": [
        "def combine_dfs(label,X,y):\n",
        "  frames      = [X,y[label]]\n",
        "  le_model_df = pd.concat(frames,axis=1)\n",
        "  le_model_df.dropna(subset=[label],inplace=True)\n",
        "  return le_model_df"
      ],
      "execution_count": 77,
      "outputs": []
    },
    {
      "cell_type": "code",
      "metadata": {
        "colab": {
          "base_uri": "https://localhost:8080/",
          "height": 660
        },
        "id": "IAkvReLKpLQ4",
        "outputId": "3b2a766a-bff3-46eb-e85c-4abe42c7d01a"
      },
      "source": [
        "combine_dfs(\"o_\"+OUTPUTS[0],X_test,y_test)"
      ],
      "execution_count": 78,
      "outputs": [
        {
          "output_type": "execute_result",
          "data": {
            "text/html": [
              "<div>\n",
              "<style scoped>\n",
              "    .dataframe tbody tr th:only-of-type {\n",
              "        vertical-align: middle;\n",
              "    }\n",
              "\n",
              "    .dataframe tbody tr th {\n",
              "        vertical-align: top;\n",
              "    }\n",
              "\n",
              "    .dataframe thead th {\n",
              "        text-align: right;\n",
              "    }\n",
              "</style>\n",
              "<table border=\"1\" class=\"dataframe\">\n",
              "  <thead>\n",
              "    <tr style=\"text-align: right;\">\n",
              "      <th></th>\n",
              "      <th>life_expectancy</th>\n",
              "      <th>co2_emissions</th>\n",
              "      <th>gini_index</th>\n",
              "      <th>gdppercapita_us_infla_adjust</th>\n",
              "      <th>wcde-In_Primary_OL</th>\n",
              "      <th>wcde-Primary_OL</th>\n",
              "      <th>population</th>\n",
              "      <th>female_wcde-In_Primary_OL</th>\n",
              "      <th>female_wcde-Primary_OL</th>\n",
              "      <th>o_children_per_woman</th>\n",
              "    </tr>\n",
              "  </thead>\n",
              "  <tbody>\n",
              "    <tr>\n",
              "      <th>(gambia, 1963)</th>\n",
              "      <td>54.6</td>\n",
              "      <td>0.0757</td>\n",
              "      <td>39.6</td>\n",
              "      <td>NaN</td>\n",
              "      <td>96.88</td>\n",
              "      <td>97.70</td>\n",
              "      <td>388000</td>\n",
              "      <td>96.88</td>\n",
              "      <td>97.70</td>\n",
              "      <td>6.23</td>\n",
              "    </tr>\n",
              "    <tr>\n",
              "      <th>(belarus, 1974)</th>\n",
              "      <td>72.5</td>\n",
              "      <td>9.7300</td>\n",
              "      <td>22.4</td>\n",
              "      <td>NaN</td>\n",
              "      <td>0.24</td>\n",
              "      <td>2.74</td>\n",
              "      <td>9190000</td>\n",
              "      <td>0.24</td>\n",
              "      <td>2.74</td>\n",
              "      <td>2.11</td>\n",
              "    </tr>\n",
              "    <tr>\n",
              "      <th>(guinea-bissau, 1992)</th>\n",
              "      <td>49.4</td>\n",
              "      <td>0.1760</td>\n",
              "      <td>44.7</td>\n",
              "      <td>679.0</td>\n",
              "      <td>86.36</td>\n",
              "      <td>92.08</td>\n",
              "      <td>1020000</td>\n",
              "      <td>86.36</td>\n",
              "      <td>92.08</td>\n",
              "      <td>5.64</td>\n",
              "    </tr>\n",
              "    <tr>\n",
              "      <th>(angola, 1975)</th>\n",
              "      <td>47.5</td>\n",
              "      <td>0.6280</td>\n",
              "      <td>54.4</td>\n",
              "      <td>NaN</td>\n",
              "      <td>94.80</td>\n",
              "      <td>97.90</td>\n",
              "      <td>7020000</td>\n",
              "      <td>94.80</td>\n",
              "      <td>97.90</td>\n",
              "      <td>7.38</td>\n",
              "    </tr>\n",
              "    <tr>\n",
              "      <th>(mauritius, 1960)</th>\n",
              "      <td>58.1</td>\n",
              "      <td>0.2720</td>\n",
              "      <td>38.6</td>\n",
              "      <td>NaN</td>\n",
              "      <td>69.30</td>\n",
              "      <td>92.60</td>\n",
              "      <td>660000</td>\n",
              "      <td>69.30</td>\n",
              "      <td>92.60</td>\n",
              "      <td>3.95</td>\n",
              "    </tr>\n",
              "    <tr>\n",
              "      <th>...</th>\n",
              "      <td>...</td>\n",
              "      <td>...</td>\n",
              "      <td>...</td>\n",
              "      <td>...</td>\n",
              "      <td>...</td>\n",
              "      <td>...</td>\n",
              "      <td>...</td>\n",
              "      <td>...</td>\n",
              "      <td>...</td>\n",
              "      <td>...</td>\n",
              "    </tr>\n",
              "    <tr>\n",
              "      <th>(kuwait, 1977)</th>\n",
              "      <td>70.0</td>\n",
              "      <td>14.9000</td>\n",
              "      <td>40.0</td>\n",
              "      <td>NaN</td>\n",
              "      <td>45.78</td>\n",
              "      <td>58.90</td>\n",
              "      <td>1150000</td>\n",
              "      <td>45.78</td>\n",
              "      <td>58.90</td>\n",
              "      <td>3.78</td>\n",
              "    </tr>\n",
              "    <tr>\n",
              "      <th>(azerbaijan, 1993)</th>\n",
              "      <td>64.3</td>\n",
              "      <td>6.3900</td>\n",
              "      <td>34.0</td>\n",
              "      <td>1620.0</td>\n",
              "      <td>0.24</td>\n",
              "      <td>0.88</td>\n",
              "      <td>7580000</td>\n",
              "      <td>0.24</td>\n",
              "      <td>0.88</td>\n",
              "      <td>1.87</td>\n",
              "    </tr>\n",
              "    <tr>\n",
              "      <th>(czech republic, 2004)</th>\n",
              "      <td>76.1</td>\n",
              "      <td>12.5000</td>\n",
              "      <td>27.1</td>\n",
              "      <td>14100.0</td>\n",
              "      <td>0.40</td>\n",
              "      <td>0.60</td>\n",
              "      <td>10200000</td>\n",
              "      <td>0.40</td>\n",
              "      <td>0.60</td>\n",
              "      <td>1.51</td>\n",
              "    </tr>\n",
              "    <tr>\n",
              "      <th>(nepal, 1970)</th>\n",
              "      <td>49.3</td>\n",
              "      <td>0.0188</td>\n",
              "      <td>32.0</td>\n",
              "      <td>351.0</td>\n",
              "      <td>94.80</td>\n",
              "      <td>97.10</td>\n",
              "      <td>12100000</td>\n",
              "      <td>94.80</td>\n",
              "      <td>97.10</td>\n",
              "      <td>5.73</td>\n",
              "    </tr>\n",
              "    <tr>\n",
              "      <th>(latvia, 1981)</th>\n",
              "      <td>69.2</td>\n",
              "      <td>6.2900</td>\n",
              "      <td>23.8</td>\n",
              "      <td>NaN</td>\n",
              "      <td>0.30</td>\n",
              "      <td>0.50</td>\n",
              "      <td>2530000</td>\n",
              "      <td>0.30</td>\n",
              "      <td>0.50</td>\n",
              "      <td>1.83</td>\n",
              "    </tr>\n",
              "  </tbody>\n",
              "</table>\n",
              "<p>2181 rows × 10 columns</p>\n",
              "</div>"
            ],
            "text/plain": [
              "                        life_expectancy  ...  o_children_per_woman\n",
              "(gambia, 1963)                     54.6  ...                  6.23\n",
              "(belarus, 1974)                    72.5  ...                  2.11\n",
              "(guinea-bissau, 1992)              49.4  ...                  5.64\n",
              "(angola, 1975)                     47.5  ...                  7.38\n",
              "(mauritius, 1960)                  58.1  ...                  3.95\n",
              "...                                 ...  ...                   ...\n",
              "(kuwait, 1977)                     70.0  ...                  3.78\n",
              "(azerbaijan, 1993)                 64.3  ...                  1.87\n",
              "(czech republic, 2004)             76.1  ...                  1.51\n",
              "(nepal, 1970)                      49.3  ...                  5.73\n",
              "(latvia, 1981)                     69.2  ...                  1.83\n",
              "\n",
              "[2181 rows x 10 columns]"
            ]
          },
          "metadata": {},
          "execution_count": 78
        }
      ]
    },
    {
      "cell_type": "code",
      "metadata": {
        "id": "x2wiwgqk6ZfU",
        "colab": {
          "base_uri": "https://localhost:8080/"
        },
        "outputId": "df9e6af4-473c-4105-b8a9-fcf2de79fe42"
      },
      "source": [
        "for output in OUTPUTS:\n",
        "  # converting pandas to tensorFlow dataset\n",
        "  train_ds = tfdf.keras.pd_dataframe_to_tf_dataset(combine_dfs(\"o_\"+output,X_train,y_train), label=\"o_\"+output, task=tfdf.keras.Task.REGRESSION)\n",
        "  model = tfdf.keras.RandomForestModel(task = tfdf.keras.Task.REGRESSION)\n",
        "  \n",
        "  model.fit(x=train_ds)\n",
        "  # Convert it to a TensorFlow dataset\n",
        "  test_ds = tfdf.keras.pd_dataframe_to_tf_dataset(combine_dfs(\"o_\"+output,X_train,y_train), label=\"o_\"+output, task=tfdf.keras.Task.REGRESSION)\n",
        "\n",
        "  # Evaluate the model\n",
        "  model.compile(metrics=[\"mse\"])\n",
        "  # Evaluate the model on the test dataset.\n",
        "  evaluation = model.evaluate(test_ds, return_dict=True)\n",
        "  print(output.upper())\n",
        "  print(evaluation)\n",
        "  print()\n",
        "  print(f\"MSE: {evaluation['mse']}\")\n",
        "  print(f\"RMSE: {math.sqrt(evaluation['mse'])}\")\n",
        "  print()"
      ],
      "execution_count": 79,
      "outputs": [
        {
          "output_type": "stream",
          "name": "stdout",
          "text": [
            "80/80 [==============================] - 5s 65ms/step\n",
            "80/80 [==============================] - 0s 5ms/step - loss: 0.0000e+00 - mse: 0.0448\n",
            "CHILDREN_PER_WOMAN\n",
            "{'loss': 0.0, 'mse': 0.04476310685276985}\n",
            "\n",
            "MSE: 0.04476310685276985\n",
            "RMSE: 0.21157293506677516\n",
            "\n"
          ]
        }
      ]
    },
    {
      "cell_type": "code",
      "metadata": {
        "colab": {
          "base_uri": "https://localhost:8080/",
          "height": 404
        },
        "id": "9km9jt9mBIvM",
        "outputId": "ba7ac944-8a03-48e3-b1e7-217c1c9e8f46"
      },
      "source": [
        "tfdf.model_plotter.plot_model_in_colab(model, tree_idx=132)"
      ],
      "execution_count": 84,
      "outputs": [
        {
          "output_type": "execute_result",
          "data": {
            "text/html": [
              "\n",
              "<script src=\"https://d3js.org/d3.v6.min.js\"></script>\n",
              "<div id=\"tree_plot_78a0d303c56b442db6a26b5773ed3987\"></div>\n",
              "<script>\n",
              "/*\n",
              " * Copyright 2021 Google LLC.\n",
              " * Licensed under the Apache License, Version 2.0 (the \"License\");\n",
              " * you may not use this file except in compliance with the License.\n",
              " * You may obtain a copy of the License at\n",
              " *\n",
              " *     https://www.apache.org/licenses/LICENSE-2.0\n",
              " *\n",
              " * Unless required by applicable law or agreed to in writing, software\n",
              " * distributed under the License is distributed on an \"AS IS\" BASIS,\n",
              " * WITHOUT WARRANTIES OR CONDITIONS OF ANY KIND, either express or implied.\n",
              " * See the License for the specific language governing permissions and\n",
              " * limitations under the License.\n",
              " */\n",
              "\n",
              "/**\n",
              " *  Plotting of decision trees generated by TF-DF.\n",
              " *\n",
              " *  A tree is a recursive structure of node objects.\n",
              " *  A node contains one or more of the following components:\n",
              " *\n",
              " *    - A value: Representing the output of the node. If the node is not a leaf,\n",
              " *      the value is only present for analysis i.e. it is not used for\n",
              " *      predictions.\n",
              " *\n",
              " *    - A condition : For non-leaf nodes, the condition (also known as split)\n",
              " *      defines a binary test to branch to the positive or negative child.\n",
              " *\n",
              " *    - An explanation: Generally a plot showing the relation between the label\n",
              " *      and the condition to give insights about the effect of the condition.\n",
              " *\n",
              " *    - Two children : For non-leaf nodes, the children nodes. The first\n",
              " *      children (i.e. \"node.children[0]\") is the negative children (drawn in\n",
              " *      red). The second children is the positive one (drawn in green).\n",
              " *\n",
              " */\n",
              "\n",
              "/**\n",
              " * Plots a single decision tree into a DOM element.\n",
              " * @param {!options} options Dictionary of configurations.\n",
              " * @param {!tree} raw_tree Recursive tree structure.\n",
              " * @param {string} canvas_id Id of the output dom element.\n",
              " */\n",
              "function display_tree(options, raw_tree, canvas_id) {\n",
              "  console.log(options);\n",
              "\n",
              "  // Determine the node placement.\n",
              "  const tree_struct = d3.tree().nodeSize(\n",
              "      [options.node_y_offset, options.node_x_offset])(d3.hierarchy(raw_tree));\n",
              "\n",
              "  // Boundaries of the node placement.\n",
              "  let x_min = Infinity;\n",
              "  let x_max = -x_min;\n",
              "  let y_min = Infinity;\n",
              "  let y_max = -x_min;\n",
              "\n",
              "  tree_struct.each(d => {\n",
              "    if (d.x > x_max) x_max = d.x;\n",
              "    if (d.x < x_min) x_min = d.x;\n",
              "    if (d.y > y_max) y_max = d.y;\n",
              "    if (d.y < y_min) y_min = d.y;\n",
              "  });\n",
              "\n",
              "  // Size of the plot.\n",
              "  const width = y_max - y_min + options.node_x_size + options.margin * 2;\n",
              "  const height = x_max - x_min + options.node_y_size + options.margin * 2 +\n",
              "      options.node_y_offset - options.node_y_size;\n",
              "\n",
              "  const plot = d3.select(canvas_id);\n",
              "\n",
              "  // Tool tip\n",
              "  options.tooltip = plot.append('div')\n",
              "                        .attr('width', 100)\n",
              "                        .attr('height', 100)\n",
              "                        .style('padding', '4px')\n",
              "                        .style('background', '#fff')\n",
              "                        .style('box-shadow', '4px 4px 0px rgba(0,0,0,0.1)')\n",
              "                        .style('border', '1px solid black')\n",
              "                        .style('font-family', 'sans-serif')\n",
              "                        .style('font-size', options.font_size)\n",
              "                        .style('position', 'absolute')\n",
              "                        .style('z-index', '10')\n",
              "                        .attr('pointer-events', 'none')\n",
              "                        .style('display', 'none');\n",
              "\n",
              "  // Create canvas\n",
              "  const svg = plot.append('svg').attr('width', width).attr('height', height);\n",
              "  const graph =\n",
              "      svg.style('overflow', 'visible')\n",
              "          .append('g')\n",
              "          .attr('font-family', 'sans-serif')\n",
              "          .attr('font-size', options.font_size)\n",
              "          .attr(\n",
              "              'transform',\n",
              "              () => `translate(${options.margin},${\n",
              "                  - x_min + options.node_y_offset / 2 + options.margin})`);\n",
              "\n",
              "  // Plot bounding box.\n",
              "  if (options.show_plot_bounding_box) {\n",
              "    svg.append('rect')\n",
              "        .attr('width', width)\n",
              "        .attr('height', height)\n",
              "        .attr('fill', 'none')\n",
              "        .attr('stroke-width', 1.0)\n",
              "        .attr('stroke', 'black');\n",
              "  }\n",
              "\n",
              "  // Draw the edges.\n",
              "  display_edges(options, graph, tree_struct);\n",
              "\n",
              "  // Draw the nodes.\n",
              "  display_nodes(options, graph, tree_struct);\n",
              "}\n",
              "\n",
              "/**\n",
              " * Draw the nodes of the tree.\n",
              " * @param {!options} options Dictionary of configurations.\n",
              " * @param {!graph} graph D3 search handle containing the graph.\n",
              " * @param {!tree_struct} tree_struct Structure of the tree (node placement,\n",
              " *     data, etc.).\n",
              " */\n",
              "function display_nodes(options, graph, tree_struct) {\n",
              "  const nodes = graph.append('g')\n",
              "                    .selectAll('g')\n",
              "                    .data(tree_struct.descendants())\n",
              "                    .join('g')\n",
              "                    .attr('transform', d => `translate(${d.y},${d.x})`);\n",
              "\n",
              "  nodes.append('rect')\n",
              "      .attr('x', 0.5)\n",
              "      .attr('y', 0.5)\n",
              "      .attr('width', options.node_x_size)\n",
              "      .attr('height', options.node_y_size)\n",
              "      .attr('stroke', 'lightgrey')\n",
              "      .attr('stroke-width', 1)\n",
              "      .attr('fill', 'white')\n",
              "      .attr('y', -options.node_y_size / 2);\n",
              "\n",
              "  // Brackets on the right of condition nodes without children.\n",
              "  non_leaf_node_without_children =\n",
              "      nodes.filter(node => node.data.condition != null && node.children == null)\n",
              "          .append('g')\n",
              "          .attr('transform', `translate(${options.node_x_size},0)`);\n",
              "\n",
              "  non_leaf_node_without_children.append('path')\n",
              "      .attr('d', 'M0,0 C 10,0 0,10 10,10')\n",
              "      .attr('fill', 'none')\n",
              "      .attr('stroke-width', 1.0)\n",
              "      .attr('stroke', '#F00');\n",
              "\n",
              "  non_leaf_node_without_children.append('path')\n",
              "      .attr('d', 'M0,0 C 10,0 0,-10 10,-10')\n",
              "      .attr('fill', 'none')\n",
              "      .attr('stroke-width', 1.0)\n",
              "      .attr('stroke', '#0F0');\n",
              "\n",
              "  const node_content = nodes.append('g').attr(\n",
              "      'transform',\n",
              "      `translate(0,${options.node_padding - options.node_y_size / 2})`);\n",
              "\n",
              "  node_content.append(node => create_node_element(options, node));\n",
              "}\n",
              "\n",
              "/**\n",
              " * Creates the D3 content for a single node.\n",
              " * @param {!options} options Dictionary of configurations.\n",
              " * @param {!node} node Node to draw.\n",
              " * @return {!d3} D3 content.\n",
              " */\n",
              "function create_node_element(options, node) {\n",
              "  // Output accumulator.\n",
              "  let output = {\n",
              "    // Content to draw.\n",
              "    content: d3.create('svg:g'),\n",
              "    // Vertical offset to the next element to draw.\n",
              "    vertical_offset: 0\n",
              "  };\n",
              "\n",
              "  // Conditions.\n",
              "  if (node.data.condition != null) {\n",
              "    display_condition(options, node.data.condition, output);\n",
              "  }\n",
              "\n",
              "  // Values.\n",
              "  if (node.data.value != null) {\n",
              "    display_value(options, node.data.value, output);\n",
              "  }\n",
              "\n",
              "  // Explanations.\n",
              "  if (node.data.explanation != null) {\n",
              "    display_explanation(options, node.data.explanation, output);\n",
              "  }\n",
              "\n",
              "  return output.content.node();\n",
              "}\n",
              "\n",
              "\n",
              "/**\n",
              " * Adds a single line of text inside of a node.\n",
              " * @param {!options} options Dictionary of configurations.\n",
              " * @param {string} text Text to display.\n",
              " * @param {!output} output Output display accumulator.\n",
              " */\n",
              "function display_node_text(options, text, output) {\n",
              "  output.content.append('text')\n",
              "      .attr('x', options.node_padding)\n",
              "      .attr('y', output.vertical_offset)\n",
              "      .attr('alignment-baseline', 'hanging')\n",
              "      .text(text);\n",
              "  output.vertical_offset += 10;\n",
              "}\n",
              "\n",
              "/**\n",
              " * Adds a single line of text inside of a node with a tooltip.\n",
              " * @param {!options} options Dictionary of configurations.\n",
              " * @param {string} text Text to display.\n",
              " * @param {string} tooltip Text in the Tooltip.\n",
              " * @param {!output} output Output display accumulator.\n",
              " */\n",
              "function display_node_text_with_tooltip(options, text, tooltip, output) {\n",
              "  const item = output.content.append('text')\n",
              "                   .attr('x', options.node_padding)\n",
              "                   .attr('alignment-baseline', 'hanging')\n",
              "                   .text(text);\n",
              "\n",
              "  add_tooltip(options, item, () => tooltip);\n",
              "  output.vertical_offset += 10;\n",
              "}\n",
              "\n",
              "/**\n",
              " * Adds a tooltip to a dom element.\n",
              " * @param {!options} options Dictionary of configurations.\n",
              " * @param {!dom} target Dom element to equip with a tooltip.\n",
              " * @param {!func} get_content Generates the html content of the tooltip.\n",
              " */\n",
              "function add_tooltip(options, target, get_content) {\n",
              "  function show(d) {\n",
              "    options.tooltip.style('display', 'block');\n",
              "    options.tooltip.html(get_content());\n",
              "  }\n",
              "\n",
              "  function hide(d) {\n",
              "    options.tooltip.style('display', 'none');\n",
              "  }\n",
              "\n",
              "  function move(d) {\n",
              "    options.tooltip.style('display', 'block');\n",
              "    options.tooltip.style('left', (d.pageX + 5) + 'px');\n",
              "    options.tooltip.style('top', d.pageY + 'px');\n",
              "  }\n",
              "\n",
              "  target.on('mouseover', show);\n",
              "  target.on('mouseout', hide);\n",
              "  target.on('mousemove', move);\n",
              "}\n",
              "\n",
              "/**\n",
              " * Adds a condition inside of a node.\n",
              " * @param {!options} options Dictionary of configurations.\n",
              " * @param {!condition} condition Condition to display.\n",
              " * @param {!output} output Output display accumulator.\n",
              " */\n",
              "function display_condition(options, condition, output) {\n",
              "  threshold_format = d3.format('r');\n",
              "\n",
              "  if (condition.type === 'IS_MISSING') {\n",
              "    display_node_text(options, `${condition.attribute} is missing`, output);\n",
              "    return;\n",
              "  }\n",
              "\n",
              "  if (condition.type === 'IS_TRUE') {\n",
              "    display_node_text(options, `${condition.attribute} is true`, output);\n",
              "    return;\n",
              "  }\n",
              "\n",
              "  if (condition.type === 'NUMERICAL_IS_HIGHER_THAN') {\n",
              "    format = d3.format('r');\n",
              "    display_node_text(\n",
              "        options,\n",
              "        `${condition.attribute} >= ${threshold_format(condition.threshold)}`,\n",
              "        output);\n",
              "    return;\n",
              "  }\n",
              "\n",
              "  if (condition.type === 'CATEGORICAL_IS_IN') {\n",
              "    display_node_text_with_tooltip(\n",
              "        options, `${condition.attribute} in [...]`,\n",
              "        `${condition.attribute} in [${condition.mask}]`, output);\n",
              "    return;\n",
              "  }\n",
              "\n",
              "  if (condition.type === 'CATEGORICAL_SET_CONTAINS') {\n",
              "    display_node_text_with_tooltip(\n",
              "        options, `${condition.attribute} intersect [...]`,\n",
              "        `${condition.attribute} intersect [${condition.mask}]`, output);\n",
              "    return;\n",
              "  }\n",
              "\n",
              "  if (condition.type === 'NUMERICAL_SPARSE_OBLIQUE') {\n",
              "    display_node_text_with_tooltip(\n",
              "        options, `Sparse oblique split...`,\n",
              "        `[${condition.attributes}]*[${condition.weights}]>=${\n",
              "            threshold_format(condition.threshold)}`,\n",
              "        output);\n",
              "    return;\n",
              "  }\n",
              "\n",
              "  display_node_text(\n",
              "      options, `Non supported condition ${condition.type}`, output);\n",
              "}\n",
              "\n",
              "/**\n",
              " * Adds a value inside of a node.\n",
              " * @param {!options} options Dictionary of configurations.\n",
              " * @param {!value} value Value to display.\n",
              " * @param {!output} output Output display accumulator.\n",
              " */\n",
              "function display_value(options, value, output) {\n",
              "  if (value.type === 'PROBABILITY') {\n",
              "    const left_margin = 0;\n",
              "    const right_margin = 50;\n",
              "    const plot_width = options.node_x_size - options.node_padding * 2 -\n",
              "        left_margin - right_margin;\n",
              "\n",
              "    let cusum = Array.from(d3.cumsum(value.distribution));\n",
              "    cusum.unshift(0);\n",
              "    const distribution_plot = output.content.append('g').attr(\n",
              "        'transform', `translate(0,${output.vertical_offset + 0.5})`);\n",
              "\n",
              "    distribution_plot.selectAll('rect')\n",
              "        .data(value.distribution)\n",
              "        .join('rect')\n",
              "        .attr('height', 10)\n",
              "        .attr(\n",
              "            'x',\n",
              "            (d, i) =>\n",
              "                (cusum[i] * plot_width + left_margin + options.node_padding))\n",
              "        .attr('width', (d, i) => d * plot_width)\n",
              "        .style('fill', (d, i) => d3.schemeSet1[i]);\n",
              "\n",
              "    const num_examples =\n",
              "        output.content.append('g')\n",
              "            .attr('transform', `translate(0,${output.vertical_offset})`)\n",
              "            .append('text')\n",
              "            .attr('x', options.node_x_size - options.node_padding)\n",
              "            .attr('alignment-baseline', 'hanging')\n",
              "            .attr('text-anchor', 'end')\n",
              "            .text(`(${value.num_examples})`);\n",
              "\n",
              "    const distribution_details = d3.create('ul');\n",
              "    distribution_details.selectAll('li')\n",
              "        .data(value.distribution)\n",
              "        .join('li')\n",
              "        .append('span')\n",
              "        .text(\n",
              "            (d, i) =>\n",
              "                'class ' + i + ': ' + d3.format('.3%')(value.distribution[i]));\n",
              "\n",
              "    add_tooltip(options, distribution_plot, () => distribution_details.html());\n",
              "    add_tooltip(options, num_examples, () => 'Number of examples');\n",
              "\n",
              "    output.vertical_offset += 10;\n",
              "    return;\n",
              "  }\n",
              "\n",
              "  if (value.type === 'REGRESSION') {\n",
              "    display_node_text(\n",
              "        options,\n",
              "        'value: ' + d3.format('r')(value.value) + ` (` +\n",
              "            d3.format('.6')(value.num_examples) + `)`,\n",
              "        output);\n",
              "    return;\n",
              "  }\n",
              "\n",
              "  display_node_text(options, `Non supported value ${value.type}`, output);\n",
              "}\n",
              "\n",
              "/**\n",
              " * Adds an explanation inside of a node.\n",
              " * @param {!options} options Dictionary of configurations.\n",
              " * @param {!explanation} explanation Explanation to display.\n",
              " * @param {!output} output Output display accumulator.\n",
              " */\n",
              "function display_explanation(options, explanation, output) {\n",
              "  // Margin before the explanation.\n",
              "  output.vertical_offset += 10;\n",
              "\n",
              "  display_node_text(\n",
              "      options, `Non supported explanation ${explanation.type}`, output);\n",
              "}\n",
              "\n",
              "\n",
              "/**\n",
              " * Draw the edges of the tree.\n",
              " * @param {!options} options Dictionary of configurations.\n",
              " * @param {!graph} graph D3 search handle containing the graph.\n",
              " * @param {!tree_struct} tree_struct Structure of the tree (node placement,\n",
              " *     data, etc.).\n",
              " */\n",
              "function display_edges(options, graph, tree_struct) {\n",
              "  // Draw an edge between a parent and a child node with a bezier.\n",
              "  function draw_single_edge(d) {\n",
              "    return 'M' + (d.source.y + options.node_x_size) + ',' + d.source.x + ' C' +\n",
              "        (d.source.y + options.node_x_size + options.edge_rounding) + ',' +\n",
              "        d.source.x + ' ' + (d.target.y - options.edge_rounding) + ',' +\n",
              "        d.target.x + ' ' + d.target.y + ',' + d.target.x;\n",
              "  }\n",
              "\n",
              "  graph.append('g')\n",
              "      .attr('fill', 'none')\n",
              "      .attr('stroke-width', 1.2)\n",
              "      .selectAll('path')\n",
              "      .data(tree_struct.links())\n",
              "      .join('path')\n",
              "      .attr('d', draw_single_edge)\n",
              "      .attr(\n",
              "          'stroke', d => (d.target === d.source.children[0]) ? '#0F0' : '#F00');\n",
              "}\n",
              "\n",
              "display_tree({\"margin\": 10, \"node_x_size\": 160, \"node_y_size\": 28, \"node_x_offset\": 180, \"node_y_offset\": 33, \"font_size\": 10, \"edge_rounding\": 20, \"node_padding\": 2, \"show_plot_bounding_box\": false}, {\"value\": {\"type\": \"REGRESSION\", \"value\": 3.9788520336151123, \"num_examples\": 5087.0, \"standard_deviation\": 1.9908794336482218}, \"condition\": {\"type\": \"NUMERICAL_IS_HIGHER_THAN\", \"attribute\": \"female_wcde-In_Primary_OL\", \"threshold\": 49.61000061035156}, \"children\": [{\"value\": {\"type\": \"REGRESSION\", \"value\": 5.940159320831299, \"num_examples\": 1885.0, \"standard_deviation\": 1.2688092877296466}, \"condition\": {\"type\": \"NUMERICAL_IS_HIGHER_THAN\", \"attribute\": \"wcde-Primary_OL\", \"threshold\": 91.29000091552734}, \"children\": [{\"value\": {\"type\": \"REGRESSION\", \"value\": 6.628715991973877, \"num_examples\": 997.0, \"standard_deviation\": 0.8030650227455117}, \"condition\": {\"type\": \"NUMERICAL_IS_HIGHER_THAN\", \"attribute\": \"wcde-Primary_OL\", \"threshold\": 95.41999816894531}, \"children\": [{\"value\": {\"type\": \"REGRESSION\", \"value\": 6.9288105964660645, \"num_examples\": 597.0, \"standard_deviation\": 0.6917612717905233}, \"condition\": {\"type\": \"NUMERICAL_IS_HIGHER_THAN\", \"attribute\": \"wcde-In_Primary_OL\", \"threshold\": 99.68000030517578}}, {\"value\": {\"type\": \"REGRESSION\", \"value\": 6.1808247566223145, \"num_examples\": 400.0, \"standard_deviation\": 0.7471405760387377}, \"condition\": {\"type\": \"NUMERICAL_IS_HIGHER_THAN\", \"attribute\": \"female_wcde-In_Primary_OL\", \"threshold\": 82.29000091552734}}]}, {\"value\": {\"type\": \"REGRESSION\", \"value\": 5.167083263397217, \"num_examples\": 888.0, \"standard_deviation\": 1.250333842798215}, \"condition\": {\"type\": \"NUMERICAL_IS_HIGHER_THAN\", \"attribute\": \"female_wcde-In_Primary_OL\", \"threshold\": 71.83000183105469}, \"children\": [{\"value\": {\"type\": \"REGRESSION\", \"value\": 5.697949409484863, \"num_examples\": 317.0, \"standard_deviation\": 1.1472533767861857}, \"condition\": {\"type\": \"NUMERICAL_IS_HIGHER_THAN\", \"attribute\": \"gdppercapita_us_infla_adjust\", \"threshold\": 6783.94140625}}, {\"value\": {\"type\": \"REGRESSION\", \"value\": 4.872364044189453, \"num_examples\": 571.0, \"standard_deviation\": 1.207155861997779}, \"condition\": {\"type\": \"NUMERICAL_IS_HIGHER_THAN\", \"attribute\": \"population\", \"threshold\": 23450000.0}}]}]}, {\"value\": {\"type\": \"REGRESSION\", \"value\": 2.8242411613464355, \"num_examples\": 3202.0, \"standard_deviation\": 1.323462326690681}, \"condition\": {\"type\": \"NUMERICAL_IS_HIGHER_THAN\", \"attribute\": \"wcde-Primary_OL\", \"threshold\": 40.30000305175781}, \"children\": [{\"value\": {\"type\": \"REGRESSION\", \"value\": 3.6508686542510986, \"num_examples\": 1059.0, \"standard_deviation\": 1.2465283241938347}, \"condition\": {\"type\": \"NUMERICAL_IS_HIGHER_THAN\", \"attribute\": \"wcde-Primary_OL\", \"threshold\": 68.72000122070312}, \"children\": [{\"value\": {\"type\": \"REGRESSION\", \"value\": 4.325387477874756, \"num_examples\": 284.0, \"standard_deviation\": 1.1478351616252604}, \"condition\": {\"type\": \"NUMERICAL_IS_HIGHER_THAN\", \"attribute\": \"life_expectancy\", \"threshold\": 63.19999694824219}}, {\"value\": {\"type\": \"REGRESSION\", \"value\": 3.4036903381347656, \"num_examples\": 775.0, \"standard_deviation\": 1.1885303712940616}, \"condition\": {\"type\": \"NUMERICAL_IS_HIGHER_THAN\", \"attribute\": \"co2_emissions\", \"threshold\": 1.3550000190734863}}]}, {\"value\": {\"type\": \"REGRESSION\", \"value\": 2.4157488346099854, \"num_examples\": 2143.0, \"standard_deviation\": 1.159621633877592}, \"condition\": {\"type\": \"NUMERICAL_IS_HIGHER_THAN\", \"attribute\": \"life_expectancy\", \"threshold\": 65.85000610351562}, \"children\": [{\"value\": {\"type\": \"REGRESSION\", \"value\": 2.057950019836426, \"num_examples\": 1805.0, \"standard_deviation\": 0.671463776834494}, \"condition\": {\"type\": \"NUMERICAL_IS_HIGHER_THAN\", \"attribute\": \"co2_emissions\", \"threshold\": 3.054999828338623}}, {\"value\": {\"type\": \"REGRESSION\", \"value\": 4.326479434967041, \"num_examples\": 338.0, \"standard_deviation\": 1.335511892516303}, \"condition\": {\"type\": \"NUMERICAL_IS_HIGHER_THAN\", \"attribute\": \"co2_emissions\", \"threshold\": 2.2300000190734863}}]}]}]}, \"#tree_plot_78a0d303c56b442db6a26b5773ed3987\")\n",
              "</script>\n"
            ],
            "text/plain": [
              "<IPython.core.display.HTML object>"
            ]
          },
          "metadata": {},
          "execution_count": 84
        }
      ]
    },
    {
      "cell_type": "code",
      "metadata": {
        "colab": {
          "base_uri": "https://localhost:8080/"
        },
        "id": "9dd29dXaO8AB",
        "outputId": "4d48e4f0-8d1e-4663-bfe0-86a54e756cfc"
      },
      "source": [
        "# %set_cell_height 300\n",
        "\n",
        "model.summary()"
      ],
      "execution_count": 81,
      "outputs": [
        {
          "output_type": "stream",
          "name": "stdout",
          "text": [
            "Model: \"random_forest_model_2\"\n",
            "_________________________________________________________________\n",
            " Layer (type)                Output Shape              Param #   \n",
            "=================================================================\n",
            "=================================================================\n",
            "Total params: 1\n",
            "Trainable params: 0\n",
            "Non-trainable params: 1\n",
            "_________________________________________________________________\n",
            "Type: \"RANDOM_FOREST\"\n",
            "Task: REGRESSION\n",
            "Label: \"__LABEL\"\n",
            "\n",
            "Input Features (9):\n",
            "\tco2_emissions\n",
            "\tfemale_wcde-In_Primary_OL\n",
            "\tfemale_wcde-Primary_OL\n",
            "\tgdppercapita_us_infla_adjust\n",
            "\tgini_index\n",
            "\tlife_expectancy\n",
            "\tpopulation\n",
            "\twcde-In_Primary_OL\n",
            "\twcde-Primary_OL\n",
            "\n",
            "No weights\n",
            "\n",
            "Variable Importance: MEAN_MIN_DEPTH:\n",
            "    1.                      \"__LABEL\" 11.388247 ################\n",
            "    2. \"gdppercapita_us_infla_adjust\"  7.840979 ##########\n",
            "    3.                   \"gini_index\"  7.077176 ########\n",
            "    4.                \"co2_emissions\"  6.346788 #######\n",
            "    5.       \"female_wcde-Primary_OL\"  6.085241 #######\n",
            "    6.              \"wcde-Primary_OL\"  5.950092 #######\n",
            "    7.                   \"population\"  5.847507 ######\n",
            "    8.    \"female_wcde-In_Primary_OL\"  4.947174 #####\n",
            "    9.           \"wcde-In_Primary_OL\"  4.731328 ####\n",
            "   10.              \"life_expectancy\"  1.718611 \n",
            "\n",
            "Variable Importance: NUM_AS_ROOT:\n",
            "    1.           \"life_expectancy\" 138.000000 ################\n",
            "    2.        \"wcde-In_Primary_OL\" 64.000000 #######\n",
            "    3. \"female_wcde-In_Primary_OL\" 55.000000 ######\n",
            "    4.           \"wcde-Primary_OL\" 20.000000 #\n",
            "    5.    \"female_wcde-Primary_OL\" 18.000000 #\n",
            "    6.             \"co2_emissions\"  5.000000 \n",
            "\n",
            "Variable Importance: NUM_NODES:\n",
            "    1.                   \"population\" 33932.000000 ################\n",
            "    2.                \"co2_emissions\" 27532.000000 #########\n",
            "    3.              \"life_expectancy\" 26671.000000 ########\n",
            "    4.                   \"gini_index\" 26454.000000 ########\n",
            "    5. \"gdppercapita_us_infla_adjust\" 23283.000000 #####\n",
            "    6.              \"wcde-Primary_OL\" 18678.000000 \n",
            "    7.       \"female_wcde-Primary_OL\" 18555.000000 \n",
            "    8.    \"female_wcde-In_Primary_OL\" 18375.000000 \n",
            "    9.           \"wcde-In_Primary_OL\" 18287.000000 \n",
            "\n",
            "Variable Importance: SUM_SCORE:\n",
            "    1.              \"life_expectancy\" 2198069.425988 ################\n",
            "    2.           \"wcde-In_Primary_OL\" 1039387.691369 #######\n",
            "    3.    \"female_wcde-In_Primary_OL\" 942166.490058 ######\n",
            "    4.              \"wcde-Primary_OL\" 477493.740296 ##\n",
            "    5.       \"female_wcde-Primary_OL\" 451325.037685 ##\n",
            "    6.                \"co2_emissions\" 282593.709235 #\n",
            "    7.                   \"population\" 217100.716445 \n",
            "    8.                   \"gini_index\" 174491.852888 \n",
            "    9. \"gdppercapita_us_infla_adjust\" 129569.084210 \n",
            "\n",
            "\n",
            "\n",
            "Out-of-bag evaluation: rmse:0.354395\n",
            "Number of trees: 300\n",
            "Total number of nodes: 423834\n",
            "\n",
            "Number of nodes by tree:\n",
            "Count: 300 Average: 1412.78 StdDev: 57.2235\n",
            "Min: 1215 Max: 1543 Ignored: 0\n",
            "----------------------------------------------\n",
            "[ 1215, 1231)  2   0.67%   0.67%\n",
            "[ 1231, 1247)  0   0.00%   0.67%\n",
            "[ 1247, 1264)  1   0.33%   1.00%\n",
            "[ 1264, 1280)  3   1.00%   2.00% #\n",
            "[ 1280, 1297)  3   1.00%   3.00% #\n",
            "[ 1297, 1313)  5   1.67%   4.67% #\n",
            "[ 1313, 1330)  5   1.67%   6.33% #\n",
            "[ 1330, 1346) 12   4.00%  10.33% ###\n",
            "[ 1346, 1363) 25   8.33%  18.67% ######\n",
            "[ 1363, 1379) 28   9.33%  28.00% #######\n",
            "[ 1379, 1395) 29   9.67%  37.67% #######\n",
            "[ 1395, 1412) 32  10.67%  48.33% ########\n",
            "[ 1412, 1428) 23   7.67%  56.00% ######\n",
            "[ 1428, 1445) 41  13.67%  69.67% ##########\n",
            "[ 1445, 1461) 28   9.33%  79.00% #######\n",
            "[ 1461, 1478) 24   8.00%  87.00% ######\n",
            "[ 1478, 1494) 21   7.00%  94.00% #####\n",
            "[ 1494, 1511)  6   2.00%  96.00% #\n",
            "[ 1511, 1527)  7   2.33%  98.33% ##\n",
            "[ 1527, 1543]  5   1.67% 100.00% #\n",
            "\n",
            "Depth by leafs:\n",
            "Count: 212067 Average: 11.3894 StdDev: 2.42075\n",
            "Min: 4 Max: 15 Ignored: 0\n",
            "----------------------------------------------\n",
            "[  4,  5)    45   0.02%   0.02%\n",
            "[  5,  6)   669   0.32%   0.34%\n",
            "[  6,  7)  3166   1.49%   1.83% #\n",
            "[  7,  8)  8511   4.01%   5.84% ###\n",
            "[  8,  9) 16135   7.61%  13.45% ######\n",
            "[  9, 10) 22724  10.72%  24.17% ########\n",
            "[ 10, 11) 26871  12.67%  36.84% #########\n",
            "[ 11, 12) 29046  13.70%  50.53% ##########\n",
            "[ 12, 13) 28887  13.62%  64.16% ##########\n",
            "[ 13, 14) 26609  12.55%  76.70% #########\n",
            "[ 14, 15) 22216  10.48%  87.18% ########\n",
            "[ 15, 15] 27188  12.82% 100.00% #########\n",
            "\n",
            "Number of training obs by leaf:\n",
            "Count: 212067 Average: 7.19631 StdDev: 7.5456\n",
            "Min: 5 Max: 481 Ignored: 0\n",
            "----------------------------------------------\n",
            "[   5,  28) 209784  98.92%  98.92% ##########\n",
            "[  28,  52)   1507   0.71%  99.63%\n",
            "[  52,  76)    381   0.18%  99.81%\n",
            "[  76, 100)    141   0.07%  99.88%\n",
            "[ 100, 124)     77   0.04%  99.92%\n",
            "[ 124, 148)     59   0.03%  99.94%\n",
            "[ 148, 171)     31   0.01%  99.96%\n",
            "[ 171, 195)     23   0.01%  99.97%\n",
            "[ 195, 219)     19   0.01%  99.98%\n",
            "[ 219, 243)     13   0.01%  99.98%\n",
            "[ 243, 267)      8   0.00%  99.99%\n",
            "[ 267, 291)      6   0.00%  99.99%\n",
            "[ 291, 315)     10   0.00% 100.00%\n",
            "[ 315, 338)      3   0.00% 100.00%\n",
            "[ 338, 362)      2   0.00% 100.00%\n",
            "[ 362, 386)      1   0.00% 100.00%\n",
            "[ 386, 410)      1   0.00% 100.00%\n",
            "[ 410, 434)      0   0.00% 100.00%\n",
            "[ 434, 458)      0   0.00% 100.00%\n",
            "[ 458, 481]      1   0.00% 100.00%\n",
            "\n",
            "Attribute in nodes:\n",
            "\t33932 : population [NUMERICAL]\n",
            "\t27532 : co2_emissions [NUMERICAL]\n",
            "\t26671 : life_expectancy [NUMERICAL]\n",
            "\t26454 : gini_index [NUMERICAL]\n",
            "\t23283 : gdppercapita_us_infla_adjust [NUMERICAL]\n",
            "\t18678 : wcde-Primary_OL [NUMERICAL]\n",
            "\t18555 : female_wcde-Primary_OL [NUMERICAL]\n",
            "\t18375 : female_wcde-In_Primary_OL [NUMERICAL]\n",
            "\t18287 : wcde-In_Primary_OL [NUMERICAL]\n",
            "\n",
            "Attribute in nodes with depth <= 0:\n",
            "\t138 : life_expectancy [NUMERICAL]\n",
            "\t64 : wcde-In_Primary_OL [NUMERICAL]\n",
            "\t55 : female_wcde-In_Primary_OL [NUMERICAL]\n",
            "\t20 : wcde-Primary_OL [NUMERICAL]\n",
            "\t18 : female_wcde-Primary_OL [NUMERICAL]\n",
            "\t5 : co2_emissions [NUMERICAL]\n",
            "\n",
            "Attribute in nodes with depth <= 1:\n",
            "\t237 : life_expectancy [NUMERICAL]\n",
            "\t178 : wcde-In_Primary_OL [NUMERICAL]\n",
            "\t173 : female_wcde-In_Primary_OL [NUMERICAL]\n",
            "\t131 : wcde-Primary_OL [NUMERICAL]\n",
            "\t116 : female_wcde-Primary_OL [NUMERICAL]\n",
            "\t47 : co2_emissions [NUMERICAL]\n",
            "\t17 : gini_index [NUMERICAL]\n",
            "\t1 : gdppercapita_us_infla_adjust [NUMERICAL]\n",
            "\n",
            "Attribute in nodes with depth <= 2:\n",
            "\t504 : life_expectancy [NUMERICAL]\n",
            "\t351 : female_wcde-In_Primary_OL [NUMERICAL]\n",
            "\t345 : wcde-In_Primary_OL [NUMERICAL]\n",
            "\t295 : female_wcde-Primary_OL [NUMERICAL]\n",
            "\t286 : wcde-Primary_OL [NUMERICAL]\n",
            "\t135 : co2_emissions [NUMERICAL]\n",
            "\t128 : population [NUMERICAL]\n",
            "\t49 : gini_index [NUMERICAL]\n",
            "\t7 : gdppercapita_us_infla_adjust [NUMERICAL]\n",
            "\n",
            "Attribute in nodes with depth <= 3:\n",
            "\t952 : life_expectancy [NUMERICAL]\n",
            "\t615 : female_wcde-In_Primary_OL [NUMERICAL]\n",
            "\t585 : wcde-In_Primary_OL [NUMERICAL]\n",
            "\t560 : population [NUMERICAL]\n",
            "\t471 : female_wcde-Primary_OL [NUMERICAL]\n",
            "\t458 : wcde-Primary_OL [NUMERICAL]\n",
            "\t389 : co2_emissions [NUMERICAL]\n",
            "\t286 : gini_index [NUMERICAL]\n",
            "\t184 : gdppercapita_us_infla_adjust [NUMERICAL]\n",
            "\n",
            "Attribute in nodes with depth <= 5:\n",
            "\t2930 : population [NUMERICAL]\n",
            "\t2835 : life_expectancy [NUMERICAL]\n",
            "\t2207 : co2_emissions [NUMERICAL]\n",
            "\t1925 : gini_index [NUMERICAL]\n",
            "\t1782 : female_wcde-In_Primary_OL [NUMERICAL]\n",
            "\t1746 : wcde-In_Primary_OL [NUMERICAL]\n",
            "\t1692 : gdppercapita_us_infla_adjust [NUMERICAL]\n",
            "\t1492 : wcde-Primary_OL [NUMERICAL]\n",
            "\t1487 : female_wcde-Primary_OL [NUMERICAL]\n",
            "\n",
            "Condition type in nodes:\n",
            "\t211767 : HigherCondition\n",
            "Condition type in nodes with depth <= 0:\n",
            "\t300 : HigherCondition\n",
            "Condition type in nodes with depth <= 1:\n",
            "\t900 : HigherCondition\n",
            "Condition type in nodes with depth <= 2:\n",
            "\t2100 : HigherCondition\n",
            "Condition type in nodes with depth <= 3:\n",
            "\t4500 : HigherCondition\n",
            "Condition type in nodes with depth <= 5:\n",
            "\t18096 : HigherCondition\n",
            "Node format: NOT_SET\n",
            "\n",
            "Training OOB:\n",
            "\ttrees: 1, Out-of-bag evaluation: rmse:0.629743\n",
            "\ttrees: 11, Out-of-bag evaluation: rmse:0.45138\n",
            "\ttrees: 21, Out-of-bag evaluation: rmse:0.400859\n",
            "\ttrees: 31, Out-of-bag evaluation: rmse:0.383429\n",
            "\ttrees: 41, Out-of-bag evaluation: rmse:0.376007\n",
            "\ttrees: 51, Out-of-bag evaluation: rmse:0.371067\n",
            "\ttrees: 61, Out-of-bag evaluation: rmse:0.367841\n",
            "\ttrees: 71, Out-of-bag evaluation: rmse:0.363973\n",
            "\ttrees: 81, Out-of-bag evaluation: rmse:0.361484\n",
            "\ttrees: 91, Out-of-bag evaluation: rmse:0.360153\n",
            "\ttrees: 101, Out-of-bag evaluation: rmse:0.360252\n",
            "\ttrees: 111, Out-of-bag evaluation: rmse:0.35907\n",
            "\ttrees: 121, Out-of-bag evaluation: rmse:0.357617\n",
            "\ttrees: 131, Out-of-bag evaluation: rmse:0.35767\n",
            "\ttrees: 141, Out-of-bag evaluation: rmse:0.357068\n",
            "\ttrees: 151, Out-of-bag evaluation: rmse:0.357324\n",
            "\ttrees: 161, Out-of-bag evaluation: rmse:0.356232\n",
            "\ttrees: 171, Out-of-bag evaluation: rmse:0.356251\n",
            "\ttrees: 181, Out-of-bag evaluation: rmse:0.355026\n",
            "\ttrees: 191, Out-of-bag evaluation: rmse:0.35536\n",
            "\ttrees: 201, Out-of-bag evaluation: rmse:0.355273\n",
            "\ttrees: 211, Out-of-bag evaluation: rmse:0.355205\n",
            "\ttrees: 221, Out-of-bag evaluation: rmse:0.354519\n",
            "\ttrees: 231, Out-of-bag evaluation: rmse:0.354854\n",
            "\ttrees: 241, Out-of-bag evaluation: rmse:0.354918\n",
            "\ttrees: 251, Out-of-bag evaluation: rmse:0.354613\n",
            "\ttrees: 261, Out-of-bag evaluation: rmse:0.354663\n",
            "\ttrees: 271, Out-of-bag evaluation: rmse:0.354589\n",
            "\ttrees: 281, Out-of-bag evaluation: rmse:0.354655\n",
            "\ttrees: 291, Out-of-bag evaluation: rmse:0.354876\n",
            "\ttrees: 300, Out-of-bag evaluation: rmse:0.354395\n",
            "\n"
          ]
        }
      ]
    },
    {
      "cell_type": "markdown",
      "metadata": {
        "id": "Ck40I_2pO2t8"
      },
      "source": [
        "# CNN Algorithm"
      ]
    },
    {
      "cell_type": "code",
      "metadata": {
        "id": "WoTPvb0hO2BL"
      },
      "source": [
        ""
      ],
      "execution_count": 81,
      "outputs": []
    },
    {
      "cell_type": "code",
      "metadata": {
        "id": "VOgX1z4ssI_r"
      },
      "source": [
        ""
      ],
      "execution_count": 81,
      "outputs": []
    },
    {
      "cell_type": "code",
      "metadata": {
        "id": "VAYG6P8ysI8I"
      },
      "source": [
        ""
      ],
      "execution_count": 81,
      "outputs": []
    },
    {
      "cell_type": "code",
      "metadata": {
        "id": "kSrlOe2ysI2e"
      },
      "source": [
        ""
      ],
      "execution_count": 81,
      "outputs": []
    },
    {
      "cell_type": "code",
      "metadata": {
        "id": "F9EhQCMjsIzH"
      },
      "source": [
        ""
      ],
      "execution_count": 81,
      "outputs": []
    },
    {
      "cell_type": "code",
      "metadata": {
        "id": "a7hOC8ZBsIwK"
      },
      "source": [
        ""
      ],
      "execution_count": 81,
      "outputs": []
    },
    {
      "cell_type": "code",
      "metadata": {
        "id": "5Rj_nYZ0sItM"
      },
      "source": [
        ""
      ],
      "execution_count": 81,
      "outputs": []
    },
    {
      "cell_type": "code",
      "metadata": {
        "id": "aHcOgjQOsIjf"
      },
      "source": [
        ""
      ],
      "execution_count": 81,
      "outputs": []
    },
    {
      "cell_type": "markdown",
      "metadata": {
        "id": "pavoB83cgMS_"
      },
      "source": [
        "from the above output\n",
        "- **malnutrition & people in povery** have least no of countries\n",
        "- **infant mortality & gdp per captia** have highest no of countries\n",
        "\n",
        "*Doubt:* Does having more data for one factor will make the decision tree bias?\n"
      ]
    },
    {
      "cell_type": "markdown",
      "metadata": {
        "id": "26MX_yiOLQM1"
      },
      "source": [
        "###Steps\n",
        "1. create a csv file such that each row contains all values of particular year & country present\n",
        "2. the output for each row is year + 40 years corresponding value \n",
        "    1. **outputs** - life expectany, education level, gdp\n",
        "\n",
        "\n"
      ]
    },
    {
      "cell_type": "markdown",
      "metadata": {
        "id": "2UMi5KTtyRsq"
      },
      "source": [
        "From above output\n",
        "- if we dont drop any rows our table size = 4256 entries\n",
        "- if we drop rows containing any if all of outputs missing then our table size = 3039 entries\n",
        "- if we drop rows containing any one of output missing then our table size = 1745 entries\n",
        "\n",
        "so, I think its is better to go with second choice and build different models, but not sure it will not effect performance of the model\n"
      ]
    },
    {
      "cell_type": "markdown",
      "metadata": {
        "id": "rlvdCI-pzVEd"
      },
      "source": [
        "now we have the dataframe containing both inputs and ouputs,our next step is\n",
        "1. split the data into train & test data\n",
        "  1. try to split data based on continents to reduce bias\n",
        "2. build DF model using tensorflow\n",
        "3. check the accuracy of the model"
      ]
    }
  ]
}